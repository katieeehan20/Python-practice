{
 "cells": [
  {
   "cell_type": "code",
   "execution_count": null,
   "id": "15bb9f7e",
   "metadata": {},
   "outputs": [
    {
     "name": "stdout",
     "output_type": "stream",
     "text": [
      "10\n",
      "5\n",
      "Error Code: not enough values to unpack (expected 2, got 1)\n",
      "10 5\n",
      "2\n",
      "10 &\n",
      "Error Code: invalid literal for int() with base 10: '&'\n"
     ]
    }
   ],
   "source": [
    "for test in range(int(input())):\n",
    "    try:\n",
    "        a,b = map(int,input().split()) \n",
    "        print (a//b)\n",
    "    except (ZeroDivisionError, ValueError) as e:\n",
    "            print (\"Error Code:\", e)\n",
    "            "
   ]
  },
  {
   "cell_type": "code",
   "execution_count": null,
   "id": "4e14525d",
   "metadata": {},
   "outputs": [],
   "source": [
    "def testing_error(a,b):\n",
    "    try:\n",
    "        print (a//b)\n",
    "    except ZeroDivisionError:\n",
    "        print (\"Error Code: integer division or modulo by zero\")\n",
    "    except TypeError:\n",
    "        print(\"Error Code: invalid literal for int() with base 10\")"
   ]
  },
  {
   "cell_type": "code",
   "execution_count": null,
   "id": "80c2e723",
   "metadata": {},
   "outputs": [],
   "source": []
  }
 ],
 "metadata": {
  "kernelspec": {
   "display_name": "Python 3",
   "language": "python",
   "name": "python3"
  },
  "language_info": {
   "codemirror_mode": {
    "name": "ipython",
    "version": 3
   },
   "file_extension": ".py",
   "mimetype": "text/x-python",
   "name": "python",
   "nbconvert_exporter": "python",
   "pygments_lexer": "ipython3",
   "version": "3.8.8"
  }
 },
 "nbformat": 4,
 "nbformat_minor": 5
}
