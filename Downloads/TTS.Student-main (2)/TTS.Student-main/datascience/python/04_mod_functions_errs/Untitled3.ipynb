{
 "cells": [
  {
   "cell_type": "code",
   "execution_count": null,
   "id": "41e87769",
   "metadata": {},
   "outputs": [],
   "source": [
    "Hackerink problem 02\n",
    "\n",
    "Write a function to detect errors in the form of exceptions (except) by following try...except structure\n",
    "\n",
    "Source: https://www.hackerrank.com/challenges/exceptions/problem"
   ]
  },
  {
   "cell_type": "code",
   "execution_count": null,
   "id": "d992a6ef",
   "metadata": {},
   "outputs": [
    {
     "name": "stdout",
     "output_type": "stream",
     "text": [
      "10\n",
      "5\n",
      "Error Code: not enough values to unpack (expected 2, got 1)\n",
      "10 5\n",
      "2\n",
      "10 &\n",
      "Error Code: invalid literal for int() with base 10: '&'\n"
     ]
    }
   ],
   "source": [
    "for test in range(int(input())):\n",
    "    try:\n",
    "        a,b = map(int,input().split()) \n",
    "        print (a//b)\n",
    "    except (ZeroDivisionError, ValueError) as e:\n",
    "            print (\"Error Code:\", e)\n",
    "            "
   ]
  },
  {
   "cell_type": "markdown",
   "id": "58dd071b",
   "metadata": {},
   "source": [
    "\n",
    "\n",
    "Second similar method to code"
   ]
  },
  {
   "cell_type": "code",
   "execution_count": 2,
   "id": "d7cfae59",
   "metadata": {},
   "outputs": [],
   "source": [
    "def testing_error(a,b):\n",
    "    try:\n",
    "        print (a//b)\n",
    "    except ZeroDivisionError:\n",
    "        print (\"Error Code: integer division or modulo by zero\")\n",
    "    except TypeError:\n",
    "        print(\"Error Code: invalid literal for int() with base 10\")"
   ]
  },
  {
   "cell_type": "code",
   "execution_count": 3,
   "id": "a4d55519",
   "metadata": {},
   "outputs": [
    {
     "name": "stdout",
     "output_type": "stream",
     "text": [
      "1\n"
     ]
    }
   ],
   "source": [
    "testing_error(3,2)"
   ]
  },
  {
   "cell_type": "code",
   "execution_count": 4,
   "id": "85ce26ae",
   "metadata": {},
   "outputs": [
    {
     "name": "stdout",
     "output_type": "stream",
     "text": [
      "Error Code: integer division or modulo by zero\n"
     ]
    }
   ],
   "source": [
    "testing_error(4,0)"
   ]
  },
  {
   "cell_type": "code",
   "execution_count": 5,
   "id": "093065ca",
   "metadata": {},
   "outputs": [
    {
     "name": "stdout",
     "output_type": "stream",
     "text": [
      "Error Code: invalid literal for int() with base 10\n"
     ]
    }
   ],
   "source": [
    "testing_error(5,\"$\")"
   ]
  }
 ],
 "metadata": {
  "kernelspec": {
   "display_name": "Python 3",
   "language": "python",
   "name": "python3"
  },
  "language_info": {
   "codemirror_mode": {
    "name": "ipython",
    "version": 3
   },
   "file_extension": ".py",
   "mimetype": "text/x-python",
   "name": "python",
   "nbconvert_exporter": "python",
   "pygments_lexer": "ipython3",
   "version": "3.8.8"
  }
 },
 "nbformat": 4,
 "nbformat_minor": 5
}
