{
 "cells": [
  {
   "cell_type": "code",
   "execution_count": null,
   "id": "6afdd293",
   "metadata": {},
   "outputs": [],
   "source": [
    "for test in range(int(input())):\n",
    "    try:\n",
    "        a,b = map(input().split()) \n",
    "        print (a//b)\n",
    "    except (ZeroDivisionError, ValueError) as e:\n",
    "            print (\"Error Code:\", e)\n",
    "            "
   ]
  },
  {
   "cell_type": "code",
   "execution_count": null,
   "id": "b1886bc1",
   "metadata": {},
   "outputs": [],
   "source": []
  }
 ],
 "metadata": {
  "kernelspec": {
   "display_name": "Python 3",
   "language": "python",
   "name": "python3"
  },
  "language_info": {
   "codemirror_mode": {
    "name": "ipython",
    "version": 3
   },
   "file_extension": ".py",
   "mimetype": "text/x-python",
   "name": "python",
   "nbconvert_exporter": "python",
   "pygments_lexer": "ipython3",
   "version": "3.8.8"
  }
 },
 "nbformat": 4,
 "nbformat_minor": 5
}
