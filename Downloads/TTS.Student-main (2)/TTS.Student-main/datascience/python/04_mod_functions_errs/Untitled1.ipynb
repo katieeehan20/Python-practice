{
 "cells": [
  {
   "cell_type": "code",
   "execution_count": null,
   "id": "57d43b54",
   "metadata": {},
   "outputs": [],
   "source": [
    "def testing_error(a,b):\n",
    "    try:\n",
    "        print (a/b)\n",
    "    except ZeroDivisionError:\n",
    "        print (\"Error Code: integer division or modulo by zero\")\n",
    "    except TypeError:\n",
    "        print(\"Error Code: invalid literal for int() with base 10\")"
   ]
  },
  {
   "cell_type": "code",
   "execution_count": null,
   "id": "a1afc816",
   "metadata": {},
   "outputs": [],
   "source": [
    "testing_error(3, 0)"
   ]
  },
  {
   "cell_type": "code",
   "execution_count": null,
   "id": "bbd6a385",
   "metadata": {},
   "outputs": [],
   "source": [
    "testing_error(3/\"$\")"
   ]
  },
  {
   "cell_type": "code",
   "execution_count": 23,
   "id": "a3fb699a",
   "metadata": {},
   "outputs": [
    {
     "name": "stdout",
     "output_type": "stream",
     "text": [
      "1.0\n"
     ]
    }
   ],
   "source": [
    "testing_error(3,3)"
   ]
  },
  {
   "cell_type": "code",
   "execution_count": null,
   "id": "bfaf1b61",
   "metadata": {},
   "outputs": [],
   "source": [
    "for test in range(int(input())):\n",
    "    try:\n",
    "        a,b = map(int,input().split()) \n",
    "        print (a//b)\n",
    "    except (ZeroDivisionError, ValueError) as e:\n",
    "            print (\"Error Code:\", e)"
   ]
  },
  {
   "cell_type": "code",
   "execution_count": null,
   "id": "7b43bb96",
   "metadata": {},
   "outputs": [],
   "source": []
  }
 ],
 "metadata": {
  "kernelspec": {
   "display_name": "Python 3",
   "language": "python",
   "name": "python3"
  },
  "language_info": {
   "codemirror_mode": {
    "name": "ipython",
    "version": 3
   },
   "file_extension": ".py",
   "mimetype": "text/x-python",
   "name": "python",
   "nbconvert_exporter": "python",
   "pygments_lexer": "ipython3",
   "version": "3.8.8"
  }
 },
 "nbformat": 4,
 "nbformat_minor": 5
}
