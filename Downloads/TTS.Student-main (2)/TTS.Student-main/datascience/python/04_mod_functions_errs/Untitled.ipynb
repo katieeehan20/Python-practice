{
 "cells": [
  {
   "cell_type": "markdown",
   "id": "ded8207f",
   "metadata": {},
   "source": [
    "a) (* args) and (** kwargs) when you want to write a function in which you don't know how many arguments you will pass\n",
    "\n",
    "b) (* args) and (** kwargs) are special forms you can use to catch all arguments that are passed\n",
    "\n",
    "c) (* args) and (** kwargs) are just variable names often used by convention, they're shortened for *arguments and **keyword arguments\n",
    "\n",
    "d) * means expand this as a sequence\n",
    "\n",
    "e) ** means expand this as a dictionary\n",
    "\n",
    "f) * and ** are used with function definition and with function call"
   ]
  },
  {
   "cell_type": "code",
   "execution_count": 1,
   "id": "6a5c3f3c",
   "metadata": {},
   "outputs": [],
   "source": [
    "def catch (*args, **kwargs):\n",
    "    \n",
    "    print (\"args=\", args)\n",
    "    print (\"kwargs=\", kwargs)"
   ]
  },
  {
   "cell_type": "code",
   "execution_count": 2,
   "id": "632f1fc8",
   "metadata": {},
   "outputs": [
    {
     "name": "stdout",
     "output_type": "stream",
     "text": [
      "args= (1, 2, 3, 4)\n",
      "kwargs= {'a': 34, 'b': 3, 'c': 23}\n"
     ]
    }
   ],
   "source": [
    "catch (1,2,3,4, a=34, b=3, c=23)"
   ]
  },
  {
   "cell_type": "code",
   "execution_count": 4,
   "id": "e5701a63",
   "metadata": {},
   "outputs": [
    {
     "name": "stdout",
     "output_type": "stream",
     "text": [
      "args= ('kate',)\n",
      "kwargs= {'fav': 'chocolate'}\n"
     ]
    }
   ],
   "source": [
    "catch (\"kate\", fav=\"chocolate\")"
   ]
  },
  {
   "cell_type": "code",
   "execution_count": 10,
   "id": "76b15547",
   "metadata": {},
   "outputs": [
    {
     "name": "stdout",
     "output_type": "stream",
     "text": [
      "args= ([99, 97, 98], {'fav': 'chocolate', 'fav2': 'chocolate cookie'})\n",
      "kwargs= {}\n"
     ]
    }
   ],
   "source": [
    "#see what happens if you forget the asterisk * and ** in front of scores and keyword\n",
    "\n",
    "scores=[99, 97, 98]\n",
    "keyword={\"fav\":\"chocolate\", \"fav2\":\"chocolate cookie\"}\n",
    "\n",
    "catch (scores, keyword)"
   ]
  },
  {
   "cell_type": "code",
   "execution_count": null,
   "id": "85b78414",
   "metadata": {},
   "outputs": [],
   "source": []
  }
 ],
 "metadata": {
  "kernelspec": {
   "display_name": "Python 3",
   "language": "python",
   "name": "python3"
  },
  "language_info": {
   "codemirror_mode": {
    "name": "ipython",
    "version": 3
   },
   "file_extension": ".py",
   "mimetype": "text/x-python",
   "name": "python",
   "nbconvert_exporter": "python",
   "pygments_lexer": "ipython3",
   "version": "3.8.8"
  }
 },
 "nbformat": 4,
 "nbformat_minor": 5
}
