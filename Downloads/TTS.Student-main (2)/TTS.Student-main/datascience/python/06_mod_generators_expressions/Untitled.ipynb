{
 "cells": [
  {
   "cell_type": "code",
   "execution_count": 2,
   "id": "d9acd861",
   "metadata": {},
   "outputs": [
    {
     "data": {
      "text/plain": [
       "'The value of pi is 3.14159'"
      ]
     },
     "execution_count": 2,
     "metadata": {},
     "output_type": "execute_result"
    }
   ],
   "source": [
    "pi=3.14159\n",
    "\"The value of pi is {}\".format(pi)"
   ]
  },
  {
   "cell_type": "code",
   "execution_count": 3,
   "id": "7d90c59f",
   "metadata": {},
   "outputs": [
    {
     "data": {
      "text/plain": [
       "'The value of pi is3.14159'"
      ]
     },
     "execution_count": 3,
     "metadata": {},
     "output_type": "execute_result"
    }
   ],
   "source": [
    "\"The value of pi is\" + str(pi)  #same as above"
   ]
  },
  {
   "cell_type": "code",
   "execution_count": 4,
   "id": "5cbcb9dd",
   "metadata": {},
   "outputs": [
    {
     "data": {
      "text/plain": [
       "'First letter: A, Second letter: B'"
      ]
     },
     "execution_count": 4,
     "metadata": {},
     "output_type": "execute_result"
    }
   ],
   "source": [
    "\"\"\"First letter: {0}, Second letter: {1}\"\"\".format('A','B')"
   ]
  },
  {
   "cell_type": "code",
   "execution_count": 5,
   "id": "7f86ba2f",
   "metadata": {},
   "outputs": [
    {
     "data": {
      "text/plain": [
       "'First letter: A, Second letter: B'"
      ]
     },
     "execution_count": 5,
     "metadata": {},
     "output_type": "execute_result"
    }
   ],
   "source": [
    "#If you include a string inside {}, it will refer to the key of any keyword argument:\n",
    "\n",
    "#o \"\"\"First letter: {first}, Second letter: {second}\"\"\".format(second='B', first='A')"
   ]
  },
  {
   "cell_type": "code",
   "execution_count": 6,
   "id": "a70e353f",
   "metadata": {},
   "outputs": [
    {
     "data": {
      "text/plain": [
       "'pi=3.14'"
      ]
     },
     "execution_count": 6,
     "metadata": {},
     "output_type": "execute_result"
    }
   ],
   "source": [
    "\n",
    "\n",
    "#.2f indicates the desired precision, floating point format\n",
    "# returns pi value to 2 decimal places (.2f)\n",
    "\n",
    "\"pi={0:.2f}\".format(pi)  "
   ]
  },
  {
   "cell_type": "code",
   "execution_count": null,
   "id": "2786bbd2",
   "metadata": {},
   "outputs": [],
   "source": []
  }
 ],
 "metadata": {
  "kernelspec": {
   "display_name": "Python 3",
   "language": "python",
   "name": "python3"
  },
  "language_info": {
   "codemirror_mode": {
    "name": "ipython",
    "version": 3
   },
   "file_extension": ".py",
   "mimetype": "text/x-python",
   "name": "python",
   "nbconvert_exporter": "python",
   "pygments_lexer": "ipython3",
   "version": "3.8.8"
  }
 },
 "nbformat": 4,
 "nbformat_minor": 5
}
