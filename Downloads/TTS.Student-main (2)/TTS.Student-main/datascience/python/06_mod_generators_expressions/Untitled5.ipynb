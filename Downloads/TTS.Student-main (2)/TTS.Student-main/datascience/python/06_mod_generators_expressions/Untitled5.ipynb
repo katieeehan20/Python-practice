{
 "cells": [
  {
   "cell_type": "markdown",
   "id": "c7e62d60",
   "metadata": {},
   "source": [
    "How to match a phone number?\n",
    "\n"
   ]
  },
  {
   "cell_type": "code",
   "execution_count": 1,
   "id": "9fa5ce0c",
   "metadata": {},
   "outputs": [],
   "source": [
    "import re\n",
    "text_to_search='''\n",
    "abcdefghijklmnopqrstuvwxyz\n",
    "ABCDEFGHIJKLMNOPQRSTUVWXYZ\n",
    "1234567890\n",
    "Ha Haha\n",
    "\n",
    "Metacharacters(Need to be escaped):  #special characters\n",
    ". ^ $ * + ? { } [ ] \\ | ( )\n",
    "\n",
    "coreyms.com   #URL\n",
    "\n",
    "321-555-4321  #phone number    \n",
    "123.555.1234\n",
    "Mr.Schafer    #name\n",
    "Mr Smith\n",
    "Ms Davis\n",
    "Mrs.Robinson\n",
    "Mr. T\n",
    "'''\n",
    "\n",
    "sentence=\"Start a sentence and then bring it to an end\""
   ]
  },
  {
   "cell_type": "code",
   "execution_count": 2,
   "id": "9c32e844",
   "metadata": {},
   "outputs": [
    {
     "name": "stdout",
     "output_type": "stream",
     "text": [
      "<re.Match object; span=(55, 58), match='123'>\n",
      "<re.Match object; span=(58, 61), match='456'>\n",
      "<re.Match object; span=(61, 64), match='789'>\n",
      "<re.Match object; span=(180, 183), match='321'>\n",
      "<re.Match object; span=(184, 187), match='555'>\n",
      "<re.Match object; span=(188, 191), match='432'>\n",
      "<re.Match object; span=(208, 211), match='123'>\n",
      "<re.Match object; span=(212, 215), match='555'>\n",
      "<re.Match object; span=(216, 219), match='123'>\n"
     ]
    }
   ],
   "source": [
    "#\\d : matches digits\n",
    "\n",
    "pattern=re.compile(r'\\d\\d\\d')     \n",
    "\n",
    "matches=pattern.finditer(text_to_search)\n",
    "for match in matches:\n",
    "    print(match) "
   ]
  },
  {
   "cell_type": "code",
   "execution_count": 4,
   "id": "56b9afc8",
   "metadata": {},
   "outputs": [
    {
     "name": "stdout",
     "output_type": "stream",
     "text": [
      "<re.Match object; span=(180, 192), match='321-555-4321'>\n",
      "<re.Match object; span=(208, 220), match='123.555.1234'>\n"
     ]
    }
   ],
   "source": [
    "#\\W : matches any NON word character\n",
    "\n",
    "pattern=re.compile(r'\\d\\d\\d\\W\\d\\d\\d\\W\\d\\d\\d\\d')     \n",
    "\n",
    "matches=pattern.finditer(text_to_search)\n",
    "for match in matches:\n",
    "    print(match)"
   ]
  },
  {
   "cell_type": "code",
   "execution_count": 5,
   "id": "2bbbf8f0",
   "metadata": {},
   "outputs": [
    {
     "name": "stdout",
     "output_type": "stream",
     "text": [
      "<re.Match object; span=(180, 192), match='321-555-4321'>\n",
      "<re.Match object; span=(208, 220), match='123.555.1234'>\n"
     ]
    }
   ],
   "source": [
    "# . : matches any character except new line\n",
    "\n",
    "pattern=re.compile(r'\\d\\d\\d.\\d\\d\\d.\\d\\d\\d\\d')     \n",
    "\n",
    "matches=pattern.finditer(text_to_search)\n",
    "for match in matches:\n",
    "    print(match)"
   ]
  },
  {
   "cell_type": "code",
   "execution_count": 7,
   "id": "3e66bf43",
   "metadata": {},
   "outputs": [
    {
     "name": "stdout",
     "output_type": "stream",
     "text": [
      "<re.Match object; span=(208, 220), match='123.555.1234'>\n"
     ]
    }
   ],
   "source": [
    "#\\d : matches digits\n",
    "#\\. : matches literal periods(.)\n",
    "\n",
    "pattern=re.compile(r'\\d\\d\\d\\.\\d\\d\\d.\\d\\d\\d\\d')     \n",
    "\n",
    "matches=pattern.finditer(text_to_search)\n",
    "for match in matches:\n",
    "    print(match)"
   ]
  }
 ],
 "metadata": {
  "kernelspec": {
   "display_name": "Python 3",
   "language": "python",
   "name": "python3"
  },
  "language_info": {
   "codemirror_mode": {
    "name": "ipython",
    "version": 3
   },
   "file_extension": ".py",
   "mimetype": "text/x-python",
   "name": "python",
   "nbconvert_exporter": "python",
   "pygments_lexer": "ipython3",
   "version": "3.8.8"
  }
 },
 "nbformat": 4,
 "nbformat_minor": 5
}
