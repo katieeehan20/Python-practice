{
 "cells": [
  {
   "cell_type": "code",
   "execution_count": null,
   "id": "0aed1c0e",
   "metadata": {},
   "outputs": [],
   "source": [
    "Hackerink problem, solution\n",
    "\n",
    "https://www.hackerrank.com/challenges/validating-named-email-addresses/problem"
   ]
  },
  {
   "cell_type": "code",
   "execution_count": null,
   "id": "63d0702c",
   "metadata": {},
   "outputs": [],
   "source": [
    "# why is this code incorrect?\n",
    "\n",
    "import re\n",
    "n=int(input())\n",
    "\n",
    "line=input()\n",
    "\n",
    "format=re.compile(r'(\\w+)\\s<(\\w+)@(\\w+)\\.(\\w{3})>')\n",
    "\n",
    "format.findall(line)"
   ]
  },
  {
   "cell_type": "code",
   "execution_count": null,
   "id": "262a1f7e",
   "metadata": {},
   "outputs": [],
   "source": [
    "# why is this code correct?\n",
    "\n",
    "import re\n",
    "n = int(input())\n",
    "\n",
    "for _ in range(n):\n",
    "    x, y = input().split(' ')\n",
    "    m = re.match(r'<[A-Za-z](\\w|-|\\.|_)+@[A-Za-z]+\\.[A-Za-z]{1,3}>', y)\n",
    "    if m:\n",
    "        print(x,y)"
   ]
  }
 ],
 "metadata": {
  "kernelspec": {
   "display_name": "Python 3",
   "language": "python",
   "name": "python3"
  },
  "language_info": {
   "codemirror_mode": {
    "name": "ipython",
    "version": 3
   },
   "file_extension": ".py",
   "mimetype": "text/x-python",
   "name": "python",
   "nbconvert_exporter": "python",
   "pygments_lexer": "ipython3",
   "version": "3.8.8"
  }
 },
 "nbformat": 4,
 "nbformat_minor": 5
}
