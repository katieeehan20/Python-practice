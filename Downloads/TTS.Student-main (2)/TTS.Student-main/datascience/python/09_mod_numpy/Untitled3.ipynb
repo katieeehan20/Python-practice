{
 "cells": [
  {
   "cell_type": "markdown",
   "id": "fd3d9257",
   "metadata": {},
   "source": [
    "Multiplication of two matrices by using * and @ and .dot()"
   ]
  },
  {
   "cell_type": "code",
   "execution_count": 1,
   "id": "2aaed2c6",
   "metadata": {},
   "outputs": [],
   "source": [
    "import numpy as np\n",
    "\n",
    "matrix1=np.array([[1,2,3],[4,5,6],[7,8,9]])\n",
    "matrix2=np.array([[5,2,6],[5,6,7],[7,6,4]])\n"
   ]
  },
  {
   "cell_type": "code",
   "execution_count": null,
   "id": "3ee2fb65",
   "metadata": {},
   "outputs": [],
   "source": [
    "matrix1*matrix2"
   ]
  }
 ],
 "metadata": {
  "kernelspec": {
   "display_name": "Python 3",
   "language": "python",
   "name": "python3"
  },
  "language_info": {
   "codemirror_mode": {
    "name": "ipython",
    "version": 3
   },
   "file_extension": ".py",
   "mimetype": "text/x-python",
   "name": "python",
   "nbconvert_exporter": "python",
   "pygments_lexer": "ipython3",
   "version": "3.8.8"
  }
 },
 "nbformat": 4,
 "nbformat_minor": 5
}
