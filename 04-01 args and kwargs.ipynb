{
 "cells": [
  {
   "cell_type": "markdown",
   "id": "bfd9205d",
   "metadata": {},
   "source": [
    "a) (* args) and (** kwargs) when you want to write a function in which you don't know how many arguments you will pass\n",
    "\n",
    "b) (* args) and (** kwargs) are special forms you can use to catch all arguments that are passed\n",
    "\n",
    "c) (* args) and (** kwargs) are just variable names often used by convention, they're shortened for *arguments and **keyword arguments\n",
    "\n",
    "d) * means expand this as a sequence\n",
    "\n",
    "e) ** means expand this as a dictionary\n",
    "\n",
    "f) * and ** are used with function definition and with function call"
   ]
  },
  {
   "cell_type": "code",
   "execution_count": 1,
   "id": "94d70a69",
   "metadata": {},
   "outputs": [],
   "source": [
    "def catch (*args, **kwargs):\n",
    "    \n",
    "    print (\"args=\", args)\n",
    "    print (\"kwargs=\", kwargs)"
   ]
  },
  {
   "cell_type": "code",
   "execution_count": 2,
   "id": "91fef95f",
   "metadata": {},
   "outputs": [
    {
     "name": "stdout",
     "output_type": "stream",
     "text": [
      "args= (1, 2, 3, 4)\n",
      "kwargs= {'a': 34, 'b': 3, 'c': 23}\n"
     ]
    }
   ],
   "source": [
    "catch (1,2,3,4, a=34, b=3, c=23)"
   ]
  },
  {
   "cell_type": "code",
   "execution_count": 4,
   "id": "10bc54c8",
   "metadata": {},
   "outputs": [
    {
     "name": "stdout",
     "output_type": "stream",
     "text": [
      "args= ('kate',)\n",
      "kwargs= {'fav': 'chocolate'}\n"
     ]
    }
   ],
   "source": [
    "catch (\"kate\", fav=\"chocolate\")"
   ]
  },
  {
   "cell_type": "code",
   "execution_count": 11,
   "id": "14988d79",
   "metadata": {},
   "outputs": [
    {
     "name": "stdout",
     "output_type": "stream",
     "text": [
      "args= ([99, 97, 98], {'fav': 'chocolate', 'fav2': 'chocolate cookie'})\n",
      "kwargs= {}\n"
     ]
    }
   ],
   "source": [
    "#see what happens if you forget the asterisk * and ** in front of scores and keyword\n",
    "\n",
    "scores=[99, 97, 98]\n",
    "keyword={\"fav\":\"chocolate\", \"fav2\":\"chocolate cookie\"}\n",
    "\n",
    "catch (scores, keyword)"
   ]
  },
  {
   "cell_type": "code",
   "execution_count": 12,
   "id": "c4154bec",
   "metadata": {},
   "outputs": [
    {
     "name": "stdout",
     "output_type": "stream",
     "text": [
      "args= (99, 97, 98)\n",
      "kwargs= {'fav': 'chocolate', 'fav2': 'chocolate cookie'}\n"
     ]
    }
   ],
   "source": [
    "scores=[99, 97, 98]\n",
    "keyword={\"fav\":\"chocolate\", \"fav2\":\"chocolate cookie\"}\n",
    "\n",
    "catch (*scores, **keyword)"
   ]
  }
 ],
 "metadata": {
  "kernelspec": {
   "display_name": "Python 3",
   "language": "python",
   "name": "python3"
  },
  "language_info": {
   "codemirror_mode": {
    "name": "ipython",
    "version": 3
   },
   "file_extension": ".py",
   "mimetype": "text/x-python",
   "name": "python",
   "nbconvert_exporter": "python",
   "pygments_lexer": "ipython3",
   "version": "3.8.8"
  }
 },
 "nbformat": 4,
 "nbformat_minor": 5
}
