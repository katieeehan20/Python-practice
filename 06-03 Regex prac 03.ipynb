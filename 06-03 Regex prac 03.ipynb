{
 "cells": [
  {
   "cell_type": "markdown",
   "id": "e7e13dc4",
   "metadata": {},
   "source": [
    "How to replace a word from a string with another word?"
   ]
  },
  {
   "cell_type": "code",
   "execution_count": 4,
   "id": "ea15c72c",
   "metadata": {},
   "outputs": [],
   "source": [
    "import re\n",
    "\n",
    "line=\"The quick brown fox jumped over a cardboard box\""
   ]
  },
  {
   "cell_type": "code",
   "execution_count": 5,
   "id": "0fb33953",
   "metadata": {},
   "outputs": [
    {
     "data": {
      "text/plain": [
       "16"
      ]
     },
     "execution_count": 5,
     "metadata": {},
     "output_type": "execute_result"
    }
   ],
   "source": [
    "line.index(\"fox\")"
   ]
  },
  {
   "cell_type": "code",
   "execution_count": 6,
   "id": "cb5c52ee",
   "metadata": {},
   "outputs": [
    {
     "data": {
      "text/plain": [
       "16"
      ]
     },
     "execution_count": 6,
     "metadata": {},
     "output_type": "execute_result"
    }
   ],
   "source": [
    "regex=re.compile(\"fox\")\n",
    "match=regex.search(line)\n",
    "match.start()"
   ]
  },
  {
   "cell_type": "code",
   "execution_count": 8,
   "id": "2c2a1996",
   "metadata": {},
   "outputs": [
    {
     "data": {
      "text/plain": [
       "'The quick brown dolphin jumped over a cardboard box'"
      ]
     },
     "execution_count": 8,
     "metadata": {},
     "output_type": "execute_result"
    }
   ],
   "source": [
    "regex.sub(\"dolphin\", line)"
   ]
  },
  {
   "cell_type": "code",
   "execution_count": 9,
   "id": "dd2409ca",
   "metadata": {},
   "outputs": [
    {
     "data": {
      "text/plain": [
       "'The swift brown fox jumped over a cardboard box'"
      ]
     },
     "execution_count": 9,
     "metadata": {},
     "output_type": "execute_result"
    }
   ],
   "source": [
    "regex2=re.compile(\"quick\")\n",
    "regex2.sub(\"swift\", line)"
   ]
  }
 ],
 "metadata": {
  "kernelspec": {
   "display_name": "Python 3",
   "language": "python",
   "name": "python3"
  },
  "language_info": {
   "codemirror_mode": {
    "name": "ipython",
    "version": 3
   },
   "file_extension": ".py",
   "mimetype": "text/x-python",
   "name": "python",
   "nbconvert_exporter": "python",
   "pygments_lexer": "ipython3",
   "version": "3.8.8"
  }
 },
 "nbformat": 4,
 "nbformat_minor": 5
}
