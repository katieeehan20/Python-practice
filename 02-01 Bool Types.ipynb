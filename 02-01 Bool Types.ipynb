{
 "cells": [
  {
   "cell_type": "markdown",
   "id": "4235aec3",
   "metadata": {},
   "source": [
    "Let's learn about bool types.\n",
    "\n",
    "Boolean types have 2 values - True, False\n",
    "\n",
    "You can use comparison operators (<, <=, etc.) to get True, False "
   ]
  },
  {
   "cell_type": "code",
   "execution_count": 1,
   "id": "11ea2b05",
   "metadata": {},
   "outputs": [
    {
     "data": {
      "text/plain": [
       "True"
      ]
     },
     "execution_count": 1,
     "metadata": {},
     "output_type": "execute_result"
    }
   ],
   "source": [
    "example1=7<11\n",
    "example1"
   ]
  },
  {
   "cell_type": "code",
   "execution_count": 3,
   "id": "77ad34e6",
   "metadata": {},
   "outputs": [
    {
     "data": {
      "text/plain": [
       "bool"
      ]
     },
     "execution_count": 3,
     "metadata": {},
     "output_type": "execute_result"
    }
   ],
   "source": [
    "type(example1)"
   ]
  },
  {
   "cell_type": "markdown",
   "id": "a13ca188",
   "metadata": {},
   "source": [
    "Boolean values are case sensitive (True instead of true)\n",
    "\n",
    "Don't use \"\" when writing True"
   ]
  },
  {
   "cell_type": "code",
   "execution_count": 4,
   "id": "fb39e3a1",
   "metadata": {},
   "outputs": [
    {
     "name": "stdout",
     "output_type": "stream",
     "text": [
      "True False\n"
     ]
    }
   ],
   "source": [
    "print(True, False)"
   ]
  },
  {
   "cell_type": "markdown",
   "id": "64ab26e8",
   "metadata": {},
   "source": [
    "By using bool() object constructor, you can construct a boolean.\n",
    "\n",
    "bool( any number except 0) is always True \n",
    "\n",
    "bool(0) is always False\n",
    "\n",
    "bool(None) is always False\n",
    "\n",
    "bool (\"\") is always False\n",
    "\n"
   ]
  },
  {
   "cell_type": "code",
   "execution_count": 5,
   "id": "282d2162",
   "metadata": {},
   "outputs": [
    {
     "data": {
      "text/plain": [
       "True"
      ]
     },
     "execution_count": 5,
     "metadata": {},
     "output_type": "execute_result"
    }
   ],
   "source": [
    "bool(1107)"
   ]
  },
  {
   "cell_type": "code",
   "execution_count": 6,
   "id": "93df3933",
   "metadata": {},
   "outputs": [
    {
     "data": {
      "text/plain": [
       "True"
      ]
     },
     "execution_count": 6,
     "metadata": {},
     "output_type": "execute_result"
    }
   ],
   "source": [
    "bool(10*20)"
   ]
  },
  {
   "cell_type": "code",
   "execution_count": 7,
   "id": "92bef273",
   "metadata": {},
   "outputs": [
    {
     "data": {
      "text/plain": [
       "False"
      ]
     },
     "execution_count": 7,
     "metadata": {},
     "output_type": "execute_result"
    }
   ],
   "source": [
    "bool(0)"
   ]
  },
  {
   "cell_type": "code",
   "execution_count": 8,
   "id": "bfcee249",
   "metadata": {},
   "outputs": [
    {
     "data": {
      "text/plain": [
       "False"
      ]
     },
     "execution_count": 8,
     "metadata": {},
     "output_type": "execute_result"
    }
   ],
   "source": [
    "bool(None)"
   ]
  },
  {
   "cell_type": "code",
   "execution_count": 9,
   "id": "aaa400e2",
   "metadata": {},
   "outputs": [
    {
     "data": {
      "text/plain": [
       "False"
      ]
     },
     "execution_count": 9,
     "metadata": {},
     "output_type": "execute_result"
    }
   ],
   "source": [
    "bool(\"\")"
   ]
  },
  {
   "cell_type": "markdown",
   "id": "5bb7ad46",
   "metadata": {},
   "source": [
    "\n",
    "bool([1,2,3]) is always True - full list [] \n",
    "\n",
    "bool([]) is always False  - empty sequence []"
   ]
  },
  {
   "cell_type": "code",
   "execution_count": 11,
   "id": "0c52fdc9",
   "metadata": {},
   "outputs": [
    {
     "data": {
      "text/plain": [
       "True"
      ]
     },
     "execution_count": 11,
     "metadata": {},
     "output_type": "execute_result"
    }
   ],
   "source": [
    "bool([11,7,19,92])"
   ]
  },
  {
   "cell_type": "code",
   "execution_count": 12,
   "id": "ba76c54c",
   "metadata": {},
   "outputs": [
    {
     "data": {
      "text/plain": [
       "False"
      ]
     },
     "execution_count": 12,
     "metadata": {},
     "output_type": "execute_result"
    }
   ],
   "source": [
    "bool([])"
   ]
  }
 ],
 "metadata": {
  "kernelspec": {
   "display_name": "Python 3",
   "language": "python",
   "name": "python3"
  },
  "language_info": {
   "codemirror_mode": {
    "name": "ipython",
    "version": 3
   },
   "file_extension": ".py",
   "mimetype": "text/x-python",
   "name": "python",
   "nbconvert_exporter": "python",
   "pygments_lexer": "ipython3",
   "version": "3.8.8"
  }
 },
 "nbformat": 4,
 "nbformat_minor": 5
}
