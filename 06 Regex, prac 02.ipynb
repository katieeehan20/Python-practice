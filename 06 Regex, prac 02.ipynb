{
 "cells": [
  {
   "cell_type": "code",
   "execution_count": 6,
   "id": "cb0de139",
   "metadata": {},
   "outputs": [],
   "source": [
    "import re\n",
    "\n",
    "text_to_search='''\n",
    "abcdefghijklmnopqrstuvwxyz\n",
    "ABCDEFGHIJKLMNOPQRSTUVWXYZ\n",
    "1234567890\n",
    "Ha Haha\n",
    "\n",
    "Metacharacters(Need to be escaped):  #special characters\n",
    ". ^ $ * + ? { } [ ] \\ | ( )\n",
    "\n",
    "coreyms.com   #URL\n",
    "\n",
    "321-555-4321  #phone number    \n",
    "123.555.1234\n",
    "\n",
    "347.453.7533\n",
    "347.436.7538\n",
    "718.345.6346\n",
    "\n",
    "Mr.Schafer    #name\n",
    "Mr Smith\n",
    "Ms Davis\n",
    "Mrs.Robinson\n",
    "Mr. T\n",
    "'''\n",
    "\n",
    "sentence=\"Start a sentence and then bring it to an end\""
   ]
  },
  {
   "cell_type": "code",
   "execution_count": 3,
   "id": "8f7a6bc1",
   "metadata": {},
   "outputs": [
    {
     "name": "stdout",
     "output_type": "stream",
     "text": [
      "<re.Match object; span=(55, 63), match='12345678'>\n"
     ]
    }
   ],
   "source": [
    "pattern=re.compile(r'\\d\\d\\d[]\\d\\d\\d[]\\d\\d\\d\\d')\n",
    "\n",
    "matches=pattern.finditer(text_to_search)\n",
    "for match in matches:\n",
    "    print(match)"
   ]
  },
  {
   "cell_type": "code",
   "execution_count": 4,
   "id": "04be4fbf",
   "metadata": {},
   "outputs": [
    {
     "name": "stdout",
     "output_type": "stream",
     "text": [
      "<re.Match object; span=(181, 193), match='321-555-4321'>\n",
      "<re.Match object; span=(213, 225), match='123.555.1234'>\n"
     ]
    }
   ],
   "source": [
    "# [ ]: below example matches either - or . within [ ]\n",
    "\n",
    "pattern=re.compile(r'\\d\\d\\d[-.]\\d\\d\\d[-.]\\d\\d\\d\\d')\n",
    "\n",
    "matches=pattern.finditer(text_to_search)\n",
    "for match in matches:\n",
    "    print(match)"
   ]
  },
  {
   "cell_type": "code",
   "execution_count": 7,
   "id": "8d927a6b",
   "metadata": {},
   "outputs": [
    {
     "name": "stdout",
     "output_type": "stream",
     "text": [
      "<re.Match object; span=(227, 239), match='347.453.7533'>\n",
      "<re.Match object; span=(240, 252), match='347.436.7538'>\n"
     ]
    }
   ],
   "source": [
    "# [ ]: below example matches either - or . within [ ]\n",
    "# matches any phone number starting with 347\n",
    "\n",
    "\n",
    "pattern=re.compile(r'347[-.]\\d\\d\\d[-.]\\d\\d\\d\\d')\n",
    "\n",
    "matches=pattern.finditer(text_to_search)\n",
    "for match in matches:\n",
    "    print(match)"
   ]
  },
  {
   "cell_type": "code",
   "execution_count": 8,
   "id": "72c95ad1",
   "metadata": {},
   "outputs": [
    {
     "name": "stdout",
     "output_type": "stream",
     "text": [
      "<re.Match object; span=(55, 56), match='1'>\n",
      "<re.Match object; span=(56, 57), match='2'>\n",
      "<re.Match object; span=(57, 58), match='3'>\n",
      "<re.Match object; span=(58, 59), match='4'>\n",
      "<re.Match object; span=(59, 60), match='5'>\n",
      "<re.Match object; span=(181, 182), match='3'>\n",
      "<re.Match object; span=(182, 183), match='2'>\n",
      "<re.Match object; span=(183, 184), match='1'>\n",
      "<re.Match object; span=(185, 186), match='5'>\n",
      "<re.Match object; span=(186, 187), match='5'>\n",
      "<re.Match object; span=(187, 188), match='5'>\n",
      "<re.Match object; span=(189, 190), match='4'>\n",
      "<re.Match object; span=(190, 191), match='3'>\n",
      "<re.Match object; span=(191, 192), match='2'>\n",
      "<re.Match object; span=(192, 193), match='1'>\n",
      "<re.Match object; span=(213, 214), match='1'>\n",
      "<re.Match object; span=(214, 215), match='2'>\n",
      "<re.Match object; span=(215, 216), match='3'>\n",
      "<re.Match object; span=(217, 218), match='5'>\n",
      "<re.Match object; span=(218, 219), match='5'>\n",
      "<re.Match object; span=(219, 220), match='5'>\n",
      "<re.Match object; span=(221, 222), match='1'>\n",
      "<re.Match object; span=(222, 223), match='2'>\n",
      "<re.Match object; span=(223, 224), match='3'>\n",
      "<re.Match object; span=(224, 225), match='4'>\n",
      "<re.Match object; span=(227, 228), match='3'>\n",
      "<re.Match object; span=(228, 229), match='4'>\n",
      "<re.Match object; span=(231, 232), match='4'>\n",
      "<re.Match object; span=(232, 233), match='5'>\n",
      "<re.Match object; span=(233, 234), match='3'>\n",
      "<re.Match object; span=(236, 237), match='5'>\n",
      "<re.Match object; span=(237, 238), match='3'>\n",
      "<re.Match object; span=(238, 239), match='3'>\n",
      "<re.Match object; span=(240, 241), match='3'>\n",
      "<re.Match object; span=(241, 242), match='4'>\n",
      "<re.Match object; span=(244, 245), match='4'>\n",
      "<re.Match object; span=(245, 246), match='3'>\n",
      "<re.Match object; span=(249, 250), match='5'>\n",
      "<re.Match object; span=(250, 251), match='3'>\n",
      "<re.Match object; span=(254, 255), match='1'>\n",
      "<re.Match object; span=(257, 258), match='3'>\n",
      "<re.Match object; span=(258, 259), match='4'>\n",
      "<re.Match object; span=(259, 260), match='5'>\n",
      "<re.Match object; span=(262, 263), match='3'>\n",
      "<re.Match object; span=(263, 264), match='4'>\n"
     ]
    }
   ],
   "source": [
    "# [1-5] matches any digits between 1 and 5\n",
    "\n",
    "pattern=re.compile(r'[1-5]')\n",
    "\n",
    "matches=pattern.finditer(text_to_search)\n",
    "for match in matches:\n",
    "    print(match)"
   ]
  },
  {
   "cell_type": "code",
   "execution_count": 11,
   "id": "8cf512cb",
   "metadata": {},
   "outputs": [
    {
     "name": "stdout",
     "output_type": "stream",
     "text": [
      "<re.Match object; span=(181, 193), match='321-555-4321'>\n",
      "<re.Match object; span=(213, 225), match='123.555.1234'>\n",
      "<re.Match object; span=(227, 239), match='347.453.7533'>\n",
      "<re.Match object; span=(240, 252), match='347.436.7538'>\n",
      "<re.Match object; span=(253, 265), match='718.345.6346'>\n"
     ]
    }
   ],
   "source": [
    "# { }: matching exact number\n",
    "\n",
    "pattern=re.compile(r'\\d{3}.\\d{3}.\\d{4}')\n",
    "\n",
    "matches=pattern.finditer(text_to_search)\n",
    "for match in matches:\n",
    "    print(match)"
   ]
  }
 ],
 "metadata": {
  "kernelspec": {
   "display_name": "Python 3",
   "language": "python",
   "name": "python3"
  },
  "language_info": {
   "codemirror_mode": {
    "name": "ipython",
    "version": 3
   },
   "file_extension": ".py",
   "mimetype": "text/x-python",
   "name": "python",
   "nbconvert_exporter": "python",
   "pygments_lexer": "ipython3",
   "version": "3.8.8"
  }
 },
 "nbformat": 4,
 "nbformat_minor": 5
}
