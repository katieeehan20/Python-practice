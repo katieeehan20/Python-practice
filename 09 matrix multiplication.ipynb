{
 "cells": [
  {
   "cell_type": "markdown",
   "id": "182a4a06",
   "metadata": {},
   "source": [
    "Multiplication of two matrices by using * and @ and .dot()"
   ]
  },
  {
   "cell_type": "code",
   "execution_count": 5,
   "id": "26914d7a",
   "metadata": {},
   "outputs": [],
   "source": [
    "import numpy as np\n",
    "\n",
    "#Multiplication of 2 matrices by each other of size 3x3\n",
    "\n",
    "matrix1=np.array([[1,2,3],[4,5,6],[7,8,9]])\n",
    "matrix2=np.array([[5,2,6],[5,6,7],[7,6,4]])\n"
   ]
  },
  {
   "cell_type": "code",
   "execution_count": 6,
   "id": "e0f706b8",
   "metadata": {},
   "outputs": [
    {
     "data": {
      "text/plain": [
       "array([[ 5,  4, 18],\n",
       "       [20, 30, 42],\n",
       "       [49, 48, 36]])"
      ]
     },
     "execution_count": 6,
     "metadata": {},
     "output_type": "execute_result"
    }
   ],
   "source": [
    "matrix1*matrix2 # elementwise multiplication"
   ]
  },
  {
   "cell_type": "code",
   "execution_count": 7,
   "id": "1ac5ae28",
   "metadata": {},
   "outputs": [
    {
     "data": {
      "text/plain": [
       "array([[ 36,  32,  32],\n",
       "       [ 87,  74,  83],\n",
       "       [138, 116, 134]])"
      ]
     },
     "execution_count": 7,
     "metadata": {},
     "output_type": "execute_result"
    }
   ],
   "source": [
    "matrix1@matrix2"
   ]
  },
  {
   "cell_type": "code",
   "execution_count": 8,
   "id": "afcece13",
   "metadata": {},
   "outputs": [
    {
     "data": {
      "text/plain": [
       "array([[ 36,  32,  32],\n",
       "       [ 87,  74,  83],\n",
       "       [138, 116, 134]])"
      ]
     },
     "execution_count": 8,
     "metadata": {},
     "output_type": "execute_result"
    }
   ],
   "source": [
    "matrix1.dot(matrix2)"
   ]
  }
 ],
 "metadata": {
  "kernelspec": {
   "display_name": "Python 3",
   "language": "python",
   "name": "python3"
  },
  "language_info": {
   "codemirror_mode": {
    "name": "ipython",
    "version": 3
   },
   "file_extension": ".py",
   "mimetype": "text/x-python",
   "name": "python",
   "nbconvert_exporter": "python",
   "pygments_lexer": "ipython3",
   "version": "3.8.8"
  }
 },
 "nbformat": 4,
 "nbformat_minor": 5
}
