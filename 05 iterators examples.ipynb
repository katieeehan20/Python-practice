{
 "cells": [
  {
   "cell_type": "markdown",
   "id": "b9c0ed1a",
   "metadata": {},
   "source": [
    "Some kinds of iterators: \n",
    "\n",
    "1. Enumerate iterator\n",
    "\n",
    "2. zip iterator\n",
    "\n",
    "3. map iterator\n",
    "\n",
    "4. filter iterator"
   ]
  },
  {
   "cell_type": "code",
   "execution_count": 1,
   "id": "e58e2e19",
   "metadata": {},
   "outputs": [
    {
     "name": "stdout",
     "output_type": "stream",
     "text": [
      "0 2\n",
      "1 4\n",
      "2 6\n",
      "3 8\n",
      "4 10\n",
      "5 12\n",
      "6 14\n",
      "7 16\n",
      "8 18\n",
      "9 20\n",
      "10 22\n"
     ]
    }
   ],
   "source": [
    "#enumerate iterator\n",
    "\n",
    "L=[2,4,6,8,10,12,14,16,18,20,22]\n",
    "\n",
    "for i, val in enumerate(L):\n",
    "    print(i, val)"
   ]
  },
  {
   "cell_type": "code",
   "execution_count": 2,
   "id": "dec8d309",
   "metadata": {},
   "outputs": [
    {
     "name": "stdout",
     "output_type": "stream",
     "text": [
      "0 2\n",
      "1 4\n",
      "2 6\n",
      "3 8\n",
      "4 10\n",
      "5 12\n",
      "6 14\n",
      "7 16\n",
      "8 18\n",
      "9 20\n",
      "10 22\n"
     ]
    }
   ],
   "source": [
    "#the above is same as... without enumerate iterator:\n",
    "\n",
    "L=[2,4,6,8,10,12,14,16,18,20,22]\n",
    "\n",
    "for i in range (len(L)):\n",
    "    print(i, L[i])"
   ]
  },
  {
   "cell_type": "code",
   "execution_count": 6,
   "id": "26bc2d15",
   "metadata": {},
   "outputs": [
    {
     "name": "stdout",
     "output_type": "stream",
     "text": [
      "0 2\n",
      "1 4\n",
      "2 6\n",
      "3 8\n",
      "4 10\n",
      "5 12\n",
      "6 14\n",
      "7 16\n",
      "8 18\n",
      "9 20\n",
      "10 22\n"
     ]
    }
   ],
   "source": [
    "#different way to write the same code as above\n",
    "\n",
    "L=[2,4,6,8,10,12,14,16,18,20,22]\n",
    "\n",
    "for i in range(11):    #range() has to have integer within ()\n",
    "    print(i, L[i])"
   ]
  },
  {
   "cell_type": "code",
   "execution_count": 7,
   "id": "b4218b03",
   "metadata": {},
   "outputs": [
    {
     "name": "stdout",
     "output_type": "stream",
     "text": [
      "1 2\n",
      "2 4\n",
      "3 6\n",
      "4 8\n",
      "5 10\n",
      "6 12\n",
      "7 14\n",
      "8 16\n"
     ]
    }
   ],
   "source": [
    "# zip iterator\n",
    "\n",
    "A=[1,2,3,4,5,6,7,8]\n",
    "B=[2,4,6,8,10,12,14,16]\n",
    "\n",
    "for Aval, Bval in zip(A,B):\n",
    "    print(Aval, Bval)"
   ]
  },
  {
   "cell_type": "code",
   "execution_count": 8,
   "id": "1ac8e489",
   "metadata": {},
   "outputs": [
    {
     "name": "stdout",
     "output_type": "stream",
     "text": [
      "1 3\n",
      "2 4\n"
     ]
    }
   ],
   "source": [
    "C=(1,2)\n",
    "D=(3,4)\n",
    "\n",
    "for Cval, Dval in zip(C,D):\n",
    "    print(Cval, Dval)"
   ]
  },
  {
   "cell_type": "code",
   "execution_count": 10,
   "id": "aa48a858",
   "metadata": {},
   "outputs": [
    {
     "name": "stdout",
     "output_type": "stream",
     "text": [
      "0 1 4 9 16 25 36 49 64 81 "
     ]
    }
   ],
   "source": [
    "# map iterator\n",
    "\n",
    "# map iterator takes a function, applies to the values in an iterator\n",
    "\n",
    "square= lambda x:x**2\n",
    "\n",
    "for val in map(square, range(10)):\n",
    "    print(val, end=' ')    \n",
    "    "
   ]
  },
  {
   "cell_type": "code",
   "execution_count": 11,
   "id": "a58dd55d",
   "metadata": {},
   "outputs": [
    {
     "name": "stdout",
     "output_type": "stream",
     "text": [
      "0 2 4 6 8 "
     ]
    }
   ],
   "source": [
    "#filter iterator\n",
    "\n",
    "#filter iterator pases through values for which the filter function evaluates to True\n",
    "\n",
    "is_even=lambda x:x%2==0\n",
    "\n",
    "for val in filter (is_even, range(10)):\n",
    "    print(val, end=' ')"
   ]
  },
  {
   "cell_type": "code",
   "execution_count": 12,
   "id": "01336bf6",
   "metadata": {},
   "outputs": [
    {
     "name": "stdout",
     "output_type": "stream",
     "text": [
      "1 3 5 7 9 "
     ]
    }
   ],
   "source": [
    "is_odd= lambda x: x%2==1\n",
    "\n",
    "for val in filter (is_odd, range(10)):\n",
    "    print(val, end=' ')"
   ]
  }
 ],
 "metadata": {
  "kernelspec": {
   "display_name": "Python 3",
   "language": "python",
   "name": "python3"
  },
  "language_info": {
   "codemirror_mode": {
    "name": "ipython",
    "version": 3
   },
   "file_extension": ".py",
   "mimetype": "text/x-python",
   "name": "python",
   "nbconvert_exporter": "python",
   "pygments_lexer": "ipython3",
   "version": "3.8.8"
  }
 },
 "nbformat": 4,
 "nbformat_minor": 5
}
