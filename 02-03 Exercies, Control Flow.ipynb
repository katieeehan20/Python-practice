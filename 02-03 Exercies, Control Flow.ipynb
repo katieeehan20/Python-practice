{
 "cells": [
  {
   "cell_type": "markdown",
   "id": "40d3a062",
   "metadata": {},
   "source": [
    "Exercise 1\n",
    "\n",
    "Guess a number between 1 to 9 given by the user"
   ]
  },
  {
   "cell_type": "code",
   "execution_count": 1,
   "id": "d664979a",
   "metadata": {},
   "outputs": [
    {
     "name": "stdout",
     "output_type": "stream",
     "text": [
      "What's your choice of number between 1 and 9?8\n",
      "You chose 8!\n"
     ]
    }
   ],
   "source": [
    "number=input(\"What's your choice of number between 1 and 9?\")\n",
    "\n",
    "if int(number)<10:\n",
    "    print(\"You chose \"+ str(number)+\"!\")\n",
    "else:\n",
    "    print(\"Pick a number below 10\")"
   ]
  },
  {
   "cell_type": "markdown",
   "id": "5fe855a2",
   "metadata": {},
   "source": [
    "Exercise 2 Check the validity of password input by the user.\n",
    "\n",
    "Validation:\n",
    "\n",
    "At least 1 letter between [a-z] and 1 letter between [A-Z]\n",
    "\n",
    "At least 1 number between [0-9]\n",
    "\n",
    "At least 1 character from [$#@]\n",
    "\n",
    "Minimum length 6 characters\n",
    "\n",
    "Maximum length 16 characters"
   ]
  },
  {
   "cell_type": "code",
   "execution_count": 2,
   "id": "69041fe0",
   "metadata": {},
   "outputs": [
    {
     "name": "stdout",
     "output_type": "stream",
     "text": [
      "Choose a safe passwordgeek11\n",
      "Choose a password with at least one small alphabet\n",
      "Choose a password with at least one small alphabet\n",
      "Choose a password with at least one small alphabet\n",
      "Choose a password with at least one small alphabet\n",
      "Choose a password with at least one small alphabet\n",
      "Choose a password with at least one small alphabet\n",
      "Choose a password with at least one small alphabet\n",
      "Choose a password with at least one small alphabet\n",
      "Choose a password with at least one small alphabet\n",
      "Choose a password with at least one small alphabet\n",
      "Choose a password with at least one small alphabet\n",
      "Choose a password with at least one small alphabet\n",
      "Choose a password with at least one small alphabet\n",
      "Choose a password with at least one small alphabet\n",
      "Choose a password with at least one small alphabet\n",
      "Choose a password with at least one small alphabet\n",
      "Choose a password with at least one small alphabet\n",
      "Choose a password with at least one small alphabet\n",
      "Choose a password with at least one small alphabet\n",
      "Choose a password with at least one small alphabet\n",
      "Choose a password with at least one small alphabet\n",
      "Choose a password with at least one small alphabet\n",
      "Choose a password with at least one small alphabet\n",
      "Caution! Choose a password with at least one large alphabet\n",
      "Caution! Choose a password with at least one large alphabet\n",
      "Caution! Choose a password with at least one large alphabet\n",
      "Caution! Choose a password with at least one large alphabet\n",
      "Caution! Choose a password with at least one large alphabet\n",
      "Caution! Choose a password with at least one large alphabet\n",
      "Caution! Choose a password with at least one large alphabet\n",
      "Caution! Choose a password with at least one large alphabet\n",
      "Caution! Choose a password with at least one large alphabet\n",
      "Caution! Choose a password with at least one large alphabet\n",
      "Caution! Choose a password with at least one large alphabet\n",
      "Caution! Choose a password with at least one large alphabet\n",
      "Caution! Choose a password with at least one large alphabet\n",
      "Caution! Choose a password with at least one large alphabet\n",
      "Caution! Choose a password with at least one large alphabet\n",
      "Caution! Choose a password with at least one large alphabet\n",
      "Caution! Choose a password with at least one large alphabet\n",
      "Caution! Choose a password with at least one large alphabet\n",
      "Caution! Choose a password with at least one large alphabet\n",
      "Caution! Choose a password with at least one large alphabet\n",
      "Caution! Choose a password with at least one large alphabet\n",
      "Caution! Choose a password with at least one large alphabet\n",
      "Caution! Choose a password with at least one large alphabet\n",
      "Caution! Choose a password with at least one large alphabet\n",
      "Caution! Choose a password with at least one large alphabet\n",
      "Caution! Choose a password with at least one large alphabet\n",
      "Choose a password with at least one number\n",
      "Choose a password with at least one number\n",
      "Choose a password with at least one number\n",
      "Choose a password with at least one number\n",
      "Choose a password with at least one number\n",
      "Choose a password with at least one number\n",
      "Choose a password with at least one number\n",
      "Choose a password with at least one number\n",
      "Choose a password with at least one number\n",
      "Choose a password with at least one number\n",
      "Caution! include at least one $, #, or @\n",
      "Caution! include at least one $, #, or @\n",
      "Caution! include at least one $, #, or @\n",
      "satisfactory\n"
     ]
    }
   ],
   "source": [
    "password=input(\"Choose a safe password\")\n",
    "\n",
    "List1=[\"a\",\"b\",\"c\",\"d\",\"e\",\"f\",\"g\",\"h\",\"i\",\"j\",\"k\",\"l\",\"m\",\"n\",\"o\",\"p\",\"q\",\"r\",\"s\",\"t\",\"u\",\"v\",\"w\",\"x\",\"y\",\"z\"]\n",
    "List2=[\"A\",\"B\",\"C\",\"D\",\"E\",\"F\",\"G\",\"H\",\"I\",\"J\",\"K\",\"L\",\"M\",\"N\",\"O\",\"P\",\"Q\",\"R\",\"S\",\"T\",\"U\",\"V\",\"W\",\"X\",\"Y\",\"Z\"]\n",
    "List3=[0,1,2,3,4,5,6,7,8,9]\n",
    "List4=[\"$\", \"#\", \"@\"]\n",
    "\n",
    "for i in List1:\n",
    "    if i in password:\n",
    "        continue\n",
    "\n",
    "    else:\n",
    "        print(\"Choose a password with at least one small alphabet\")\n",
    "        \n",
    "for i in List2:\n",
    "    if i in password:\n",
    "        continue\n",
    "    else:\n",
    "        print(\"Caution! Choose a password with at least one large alphabet\")\n",
    "        \n",
    "for n in List3:\n",
    "    if n == password:\n",
    "        print(\"good.\")\n",
    "    else:\n",
    "        print(\"Choose a password with at least one number\")\n",
    "        \n",
    "for i in List4:\n",
    "    if i in password:\n",
    "        print(\"satisfactory\")\n",
    "    else:\n",
    "        print(\"Caution! include at least one $, #, or @\")\n",
    "        \n",
    "        \n",
    "if 6 <= len(password) <= 16:\n",
    "    print(\"satisfactory\")\n",
    "else:\n",
    "    print(\"password should be between 6 to 16 letters\")"
   ]
  },
  {
   "cell_type": "markdown",
   "id": "bdcff328",
   "metadata": {},
   "source": [
    "Exercise 3\n",
    "\n",
    "Get input of the age of 3 people by user and determine oldest and youngest among them"
   ]
  },
  {
   "cell_type": "code",
   "execution_count": 6,
   "id": "ef1aafaf",
   "metadata": {},
   "outputs": [
    {
     "name": "stdout",
     "output_type": "stream",
     "text": [
      "choose 3 numbers between 0 and 100 for 3 people's age54 45 76\n",
      "54 45 76\n",
      "['5']\n",
      "choose 3 numbers between 0 and 100 for 3 people's age34 65 7\n",
      "34 65 7\n",
      "['34 65 7']\n"
     ]
    },
    {
     "data": {
      "text/plain": [
       "['34 65 7']"
      ]
     },
     "execution_count": 6,
     "metadata": {},
     "output_type": "execute_result"
    }
   ],
   "source": [
    "#NEED TO WORK ON IT. NOT SURE HOW TO CODE\n",
    "\n",
    "peoples_age=input(\"choose 3 numbers between 0 and 100 for 3 people's age\")\n",
    "print(peoples_age)\n",
    "\n",
    "L=[]\n",
    "L.append(peoples_age[0])\n",
    "print (L)\n",
    "\n",
    "\n",
    "peoples_age=input(\"choose 3 numbers between 0 and 100 for 3 people's age\")\n",
    "print(peoples_age)\n",
    "\n",
    "L=[]\n",
    "L.insert(1, peoples_age)\n",
    "print (L)\n",
    "list(L)"
   ]
  },
  {
   "cell_type": "markdown",
   "id": "a886d108",
   "metadata": {},
   "source": [
    "Exercise 4.\n",
    "\n",
    "A student will not be allowed to sit in exam if his/her attendance is less than 75%.\n",
    "\n",
    "Take following input from user:\n",
    "\n",
    "Number of classes held\n",
    "\n",
    "Number of classes attended.\n",
    "\n",
    "And print\n",
    "\n",
    "percentage of class attended\n",
    "\n",
    "Is student is allowed to sit in exam or not?"
   ]
  },
  {
   "cell_type": "code",
   "execution_count": 4,
   "id": "ba847b26",
   "metadata": {},
   "outputs": [
    {
     "name": "stdout",
     "output_type": "stream",
     "text": [
      "How many classes?10\n",
      "How many classes attended?6\n",
      "60.0\n",
      "The student cannot sit in exam\n"
     ]
    }
   ],
   "source": [
    "classes=input(\"How many classes?\")\n",
    "attended=input(\"How many classes attended?\")\n",
    "\n",
    "attendance=int(attended)/int(classes)\n",
    "\n",
    "percentage=100*attendance\n",
    "print(percentage)\n",
    "\n",
    "if percentage <75:\n",
    "    print(\"The student cannot sit in exam\")\n",
    "else:\n",
    "    print(\"The student is allowed to sit in exam\")"
   ]
  },
  {
   "cell_type": "markdown",
   "id": "577f0c4c",
   "metadata": {},
   "source": [
    "Exercise 5\n",
    "\n",
    "Get an integer N from the user and perform the following actions:\n",
    "\n",
    "if N is odd, print \"weird\"\n",
    "\n",
    "if N is even and in the inclusive range of 2 to 5, print \"Not Weird\"\n",
    "\n",
    "if N is even and in the inclusive range of 6 to 20, print \"Weird\"\n",
    "\n",
    "if N is even and greater than 20, print \"Not Weird\""
   ]
  },
  {
   "cell_type": "code",
   "execution_count": 5,
   "id": "3bca4505",
   "metadata": {},
   "outputs": [
    {
     "name": "stdout",
     "output_type": "stream",
     "text": [
      "pick an integer7\n",
      "weird\n"
     ]
    }
   ],
   "source": [
    "N=input(\"pick an integer\")\n",
    "\n",
    "if int(N)%2==1:\n",
    "    print(\"weird\")\n",
    "if int(N)%2==0 and (2<= int(N) <=5):\n",
    "    print(\"Not Weird\")\n",
    "if int(N)%2==0 and (6<= int(N) <=20):\n",
    "    print(\"Weird\")\n",
    "if int(N)%2==0 and int(N)>20:\n",
    "    print(\"Not Weird\")"
   ]
  }
 ],
 "metadata": {
  "kernelspec": {
   "display_name": "Python 3",
   "language": "python",
   "name": "python3"
  },
  "language_info": {
   "codemirror_mode": {
    "name": "ipython",
    "version": 3
   },
   "file_extension": ".py",
   "mimetype": "text/x-python",
   "name": "python",
   "nbconvert_exporter": "python",
   "pygments_lexer": "ipython3",
   "version": "3.8.8"
  }
 },
 "nbformat": 4,
 "nbformat_minor": 5
}
