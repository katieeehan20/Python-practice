{
 "cells": [
  {
   "cell_type": "markdown",
   "id": "e29f4227",
   "metadata": {},
   "source": [
    "Draft, problem solving process for 02-03 exercise\n",
    "\n",
    "Try 1"
   ]
  },
  {
   "cell_type": "code",
   "execution_count": 54,
   "id": "9e67f4b8",
   "metadata": {},
   "outputs": [
    {
     "name": "stdout",
     "output_type": "stream",
     "text": [
      "[64, 69, 37, 76, 83, 95, 97]\n",
      "[64, 37, 76, 83, 95, 97]\n",
      "[64, 37, 83, 95, 97]\n",
      "[64, 37, 83, 95, 97]\n"
     ]
    }
   ],
   "source": [
    "rollNumber = [47, 64, 69, 37, 76, 83, 95, 97]\n",
    "sampleDict ={'Zach':47, 'Emma':69, 'Kelly':76, 'Jason':97}\n",
    "\n",
    "def newlist(n):\n",
    "    for n in rollNumber:\n",
    "        if n == sampleDict['Zach']:\n",
    "                rollNumber.remove(n)\n",
    "        if n==sampleDict['Emma']:\n",
    "                rollNumber.remove(n)        \n",
    "        if n==sampleDict['Kelly']:\n",
    "                rollNumber.remove(n)\n",
    "        if n==sampleDict['Jason']:\n",
    "                rollNumber.remove(n)\n",
    "        else:\n",
    "            print(rollNumber)\n",
    "               \n",
    "newlist(rollNumber)               \n",
    "\n"
   ]
  },
  {
   "cell_type": "markdown",
   "id": "d5300e44",
   "metadata": {},
   "source": [
    "\n",
    "\n",
    "Try 2"
   ]
  },
  {
   "cell_type": "code",
   "execution_count": 55,
   "id": "e94ccbdf",
   "metadata": {},
   "outputs": [
    {
     "name": "stdout",
     "output_type": "stream",
     "text": [
      "[47, 64, 37, 76, 95, 97]\n"
     ]
    },
    {
     "data": {
      "text/plain": [
       "dict_values([47, 69, 76, 97])"
      ]
     },
     "execution_count": 55,
     "metadata": {},
     "output_type": "execute_result"
    }
   ],
   "source": [
    "rollNumber = [2, 47, 3, 64, 69, 37, 60, 76, 83, 95, 97]\n",
    "sampleDict ={'Zach':47, 'Emma':69, 'Kelly':76, 'Jason':97}\n",
    "\n",
    "for n in rollNumber:\n",
    "    #check if a given element already exists in sampleDict as the key, n's value pair.\n",
    "    if n not in sampleDict.values():\n",
    "        rollNumber.remove(n)\n",
    "    elif n!=sampleDict['Jason']:\n",
    "        rollNumber.remove(n)\n",
    "    \n",
    "    else:    \n",
    "        continue\n",
    "        \n",
    "print(rollNumber)   \n",
    "\n",
    "sampleDict.values()"
   ]
  },
  {
   "cell_type": "markdown",
   "id": "e43544f9",
   "metadata": {},
   "source": [
    "\n",
    "\n",
    "Try 3\n"
   ]
  },
  {
   "cell_type": "code",
   "execution_count": 57,
   "id": "8b8bce92",
   "metadata": {},
   "outputs": [],
   "source": [
    "rollNumber = [47, 64, 69, 37, 76, 83, 95, 97]\n",
    "sampleDict ={'Zach':47, 'Emma':69, 'Kelly':76, 'Jason':97}\n",
    "\n",
    "def newlist(rollNumber):\n",
    "    for n in rollNumber:\n",
    "        if n == sampleDict.values():\n",
    "                rollNumber.remove(n)\n",
    "        else:\n",
    "            print(rollNumber)"
   ]
  },
  {
   "cell_type": "markdown",
   "id": "552e531d",
   "metadata": {},
   "source": [
    "\n",
    "\n",
    "Final and correct try\n"
   ]
  },
  {
   "cell_type": "code",
   "execution_count": 58,
   "id": "a58211dd",
   "metadata": {},
   "outputs": [
    {
     "name": "stdout",
     "output_type": "stream",
     "text": [
      "[47, 64, 69, 37, 76, 83, 95, 97]\n",
      "[47, 69, 76, 97]\n"
     ]
    }
   ],
   "source": [
    "rollNumber = [47, 64, 69, 37, 76, 83, 95, 97]\n",
    "sampleDict ={'Zach':47, 'Emma':69, 'Kelly':76, 'Jason':97}\n",
    "\n",
    "L=[]\n",
    "for n in rollNumber:\n",
    "    if n in sampleDict.values():\n",
    "        L.append(n)\n",
    "\n",
    "print(rollNumber)\n",
    "print(L)"
   ]
  }
 ],
 "metadata": {
  "kernelspec": {
   "display_name": "Python 3",
   "language": "python",
   "name": "python3"
  },
  "language_info": {
   "codemirror_mode": {
    "name": "ipython",
    "version": 3
   },
   "file_extension": ".py",
   "mimetype": "text/x-python",
   "name": "python",
   "nbconvert_exporter": "python",
   "pygments_lexer": "ipython3",
   "version": "3.8.8"
  }
 },
 "nbformat": 4,
 "nbformat_minor": 5
}
