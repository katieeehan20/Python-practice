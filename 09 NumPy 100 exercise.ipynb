{
 "cells": [
  {
   "cell_type": "code",
   "execution_count": 1,
   "id": "a8e647ac",
   "metadata": {},
   "outputs": [
    {
     "ename": "SyntaxError",
     "evalue": "invalid syntax (<ipython-input-1-9202483a7d46>, line 1)",
     "output_type": "error",
     "traceback": [
      "\u001b[1;36m  File \u001b[1;32m\"<ipython-input-1-9202483a7d46>\"\u001b[1;36m, line \u001b[1;32m1\u001b[0m\n\u001b[1;33m    Q 5, 10, 16, 17, 26, 35,\u001b[0m\n\u001b[1;37m      ^\u001b[0m\n\u001b[1;31mSyntaxError\u001b[0m\u001b[1;31m:\u001b[0m invalid syntax\n"
     ]
    }
   ],
   "source": [
    "Q 5, 10, 16, 17, 26, 35, \n",
    "\n",
    "Q 0 - flat iterator\n",
    "\n",
    "Q 21 - using np.tile() function to make checkerboard\n",
    "\n",
    "Q 38 - generate f()\n",
    "\n",
    "Q 41 = np.add()\n",
    "\n",
    "Q 52 = importing scipy\n",
    "\n",
    "Q 53 = converting float to integer\n",
    "\n",
    "Q 55 = ndenumerate\n",
    "\n",
    "Q 61 = argmin()\n",
    "\n",
    "Q 69 - diag() function\n",
    "\n",
    "Q 62 = iterator, summing 2 arrays using nditer() function\n",
    "\n",
    "Q 65 = bincount()"
   ]
  },
  {
   "cell_type": "markdown",
   "id": "bf79c78b",
   "metadata": {},
   "source": [
    "# 100 numpy exercises\n",
    "\n",
    "This is a collection of exercises that have been collected in the numpy mailing list, on stack overflow\n",
    "and in the numpy documentation. The goal of this collection is to offer a quick reference for both old\n",
    "and new users but also to provide a set of exercises for those who teach.\n",
    "\n",
    "\n",
    "If you find an error or think you've a better way to solve some of them, feel\n",
    "free to open an issue at <https://github.com/rougier/numpy-100>."
   ]
  },
  {
   "cell_type": "markdown",
   "id": "8536e059",
   "metadata": {},
   "source": [
    "File automatically generated. See the documentation to update questions/answers/hints programmatically."
   ]
  },
  {
   "cell_type": "markdown",
   "id": "e16ac60b",
   "metadata": {},
   "source": [
    "Run the `initialize.py` module, then for each question you can query the\n",
    "answer or an hint with `hint(n)` or `answer(n)` for `n` question number."
   ]
  },
  {
   "cell_type": "code",
   "execution_count": 2,
   "id": "fe5effb8",
   "metadata": {},
   "outputs": [
    {
     "name": "stdout",
     "output_type": "stream",
     "text": [
      "0\n",
      "1\n",
      "2\n",
      "3\n",
      "10\n",
      "11\n",
      "12\n",
      "13\n",
      "20\n",
      "21\n",
      "22\n",
      "23\n",
      "30\n",
      "31\n",
      "32\n",
      "33\n",
      "40\n",
      "41\n",
      "42\n",
      "43\n"
     ]
    }
   ],
   "source": [
    "# Q 0.\n",
    "\n",
    "import numpy as np\n",
    "\n",
    "def f(x,y):\n",
    "    return 10*x+y\n",
    "\n",
    "b = np.fromfunction(f,(5,4),dtype=int)\n",
    "\n",
    "\n",
    "for element in b.flat:   # flat as iterator\n",
    "    print(element)\n",
    "  # print(element*2)"
   ]
  },
  {
   "cell_type": "code",
   "execution_count": 3,
   "id": "a8453483",
   "metadata": {},
   "outputs": [
    {
     "ename": "ModuleNotFoundError",
     "evalue": "No module named 'mdutils'",
     "output_type": "error",
     "traceback": [
      "\u001b[1;31m---------------------------------------------------------------------------\u001b[0m",
      "\u001b[1;31mModuleNotFoundError\u001b[0m                       Traceback (most recent call last)",
      "\u001b[1;32m~\\Downloads\\numpy-100-master\\numpy-100-master\\initialise.py\u001b[0m in \u001b[0;36m<module>\u001b[1;34m\u001b[0m\n\u001b[0;32m      1\u001b[0m \u001b[1;32mimport\u001b[0m \u001b[0mnumpy\u001b[0m \u001b[1;32mas\u001b[0m \u001b[0mnp\u001b[0m\u001b[1;33m\u001b[0m\u001b[1;33m\u001b[0m\u001b[0m\n\u001b[0;32m      2\u001b[0m \u001b[1;33m\u001b[0m\u001b[0m\n\u001b[1;32m----> 3\u001b[1;33m \u001b[1;32mimport\u001b[0m \u001b[0mgenerators\u001b[0m \u001b[1;32mas\u001b[0m \u001b[0mge\u001b[0m\u001b[1;33m\u001b[0m\u001b[1;33m\u001b[0m\u001b[0m\n\u001b[0m\u001b[0;32m      4\u001b[0m \u001b[1;33m\u001b[0m\u001b[0m\n\u001b[0;32m      5\u001b[0m \u001b[1;33m\u001b[0m\u001b[0m\n",
      "\u001b[1;32m~\\Downloads\\numpy-100-master\\numpy-100-master\\generators.py\u001b[0m in \u001b[0;36m<module>\u001b[1;34m\u001b[0m\n\u001b[0;32m      1\u001b[0m \u001b[1;32mimport\u001b[0m \u001b[0mos\u001b[0m\u001b[1;33m\u001b[0m\u001b[1;33m\u001b[0m\u001b[0m\n\u001b[0;32m      2\u001b[0m \u001b[1;32mimport\u001b[0m \u001b[0mnbformat\u001b[0m \u001b[1;32mas\u001b[0m \u001b[0mnbf\u001b[0m\u001b[1;33m\u001b[0m\u001b[1;33m\u001b[0m\u001b[0m\n\u001b[1;32m----> 3\u001b[1;33m \u001b[1;32mimport\u001b[0m \u001b[0mmdutils\u001b[0m\u001b[1;33m\u001b[0m\u001b[1;33m\u001b[0m\u001b[0m\n\u001b[0m\u001b[0;32m      4\u001b[0m \u001b[1;33m\u001b[0m\u001b[0m\n\u001b[0;32m      5\u001b[0m \u001b[1;33m\u001b[0m\u001b[0m\n",
      "\u001b[1;31mModuleNotFoundError\u001b[0m: No module named 'mdutils'"
     ]
    }
   ],
   "source": [
    "%run initialise.py"
   ]
  },
  {
   "cell_type": "markdown",
   "id": "017db353",
   "metadata": {},
   "source": [
    "#### 1. Import the numpy package under the name `np` (★☆☆)"
   ]
  },
  {
   "cell_type": "code",
   "execution_count": 4,
   "id": "68182a76",
   "metadata": {},
   "outputs": [],
   "source": [
    "import numpy as np"
   ]
  },
  {
   "cell_type": "markdown",
   "id": "46950f4f",
   "metadata": {},
   "source": [
    "#### 2. Print the numpy version and the configuration (★☆☆)"
   ]
  },
  {
   "cell_type": "code",
   "execution_count": 5,
   "id": "2a9f5838",
   "metadata": {},
   "outputs": [
    {
     "name": "stdout",
     "output_type": "stream",
     "text": [
      "1.20.1\n",
      "blas_mkl_info:\n",
      "    libraries = ['mkl_rt']\n",
      "    library_dirs = ['C:/Users/Kate/anaconda\\\\Library\\\\lib']\n",
      "    define_macros = [('SCIPY_MKL_H', None), ('HAVE_CBLAS', None)]\n",
      "    include_dirs = ['C:/Users/Kate/anaconda\\\\Library\\\\include']\n",
      "blas_opt_info:\n",
      "    libraries = ['mkl_rt']\n",
      "    library_dirs = ['C:/Users/Kate/anaconda\\\\Library\\\\lib']\n",
      "    define_macros = [('SCIPY_MKL_H', None), ('HAVE_CBLAS', None)]\n",
      "    include_dirs = ['C:/Users/Kate/anaconda\\\\Library\\\\include']\n",
      "lapack_mkl_info:\n",
      "    libraries = ['mkl_rt']\n",
      "    library_dirs = ['C:/Users/Kate/anaconda\\\\Library\\\\lib']\n",
      "    define_macros = [('SCIPY_MKL_H', None), ('HAVE_CBLAS', None)]\n",
      "    include_dirs = ['C:/Users/Kate/anaconda\\\\Library\\\\include']\n",
      "lapack_opt_info:\n",
      "    libraries = ['mkl_rt']\n",
      "    library_dirs = ['C:/Users/Kate/anaconda\\\\Library\\\\lib']\n",
      "    define_macros = [('SCIPY_MKL_H', None), ('HAVE_CBLAS', None)]\n",
      "    include_dirs = ['C:/Users/Kate/anaconda\\\\Library\\\\include']\n"
     ]
    }
   ],
   "source": [
    "print(np.__version__)\n",
    "np.show_config()"
   ]
  },
  {
   "cell_type": "markdown",
   "id": "e3c20b3d",
   "metadata": {},
   "source": [
    "#### 3. Create a null vector of size 10 (★☆☆)"
   ]
  },
  {
   "cell_type": "code",
   "execution_count": 6,
   "id": "8a758bcf",
   "metadata": {},
   "outputs": [
    {
     "data": {
      "text/plain": [
       "array([0., 0., 0., 0., 0., 0., 0., 0., 0., 0.])"
      ]
     },
     "execution_count": 6,
     "metadata": {},
     "output_type": "execute_result"
    }
   ],
   "source": [
    "np.zeros(10)"
   ]
  },
  {
   "cell_type": "markdown",
   "id": "b15a879f",
   "metadata": {},
   "source": [
    "#### 4. How to find the memory size of any array (★☆☆)"
   ]
  },
  {
   "cell_type": "code",
   "execution_count": 7,
   "id": "1cc3cbc5",
   "metadata": {},
   "outputs": [
    {
     "name": "stdout",
     "output_type": "stream",
     "text": [
      "800 bytes\n"
     ]
    }
   ],
   "source": [
    "Z = np.zeros((10,10))\n",
    "print(\"%d bytes\" % (Z.size * Z.itemsize))"
   ]
  },
  {
   "cell_type": "markdown",
   "id": "0a708990",
   "metadata": {},
   "source": [
    "#### 5. How to get the documentation of the numpy add function from the command line? (★☆☆)"
   ]
  },
  {
   "cell_type": "code",
   "execution_count": 9,
   "id": "477e01f4",
   "metadata": {},
   "outputs": [
    {
     "ename": "Exception",
     "evalue": "File `'`python.py'` not found.",
     "output_type": "error",
     "traceback": [
      "\u001b[1;31m---------------------------------------------------------------------------\u001b[0m",
      "\u001b[1;31mOSError\u001b[0m                                   Traceback (most recent call last)",
      "\u001b[1;32m~\\anaconda\\lib\\site-packages\\IPython\\core\\magics\\execution.py\u001b[0m in \u001b[0;36mrun\u001b[1;34m(self, parameter_s, runner, file_finder)\u001b[0m\n\u001b[0;32m    702\u001b[0m             \u001b[0mfpath\u001b[0m \u001b[1;33m=\u001b[0m \u001b[0marg_lst\u001b[0m\u001b[1;33m[\u001b[0m\u001b[1;36m0\u001b[0m\u001b[1;33m]\u001b[0m\u001b[1;33m\u001b[0m\u001b[1;33m\u001b[0m\u001b[0m\n\u001b[1;32m--> 703\u001b[1;33m             \u001b[0mfilename\u001b[0m \u001b[1;33m=\u001b[0m \u001b[0mfile_finder\u001b[0m\u001b[1;33m(\u001b[0m\u001b[0mfpath\u001b[0m\u001b[1;33m)\u001b[0m\u001b[1;33m\u001b[0m\u001b[1;33m\u001b[0m\u001b[0m\n\u001b[0m\u001b[0;32m    704\u001b[0m         \u001b[1;32mexcept\u001b[0m \u001b[0mIndexError\u001b[0m\u001b[1;33m:\u001b[0m\u001b[1;33m\u001b[0m\u001b[1;33m\u001b[0m\u001b[0m\n",
      "\u001b[1;32m~\\anaconda\\lib\\site-packages\\IPython\\utils\\path.py\u001b[0m in \u001b[0;36mget_py_filename\u001b[1;34m(name, force_win32)\u001b[0m\n\u001b[0;32m    108\u001b[0m     \u001b[1;32melse\u001b[0m\u001b[1;33m:\u001b[0m\u001b[1;33m\u001b[0m\u001b[1;33m\u001b[0m\u001b[0m\n\u001b[1;32m--> 109\u001b[1;33m         \u001b[1;32mraise\u001b[0m \u001b[0mIOError\u001b[0m\u001b[1;33m(\u001b[0m\u001b[1;34m'File `%r` not found.'\u001b[0m \u001b[1;33m%\u001b[0m \u001b[0mname\u001b[0m\u001b[1;33m)\u001b[0m\u001b[1;33m\u001b[0m\u001b[1;33m\u001b[0m\u001b[0m\n\u001b[0m\u001b[0;32m    110\u001b[0m \u001b[1;33m\u001b[0m\u001b[0m\n",
      "\u001b[1;31mOSError\u001b[0m: File `'`python.py'` not found.",
      "\nDuring handling of the above exception, another exception occurred:\n",
      "\u001b[1;31mException\u001b[0m                                 Traceback (most recent call last)",
      "\u001b[1;32m<ipython-input-9-1b6c1f3126d2>\u001b[0m in \u001b[0;36m<module>\u001b[1;34m\u001b[0m\n\u001b[0;32m      1\u001b[0m \u001b[1;31m# ?????\u001b[0m\u001b[1;33m\u001b[0m\u001b[1;33m\u001b[0m\u001b[1;33m\u001b[0m\u001b[0m\n\u001b[0;32m      2\u001b[0m \u001b[1;33m\u001b[0m\u001b[0m\n\u001b[1;32m----> 3\u001b[1;33m \u001b[0mget_ipython\u001b[0m\u001b[1;33m(\u001b[0m\u001b[1;33m)\u001b[0m\u001b[1;33m.\u001b[0m\u001b[0mrun_line_magic\u001b[0m\u001b[1;33m(\u001b[0m\u001b[1;34m'run'\u001b[0m\u001b[1;33m,\u001b[0m \u001b[1;34m'`python -c \"import numpy; numpy.info(numpy.add)\"`'\u001b[0m\u001b[1;33m)\u001b[0m\u001b[1;33m\u001b[0m\u001b[1;33m\u001b[0m\u001b[0m\n\u001b[0m",
      "\u001b[1;32m~\\anaconda\\lib\\site-packages\\IPython\\core\\interactiveshell.py\u001b[0m in \u001b[0;36mrun_line_magic\u001b[1;34m(self, magic_name, line, _stack_depth)\u001b[0m\n\u001b[0;32m   2342\u001b[0m                 \u001b[0mkwargs\u001b[0m\u001b[1;33m[\u001b[0m\u001b[1;34m'local_ns'\u001b[0m\u001b[1;33m]\u001b[0m \u001b[1;33m=\u001b[0m \u001b[0mself\u001b[0m\u001b[1;33m.\u001b[0m\u001b[0mget_local_scope\u001b[0m\u001b[1;33m(\u001b[0m\u001b[0mstack_depth\u001b[0m\u001b[1;33m)\u001b[0m\u001b[1;33m\u001b[0m\u001b[1;33m\u001b[0m\u001b[0m\n\u001b[0;32m   2343\u001b[0m             \u001b[1;32mwith\u001b[0m \u001b[0mself\u001b[0m\u001b[1;33m.\u001b[0m\u001b[0mbuiltin_trap\u001b[0m\u001b[1;33m:\u001b[0m\u001b[1;33m\u001b[0m\u001b[1;33m\u001b[0m\u001b[0m\n\u001b[1;32m-> 2344\u001b[1;33m                 \u001b[0mresult\u001b[0m \u001b[1;33m=\u001b[0m \u001b[0mfn\u001b[0m\u001b[1;33m(\u001b[0m\u001b[1;33m*\u001b[0m\u001b[0margs\u001b[0m\u001b[1;33m,\u001b[0m \u001b[1;33m**\u001b[0m\u001b[0mkwargs\u001b[0m\u001b[1;33m)\u001b[0m\u001b[1;33m\u001b[0m\u001b[1;33m\u001b[0m\u001b[0m\n\u001b[0m\u001b[0;32m   2345\u001b[0m             \u001b[1;32mreturn\u001b[0m \u001b[0mresult\u001b[0m\u001b[1;33m\u001b[0m\u001b[1;33m\u001b[0m\u001b[0m\n\u001b[0;32m   2346\u001b[0m \u001b[1;33m\u001b[0m\u001b[0m\n",
      "\u001b[1;32m~\\anaconda\\lib\\site-packages\\decorator.py\u001b[0m in \u001b[0;36mfun\u001b[1;34m(*args, **kw)\u001b[0m\n\u001b[0;32m    229\u001b[0m             \u001b[1;32mif\u001b[0m \u001b[1;32mnot\u001b[0m \u001b[0mkwsyntax\u001b[0m\u001b[1;33m:\u001b[0m\u001b[1;33m\u001b[0m\u001b[1;33m\u001b[0m\u001b[0m\n\u001b[0;32m    230\u001b[0m                 \u001b[0margs\u001b[0m\u001b[1;33m,\u001b[0m \u001b[0mkw\u001b[0m \u001b[1;33m=\u001b[0m \u001b[0mfix\u001b[0m\u001b[1;33m(\u001b[0m\u001b[0margs\u001b[0m\u001b[1;33m,\u001b[0m \u001b[0mkw\u001b[0m\u001b[1;33m,\u001b[0m \u001b[0msig\u001b[0m\u001b[1;33m)\u001b[0m\u001b[1;33m\u001b[0m\u001b[1;33m\u001b[0m\u001b[0m\n\u001b[1;32m--> 231\u001b[1;33m             \u001b[1;32mreturn\u001b[0m \u001b[0mcaller\u001b[0m\u001b[1;33m(\u001b[0m\u001b[0mfunc\u001b[0m\u001b[1;33m,\u001b[0m \u001b[1;33m*\u001b[0m\u001b[1;33m(\u001b[0m\u001b[0mextras\u001b[0m \u001b[1;33m+\u001b[0m \u001b[0margs\u001b[0m\u001b[1;33m)\u001b[0m\u001b[1;33m,\u001b[0m \u001b[1;33m**\u001b[0m\u001b[0mkw\u001b[0m\u001b[1;33m)\u001b[0m\u001b[1;33m\u001b[0m\u001b[1;33m\u001b[0m\u001b[0m\n\u001b[0m\u001b[0;32m    232\u001b[0m     \u001b[0mfun\u001b[0m\u001b[1;33m.\u001b[0m\u001b[0m__name__\u001b[0m \u001b[1;33m=\u001b[0m \u001b[0mfunc\u001b[0m\u001b[1;33m.\u001b[0m\u001b[0m__name__\u001b[0m\u001b[1;33m\u001b[0m\u001b[1;33m\u001b[0m\u001b[0m\n\u001b[0;32m    233\u001b[0m     \u001b[0mfun\u001b[0m\u001b[1;33m.\u001b[0m\u001b[0m__doc__\u001b[0m \u001b[1;33m=\u001b[0m \u001b[0mfunc\u001b[0m\u001b[1;33m.\u001b[0m\u001b[0m__doc__\u001b[0m\u001b[1;33m\u001b[0m\u001b[1;33m\u001b[0m\u001b[0m\n",
      "\u001b[1;32m~\\anaconda\\lib\\site-packages\\IPython\\core\\magic.py\u001b[0m in \u001b[0;36m<lambda>\u001b[1;34m(f, *a, **k)\u001b[0m\n\u001b[0;32m    185\u001b[0m     \u001b[1;31m# but it's overkill for just that one bit of state.\u001b[0m\u001b[1;33m\u001b[0m\u001b[1;33m\u001b[0m\u001b[1;33m\u001b[0m\u001b[0m\n\u001b[0;32m    186\u001b[0m     \u001b[1;32mdef\u001b[0m \u001b[0mmagic_deco\u001b[0m\u001b[1;33m(\u001b[0m\u001b[0marg\u001b[0m\u001b[1;33m)\u001b[0m\u001b[1;33m:\u001b[0m\u001b[1;33m\u001b[0m\u001b[1;33m\u001b[0m\u001b[0m\n\u001b[1;32m--> 187\u001b[1;33m         \u001b[0mcall\u001b[0m \u001b[1;33m=\u001b[0m \u001b[1;32mlambda\u001b[0m \u001b[0mf\u001b[0m\u001b[1;33m,\u001b[0m \u001b[1;33m*\u001b[0m\u001b[0ma\u001b[0m\u001b[1;33m,\u001b[0m \u001b[1;33m**\u001b[0m\u001b[0mk\u001b[0m\u001b[1;33m:\u001b[0m \u001b[0mf\u001b[0m\u001b[1;33m(\u001b[0m\u001b[1;33m*\u001b[0m\u001b[0ma\u001b[0m\u001b[1;33m,\u001b[0m \u001b[1;33m**\u001b[0m\u001b[0mk\u001b[0m\u001b[1;33m)\u001b[0m\u001b[1;33m\u001b[0m\u001b[1;33m\u001b[0m\u001b[0m\n\u001b[0m\u001b[0;32m    188\u001b[0m \u001b[1;33m\u001b[0m\u001b[0m\n\u001b[0;32m    189\u001b[0m         \u001b[1;32mif\u001b[0m \u001b[0mcallable\u001b[0m\u001b[1;33m(\u001b[0m\u001b[0marg\u001b[0m\u001b[1;33m)\u001b[0m\u001b[1;33m:\u001b[0m\u001b[1;33m\u001b[0m\u001b[1;33m\u001b[0m\u001b[0m\n",
      "\u001b[1;32m~\\anaconda\\lib\\site-packages\\IPython\\core\\magics\\execution.py\u001b[0m in \u001b[0;36mrun\u001b[1;34m(self, parameter_s, runner, file_finder)\u001b[0m\n\u001b[0;32m    712\u001b[0m             \u001b[1;32mif\u001b[0m \u001b[0mos\u001b[0m\u001b[1;33m.\u001b[0m\u001b[0mname\u001b[0m \u001b[1;33m==\u001b[0m \u001b[1;34m'nt'\u001b[0m \u001b[1;32mand\u001b[0m \u001b[0mre\u001b[0m\u001b[1;33m.\u001b[0m\u001b[0mmatch\u001b[0m\u001b[1;33m(\u001b[0m\u001b[1;34mr\"^'.*'$\"\u001b[0m\u001b[1;33m,\u001b[0m\u001b[0mfpath\u001b[0m\u001b[1;33m)\u001b[0m\u001b[1;33m:\u001b[0m\u001b[1;33m\u001b[0m\u001b[1;33m\u001b[0m\u001b[0m\n\u001b[0;32m    713\u001b[0m                 \u001b[0mwarn\u001b[0m\u001b[1;33m(\u001b[0m\u001b[1;34m'For Windows, use double quotes to wrap a filename: %run \"mypath\\\\myfile.py\"'\u001b[0m\u001b[1;33m)\u001b[0m\u001b[1;33m\u001b[0m\u001b[1;33m\u001b[0m\u001b[0m\n\u001b[1;32m--> 714\u001b[1;33m             \u001b[1;32mraise\u001b[0m \u001b[0mException\u001b[0m\u001b[1;33m(\u001b[0m\u001b[0mmsg\u001b[0m\u001b[1;33m)\u001b[0m\u001b[1;33m\u001b[0m\u001b[1;33m\u001b[0m\u001b[0m\n\u001b[0m\u001b[0;32m    715\u001b[0m         \u001b[1;32mexcept\u001b[0m \u001b[0mTypeError\u001b[0m\u001b[1;33m:\u001b[0m\u001b[1;33m\u001b[0m\u001b[1;33m\u001b[0m\u001b[0m\n\u001b[0;32m    716\u001b[0m             \u001b[1;32mif\u001b[0m \u001b[0mfpath\u001b[0m \u001b[1;32min\u001b[0m \u001b[0msys\u001b[0m\u001b[1;33m.\u001b[0m\u001b[0mmeta_path\u001b[0m\u001b[1;33m:\u001b[0m\u001b[1;33m\u001b[0m\u001b[1;33m\u001b[0m\u001b[0m\n",
      "\u001b[1;31mException\u001b[0m: File `'`python.py'` not found."
     ]
    }
   ],
   "source": [
    "# ?????\n",
    "\n",
    "%run `python -c \"import numpy; numpy.info(numpy.add)\"`\n"
   ]
  },
  {
   "cell_type": "markdown",
   "id": "0b16cd77",
   "metadata": {},
   "source": [
    "#### 6. Create a null vector of size 10 but the fifth value which is 1 (★☆☆)"
   ]
  },
  {
   "cell_type": "code",
   "execution_count": 10,
   "id": "4d9b5975",
   "metadata": {},
   "outputs": [
    {
     "data": {
      "text/plain": [
       "array([0., 0., 0., 0., 1., 0., 0., 0., 0., 0.])"
      ]
     },
     "execution_count": 10,
     "metadata": {},
     "output_type": "execute_result"
    }
   ],
   "source": [
    "X=np.zeros(10) # null vector of size 10\n",
    "\n",
    "X[4]=1       # fifth value is index [4]\n",
    "X"
   ]
  },
  {
   "cell_type": "markdown",
   "id": "782d4c77",
   "metadata": {},
   "source": [
    "#### 7. Create a vector with values ranging from 10 to 49 (★☆☆)"
   ]
  },
  {
   "cell_type": "code",
   "execution_count": 11,
   "id": "5dbe1a08",
   "metadata": {},
   "outputs": [
    {
     "data": {
      "text/plain": [
       "array([10, 11, 12, 13, 14, 15, 16, 17, 18, 19, 20, 21, 22, 23, 24, 25, 26,\n",
       "       27, 28, 29, 30, 31, 32, 33, 34, 35, 36, 37, 38, 39, 40, 41, 42, 43,\n",
       "       44, 45, 46, 47, 48, 49])"
      ]
     },
     "execution_count": 11,
     "metadata": {},
     "output_type": "execute_result"
    }
   ],
   "source": [
    "Y=np.arange(10,50)\n",
    "Y"
   ]
  },
  {
   "cell_type": "markdown",
   "id": "48d48f01",
   "metadata": {},
   "source": [
    "#### 8. Reverse a vector (first element becomes last) (★☆☆)"
   ]
  },
  {
   "cell_type": "code",
   "execution_count": 17,
   "id": "3ed233e7",
   "metadata": {},
   "outputs": [
    {
     "data": {
      "text/plain": [
       "array([49, 48, 47, 46, 45, 44, 43, 42, 41, 40, 39, 38, 37, 36, 35, 34, 33,\n",
       "       32, 31, 30, 29, 28, 27, 26, 25, 24, 23, 22, 21, 20, 19, 18, 17, 16,\n",
       "       15, 14, 13, 12, 11, 10])"
      ]
     },
     "execution_count": 17,
     "metadata": {},
     "output_type": "execute_result"
    }
   ],
   "source": [
    "Y[::-1]"
   ]
  },
  {
   "cell_type": "markdown",
   "id": "4fa39382",
   "metadata": {},
   "source": [
    "#### 9. Create a 3x3 matrix with values ranging from 0 to 8 (★☆☆)"
   ]
  },
  {
   "cell_type": "code",
   "execution_count": 13,
   "id": "c97757ec",
   "metadata": {},
   "outputs": [
    {
     "data": {
      "text/plain": [
       "array([[7, 1, 1],\n",
       "       [0, 2, 7],\n",
       "       [6, 4, 2]])"
      ]
     },
     "execution_count": 13,
     "metadata": {},
     "output_type": "execute_result"
    }
   ],
   "source": [
    "np.random.randint(0,9,(3,3))"
   ]
  },
  {
   "cell_type": "code",
   "execution_count": 14,
   "id": "e57db9d6",
   "metadata": {},
   "outputs": [
    {
     "data": {
      "text/plain": [
       "array([[0, 1, 2],\n",
       "       [3, 4, 5],\n",
       "       [6, 7, 8]])"
      ]
     },
     "execution_count": 14,
     "metadata": {},
     "output_type": "execute_result"
    }
   ],
   "source": [
    "np.arange(9).reshape(3,3)"
   ]
  },
  {
   "cell_type": "markdown",
   "id": "da64551a",
   "metadata": {},
   "source": [
    "#### 10. Find indices of non-zero elements from [1,2,0,0,4,0] (★☆☆)"
   ]
  },
  {
   "cell_type": "code",
   "execution_count": 19,
   "id": "327f7adb",
   "metadata": {},
   "outputs": [
    {
     "name": "stdout",
     "output_type": "stream",
     "text": [
      "[1 2 0 0 4 0]\n",
      "[1 2 0 0 4 0]\n",
      "[1 2 0 0 4 0]\n",
      "[1 2 0 0 4 0]\n",
      "[1 2 0 0 4 0]\n"
     ]
    }
   ],
   "source": [
    "A=np.array([1,2,0,0,4,0])\n",
    "\n",
    "for i in A:\n",
    "    if A[i]==0:\n",
    "        pass\n",
    "    else:\n",
    "        print(A)"
   ]
  },
  {
   "cell_type": "code",
   "execution_count": 24,
   "id": "b00d8785",
   "metadata": {},
   "outputs": [
    {
     "name": "stdout",
     "output_type": "stream",
     "text": [
      "(array([0, 1, 4], dtype=int64),)\n"
     ]
    }
   ],
   "source": [
    "A=np.nonzero([1,2,0,0,4,0])\n",
    "print(A)"
   ]
  },
  {
   "cell_type": "markdown",
   "id": "f89d9c9e",
   "metadata": {},
   "source": [
    "#### 11. Create a 3x3 identity matrix (★☆☆)"
   ]
  },
  {
   "cell_type": "code",
   "execution_count": 26,
   "id": "ba625832",
   "metadata": {},
   "outputs": [
    {
     "data": {
      "text/plain": [
       "array([[1., 0., 0., 0., 0.],\n",
       "       [0., 1., 0., 0., 0.],\n",
       "       [0., 0., 1., 0., 0.],\n",
       "       [0., 0., 0., 1., 0.],\n",
       "       [0., 0., 0., 0., 1.]])"
      ]
     },
     "execution_count": 26,
     "metadata": {},
     "output_type": "execute_result"
    }
   ],
   "source": [
    "np.eye(5,5)"
   ]
  },
  {
   "cell_type": "markdown",
   "id": "7e44c6fa",
   "metadata": {},
   "source": [
    "#### 12. Create a 3x3x3 array with random values (★☆☆)"
   ]
  },
  {
   "cell_type": "code",
   "execution_count": 27,
   "id": "1cb3dddf",
   "metadata": {},
   "outputs": [
    {
     "ename": "TypeError",
     "evalue": "'module' object is not callable",
     "output_type": "error",
     "traceback": [
      "\u001b[1;31m---------------------------------------------------------------------------\u001b[0m",
      "\u001b[1;31mTypeError\u001b[0m                                 Traceback (most recent call last)",
      "\u001b[1;32m<ipython-input-27-bd250816000a>\u001b[0m in \u001b[0;36m<module>\u001b[1;34m\u001b[0m\n\u001b[1;32m----> 1\u001b[1;33m \u001b[0mnp\u001b[0m\u001b[1;33m.\u001b[0m\u001b[0mrandom\u001b[0m\u001b[1;33m(\u001b[0m\u001b[1;33m(\u001b[0m\u001b[1;36m3\u001b[0m\u001b[1;33m,\u001b[0m\u001b[1;36m3\u001b[0m\u001b[1;33m,\u001b[0m\u001b[1;36m3\u001b[0m\u001b[1;33m)\u001b[0m\u001b[1;33m)\u001b[0m\u001b[1;33m\u001b[0m\u001b[1;33m\u001b[0m\u001b[0m\n\u001b[0m",
      "\u001b[1;31mTypeError\u001b[0m: 'module' object is not callable"
     ]
    }
   ],
   "source": [
    "np.random((3,3,3))  # creates an error"
   ]
  },
  {
   "cell_type": "code",
   "execution_count": 28,
   "id": "9ac187d9",
   "metadata": {},
   "outputs": [
    {
     "data": {
      "text/plain": [
       "array([[[0.03467045, 0.81409897, 0.09537364],\n",
       "        [0.08682673, 0.9653573 , 0.60259142],\n",
       "        [0.60324949, 0.43602218, 0.63023178]],\n",
       "\n",
       "       [[0.82156298, 0.223501  , 0.12696972],\n",
       "        [0.29178721, 0.70046462, 0.2500016 ],\n",
       "        [0.97620288, 0.85230364, 0.442652  ]],\n",
       "\n",
       "       [[0.01702372, 0.71401146, 0.41312658],\n",
       "        [0.66092592, 0.95704764, 0.93188199],\n",
       "        [0.41518701, 0.23329279, 0.13278491]]])"
      ]
     },
     "execution_count": 28,
     "metadata": {},
     "output_type": "execute_result"
    }
   ],
   "source": [
    "np.random.random((3,3,3))  #np.random.random is correct"
   ]
  },
  {
   "cell_type": "markdown",
   "id": "13c5928c",
   "metadata": {},
   "source": [
    "#### 13. Create a 10x10 array with random values and find the minimum and maximum values (★☆☆)"
   ]
  },
  {
   "cell_type": "code",
   "execution_count": 29,
   "id": "911c9b93",
   "metadata": {},
   "outputs": [
    {
     "data": {
      "text/plain": [
       "array([[0.2103033 , 0.66173597, 0.77084771, 0.1914918 , 0.83720716,\n",
       "        0.525685  , 0.49756155, 0.31447581, 0.04870868, 0.45612549],\n",
       "       [0.56082256, 0.83313064, 0.78271741, 0.62927346, 0.21493547,\n",
       "        0.20999036, 0.68534732, 0.91138056, 0.21591866, 0.96740099],\n",
       "       [0.87042175, 0.84055955, 0.03408535, 0.44410722, 0.8640064 ,\n",
       "        0.96619201, 0.64893904, 0.97786938, 0.11587402, 0.99373691],\n",
       "       [0.73346189, 0.7436967 , 0.67430268, 0.04077506, 0.88209039,\n",
       "        0.64714624, 0.12704132, 0.81621573, 0.82616068, 0.91550662],\n",
       "       [0.6138821 , 0.06419128, 0.68307278, 0.55377113, 0.64858086,\n",
       "        0.19422468, 0.84827773, 0.78300904, 0.77577452, 0.20572351],\n",
       "       [0.7102882 , 0.42197103, 0.5496415 , 0.4303798 , 0.93247934,\n",
       "        0.68111013, 0.46853888, 0.58421818, 0.33829851, 0.67976919],\n",
       "       [0.5878889 , 0.88269967, 0.7359378 , 0.14005874, 0.69455232,\n",
       "        0.9210304 , 0.46438173, 0.19533822, 0.88743571, 0.7624405 ],\n",
       "       [0.23299548, 0.32411129, 0.1550345 , 0.21215367, 0.12980463,\n",
       "        0.81911566, 0.59044353, 0.35011323, 0.7555419 , 0.39017372],\n",
       "       [0.07829301, 0.93447877, 0.94377972, 0.90966016, 0.50871469,\n",
       "        0.59485099, 0.30622529, 0.86293545, 0.64575215, 0.18367394],\n",
       "       [0.95307573, 0.85524912, 0.31338979, 0.10401289, 0.49986647,\n",
       "        0.03711894, 0.41984403, 0.92320286, 0.89443212, 0.33567964]])"
      ]
     },
     "execution_count": 29,
     "metadata": {},
     "output_type": "execute_result"
    }
   ],
   "source": [
    "S=np.random.random((10,10))\n",
    "S"
   ]
  },
  {
   "cell_type": "code",
   "execution_count": 30,
   "id": "bb4ceb32",
   "metadata": {},
   "outputs": [
    {
     "name": "stdout",
     "output_type": "stream",
     "text": [
      "0.03408534990249035 0.9937369090579259\n"
     ]
    }
   ],
   "source": [
    "Smin, Smax=S.min(), S.max()\n",
    "print(Smin, Smax)"
   ]
  },
  {
   "cell_type": "markdown",
   "id": "3fa2e461",
   "metadata": {},
   "source": [
    "#### 14. Create a random vector of size 30 and find the mean value (★☆☆)"
   ]
  },
  {
   "cell_type": "code",
   "execution_count": 50,
   "id": "323eb38a",
   "metadata": {},
   "outputs": [
    {
     "data": {
      "text/plain": [
       "0.45795326062647845"
      ]
     },
     "execution_count": 50,
     "metadata": {},
     "output_type": "execute_result"
    }
   ],
   "source": [
    "X=np.random.random(30)  # prints 30 values between 0 and 1\n",
    "\n",
    "Y=X.sum()/len(X)  # mean of all values in X\n",
    "Y\n",
    "\n",
    "# try to change the vector size to 1000 and see how the mean gets close to 0.5"
   ]
  },
  {
   "cell_type": "code",
   "execution_count": 57,
   "id": "3b821fe8",
   "metadata": {},
   "outputs": [
    {
     "data": {
      "text/plain": [
       "0.43931872804782396"
      ]
     },
     "execution_count": 57,
     "metadata": {},
     "output_type": "execute_result"
    }
   ],
   "source": [
    "X=np.random.random(30)\n",
    "X.mean()"
   ]
  },
  {
   "cell_type": "markdown",
   "id": "73f7a549",
   "metadata": {},
   "source": [
    "#### 15. Create a 2d array with 1 on the border and 0 inside (★☆☆)"
   ]
  },
  {
   "cell_type": "code",
   "execution_count": 57,
   "id": "e3a6807d",
   "metadata": {},
   "outputs": [
    {
     "data": {
      "text/plain": [
       "array([[1., 1., 1., 1., 1., 1., 1., 1., 1., 1.],\n",
       "       [1., 0., 0., 0., 0., 0., 0., 0., 0., 1.],\n",
       "       [1., 0., 0., 0., 0., 0., 0., 0., 0., 1.],\n",
       "       [1., 0., 0., 0., 0., 0., 0., 0., 0., 1.],\n",
       "       [1., 0., 0., 0., 0., 0., 0., 0., 0., 1.],\n",
       "       [1., 0., 0., 0., 0., 0., 0., 0., 0., 1.],\n",
       "       [1., 0., 0., 0., 0., 0., 0., 0., 0., 1.],\n",
       "       [1., 0., 0., 0., 0., 0., 0., 0., 0., 1.],\n",
       "       [1., 0., 0., 0., 0., 0., 0., 0., 0., 1.],\n",
       "       [1., 1., 1., 1., 1., 1., 1., 1., 1., 1.]])"
      ]
     },
     "execution_count": 57,
     "metadata": {},
     "output_type": "execute_result"
    }
   ],
   "source": [
    "W= np.ones((10,10))  #2D array\n",
    "W[1:9, 1:9]=0\n",
    "W"
   ]
  },
  {
   "cell_type": "markdown",
   "id": "6d0c506f",
   "metadata": {},
   "source": [
    "#### 16. How to add a border (filled with 0's) around an existing array? (★☆☆)"
   ]
  },
  {
   "cell_type": "code",
   "execution_count": 62,
   "id": "0a70ac57",
   "metadata": {},
   "outputs": [
    {
     "name": "stdout",
     "output_type": "stream",
     "text": [
      "[[0. 0. 0. 0. 0. 0. 0. 0. 0. 0.]\n",
      " [0. 0. 0. 0. 0. 0. 0. 0. 0. 0.]\n",
      " [0. 0. 0. 0. 0. 0. 0. 0. 0. 0.]\n",
      " [0. 0. 0. 0. 0. 0. 0. 0. 0. 0.]\n",
      " [0. 0. 0. 0. 0. 0. 0. 0. 0. 0.]\n",
      " [0. 0. 0. 0. 0. 0. 0. 0. 0. 0.]\n",
      " [0. 0. 0. 0. 0. 0. 0. 0. 0. 0.]\n",
      " [0. 0. 0. 0. 0. 0. 0. 0. 0. 0.]\n",
      " [0. 0. 0. 0. 0. 0. 0. 0. 0. 0.]\n",
      " [0. 0. 0. 0. 0. 0. 0. 0. 0. 0.]]\n"
     ]
    }
   ],
   "source": [
    "W[:, [0, -1]] = 0\n",
    "W[[0, -1], :] = 0\n",
    "print(W)"
   ]
  },
  {
   "cell_type": "code",
   "execution_count": 60,
   "id": "32ffee7b",
   "metadata": {},
   "outputs": [
    {
     "name": "stdout",
     "output_type": "stream",
     "text": [
      "[[0. 0. 0. 0. 0. 0. 0.]\n",
      " [0. 1. 1. 1. 1. 1. 0.]\n",
      " [0. 1. 1. 1. 1. 1. 0.]\n",
      " [0. 1. 1. 1. 1. 1. 0.]\n",
      " [0. 1. 1. 1. 1. 1. 0.]\n",
      " [0. 1. 1. 1. 1. 1. 0.]\n",
      " [0. 0. 0. 0. 0. 0. 0.]]\n"
     ]
    }
   ],
   "source": [
    "Z = np.ones((5,5))\n",
    "Z = np.pad(Z, pad_width=1, mode='constant', constant_values=0)\n",
    "print(Z)"
   ]
  },
  {
   "cell_type": "markdown",
   "id": "d6ad1a9f",
   "metadata": {},
   "source": [
    "#### 17. What is the result of the following expression? (★☆☆)\n",
    "```python\n",
    "0 * np.nan\n",
    "np.nan == np.nan\n",
    "np.inf > np.nan\n",
    "np.nan - np.nan\n",
    "np.nan in set([np.nan])\n",
    "0.3 == 3 * 0.1\n",
    "```"
   ]
  },
  {
   "cell_type": "code",
   "execution_count": 62,
   "id": "ee7ff0f3",
   "metadata": {},
   "outputs": [
    {
     "name": "stdout",
     "output_type": "stream",
     "text": [
      "nan\n",
      "False\n",
      "False\n",
      "nan\n",
      "True\n",
      "False\n"
     ]
    }
   ],
   "source": [
    "print(0 * np.nan)\n",
    "print(np.nan == np.nan)\n",
    "print(np.inf < np.nan)\n",
    "print(np.nan - np.nan)\n",
    "print(np.nan in set([np.nan]))\n",
    "print(0.3 == 3 * 0.1)"
   ]
  },
  {
   "cell_type": "markdown",
   "id": "e3a7ba7f",
   "metadata": {},
   "source": [
    "#### 18. Create a 5x5 matrix with values 1,2,3,4 just below the diagonal (★☆☆)"
   ]
  },
  {
   "cell_type": "code",
   "execution_count": 67,
   "id": "01d8e257",
   "metadata": {},
   "outputs": [
    {
     "name": "stdout",
     "output_type": "stream",
     "text": [
      "[[0 0 0 0 0]\n",
      " [1 0 0 0 0]\n",
      " [0 2 0 0 0]\n",
      " [0 0 3 0 0]\n",
      " [0 0 0 4 0]]\n"
     ]
    }
   ],
   "source": [
    "Z = np.diag(1+np.arange(4), k=-1)\n",
    "print(Z)"
   ]
  },
  {
   "cell_type": "markdown",
   "id": "6d17ab5d",
   "metadata": {},
   "source": [
    "#### 19. Create a 8x8 matrix and fill it with a checkerboard pattern (★☆☆)"
   ]
  },
  {
   "cell_type": "code",
   "execution_count": 69,
   "id": "841373cd",
   "metadata": {},
   "outputs": [
    {
     "name": "stdout",
     "output_type": "stream",
     "text": [
      "[[0 1 0 1 0 1 0 1]\n",
      " [1 0 1 0 1 0 1 0]\n",
      " [0 1 0 1 0 1 0 1]\n",
      " [1 0 1 0 1 0 1 0]\n",
      " [0 1 0 1 0 1 0 1]\n",
      " [1 0 1 0 1 0 1 0]\n",
      " [0 1 0 1 0 1 0 1]\n",
      " [1 0 1 0 1 0 1 0]]\n"
     ]
    }
   ],
   "source": [
    "Z = np.zeros((8,8),dtype=int)\n",
    "Z[1::2,::2] = 1\n",
    "Z[::2,1::2] = 1\n",
    "print(Z)"
   ]
  },
  {
   "cell_type": "markdown",
   "id": "8837119b",
   "metadata": {},
   "source": [
    "#### 20. Consider a (6,7,8) shape array, what is the index (x,y,z) of the 100th element? (★☆☆)"
   ]
  },
  {
   "cell_type": "code",
   "execution_count": 71,
   "id": "381eedf2",
   "metadata": {},
   "outputs": [
    {
     "data": {
      "text/plain": [
       "array([[[  0,   1,   2,   3,   4,   5,   6,   7],\n",
       "        [  8,   9,  10,  11,  12,  13,  14,  15],\n",
       "        [ 16,  17,  18,  19,  20,  21,  22,  23],\n",
       "        [ 24,  25,  26,  27,  28,  29,  30,  31],\n",
       "        [ 32,  33,  34,  35,  36,  37,  38,  39],\n",
       "        [ 40,  41,  42,  43,  44,  45,  46,  47],\n",
       "        [ 48,  49,  50,  51,  52,  53,  54,  55]],\n",
       "\n",
       "       [[ 56,  57,  58,  59,  60,  61,  62,  63],\n",
       "        [ 64,  65,  66,  67,  68,  69,  70,  71],\n",
       "        [ 72,  73,  74,  75,  76,  77,  78,  79],\n",
       "        [ 80,  81,  82,  83,  84,  85,  86,  87],\n",
       "        [ 88,  89,  90,  91,  92,  93,  94,  95],\n",
       "        [ 96,  97,  98,  99, 100, 101, 102, 103],\n",
       "        [104, 105, 106, 107, 108, 109, 110, 111]],\n",
       "\n",
       "       [[112, 113, 114, 115, 116, 117, 118, 119],\n",
       "        [120, 121, 122, 123, 124, 125, 126, 127],\n",
       "        [128, 129, 130, 131, 132, 133, 134, 135],\n",
       "        [136, 137, 138, 139, 140, 141, 142, 143],\n",
       "        [144, 145, 146, 147, 148, 149, 150, 151],\n",
       "        [152, 153, 154, 155, 156, 157, 158, 159],\n",
       "        [160, 161, 162, 163, 164, 165, 166, 167]],\n",
       "\n",
       "       [[168, 169, 170, 171, 172, 173, 174, 175],\n",
       "        [176, 177, 178, 179, 180, 181, 182, 183],\n",
       "        [184, 185, 186, 187, 188, 189, 190, 191],\n",
       "        [192, 193, 194, 195, 196, 197, 198, 199],\n",
       "        [200, 201, 202, 203, 204, 205, 206, 207],\n",
       "        [208, 209, 210, 211, 212, 213, 214, 215],\n",
       "        [216, 217, 218, 219, 220, 221, 222, 223]],\n",
       "\n",
       "       [[224, 225, 226, 227, 228, 229, 230, 231],\n",
       "        [232, 233, 234, 235, 236, 237, 238, 239],\n",
       "        [240, 241, 242, 243, 244, 245, 246, 247],\n",
       "        [248, 249, 250, 251, 252, 253, 254, 255],\n",
       "        [256, 257, 258, 259, 260, 261, 262, 263],\n",
       "        [264, 265, 266, 267, 268, 269, 270, 271],\n",
       "        [272, 273, 274, 275, 276, 277, 278, 279]],\n",
       "\n",
       "       [[280, 281, 282, 283, 284, 285, 286, 287],\n",
       "        [288, 289, 290, 291, 292, 293, 294, 295],\n",
       "        [296, 297, 298, 299, 300, 301, 302, 303],\n",
       "        [304, 305, 306, 307, 308, 309, 310, 311],\n",
       "        [312, 313, 314, 315, 316, 317, 318, 319],\n",
       "        [320, 321, 322, 323, 324, 325, 326, 327],\n",
       "        [328, 329, 330, 331, 332, 333, 334, 335]]])"
      ]
     },
     "execution_count": 71,
     "metadata": {},
     "output_type": "execute_result"
    }
   ],
   "source": [
    "np.arange(336).reshape(6,7,8) \n",
    "\n",
    "# what does (6,7,8) shape array mean?"
   ]
  },
  {
   "cell_type": "code",
   "execution_count": 72,
   "id": "2c0d16f1",
   "metadata": {},
   "outputs": [
    {
     "name": "stdout",
     "output_type": "stream",
     "text": [
      "(1, 5, 3)\n"
     ]
    }
   ],
   "source": [
    "print(np.unravel_index(99,(6,7,8)))"
   ]
  },
  {
   "cell_type": "markdown",
   "id": "ec788c9f",
   "metadata": {},
   "source": [
    "#### 21. Create a checkerboard 8x8 matrix using the tile function (★☆☆)"
   ]
  },
  {
   "cell_type": "code",
   "execution_count": 76,
   "id": "0a4f919f",
   "metadata": {},
   "outputs": [
    {
     "name": "stdout",
     "output_type": "stream",
     "text": [
      "[[0 1 0 1 0 1 0 1]\n",
      " [1 0 1 0 1 0 1 0]\n",
      " [0 1 0 1 0 1 0 1]\n",
      " [1 0 1 0 1 0 1 0]\n",
      " [0 1 0 1 0 1 0 1]\n",
      " [1 0 1 0 1 0 1 0]\n",
      " [0 1 0 1 0 1 0 1]\n",
      " [1 0 1 0 1 0 1 0]]\n"
     ]
    }
   ],
   "source": [
    "Z = np.tile( np.array([[0,1],[1,0]]), (4,4))  # 8x8 matrix\n",
    "print(Z)"
   ]
  },
  {
   "cell_type": "markdown",
   "id": "391791e0",
   "metadata": {},
   "source": [
    "#### 22. Normalize a 5x5 random matrix (★☆☆)"
   ]
  },
  {
   "cell_type": "code",
   "execution_count": 77,
   "id": "f6533d39",
   "metadata": {},
   "outputs": [
    {
     "name": "stdout",
     "output_type": "stream",
     "text": [
      "[[-1.27237261 -1.03021554 -1.69881078 -1.45348995 -1.40596032]\n",
      " [-1.20027453 -1.18679746 -1.00830511 -1.09606878 -1.49377986]\n",
      " [-1.04974107 -1.38824625 -1.72177283 -1.24126219 -1.69332481]\n",
      " [-1.27664152 -0.76163499 -1.20678899 -1.35578511 -1.33247467]\n",
      " [-1.41734    -1.46731221 -1.05099064 -1.71544251 -1.21872352]]\n"
     ]
    }
   ],
   "source": [
    "S=np.random.random((5,5))\n",
    "S=(S-np.mean(S)/np.std(S))\n",
    "print(S)"
   ]
  },
  {
   "cell_type": "markdown",
   "id": "1e74d39e",
   "metadata": {},
   "source": [
    "#### 23. Create a custom dtype that describes a color as four unsigned bytes (RGBA) (★☆☆)"
   ]
  },
  {
   "cell_type": "code",
   "execution_count": 78,
   "id": "3f639d33",
   "metadata": {},
   "outputs": [],
   "source": [
    "color = np.dtype([(\"r\", np.ubyte),\n",
    "                  (\"g\", np.ubyte),\n",
    "                  (\"b\", np.ubyte),\n",
    "                  (\"a\", np.ubyte)])"
   ]
  },
  {
   "cell_type": "markdown",
   "id": "78250c14",
   "metadata": {},
   "source": [
    "#### 24. Multiply a 5x3 matrix by a 3x2 matrix (real matrix product) (★☆☆)"
   ]
  },
  {
   "cell_type": "code",
   "execution_count": 80,
   "id": "9fe729cb",
   "metadata": {},
   "outputs": [
    {
     "data": {
      "text/plain": [
       "array([[3., 3.],\n",
       "       [3., 3.],\n",
       "       [3., 3.],\n",
       "       [3., 3.],\n",
       "       [3., 3.]])"
      ]
     },
     "execution_count": 80,
     "metadata": {},
     "output_type": "execute_result"
    }
   ],
   "source": [
    "A=np.ones((5,3))\n",
    "B=np.ones((3,2))\n",
    "A@B"
   ]
  },
  {
   "cell_type": "code",
   "execution_count": 84,
   "id": "75ddee9a",
   "metadata": {},
   "outputs": [
    {
     "data": {
      "text/plain": [
       "array([[3., 3.],\n",
       "       [3., 3.],\n",
       "       [3., 3.],\n",
       "       [3., 3.],\n",
       "       [3., 3.]])"
      ]
     },
     "execution_count": 84,
     "metadata": {},
     "output_type": "execute_result"
    }
   ],
   "source": [
    "C=A.dot(B)\n",
    "C"
   ]
  },
  {
   "cell_type": "markdown",
   "id": "51898680",
   "metadata": {},
   "source": [
    "#### 25. Given a 1D array, negate all elements which are between 3 and 8, in place. (★☆☆)"
   ]
  },
  {
   "cell_type": "code",
   "execution_count": 87,
   "id": "51c90f2d",
   "metadata": {},
   "outputs": [
    {
     "data": {
      "text/plain": [
       "array([7, 6, 5, 4])"
      ]
     },
     "execution_count": 87,
     "metadata": {},
     "output_type": "execute_result"
    }
   ],
   "source": [
    "R=np.arange(4,8)\n",
    "R[::-1]   # this is reversing"
   ]
  },
  {
   "cell_type": "code",
   "execution_count": 88,
   "id": "5ec280c7",
   "metadata": {},
   "outputs": [
    {
     "name": "stdout",
     "output_type": "stream",
     "text": [
      "[ 0  1  2  3 -4 -5 -6 -7  8  9 10]\n"
     ]
    }
   ],
   "source": [
    "# answer\n",
    "\n",
    "Z = np.arange(11)\n",
    "Z[(3 < Z) & (Z < 8)] *= -1\n",
    "print(Z)"
   ]
  },
  {
   "cell_type": "markdown",
   "id": "89e78048",
   "metadata": {},
   "source": [
    "#### 26. What is the output of the following script? (★☆☆)\n",
    "```python\n",
    "# Author: Jake VanderPlas\n",
    "\n",
    "print(sum(range(5),-1))\n",
    "from numpy import *\n",
    "print(sum(range(5),-1))\n",
    "```"
   ]
  },
  {
   "cell_type": "code",
   "execution_count": 89,
   "id": "b62e9d1c",
   "metadata": {},
   "outputs": [
    {
     "name": "stdout",
     "output_type": "stream",
     "text": [
      "9\n",
      "10\n"
     ]
    }
   ],
   "source": [
    "print(sum(range(5),-1))\n",
    "from numpy import *\n",
    "print(sum(range(5),-1))"
   ]
  },
  {
   "cell_type": "markdown",
   "id": "ebd10810",
   "metadata": {},
   "source": [
    "#### 27. Consider an integer vector Z, which of these expressions are legal? (★☆☆)\n",
    "```python\n",
    "Z**Z\n",
    "2 << Z >> 2\n",
    "Z <- Z\n",
    "1j*Z\n",
    "Z/1/1\n",
    "Z<Z>Z\n",
    "```"
   ]
  },
  {
   "cell_type": "code",
   "execution_count": 81,
   "id": "6ada209f",
   "metadata": {},
   "outputs": [
    {
     "ename": "ValueError",
     "evalue": "The truth value of an array with more than one element is ambiguous. Use a.any() or a.all()",
     "output_type": "error",
     "traceback": [
      "\u001b[1;31m---------------------------------------------------------------------------\u001b[0m",
      "\u001b[1;31mValueError\u001b[0m                                Traceback (most recent call last)",
      "\u001b[1;32m<ipython-input-81-4e3654d03fce>\u001b[0m in \u001b[0;36m<module>\u001b[1;34m\u001b[0m\n\u001b[0;32m      4\u001b[0m \u001b[1;36m1j\u001b[0m\u001b[1;33m*\u001b[0m\u001b[0mZ\u001b[0m\u001b[1;33m\u001b[0m\u001b[1;33m\u001b[0m\u001b[0m\n\u001b[0;32m      5\u001b[0m \u001b[0mZ\u001b[0m\u001b[1;33m/\u001b[0m\u001b[1;36m1\u001b[0m\u001b[1;33m/\u001b[0m\u001b[1;36m1\u001b[0m\u001b[1;33m\u001b[0m\u001b[1;33m\u001b[0m\u001b[0m\n\u001b[1;32m----> 6\u001b[1;33m \u001b[0mZ\u001b[0m\u001b[1;33m<\u001b[0m\u001b[0mZ\u001b[0m\u001b[1;33m>\u001b[0m\u001b[0mZ\u001b[0m\u001b[1;33m\u001b[0m\u001b[1;33m\u001b[0m\u001b[0m\n\u001b[0m",
      "\u001b[1;31mValueError\u001b[0m: The truth value of an array with more than one element is ambiguous. Use a.any() or a.all()"
     ]
    }
   ],
   "source": [
    "Z**Z\n",
    "2 << Z >> 2\n",
    "Z <- Z\n",
    "1j*Z\n",
    "Z/1/1\n",
    "Z<Z>Z"
   ]
  },
  {
   "cell_type": "markdown",
   "id": "c0e940f8",
   "metadata": {},
   "source": [
    "#### 28. What are the result of the following expressions? (★☆☆)\n",
    "```python\n",
    "np.array(0) / np.array(0)\n",
    "np.array(0) // np.array(0)\n",
    "np.array([np.nan]).astype(int).astype(float)\n",
    "```"
   ]
  },
  {
   "cell_type": "code",
   "execution_count": 92,
   "id": "820dc7a5",
   "metadata": {},
   "outputs": [
    {
     "name": "stdout",
     "output_type": "stream",
     "text": [
      "nan\n",
      "0\n",
      "[-2.14748365e+09]\n"
     ]
    },
    {
     "name": "stderr",
     "output_type": "stream",
     "text": [
      "<ipython-input-92-ac763a221e55>:1: RuntimeWarning: invalid value encountered in true_divide\n",
      "  print (np.array(0) / np.array(0))\n",
      "<ipython-input-92-ac763a221e55>:2: RuntimeWarning: divide by zero encountered in floor_divide\n",
      "  print(np.array(0) // np.array(0))\n"
     ]
    }
   ],
   "source": [
    "print (np.array(0) / np.array(0))\n",
    "print(np.array(0) // np.array(0))\n",
    "print(np.array([np.nan]).astype(int).astype(float))"
   ]
  },
  {
   "cell_type": "markdown",
   "id": "22713c3f",
   "metadata": {},
   "source": [
    "#### 29. How to round away from zero a float array ? (★☆☆)"
   ]
  },
  {
   "cell_type": "code",
   "execution_count": null,
   "id": "a3e05c29",
   "metadata": {},
   "outputs": [],
   "source": []
  },
  {
   "cell_type": "markdown",
   "id": "f1ae2c2d",
   "metadata": {},
   "source": [
    "#### 30. How to find common values between two arrays? (★☆☆)"
   ]
  },
  {
   "cell_type": "code",
   "execution_count": 95,
   "id": "6801c73d",
   "metadata": {},
   "outputs": [
    {
     "data": {
      "text/plain": [
       "array([7, 1, 6, 8, 1, 3, 0, 4, 4, 3])"
      ]
     },
     "execution_count": 95,
     "metadata": {},
     "output_type": "execute_result"
    }
   ],
   "source": [
    "Z1 = np.random.randint(0,10,10)\n",
    "Z1"
   ]
  },
  {
   "cell_type": "code",
   "execution_count": 96,
   "id": "5e2b84a1",
   "metadata": {},
   "outputs": [
    {
     "data": {
      "text/plain": [
       "array([5, 9, 3, 9, 0, 2, 0, 4, 3, 3])"
      ]
     },
     "execution_count": 96,
     "metadata": {},
     "output_type": "execute_result"
    }
   ],
   "source": [
    "Z2 = np.random.randint(0,10,10)\n",
    "Z2"
   ]
  },
  {
   "cell_type": "code",
   "execution_count": 97,
   "id": "1dd0568f",
   "metadata": {},
   "outputs": [
    {
     "name": "stdout",
     "output_type": "stream",
     "text": [
      "[0 3 4]\n"
     ]
    }
   ],
   "source": [
    "print(np.intersect1d(Z1,Z2))"
   ]
  },
  {
   "cell_type": "markdown",
   "id": "34a7bdee",
   "metadata": {},
   "source": [
    "#### 31. How to ignore all numpy warnings (not recommended)? (★☆☆)"
   ]
  },
  {
   "cell_type": "code",
   "execution_count": null,
   "id": "befc60d1",
   "metadata": {},
   "outputs": [],
   "source": []
  },
  {
   "cell_type": "markdown",
   "id": "37bc0973",
   "metadata": {},
   "source": [
    "#### 32. Is the following expressions true? (★☆☆)\n",
    "```python\n",
    "np.sqrt(-1) == np.emath.sqrt(-1)\n",
    "```"
   ]
  },
  {
   "cell_type": "code",
   "execution_count": 82,
   "id": "c70cbabe",
   "metadata": {},
   "outputs": [
    {
     "name": "stdout",
     "output_type": "stream",
     "text": [
      "False\n"
     ]
    },
    {
     "name": "stderr",
     "output_type": "stream",
     "text": [
      "<ipython-input-82-c6ff0ad7fd7b>:1: RuntimeWarning: invalid value encountered in sqrt\n",
      "  print(np.sqrt(-1) == np.emath.sqrt(-1))\n"
     ]
    }
   ],
   "source": [
    "print(np.sqrt(-1) == np.emath.sqrt(-1))"
   ]
  },
  {
   "cell_type": "markdown",
   "id": "129c342d",
   "metadata": {},
   "source": [
    "#### 33. How to get the dates of yesterday, today and tomorrow? (★☆☆)"
   ]
  },
  {
   "cell_type": "code",
   "execution_count": 100,
   "id": "8ba1badb",
   "metadata": {},
   "outputs": [
    {
     "name": "stdout",
     "output_type": "stream",
     "text": [
      "2021-12-07\n"
     ]
    }
   ],
   "source": [
    "yesterday = np.datetime64('today') - np.timedelta64(1)\n",
    "today     = np.datetime64('today')\n",
    "tomorrow  = np.datetime64('today') + np.timedelta64(1)\n",
    "\n",
    "print(today)"
   ]
  },
  {
   "cell_type": "code",
   "execution_count": 101,
   "id": "2460914c",
   "metadata": {},
   "outputs": [
    {
     "name": "stdout",
     "output_type": "stream",
     "text": [
      "2021-12-06\n"
     ]
    }
   ],
   "source": [
    "print(yesterday)"
   ]
  },
  {
   "cell_type": "code",
   "execution_count": 102,
   "id": "05738b6f",
   "metadata": {},
   "outputs": [
    {
     "name": "stdout",
     "output_type": "stream",
     "text": [
      "2021-12-08\n"
     ]
    }
   ],
   "source": [
    "print(tomorrow)"
   ]
  },
  {
   "cell_type": "markdown",
   "id": "42f8b2f9",
   "metadata": {},
   "source": [
    "#### 34. How to get all the dates corresponding to the month of July 2016? (★★☆)"
   ]
  },
  {
   "cell_type": "code",
   "execution_count": 103,
   "id": "eb8ebe45",
   "metadata": {},
   "outputs": [
    {
     "name": "stdout",
     "output_type": "stream",
     "text": [
      "['2016-07-01' '2016-07-02' '2016-07-03' '2016-07-04' '2016-07-05'\n",
      " '2016-07-06' '2016-07-07' '2016-07-08' '2016-07-09' '2016-07-10'\n",
      " '2016-07-11' '2016-07-12' '2016-07-13' '2016-07-14' '2016-07-15'\n",
      " '2016-07-16' '2016-07-17' '2016-07-18' '2016-07-19' '2016-07-20'\n",
      " '2016-07-21' '2016-07-22' '2016-07-23' '2016-07-24' '2016-07-25'\n",
      " '2016-07-26' '2016-07-27' '2016-07-28' '2016-07-29' '2016-07-30'\n",
      " '2016-07-31']\n"
     ]
    }
   ],
   "source": [
    "Z = np.arange('2016-07', '2016-08', dtype='datetime64[D]')\n",
    "print(Z)"
   ]
  },
  {
   "cell_type": "markdown",
   "id": "252c43e2",
   "metadata": {},
   "source": [
    "#### 35. How to compute ((A+B)*(-A/2)) in place (without copy)? (★★☆)"
   ]
  },
  {
   "cell_type": "code",
   "execution_count": 104,
   "id": "f06ff615",
   "metadata": {},
   "outputs": [
    {
     "name": "stdout",
     "output_type": "stream",
     "text": [
      "[-1.5 -1.5 -1.5]\n"
     ]
    }
   ],
   "source": [
    "A = np.ones(3)*1\n",
    "B = np.ones(3)*2\n",
    "\n",
    "np.add(A,B, out=B)\n",
    "np.divide(A,2, out=A)\n",
    "np.negative(A, out=A)\n",
    "C=np.multiply(A,B, out=A)\n",
    "print(C)"
   ]
  },
  {
   "cell_type": "markdown",
   "id": "486df8ea",
   "metadata": {},
   "source": [
    "#### 36. Extract the integer part of a random array of positive numbers using 4 different methods (★★☆)"
   ]
  },
  {
   "cell_type": "code",
   "execution_count": null,
   "id": "34b4fa08",
   "metadata": {},
   "outputs": [],
   "source": []
  },
  {
   "cell_type": "markdown",
   "id": "649e89f9",
   "metadata": {},
   "source": [
    "#### 37. Create a 5x5 matrix with row values ranging from 0 to 4 (★★☆)"
   ]
  },
  {
   "cell_type": "code",
   "execution_count": 111,
   "id": "663cc611",
   "metadata": {},
   "outputs": [
    {
     "name": "stdout",
     "output_type": "stream",
     "text": [
      "[[0. 1. 2. 3. 4.]\n",
      " [0. 1. 2. 3. 4.]\n",
      " [0. 1. 2. 3. 4.]\n",
      " [0. 1. 2. 3. 4.]\n",
      " [0. 1. 2. 3. 4.]]\n"
     ]
    }
   ],
   "source": [
    "Z = np.zeros((5,5))\n",
    "Z += np.arange(5)\n",
    "print(Z)"
   ]
  },
  {
   "cell_type": "markdown",
   "id": "3421e17f",
   "metadata": {},
   "source": [
    "#### 38. Consider a generator function that generates 10 integers and use it to build an array (★☆☆)"
   ]
  },
  {
   "cell_type": "code",
   "execution_count": 112,
   "id": "7336b8e4",
   "metadata": {},
   "outputs": [
    {
     "name": "stdout",
     "output_type": "stream",
     "text": [
      "[0. 1. 2. 3. 4. 5. 6. 7. 8. 9.]\n"
     ]
    }
   ],
   "source": [
    "def generate():\n",
    "    for x in range(10):\n",
    "        yield x\n",
    "Z = np.fromiter(generate(),dtype=float,count=-1)\n",
    "print(Z)"
   ]
  },
  {
   "cell_type": "markdown",
   "id": "483dd554",
   "metadata": {},
   "source": [
    "#### 39. Create a vector of size 10 with values ranging from 0 to 1, both excluded (★★☆)"
   ]
  },
  {
   "cell_type": "code",
   "execution_count": 117,
   "id": "c89b93e7",
   "metadata": {},
   "outputs": [
    {
     "data": {
      "text/plain": [
       "array([0. , 0.1, 0.2, 0.3, 0.4, 0.5, 0.6, 0.7, 0.8, 0.9])"
      ]
     },
     "execution_count": 117,
     "metadata": {},
     "output_type": "execute_result"
    }
   ],
   "source": [
    "np.linspace(0,1,10, endpoint=False)"
   ]
  },
  {
   "cell_type": "code",
   "execution_count": 118,
   "id": "2e3444aa",
   "metadata": {},
   "outputs": [
    {
     "data": {
      "text/plain": [
       "array([0.1, 0.2, 0.3, 0.4, 0.5, 0.6, 0.7, 0.8, 0.9])"
      ]
     },
     "execution_count": 118,
     "metadata": {},
     "output_type": "execute_result"
    }
   ],
   "source": [
    "np.linspace(0,1,10, endpoint=False)[1:]"
   ]
  },
  {
   "cell_type": "markdown",
   "id": "2d07be1c",
   "metadata": {},
   "source": [
    "#### 40. Create a random vector of size 10 and sort it (★★☆)"
   ]
  },
  {
   "cell_type": "code",
   "execution_count": 123,
   "id": "4f7cb3ad",
   "metadata": {},
   "outputs": [
    {
     "data": {
      "text/plain": [
       "array([0.08825673, 0.10645827, 0.18728712, 0.36672079, 0.36984385,\n",
       "       0.47223144, 0.54050404, 0.56694336, 0.66016986, 0.86532935])"
      ]
     },
     "execution_count": 123,
     "metadata": {},
     "output_type": "execute_result"
    }
   ],
   "source": [
    "x=np.random.random(10)\n",
    "x.sort()\n",
    "x"
   ]
  },
  {
   "cell_type": "markdown",
   "id": "6415f02e",
   "metadata": {},
   "source": [
    "#### 41. How to sum a small array faster than np.sum? (★★☆)"
   ]
  },
  {
   "cell_type": "code",
   "execution_count": 128,
   "id": "bb0dd942",
   "metadata": {},
   "outputs": [
    {
     "data": {
      "text/plain": [
       "45"
      ]
     },
     "execution_count": 128,
     "metadata": {},
     "output_type": "execute_result"
    }
   ],
   "source": [
    "Z=np.arange(10)\n",
    "np.add.reduce(Z)"
   ]
  },
  {
   "cell_type": "markdown",
   "id": "fe043549",
   "metadata": {},
   "source": [
    "#### 42. Consider two random array A and B, check if they are equal (★★☆)"
   ]
  },
  {
   "cell_type": "code",
   "execution_count": 132,
   "id": "3326a686",
   "metadata": {},
   "outputs": [
    {
     "name": "stdout",
     "output_type": "stream",
     "text": [
      "[False False False False False]\n"
     ]
    }
   ],
   "source": [
    "A=np.random.randint(0,2,5)\n",
    "B=np.random.randint(0,2,5)\n",
    "print(A==B)"
   ]
  },
  {
   "cell_type": "code",
   "execution_count": 133,
   "id": "d3dbe5e0",
   "metadata": {},
   "outputs": [
    {
     "name": "stdout",
     "output_type": "stream",
     "text": [
      "False\n"
     ]
    }
   ],
   "source": [
    "# this is the answer\n",
    "\n",
    "equal = np.allclose(A,B)\n",
    "print(equal)"
   ]
  },
  {
   "cell_type": "markdown",
   "id": "cc08f71c",
   "metadata": {},
   "source": [
    "#### 43. Make an array immutable (read-only) (★★☆)"
   ]
  },
  {
   "cell_type": "code",
   "execution_count": 3,
   "id": "d5cc9dbe",
   "metadata": {},
   "outputs": [
    {
     "ename": "ValueError",
     "evalue": "assignment destination is read-only",
     "output_type": "error",
     "traceback": [
      "\u001b[1;31m---------------------------------------------------------------------------\u001b[0m",
      "\u001b[1;31mValueError\u001b[0m                                Traceback (most recent call last)",
      "\u001b[1;32m<ipython-input-3-dcc5e7f145b5>\u001b[0m in \u001b[0;36m<module>\u001b[1;34m\u001b[0m\n\u001b[0;32m      1\u001b[0m \u001b[0mZ\u001b[0m \u001b[1;33m=\u001b[0m \u001b[0mnp\u001b[0m\u001b[1;33m.\u001b[0m\u001b[0mzeros\u001b[0m\u001b[1;33m(\u001b[0m\u001b[1;36m10\u001b[0m\u001b[1;33m)\u001b[0m\u001b[1;33m\u001b[0m\u001b[1;33m\u001b[0m\u001b[0m\n\u001b[0;32m      2\u001b[0m \u001b[0mZ\u001b[0m\u001b[1;33m.\u001b[0m\u001b[0mflags\u001b[0m\u001b[1;33m.\u001b[0m\u001b[0mwriteable\u001b[0m \u001b[1;33m=\u001b[0m \u001b[1;32mFalse\u001b[0m\u001b[1;33m\u001b[0m\u001b[1;33m\u001b[0m\u001b[0m\n\u001b[1;32m----> 3\u001b[1;33m \u001b[0mZ\u001b[0m\u001b[1;33m[\u001b[0m\u001b[1;36m0\u001b[0m\u001b[1;33m]\u001b[0m \u001b[1;33m=\u001b[0m \u001b[1;36m1\u001b[0m\u001b[1;33m\u001b[0m\u001b[1;33m\u001b[0m\u001b[0m\n\u001b[0m",
      "\u001b[1;31mValueError\u001b[0m: assignment destination is read-only"
     ]
    }
   ],
   "source": [
    "Z = np.zeros(10)\n",
    "Z.flags.writeable = False\n",
    "Z[0] = 1"
   ]
  },
  {
   "cell_type": "markdown",
   "id": "2002cb03",
   "metadata": {},
   "source": [
    "#### 44. Consider a random 10x2 matrix representing cartesian coordinates, convert them to polar coordinates (★★☆)"
   ]
  },
  {
   "cell_type": "code",
   "execution_count": null,
   "id": "58be72bc",
   "metadata": {},
   "outputs": [],
   "source": []
  },
  {
   "cell_type": "markdown",
   "id": "b7109c9f",
   "metadata": {},
   "source": [
    "#### 45. Create random vector of size 10 and replace the maximum value by 0 (★★☆)"
   ]
  },
  {
   "cell_type": "code",
   "execution_count": 11,
   "id": "f79e79a7",
   "metadata": {},
   "outputs": [
    {
     "data": {
      "text/plain": [
       "array([0.05235842, 0.04474032, 0.6317214 , 0.14341351, 0.48194989,\n",
       "       0.05024519, 0.36916289, 0.399193  , 0.        , 0.38005111])"
      ]
     },
     "execution_count": 11,
     "metadata": {},
     "output_type": "execute_result"
    }
   ],
   "source": [
    "x=np.random.random(10)\n",
    "x[x.argmax()] = 0\n",
    "x"
   ]
  },
  {
   "cell_type": "code",
   "execution_count": 12,
   "id": "1d67b621",
   "metadata": {},
   "outputs": [
    {
     "data": {
      "text/plain": [
       "array([0, 1, 2, 3, 4, 5, 6, 7, 8, 0])"
      ]
     },
     "execution_count": 12,
     "metadata": {},
     "output_type": "execute_result"
    }
   ],
   "source": [
    "x=np.arange(10)\n",
    "x[x.argmax()]=0\n",
    "x"
   ]
  },
  {
   "cell_type": "markdown",
   "id": "7d3131b9",
   "metadata": {},
   "source": [
    "#### 46. Create a structured array with `x` and `y` coordinates covering the [0,1]x[0,1] area (★★☆)"
   ]
  },
  {
   "cell_type": "code",
   "execution_count": 13,
   "id": "4f471afe",
   "metadata": {},
   "outputs": [
    {
     "name": "stdout",
     "output_type": "stream",
     "text": [
      "[[(0.  , 0.  ) (0.25, 0.  ) (0.5 , 0.  ) (0.75, 0.  ) (1.  , 0.  )]\n",
      " [(0.  , 0.25) (0.25, 0.25) (0.5 , 0.25) (0.75, 0.25) (1.  , 0.25)]\n",
      " [(0.  , 0.5 ) (0.25, 0.5 ) (0.5 , 0.5 ) (0.75, 0.5 ) (1.  , 0.5 )]\n",
      " [(0.  , 0.75) (0.25, 0.75) (0.5 , 0.75) (0.75, 0.75) (1.  , 0.75)]\n",
      " [(0.  , 1.  ) (0.25, 1.  ) (0.5 , 1.  ) (0.75, 1.  ) (1.  , 1.  )]]\n"
     ]
    }
   ],
   "source": []
  },
  {
   "cell_type": "markdown",
   "id": "7c8c1fc5",
   "metadata": {},
   "source": [
    "#### 47. Given two arrays, X and Y, construct the Cauchy matrix C (Cij =1/(xi - yj)) (★★☆)"
   ]
  },
  {
   "cell_type": "code",
   "execution_count": 14,
   "id": "8fac7d28",
   "metadata": {},
   "outputs": [
    {
     "name": "stdout",
     "output_type": "stream",
     "text": [
      "3638.1636371179666\n"
     ]
    }
   ],
   "source": [
    "X = np.arange(8)\n",
    "Y = X + 0.5\n",
    "\n",
    "C = 1.0 / np.subtract.outer(X, Y)\n",
    "print(np.linalg.det(C))"
   ]
  },
  {
   "cell_type": "markdown",
   "id": "5795b4bd",
   "metadata": {},
   "source": [
    "#### 48. Print the minimum and maximum representable value for each numpy scalar type (★★☆)"
   ]
  },
  {
   "cell_type": "code",
   "execution_count": 15,
   "id": "b721f7ca",
   "metadata": {},
   "outputs": [
    {
     "name": "stdout",
     "output_type": "stream",
     "text": [
      "-128\n",
      "-2147483648\n",
      "-9223372036854775808\n"
     ]
    }
   ],
   "source": [
    "for dtype in [np.int8, np.int32, np.int64]:\n",
    "    print(np.iinfo(dtype).min)"
   ]
  },
  {
   "cell_type": "code",
   "execution_count": 17,
   "id": "c642af41",
   "metadata": {},
   "outputs": [
    {
     "name": "stdout",
     "output_type": "stream",
     "text": [
      "127\n",
      "2147483647\n",
      "9223372036854775807\n"
     ]
    }
   ],
   "source": [
    "for dtype in [np.int8, np.int32, np.int64]:\n",
    "    print(np.iinfo(dtype).max)"
   ]
  },
  {
   "cell_type": "code",
   "execution_count": 20,
   "id": "25b00d7f",
   "metadata": {},
   "outputs": [
    {
     "name": "stdout",
     "output_type": "stream",
     "text": [
      "-3.4028235e+38\n",
      "3.4028235e+38\n",
      "1.1920929e-07\n",
      "-1.7976931348623157e+308\n",
      "1.7976931348623157e+308\n",
      "2.220446049250313e-16\n"
     ]
    }
   ],
   "source": [
    "for dtype in [np.float32, np.float64]:\n",
    "   print(np.finfo(dtype).min)\n",
    "   print(np.finfo(dtype).max)\n",
    "   print(np.finfo(dtype).eps)"
   ]
  },
  {
   "cell_type": "markdown",
   "id": "fb24674c",
   "metadata": {},
   "source": [
    "#### 49. How to print all the values of an array? (★★☆)"
   ]
  },
  {
   "cell_type": "code",
   "execution_count": 24,
   "id": "c81f1456",
   "metadata": {},
   "outputs": [
    {
     "name": "stdout",
     "output_type": "stream",
     "text": [
      "[[0. 0. 0. 0. 0. 0. 0. 0. 0. 0. 0. 0. 0. 0. 0. 0. 0. 0. 0. 0.]\n",
      " [0. 0. 0. 0. 0. 0. 0. 0. 0. 0. 0. 0. 0. 0. 0. 0. 0. 0. 0. 0.]\n",
      " [0. 0. 0. 0. 0. 0. 0. 0. 0. 0. 0. 0. 0. 0. 0. 0. 0. 0. 0. 0.]\n",
      " [0. 0. 0. 0. 0. 0. 0. 0. 0. 0. 0. 0. 0. 0. 0. 0. 0. 0. 0. 0.]\n",
      " [0. 0. 0. 0. 0. 0. 0. 0. 0. 0. 0. 0. 0. 0. 0. 0. 0. 0. 0. 0.]\n",
      " [0. 0. 0. 0. 0. 0. 0. 0. 0. 0. 0. 0. 0. 0. 0. 0. 0. 0. 0. 0.]\n",
      " [0. 0. 0. 0. 0. 0. 0. 0. 0. 0. 0. 0. 0. 0. 0. 0. 0. 0. 0. 0.]\n",
      " [0. 0. 0. 0. 0. 0. 0. 0. 0. 0. 0. 0. 0. 0. 0. 0. 0. 0. 0. 0.]\n",
      " [0. 0. 0. 0. 0. 0. 0. 0. 0. 0. 0. 0. 0. 0. 0. 0. 0. 0. 0. 0.]\n",
      " [0. 0. 0. 0. 0. 0. 0. 0. 0. 0. 0. 0. 0. 0. 0. 0. 0. 0. 0. 0.]\n",
      " [0. 0. 0. 0. 0. 0. 0. 0. 0. 0. 0. 0. 0. 0. 0. 0. 0. 0. 0. 0.]\n",
      " [0. 0. 0. 0. 0. 0. 0. 0. 0. 0. 0. 0. 0. 0. 0. 0. 0. 0. 0. 0.]\n",
      " [0. 0. 0. 0. 0. 0. 0. 0. 0. 0. 0. 0. 0. 0. 0. 0. 0. 0. 0. 0.]\n",
      " [0. 0. 0. 0. 0. 0. 0. 0. 0. 0. 0. 0. 0. 0. 0. 0. 0. 0. 0. 0.]\n",
      " [0. 0. 0. 0. 0. 0. 0. 0. 0. 0. 0. 0. 0. 0. 0. 0. 0. 0. 0. 0.]\n",
      " [0. 0. 0. 0. 0. 0. 0. 0. 0. 0. 0. 0. 0. 0. 0. 0. 0. 0. 0. 0.]\n",
      " [0. 0. 0. 0. 0. 0. 0. 0. 0. 0. 0. 0. 0. 0. 0. 0. 0. 0. 0. 0.]\n",
      " [0. 0. 0. 0. 0. 0. 0. 0. 0. 0. 0. 0. 0. 0. 0. 0. 0. 0. 0. 0.]\n",
      " [0. 0. 0. 0. 0. 0. 0. 0. 0. 0. 0. 0. 0. 0. 0. 0. 0. 0. 0. 0.]\n",
      " [0. 0. 0. 0. 0. 0. 0. 0. 0. 0. 0. 0. 0. 0. 0. 0. 0. 0. 0. 0.]]\n"
     ]
    }
   ],
   "source": [
    "np.set_printoptions(threshold=float(\"inf\"))\n",
    "Z = np.zeros((20,20))\n",
    "print(Z)"
   ]
  },
  {
   "cell_type": "markdown",
   "id": "e6e1ae2f",
   "metadata": {},
   "source": [
    "#### 50. How to find the closest value (to a given scalar) in a vector? (★★☆)"
   ]
  },
  {
   "cell_type": "code",
   "execution_count": 34,
   "id": "73dd91cc",
   "metadata": {},
   "outputs": [
    {
     "name": "stdout",
     "output_type": "stream",
     "text": [
      "85\n"
     ]
    }
   ],
   "source": [
    "Z = np.arange(100)\n",
    "v = np.random.uniform(0,100)\n",
    "\n",
    "index = (np.abs(Z-v)).argmin()\n",
    "print(Z[index])"
   ]
  },
  {
   "cell_type": "markdown",
   "id": "c01f0ecf",
   "metadata": {},
   "source": [
    "#### 51. Create a structured array representing a position (x,y) and a color (r,g,b) (★★☆)"
   ]
  },
  {
   "cell_type": "code",
   "execution_count": 35,
   "id": "fb8017ca",
   "metadata": {},
   "outputs": [
    {
     "name": "stdout",
     "output_type": "stream",
     "text": [
      "[((0., 0.), (0., 0., 0.)) ((0., 0.), (0., 0., 0.))\n",
      " ((0., 0.), (0., 0., 0.)) ((0., 0.), (0., 0., 0.))\n",
      " ((0., 0.), (0., 0., 0.)) ((0., 0.), (0., 0., 0.))\n",
      " ((0., 0.), (0., 0., 0.)) ((0., 0.), (0., 0., 0.))\n",
      " ((0., 0.), (0., 0., 0.)) ((0., 0.), (0., 0., 0.))]\n"
     ]
    },
    {
     "name": "stderr",
     "output_type": "stream",
     "text": [
      "<ipython-input-35-6f1aa4d7a2ff>:1: FutureWarning: Passing (type, 1) or '1type' as a synonym of type is deprecated; in a future version of numpy, it will be understood as (type, (1,)) / '(1,)type'.\n",
      "  Z = np.zeros(10, [ ('position', [ ('x', float, 1),\n"
     ]
    }
   ],
   "source": [
    "Z = np.zeros(10, [ ('position', [ ('x', float, 1),\n",
    "                                  ('y', float, 1)]),\n",
    "                   ('color',    [ ('r', float, 1),\n",
    "                                  ('g', float, 1),\n",
    "                                  ('b', float, 1)])])\n",
    "print(Z)"
   ]
  },
  {
   "cell_type": "markdown",
   "id": "3b64a18b",
   "metadata": {},
   "source": [
    "#### 52. Consider a random vector with shape (100,2) representing coordinates, find point by point distances (★★☆)"
   ]
  },
  {
   "cell_type": "code",
   "execution_count": 38,
   "id": "4b482822",
   "metadata": {},
   "outputs": [
    {
     "name": "stdout",
     "output_type": "stream",
     "text": [
      "[[0.         0.31521469 0.11581616 0.57582485 0.30439863 0.25062431\n",
      "  0.10435698 0.71270992 0.4931561  0.57042513 0.19707479 0.36169189\n",
      "  0.58936144 0.02895388 0.38355219 0.63501389 0.50951499 0.39794129\n",
      "  0.25367305 0.40422617 0.39317018 0.49505527 0.58063318 0.41921864\n",
      "  0.50078876 0.12672501 0.43740069 0.32563816 0.57099345 0.50305365\n",
      "  0.53462359 0.45928661 0.13817961 0.32748442 0.39676432 0.47696087\n",
      "  0.37894905 0.22847837 0.78645049 0.38457908 0.35890859 0.72249152\n",
      "  0.53804082 0.50693248 0.13755641 0.31034918 0.74716947 0.37834339\n",
      "  0.2859984  0.5179386  0.49235916 0.53865641 0.60111163 0.54976645\n",
      "  0.32423201 0.46407401 0.35895921 0.49958753 0.10342582 0.73157105\n",
      "  0.10473254 0.4482017  0.67322574 0.54519073 0.43252721 0.5685862\n",
      "  0.10105643 0.18641501 0.17904143 0.36959894 0.50020054 0.37146378\n",
      "  0.63316677 0.51004651 0.23260635 0.34611983 0.3517381  0.5027794\n",
      "  0.41772644 0.5685026  0.23740459 0.43928886 0.59574091 0.30548343\n",
      "  0.44145365 0.28417047 0.36734346 0.21853995 0.40401762 0.46544462\n",
      "  0.04036316 0.60060957 0.62492748 0.22416266 0.60061061 0.31743741\n",
      "  0.10782214 0.6410572  0.51121777 0.1044632 ]\n",
      " [0.31521469 0.         0.36414905 0.87801929 0.54919747 0.3712927\n",
      "  0.2707162  0.92130851 0.76085059 0.85125904 0.43202655 0.48003891\n",
      "  0.89492237 0.33837713 0.4618027  0.85346722 0.64407811 0.45119953\n",
      "  0.55860183 0.3012256  0.50620503 0.70817016 0.72839627 0.43836089\n",
      "  0.76791519 0.43545043 0.72250237 0.35893417 0.8443787  0.81757048\n",
      "  0.80690918 0.37362638 0.43416194 0.62033997 0.686661   0.78511413\n",
      "  0.66784434 0.47534096 0.99741494 0.68769363 0.65304627 0.93622687\n",
      "  0.64301748 0.82007748 0.19021217 0.18040843 0.95148991 0.44323685\n",
      "  0.32784444 0.32621101 0.53911375 0.84769443 0.89587657 0.86387455\n",
      "  0.62185288 0.49336152 0.49351093 0.79338429 0.41761989 0.9428578\n",
      "  0.23338282 0.74685238 0.96362753 0.85694847 0.61249693 0.8545943\n",
      "  0.40813061 0.49784881 0.36493803 0.25825581 0.72492457 0.45027932\n",
      "  0.91899912 0.79452316 0.37628296 0.60906669 0.57119102 0.78645696\n",
      "  0.57266193 0.81098331 0.29108282 0.61992305 0.90106098 0.27270001\n",
      "  0.75522264 0.58842465 0.67808256 0.33776016 0.70148113 0.71221078\n",
      "  0.33389641 0.77081396 0.93109703 0.44334785 0.8823999  0.36039975\n",
      "  0.37021092 0.92495062 0.80281662 0.31330088]\n",
      " [0.11581616 0.36414905 0.         0.51581303 0.38837759 0.36586509\n",
      "  0.2173414  0.60273399 0.55178225 0.48856567 0.29643225 0.4741719\n",
      "  0.53452025 0.12975326 0.49853079 0.52652577 0.61586988 0.51360889\n",
      "  0.29000657 0.35706434 0.28305987 0.58153724 0.46483365 0.53494626\n",
      "  0.40936272 0.10767776 0.358577   0.24441646 0.48393091 0.49441753\n",
      "  0.58815474 0.39836338 0.08486751 0.37380535 0.44133383 0.49059218\n",
      "  0.42574712 0.12073379 0.67739616 0.32779165 0.40121801 0.6136194\n",
      "  0.4252267  0.47159642 0.22450344 0.29632995 0.63661978 0.49387022\n",
      "  0.21064116 0.48832141 0.60761283 0.49100058 0.63120926 0.5423281\n",
      "  0.36484151 0.36818802 0.24677369 0.42937928 0.14631141 0.62224957\n",
      "  0.13232616 0.47927021 0.70622275 0.50442829 0.53180445 0.49088566\n",
      "  0.16733832 0.16235704 0.07338438 0.33209424 0.58188451 0.27009423\n",
      "  0.67184363 0.4308894  0.34696942 0.41652097 0.44299251 0.42292761\n",
      "  0.30228266 0.46636735 0.17397677 0.5381273  0.54045089 0.41505853\n",
      "  0.4393741  0.31826995 0.38014175 0.33431515 0.33862642 0.36369403\n",
      "  0.0761471  0.48533391 0.5708995  0.32574607 0.64400697 0.23436361\n",
      "  0.01546681 0.56179551 0.5481188  0.22005677]\n",
      " [0.57582485 0.87801929 0.51581303 0.         0.5810295  0.73209013\n",
      "  0.66374264 0.428651   0.5475431  0.12961112 0.6006533  0.77972427\n",
      "  0.032722   0.56143611 0.82998551 0.36988864 0.83555094 0.85989137\n",
      "  0.42478934 0.81785331 0.56877744 0.69327927 0.53032918 0.89995007\n",
      "  0.20211    0.44913801 0.17611212 0.6683089  0.16417962 0.2474343\n",
      "  0.54318636 0.82753584 0.44459924 0.44795115 0.45143613 0.34000314\n",
      "  0.45648655 0.42134085 0.46140177 0.19139738 0.43694406 0.41882409\n",
      "  0.60191735 0.13355588 0.71333024 0.79863078 0.45769708 0.83866362\n",
      "  0.65881471 0.95982306 0.92602488 0.07101293 0.46111707 0.25963817\n",
      "  0.42926667 0.69804325 0.53814808 0.09767614 0.48878641 0.43030008\n",
      "  0.64465116 0.40776309 0.51733218 0.10101441 0.72937574 0.10344915\n",
      "  0.5123442  0.39089252 0.5369764  0.80946576 0.66956041 0.61679252\n",
      "  0.52226313 0.12931023 0.70681919 0.54039838 0.63596801 0.13649212\n",
      "  0.498495   0.28156219 0.65193673 0.73107836 0.03440653 0.85124621\n",
      "  0.27630543 0.41356254 0.33839264 0.72215417 0.17727594 0.28020114\n",
      "  0.54808826 0.48599214 0.06230989 0.6219766  0.52765497 0.65765835\n",
      "  0.50832946 0.13172539 0.45292897 0.63613365]\n",
      " [0.30439863 0.54919747 0.38837759 0.5810295  0.         0.21242825\n",
      "  0.2842412  0.87622852 0.21304666 0.6402782  0.11868834 0.20636406\n",
      "  0.57764495 0.27679876 0.2612031  0.79587057 0.26590543 0.29443364\n",
      "  0.16675729 0.70708648 0.66516722 0.19319973 0.81137887 0.33945927\n",
      "  0.61184469 0.3021184  0.52475134 0.62603498 0.65704675 0.38746573\n",
      "  0.26012227 0.76363826 0.33790376 0.13781818 0.17307122 0.31013349\n",
      "  0.15651351 0.44901089 0.94041696 0.43171275 0.16038624 0.87920668\n",
      "  0.79795858 0.46054759 0.36705202 0.60380004 0.91208183 0.27509992\n",
      "  0.58782243 0.81258503 0.34725689 0.51746457 0.3685991  0.41949685\n",
      "  0.1544836  0.75649062 0.62611766 0.5486927  0.24398737 0.89020674\n",
      "  0.40291274 0.24363964 0.42713699 0.50400949 0.16253864 0.62612916\n",
      "  0.22107389 0.29683562 0.4617414  0.67048388 0.19590041 0.65827231\n",
      "  0.37890243 0.58238106 0.19352958 0.06695624 0.0623086  0.57855582\n",
      "  0.66455186 0.70751758 0.54094187 0.16684756 0.58412738 0.36163004\n",
      "  0.32811356 0.16923076 0.24781584 0.22937451 0.46574468 0.61663004\n",
      "  0.32691428 0.8125014  0.60481231 0.10655335 0.33976526 0.61701534\n",
      "  0.37372238 0.69266542 0.27644354 0.2427745 ]\n",
      " [0.25062431 0.3712927  0.36586509 0.73209013 0.21242825 0.\n",
      "  0.16255315 0.9476209  0.41979892 0.76210191 0.13303804 0.12052814\n",
      "  0.73600708 0.23767343 0.13302893 0.86797909 0.28416427 0.14865399\n",
      "  0.31359029 0.59403033 0.64218136 0.33945886 0.83028561 0.17682982\n",
      "  0.71026449 0.33349665 0.63272731 0.55599328 0.77079618 0.57742409\n",
      "  0.46741999 0.6607611  0.36216926 0.33163434 0.38172246 0.51189254\n",
      "  0.36383378 0.47012651 1.01895642 0.55495096 0.36093669 0.95521647\n",
      "  0.78809256 0.62849044 0.22305267 0.47332235 0.98292303 0.12830458\n",
      "  0.51466222 0.67308199 0.24176568 0.67755934 0.58101224 0.61535261\n",
      "  0.3427322  0.70168555 0.60902945 0.67766803 0.27041053 0.96506465\n",
      "  0.30757031 0.45154216 0.63824938 0.67182112 0.24120476 0.75380989\n",
      "  0.24008096 0.36702157 0.42865906 0.55181801 0.35910429 0.61524336\n",
      "  0.5892086  0.70088355 0.02527354 0.27936307 0.21202897 0.69509978\n",
      "  0.66813614 0.79200694 0.46260055 0.24863207 0.74266775 0.1492517\n",
      "  0.51393595 0.33349592 0.42883118 0.03807858 0.58389643 0.69114916\n",
      "  0.28971846 0.84743555 0.76761136 0.11869572 0.54927093 0.54972974\n",
      "  0.35629504 0.82528027 0.4887844  0.14624449]\n",
      " [0.10435698 0.2707162  0.2173414  0.66374264 0.2842412  0.16255315\n",
      "  0.         0.81702817 0.49267453 0.66813828 0.16555299 0.28162075\n",
      "  0.6744391  0.10621639 0.29364885 0.73937056 0.44074669 0.30346189\n",
      "  0.2940326  0.44020919 0.48351001 0.45969897 0.68000456 0.32012842\n",
      "  0.6021288  0.22104949 0.53510947 0.39351707 0.67060563 0.56157659\n",
      "  0.5380155  0.50411635 0.23915968 0.35034375 0.41606987 0.51964892\n",
      "  0.39722815 0.33273117 0.89080678 0.47438921 0.38307149 0.82684832\n",
      "  0.63056331 0.58259326 0.08302756 0.326264   0.85144237 0.28526185\n",
      "  0.35220878 0.53312697 0.39993569 0.62065316 0.62534633 0.60604123\n",
      "  0.35290547 0.539164   0.45213942 0.59319256 0.17514796 0.83592116\n",
      "  0.14528825 0.47733174 0.69291706 0.62319377 0.37928212 0.66466401\n",
      "  0.15462825 0.27366795 0.27236617 0.39982861 0.47132885 0.45373264\n",
      "  0.64847362 0.60717228 0.15085615 0.34058425 0.31630158 0.60023001\n",
      "  0.51578313 0.67223575 0.30021888 0.38656184 0.68097204 0.20146039\n",
      "  0.4975922  0.32277315 0.41632443 0.12598871 0.49706165 0.56925489\n",
      "  0.14429313 0.70252477 0.70911523 0.1826658  0.6122171  0.38718626\n",
      "  0.21108745 0.73729667 0.53216699 0.04267163]\n",
      " [0.71270992 0.92130851 0.60273399 0.428651   0.87622852 0.9476209\n",
      "  0.81702817 0.         0.92147883 0.30084477 0.8402703  1.03596786\n",
      "  0.45913223 0.71627116 1.07335863 0.08059333 1.14139425 1.09506576\n",
      "  0.71137497 0.72243828 0.43262082 1.03749037 0.23722906 1.12381067\n",
      "  0.27482305 0.61430564 0.36330948 0.58639526 0.26775762 0.65441923\n",
      "  0.93030478 0.69312937 0.58581194 0.77288737 0.8056464  0.73359815\n",
      "  0.80298807 0.48433461 0.07613455 0.46107908 0.77690522 0.02183644\n",
      "  0.3499792  0.54042557 0.8245539  0.77236593 0.03587735 1.07390899\n",
      "  0.60457587 0.84856873 1.18163352 0.4882228  0.87489343 0.67872865\n",
      "  0.75382696 0.5186406  0.43321713 0.37893422 0.67860295 0.02246728\n",
      "  0.72089973 0.78580638 0.93792223 0.52291677 1.03867919 0.32663224\n",
      "  0.70934412 0.59001299 0.56805034 0.73820766 1.02141191 0.49635613\n",
      "  0.93570555 0.33187769 0.9247572  0.86147518 0.93836508 0.33085693\n",
      "  0.35398814 0.17226448 0.631955   1.04270582 0.45785019 1.01724638\n",
      "  0.65852776 0.71739501 0.68517151 0.92243766 0.42615836 0.26050205\n",
      "  0.67277851 0.17488575 0.47167084 0.8690785  0.93375653 0.58033119\n",
      "  0.60679914 0.31422331 0.84591347 0.81056517]\n",
      " [0.4931561  0.76085059 0.55178225 0.5475431  0.21304666 0.41979892\n",
      "  0.49267453 0.92147883 0.         0.64316921 0.32882476 0.37673264\n",
      "  0.53242695 0.46422287 0.43167068 0.84495329 0.33884442 0.4657557\n",
      "  0.26528566 0.89571508 0.80436573 0.16533767 0.90998612 0.51235228\n",
      "  0.64665687 0.44847684 0.55854714 0.79619727 0.66881725 0.30517666\n",
      "  0.04762147 0.94599373 0.4812983  0.18042698 0.12183712 0.20957173\n",
      "  0.13180394 0.57647694 0.97485443 0.46135831 0.15942304 0.91938729\n",
      "  0.92049116 0.41401728 0.57565666 0.80207993 0.95610833 0.45078124\n",
      "  0.76151118 1.01058235 0.48498698 0.47667137 0.17827746 0.31395809\n",
      "  0.19357631 0.91204015 0.76375512 0.55206251 0.40826795 0.93105447\n",
      "  0.59698156 0.14014791 0.22167092 0.45099994 0.25034559 0.62251748\n",
      "  0.39585054 0.41561423 0.62280573 0.86248676 0.13465963 0.81103173\n",
      "  0.17126193 0.59571215 0.40355473 0.15209164 0.2114025  0.59485755\n",
      "  0.78445615 0.74947555 0.71967304 0.24750444 0.53789536 0.5681205\n",
      "  0.27261572 0.24130599 0.23736422 0.44078047 0.49582887 0.67722014\n",
      "  0.50587686 0.89692309 0.54905033 0.31956473 0.13046683 0.78612426\n",
      "  0.53631949 0.67617    0.10856742 0.45024515]\n",
      " [0.57042513 0.85125904 0.48856567 0.12961112 0.6402782  0.76210191\n",
      "  0.66813828 0.30084477 0.64316921 0.         0.63667886 0.82676019\n",
      "  0.16154368 0.56211237 0.87281398 0.24027764 0.90363883 0.90004099\n",
      "  0.47497374 0.74875072 0.47851383 0.77637773 0.40900344 0.93642896\n",
      "  0.09641159 0.44709072 0.13310146 0.59728818 0.03466915 0.35834502\n",
      "  0.64552536 0.74859423 0.43249328 0.51746075 0.53562043 0.44370409\n",
      "  0.53688903 0.377027   0.33945749 0.2102397  0.51359311 0.29242359\n",
      "  0.48976335 0.24243326 0.70433901 0.74833819 0.33123201 0.87848332\n",
      "  0.59499803 0.89004349 0.9750457  0.18761284 0.5779023  0.37918535\n",
      "  0.4980212  0.60417199 0.45344465 0.09285939 0.4994708  0.30407436\n",
      "  0.6208907  0.50366846 0.63862095 0.22217033 0.79754659 0.02616949\n",
      "  0.5272597  0.39869764 0.49200852 0.74667726 0.75589584 0.53317737\n",
      "  0.63905318 0.06139697 0.73714137 0.61043012 0.6995759  0.06793707\n",
      "  0.40108864 0.1536432  0.59774754 0.80027197 0.16142445 0.86545366\n",
      "  0.37192452 0.47157142 0.41558508 0.74604085 0.17870735 0.17653185\n",
      "  0.53667815 0.36078053 0.18116563 0.66173621 0.64018209 0.58737888\n",
      "  0.48474281 0.07423853 0.55760416 0.64747697]\n",
      " [0.19707479 0.43202655 0.29643225 0.6006533  0.11868834 0.13303804\n",
      "  0.16555299 0.8402703  0.32882476 0.63667886 0.         0.19576049\n",
      "  0.60372089 0.17221943 0.23697625 0.75983241 0.32049121 0.26337343\n",
      "  0.18056776 0.59364924 0.57927041 0.30059695 0.74612464 0.30056272\n",
      "  0.59128973 0.23207915 0.51006255 0.52269223 0.64761603 0.44652335\n",
      "  0.37497689 0.65272158 0.26584602 0.20647163 0.26466467 0.3860802\n",
      "  0.245911   0.3793639  0.90915605 0.42750547 0.23784409 0.84607159\n",
      "  0.71908853 0.49547459 0.24839763 0.48694591 0.8759939  0.24181071\n",
      "  0.48304902 0.69539985 0.34272991 0.5449984  0.47193301 0.48591469\n",
      "  0.21497693 0.65950276 0.54215634 0.54998891 0.16671287 0.85642893\n",
      "  0.28929403 0.3316839  0.53576968 0.5388345  0.23631753 0.62689168\n",
      "  0.13699984 0.25075474 0.36802031 0.55578418 0.30900567 0.56444697\n",
      "  0.48940841 0.57591693 0.10813618 0.17716572 0.15621331 0.57060938\n",
      "  0.59036278 0.67854817 0.43400747 0.24290113 0.61037783 0.2711464\n",
      "  0.3825707  0.2012193  0.29737227 0.13284869 0.45797196 0.58049456\n",
      "  0.22639223 0.75548304 0.63499305 0.03005194 0.45172969 0.51440517\n",
      "  0.28328298 0.69756879 0.37824836 0.12424685]\n",
      " [0.36169189 0.48003891 0.4741719  0.77972427 0.20636406 0.12052814\n",
      "  0.28162075 1.03596786 0.37673264 0.82676019 0.19576049 0.\n",
      "  0.77881283 0.34441905 0.05612735 0.95555559 0.16552392 0.09036708\n",
      "  0.35549154 0.714268   0.75485187 0.25736767 0.93474582 0.13688755\n",
      "  0.78566917 0.42517237 0.70288925 0.67492535 0.83959268 0.59382509\n",
      "  0.42270773 0.78124393 0.45744404 0.3438641  0.37516588 0.51468826\n",
      "  0.36018717 0.56961341 1.10491011 0.61656601 0.36651747 1.04183127\n",
      "  0.89914409 0.66387789 0.34323365 0.59270388 1.07167235 0.07406019\n",
      "  0.63367029 0.79008673 0.14834478 0.71884573 0.55151723 0.62521361\n",
      "  0.35976355 0.81966681 0.72022269 0.73781939 0.35967933 1.05218184\n",
      "  0.42690846 0.44496879 0.59802988 0.70753345 0.14807106 0.81531392\n",
      "  0.32909227 0.44648192 0.54071652 0.67184682 0.28376691 0.7311727\n",
      "  0.54728996 0.76670251 0.13126806 0.26564723 0.17084669 0.76184022\n",
      "  0.7752299  0.87411536 0.58177235 0.1547177  0.78538453 0.22345409\n",
      "  0.53423073 0.36664415 0.45269666 0.15858043 0.64849975 0.77625505\n",
      "  0.39879122 0.94747413 0.80743408 0.16752225 0.50621514 0.66835516\n",
      "  0.4630823  0.88455732 0.46537395 0.25975371]\n",
      " [0.58936144 0.89492237 0.53452025 0.032722   0.57764495 0.73600708\n",
      "  0.6744391  0.45913223 0.53242695 0.16154368 0.60372089 0.77881283\n",
      "  0.         0.57367862 0.8300486  0.40169548 0.82831242 0.8605824\n",
      "  0.42558145 0.84327138 0.59815124 0.6818175  0.56298089 0.90150269\n",
      "  0.23451939 0.46306405 0.2038812  0.69442502 0.1961939  0.22890647\n",
      "  0.52557609 0.85463346 0.46080239 0.44255123 0.44109521 0.3233939\n",
      "  0.44740026 0.44415935 0.48974777 0.20727495 0.4293243  0.44875047\n",
      "  0.63387662 0.12051775 0.72689367 0.82059326 0.48758718 0.83951825\n",
      "  0.68371589 0.98511416 0.92406023 0.06018643 0.43779814 0.23627038\n",
      "  0.4243223  0.72766984 0.56682098 0.12673663 0.49929551 0.46014194\n",
      "  0.66180772 0.39356149 0.49164646 0.08148117 0.72249798 0.1354524\n",
      "  0.52158779 0.40332507 0.55900898 0.83376252 0.65711788 0.64507539\n",
      "  0.49872213 0.16132712 0.71077807 0.53399703 0.63093058 0.16827185\n",
      "  0.52897932 0.31404784 0.67512197 0.72388029 0.00666154 0.85871937\n",
      "  0.26414161 0.41217609 0.33196426 0.72771203 0.19781169 0.31206766\n",
      "  0.563178   0.51870681 0.03640618 0.62388624 0.50598328 0.6836806\n",
      "  0.52634357 0.15585511 0.43490352 0.64531261]\n",
      " [0.02895388 0.33837713 0.12975326 0.56143611 0.27679876 0.23767343\n",
      "  0.10621639 0.71627116 0.46422287 0.56211237 0.17221943 0.34441905\n",
      "  0.57367862 0.         0.36968664 0.63773199 0.48822791 0.38614484\n",
      "  0.22605611 0.43283835 0.41158747 0.46820921 0.59278824 0.41015488\n",
      "  0.4961139  0.11510396 0.42904303 0.3510867  0.56438992 0.47919365\n",
      "  0.50567094 0.48725519 0.13359678 0.29884744 0.36808212 0.45040496\n",
      "  0.35020471 0.23394175 0.78923101 0.37089192 0.33039831 0.72526379\n",
      "  0.55485678 0.48756423 0.15515928 0.33920583 0.75109599 0.36597266\n",
      "  0.31197615 0.54688245 0.47901863 0.52162574 0.57292179 0.52554902\n",
      "  0.29591321 0.48737302 0.3761309  0.48827761 0.07939918 0.7346323\n",
      "  0.13355336 0.42018355 0.64480584 0.52668355 0.40843028 0.55900378\n",
      "  0.07296774 0.17056146 0.1980145  0.39845116 0.47269284 0.3931089\n",
      "  0.60451006 0.50123896 0.21784235 0.31743574 0.32546661 0.49423101\n",
      "  0.43145576 0.56793724 0.26425252 0.41506972 0.58013246 0.30659154\n",
      "  0.41696784 0.25653208 0.34138057 0.20818327 0.39225273 0.46520788\n",
      "  0.05509366 0.61003044 0.60890107 0.20024935 0.57180693 0.34257334\n",
      "  0.11904367 0.63162082 0.48274304 0.09448556]\n",
      " [0.38355219 0.4618027  0.49853079 0.82998551 0.2612031  0.13302893\n",
      "  0.29364885 1.07335863 0.43167068 0.87281398 0.23697625 0.05612735\n",
      "  0.8300486  0.36968664 0.         0.99323676 0.18657273 0.03430094\n",
      "  0.40520149 0.71300103 0.77511996 0.30559333 0.96246394 0.08094262\n",
      "  0.82813045 0.4596424  0.74698121 0.68551746 0.88439679 0.64852359\n",
      "  0.47726669 0.78192495 0.4902418  0.3981469  0.43102669 0.57032552\n",
      "  0.41586652 0.60034158 1.14347706 0.66300427 0.42156881 1.0800425\n",
      "  0.92111818 0.71621391 0.34446961 0.58852529 1.10889827 0.02213537\n",
      "  0.64415589 0.77965799 0.10947122 0.77025813 0.6071178  0.68053515\n",
      "  0.41358496 0.83218968 0.74205794 0.78497807 0.39482862 1.09016874\n",
      "  0.43722937 0.50094009 0.6525846  0.75990561 0.19557116 0.86225199\n",
      "  0.36406929 0.48631495 0.56168328 0.66964258 0.33364221 0.74730882\n",
      "  0.60176707 0.81229863 0.15189268 0.32149991 0.226953   0.80714606\n",
      "  0.80080174 0.91411609 0.59195665 0.20152848 0.83664856 0.19367825\n",
      "  0.58837296 0.41811591 0.50611358 0.16775398 0.69417609 0.81482427\n",
      "  0.42241429 0.97828977 0.85927022 0.21107974 0.56067296 0.67970266\n",
      "  0.48862737 0.93221317 0.5213747  0.27924909]\n",
      " [0.63501389 0.85346722 0.52652577 0.36988864 0.79587057 0.86797909\n",
      "  0.73937056 0.08059333 0.84495329 0.24027764 0.75983241 0.95555559\n",
      "  0.40169548 0.63773199 0.99323676 0.         1.06092281 1.01519037\n",
      "  0.63127892 0.67033105 0.37802551 0.95837892 0.2121756  1.04434962\n",
      "  0.19934661 0.53452777 0.28643164 0.52860384 0.20576332 0.58477692\n",
      "  0.8552141  0.64738749 0.5065456  0.69380641 0.72808445 0.66075581\n",
      "  0.72491427 0.40710651 0.15150695 0.38374054 0.69858734 0.08753374\n",
      "  0.31935142 0.47288094 0.7496024  0.71079196 0.11645504 0.99399198\n",
      "  0.54313971 0.8014852  1.10138829 0.42428457 0.80496844 0.6118257\n",
      "  0.67483668 0.47712079 0.37293485 0.30960196 0.59859237 0.09709169\n",
      "  0.64740459 0.71052571 0.86993676 0.45920143 0.95835458 0.26644253\n",
      "  0.62931337 0.50948232 0.49553289 0.68250459 0.94277521 0.44186974\n",
      "  0.86539075 0.26207498 0.84497455 0.78185372 0.85803944 0.25993143\n",
      "  0.2958733  0.09645845 0.5666482  0.96242387 0.40129092 0.94009721\n",
      "  0.58504874 0.6377739  0.60804739 0.84323393 0.34912715 0.17990923\n",
      "  0.59530152 0.15023701 0.41870163 0.78859202 0.86171817 0.52162775\n",
      "  0.52992147 0.26903537 0.77209419 0.73185024]\n",
      " [0.50951499 0.64407811 0.61586988 0.83555094 0.26590543 0.28416427\n",
      "  0.44074669 1.14139425 0.33884442 0.90363883 0.32049121 0.16552392\n",
      "  0.82831242 0.48822791 0.18657273 1.06092281 0.         0.20798839\n",
      "  0.43252948 0.87786412 0.89892689 0.17673279 1.06460781 0.24339286\n",
      "  0.87772225 0.5495011  0.79043124 0.83088567 0.92163773 0.61727692\n",
      "  0.37554297 0.94383079 0.58433746 0.38838202 0.39042914 0.52595377\n",
      "  0.38179308 0.69801921 1.20615604 0.69654383 0.3990027  1.14473823\n",
      "  1.03955195 0.70829638 0.50711402 0.75745186 1.17726625 0.20777447\n",
      "  0.78997466 0.95560452 0.17049691 0.76855409 0.51443968 0.6380094\n",
      "  0.40750892 0.97296953 0.86228175 0.81135082 0.4852551  1.15567631\n",
      "  0.58507152 0.45061907 0.54195345 0.75041375 0.1063797  0.88832755\n",
      "  0.45660532 0.5562673  0.68615673 0.83587197 0.20926462 0.880903\n",
      "  0.49215202 0.84671618 0.29051283 0.29533662 0.20466081 0.84319311\n",
      "  0.91057432 0.97326091 0.73868453 0.10447899 0.83454535 0.37988262\n",
      "  0.56695996 0.43235219 0.49716121 0.32210028 0.73089719 0.88131461\n",
      "  0.54330515 1.07066024 0.85203883 0.29066206 0.45269831 0.82365174\n",
      "  0.60318024 0.95287798 0.44505821 0.41338244]\n",
      " [0.39794129 0.45119953 0.51360889 0.85989137 0.29443364 0.14865399\n",
      "  0.30346189 1.09506576 0.4657557  0.90004099 0.26337343 0.09036708\n",
      "  0.8605824  0.38614484 0.03430094 1.01519037 0.20798839 0.\n",
      "  0.43521472 0.71180023 0.78682805 0.3373013  0.97836234 0.04666687\n",
      "  0.8531775  0.48077224 0.77311264 0.69162312 0.91083797 0.6814437\n",
      "  0.51122283 0.78172393 0.51027315 0.43089768 0.4648866  0.60397196\n",
      "  0.449576   0.61876665 1.16586147 0.69066237 0.45481435 1.10225129\n",
      "  0.93358357 0.74751445 0.34712068 0.58599729 1.13047643 0.02157244\n",
      "  0.65033746 0.77264576 0.09718347 0.80093374 0.64136997 0.71391207\n",
      "  0.44603115 0.83908241 0.75478799 0.81295952 0.41668002 1.11223127\n",
      "  0.44440735 0.5348988  0.68651406 0.79121064 0.2275092  0.89003855\n",
      "  0.38602146 0.51042692 0.57446953 0.66800836 0.36593832 0.75658917\n",
      "  0.635675   0.83928924 0.17045708 0.35537571 0.26121354 0.83396189\n",
      "  0.81565618 0.93756857 0.59816135 0.23318737 0.86719787 0.17924372\n",
      "  0.62092562 0.44913284 0.53823184 0.17954862 0.72133384 0.83751293\n",
      "  0.43751592 0.99605644 0.89018446 0.23892751 0.59457997 0.68628396\n",
      "  0.50444948 0.96040816 0.55567318 0.2935528 ]\n",
      " [0.25367305 0.55860183 0.29000657 0.42478934 0.16675729 0.31359029\n",
      "  0.2940326  0.71137497 0.26528566 0.47497374 0.18056776 0.35549154\n",
      "  0.42558145 0.22605611 0.40520149 0.63127892 0.43252948 0.43521472\n",
      "  0.         0.64242957 0.54017505 0.3332441  0.66159636 0.4759247\n",
      "  0.44521717 0.1842274  0.35799407 0.53371358 0.49078879 0.27103879\n",
      "  0.29896893 0.68780635 0.21621052 0.08494879 0.15133186 0.22654777\n",
      "  0.13609613 0.31327555 0.77449896 0.26549899 0.11121923 0.71372651\n",
      "  0.66124535 0.31514195 0.36898705 0.56118483 0.74717062 0.41406239\n",
      "  0.50064752 0.76585021 0.50281164 0.36619782 0.34830155 0.31366297\n",
      "  0.07484911 0.64677492 0.49968181 0.38425653 0.15444315 0.72483302\n",
      "  0.35721803 0.19501414 0.42155079 0.35862204 0.32807933 0.46186455\n",
      "  0.15315223 0.15197786 0.3592296  0.61275855 0.32323764 0.54574975\n",
      "  0.38405247 0.41637422 0.28869541 0.15389042 0.22803765 0.4123242\n",
      "  0.52537675 0.54168121 0.46189001 0.3317874  0.43221305 0.44750541\n",
      "  0.20654526 0.03049762 0.12291376 0.31068677 0.29923119 0.45299101\n",
      "  0.25518272 0.65693345 0.45587951 0.19862635 0.35459222 0.52337756\n",
      "  0.27459873 0.52995668 0.26059555 0.25461572]\n",
      " [0.40422617 0.3012256  0.35706434 0.81785331 0.70708648 0.59403033\n",
      "  0.44020919 0.72243828 0.89571508 0.74875072 0.59364924 0.714268\n",
      "  0.84327138 0.43283835 0.71300103 0.67033105 0.87786412 0.71180023\n",
      "  0.64242957 0.         0.29235221 0.89420794 0.49725594 0.71046401\n",
      "  0.65343401 0.46439537 0.64262876 0.15146383 0.73043263 0.84583777\n",
      "  0.93559799 0.07277083 0.44059172 0.72355306 0.79251612 0.84749853\n",
      "  0.77579747 0.40409547 0.79535652 0.65020595 0.75297662 0.74115246\n",
      "  0.39258711 0.80629039 0.37103587 0.12766769 0.74634447 0.69864745\n",
      "  0.16037706 0.1420228  0.80697952 0.81184841 0.98759251 0.89354186\n",
      "  0.7168644  0.22038911 0.30317566 0.7213261  0.48964105 0.74490397\n",
      "  0.30448042 0.83498612 1.06225865 0.83237004 0.81928364 0.7609428\n",
      "  0.49987979 0.51830566 0.30033641 0.04445414 0.90194446 0.22869745\n",
      "  1.02636835 0.70440095 0.58780046 0.75027093 0.74976027 0.6958575\n",
      "  0.3753197  0.65896096 0.18342593 0.82652159 0.84818646 0.54595795\n",
      "  0.79387577 0.67186057 0.73719421 0.55597462 0.64863888 0.57881957\n",
      "  0.39010734 0.55239772 0.87877239 0.61676581 0.9967705  0.16145396\n",
      "  0.37174957 0.82120813 0.90272132 0.47441449]\n",
      " [0.39317018 0.50620503 0.28305987 0.56877744 0.66516722 0.64218136\n",
      "  0.48351001 0.43262082 0.80436573 0.47851383 0.57927041 0.75485187\n",
      "  0.59815124 0.41158747 0.77511996 0.37802551 0.89892689 0.78682805\n",
      "  0.54017505 0.29235221 0.         0.85686802 0.22227318 0.80266245\n",
      "  0.38222868 0.36447203 0.39501085 0.15470388 0.45524235 0.66145269\n",
      "  0.83403536 0.27532399 0.32903701 0.62431052 0.68523098 0.69271266\n",
      "  0.67292235 0.22821276 0.50693067 0.43508732 0.64577518 0.45059834\n",
      "  0.14777303 0.59154346 0.45747255 0.34359282 0.4585538  0.76821706\n",
      "  0.17882587 0.42601891 0.88286357 0.57997024 0.84606028 0.70582832\n",
      "  0.61084174 0.12991119 0.04067268 0.47148585 0.42148559 0.45501843\n",
      "  0.34970877 0.70531171 0.92143658 0.60710155 0.81377668 0.49490776\n",
      "  0.44680465 0.38877364 0.21413537 0.30565965 0.85389501 0.0639435\n",
      "  0.89632992 0.44408924 0.62539986 0.68419664 0.72243881 0.43589341\n",
      "  0.08362429 0.37107233 0.21778222 0.81994221 0.6019507  0.66242072\n",
      "  0.62424861 0.56305974 0.59389974 0.60790666 0.42110662 0.30238507\n",
      "  0.3566218  0.26849852 0.63108653 0.60871821 0.87575692 0.14979434\n",
      "  0.29598775 0.54722643 0.7766009  0.49636053]\n",
      " [0.49505527 0.70817016 0.58153724 0.69327927 0.19319973 0.33945886\n",
      "  0.45969897 1.03749037 0.16533767 0.77637773 0.30059695 0.25736767\n",
      "  0.6818175  0.46820921 0.30559333 0.95837892 0.17673279 0.3373013\n",
      "  0.3332441  0.89420794 0.85686802 0.         0.99396588 0.38186884\n",
      "  0.76527106 0.49263888 0.67619899 0.81862492 0.79853013 0.46032284\n",
      "  0.19919131 0.95307443 0.52830421 0.26460394 0.24221366 0.36561688\n",
      "  0.23951955 0.63709282 1.09670733 0.57873649 0.26318779 1.03800011\n",
      "  0.98703314 0.56146318 0.53944233 0.78545182 1.0729834  0.32710597\n",
      "  0.78002727 0.99282475 0.33527601 0.62362465 0.33817669 0.47491402\n",
      "  0.28368987 0.94968067 0.8174485  0.6836087  0.43662945 1.04940568\n",
      "  0.58989081 0.29095352 0.36595071 0.60139128 0.1100399  0.75813846\n",
      "  0.41426449 0.47963623 0.6549116  0.85602851 0.03254483 0.85131775\n",
      "  0.31582532 0.72366552 0.33198008 0.17935843 0.14445596 0.72145692\n",
      "  0.85241465 0.86574457 0.73237166 0.10412635 0.68769068 0.47506318\n",
      "  0.41770436 0.32176704 0.36082261 0.37071125 0.61392123 0.78268171\n",
      "  0.51949097 0.99017188 0.70188331 0.27807032 0.27609537 0.8097408\n",
      "  0.56683062 0.81753098 0.27359434 0.42156342]\n",
      " [0.58063318 0.72839627 0.46483365 0.53032918 0.81137887 0.83028561\n",
      "  0.68000456 0.23722906 0.90998612 0.40900344 0.74612464 0.93474582\n",
      "  0.56298089 0.59278824 0.96246394 0.2121756  1.06460781 0.97836234\n",
      "  0.66159636 0.49725594 0.22227318 0.99396588 0.         0.99942319\n",
      "  0.3293024  0.51511584 0.38959162 0.37461237 0.37632218 0.69891108\n",
      "  0.93044499 0.46103341 0.48049098 0.73862222 0.78823311 0.75624183\n",
      "  0.78018374 0.36681208 0.30411327 0.46947197 0.75238585 0.25825464\n",
      "  0.11284594 0.60141019 0.66680293 0.56424475 0.25481059 0.95848331\n",
      "  0.40106691 0.61664562 1.07180541 0.56769943 0.90971907 0.73550025\n",
      "  0.72173235 0.28487777 0.2383339  0.44609009 0.57973327 0.25904991\n",
      "  0.55846784 0.78932391 0.98127643 0.60104345 0.97016807 0.43289644\n",
      "  0.60912514 0.51518814 0.40920401 0.51847084 0.98483066 0.28140258\n",
      "  0.96674767 0.40333787 0.81058732 0.81492822 0.87259525 0.39748695\n",
      "  0.16498735 0.25984867 0.4388037  0.97549776 0.56448424 0.87003913\n",
      "  0.6806488  0.67720158 0.67768378 0.79914817 0.44161374 0.25899589\n",
      "  0.54086126 0.06344514 0.58807419 0.77617197 0.95472424 0.37089512\n",
      "  0.47399169 0.45892662 0.85789451 0.68484829]\n",
      " [0.41921864 0.43836089 0.53494626 0.89995007 0.33945927 0.17682982\n",
      "  0.32012842 1.12381067 0.51235228 0.93642896 0.30056272 0.13688755\n",
      "  0.90150269 0.41015488 0.08094262 1.04434962 0.24339286 0.04666687\n",
      "  0.4759247  0.71046401 0.80266245 0.38186884 0.99942319 0.\n",
      "  0.88668174 0.51007367 0.80816778 0.70025276 0.94615461 0.72577795\n",
      "  0.55772944 0.78151164 0.53802966 0.47514515 0.51066463 0.64939037\n",
      "  0.49513536 0.64401027 1.19546181 0.72785899 0.49971405 1.13166835\n",
      "  0.95010574 0.78955558 0.35374959 0.58341895 1.15901385 0.06437881\n",
      "  0.65923504 0.76314487 0.10108792 0.84208413 0.6880368  0.75890112\n",
      "  0.4898594  0.84831238 0.77207547 0.85044595 0.44723785 1.1414412\n",
      "  0.45589975 0.58081475 0.73299162 0.83323315 0.27250581 0.92719217\n",
      "  0.41690171 0.54341495 0.59249419 0.66625517 0.41102498 0.76925888\n",
      "  0.68213784 0.87541655 0.20081997 0.40121682 0.3076991  0.86985999\n",
      "  0.83562408 0.96883281 0.60733183 0.27793155 0.90813586 0.16672515\n",
      "  0.66476876 0.49109653 0.58153602 0.20202955 0.75782434 0.86788625\n",
      "  0.45937512 1.01960343 0.9316154  0.27798156 0.64104427 0.69557285\n",
      "  0.52680359 0.99806327 0.60225708 0.31600424]\n",
      " [0.50078876 0.76791519 0.40936272 0.20211    0.61184469 0.71026449\n",
      "  0.6021288  0.27482305 0.64665687 0.09641159 0.59128973 0.78566917\n",
      "  0.23451939 0.4961139  0.82813045 0.19934661 0.87772225 0.8531775\n",
      "  0.44521717 0.65343401 0.38222868 0.76527106 0.3293024  0.88668174\n",
      "  0.         0.38308722 0.08910371 0.50199874 0.07811992 0.38827891\n",
      "  0.6560274  0.65228784 0.3631128  0.50107042 0.53118207 0.46168648\n",
      "  0.52904    0.2927058  0.33144422 0.1868909  0.50334272 0.27339029\n",
      "  0.40061713 0.28021797 0.63053539 0.65723458 0.30957226 0.83164439\n",
      "  0.50108872 0.79445138 0.93363864 0.23980848 0.60756435 0.41854985\n",
      "  0.48179378 0.50841728 0.35706543 0.11845528 0.4413614  0.28495445\n",
      "  0.54098889 0.51138586 0.67421368 0.27393785 0.77315553 0.11345095\n",
      "  0.47090251 0.34327494 0.40487482 0.65247401 0.74813285 0.43678913\n",
      "  0.6675904  0.07404204 0.68590834 0.59144907 0.67324474 0.06850495\n",
      "  0.30555707 0.10307355 0.50633214 0.77668257 0.23648898 0.80248799\n",
      "  0.38581472 0.44796003 0.41050109 0.69050243 0.15176785 0.08116378\n",
      "  0.46451725 0.28888218 0.26191293 0.61837454 0.66286942 0.49223697\n",
      "  0.40745973 0.16777413 0.57276076 0.58591531]\n",
      " [0.12672501 0.43545043 0.10767776 0.44913801 0.3021184  0.33349665\n",
      "  0.22104949 0.61430564 0.44847684 0.44709072 0.23207915 0.42517237\n",
      "  0.46306405 0.11510396 0.4596424  0.53452777 0.5495011  0.48077224\n",
      "  0.1842274  0.46439537 0.36447203 0.49263888 0.51511584 0.51007367\n",
      "  0.38308722 0.         0.31406288 0.34970909 0.44993962 0.39388217\n",
      "  0.48317685 0.50584827 0.03578541 0.26888495 0.33530978 0.38408876\n",
      "  0.32032353 0.14866975 0.68545984 0.25785692 0.2950927  0.62172632\n",
      "  0.49591228 0.38477861 0.26419227 0.39646395 0.6497042  0.45964982\n",
      "  0.31754345 0.59383874 0.56850878 0.41333535 0.52354473 0.44162093\n",
      "  0.25876073 0.46450081 0.32485447 0.37358354 0.06555153 0.63160316\n",
      "  0.20649234 0.37162998 0.59854514 0.42154145 0.45656095 0.44391138\n",
      "  0.0960845  0.0627272  0.17502777 0.4381736  0.48945612 0.36392172\n",
      "  0.56436736 0.38616099 0.3104593  0.32022112 0.36126156 0.37918802\n",
      "  0.36324187 0.45950346 0.28158143 0.46220173 0.46940524 0.41976752\n",
      "  0.33620341 0.21160406 0.27325795 0.30998522 0.27773091 0.35793962\n",
      "  0.1015576  0.52340634 0.49878457 0.2620043  0.53700127 0.33929394\n",
      "  0.09270363 0.51652395 0.44067711 0.2028396 ]\n",
      " [0.43740069 0.72250237 0.358577   0.17611212 0.52475134 0.63272731\n",
      "  0.53510947 0.36330948 0.55854714 0.13310146 0.51006255 0.70288925\n",
      "  0.2038812  0.42904303 0.74698121 0.28643164 0.79043124 0.77311264\n",
      "  0.35799407 0.64262876 0.39501085 0.67619899 0.38959162 0.80816778\n",
      "  0.08910371 0.31406288 0.         0.49257793 0.13807163 0.31118193\n",
      "  0.56919658 0.65142391 0.29959907 0.41209484 0.44235997 0.37812655\n",
      "  0.44001011 0.25253392 0.4205089  0.09785703 0.41425354 0.3623887\n",
      "  0.44344543 0.21241621 0.57175443 0.62924685 0.3982955  0.75154166\n",
      "  0.48434766 0.78464995 0.85116651 0.18730338 0.52734355 0.34610933\n",
      "  0.39279175 0.52479955 0.36303698 0.07876833 0.36749044 0.37391993\n",
      "  0.4906454  0.42448367 0.59630118 0.21753193 0.68546591 0.13246129\n",
      "  0.3958234  0.2670878  0.36889864 0.63563586 0.65903584 0.44119426\n",
      "  0.5864806  0.07285149 0.60797812 0.50277725 0.58580402 0.06539072\n",
      "  0.32894172 0.19107786 0.48042944 0.68885366 0.20809178 0.73289402\n",
      "  0.30176431 0.35960594 0.32188287 0.61526844 0.06284901 0.13135703\n",
      "  0.40400762 0.35853606 0.23803005 0.53626862 0.57952447 0.48200151\n",
      "  0.35381576 0.2042242  0.48745527 0.51499926]\n",
      " [0.32563816 0.35893417 0.24441646 0.6683089  0.62603498 0.55599328\n",
      "  0.39351707 0.58639526 0.79619727 0.59728818 0.52269223 0.67492535\n",
      "  0.69442502 0.3510867  0.68551746 0.52860384 0.83088567 0.69162312\n",
      "  0.53371358 0.15146383 0.15470388 0.81862492 0.37461237 0.70025276\n",
      "  0.50199874 0.34970909 0.49257793 0.         0.57909336 0.71177699\n",
      "  0.83235682 0.16442918 0.32011767 0.61794571 0.68496173 0.72305876\n",
      "  0.66972154 0.26205691 0.66112899 0.50587917 0.64476033 0.60390514\n",
      "  0.28415487 0.6635429  0.34654384 0.1896327  0.61295718 0.67510665\n",
      "  0.04136409 0.29300783 0.78880634 0.66530354 0.86935344 0.75890994\n",
      "  0.60840586 0.14816624 0.1561686  0.57134392 0.3893713  0.60872106\n",
      "  0.24848843 0.7194257  0.94491886 0.68734714 0.75792536 0.60959065\n",
      "  0.40681095 0.3953219  0.17491991 0.15472574 0.82150456 0.09321862\n",
      "  0.9127943  0.5533097  0.5437537  0.65922122 0.67650072 0.54477479\n",
      "  0.23308945 0.51045934 0.09356266 0.7647486  0.69917534 0.54720028\n",
      "  0.66383557 0.56130965 0.61517033 0.51891939 0.50176741 0.42784311\n",
      "  0.29915777 0.42308112 0.72962419 0.54967491 0.88640957 0.01116918\n",
      "  0.2598808  0.66977088 0.78937447 0.41753171]\n",
      " [0.57099345 0.8443787  0.48393091 0.16417962 0.65704675 0.77079618\n",
      "  0.67060563 0.26775762 0.66881725 0.03466915 0.64761603 0.83959268\n",
      "  0.1961939  0.56438992 0.88439679 0.20576332 0.92163773 0.91083797\n",
      "  0.49078879 0.73043263 0.45524235 0.79853013 0.37632218 0.94615461\n",
      "  0.07811992 0.44993962 0.13807163 0.57909336 0.         0.38869776\n",
      "  0.67279122 0.72746966 0.43282059 0.53752143 0.55901932 0.47205259\n",
      "  0.55939179 0.36905328 0.30932063 0.22534208 0.53536671 0.26017495\n",
      "  0.45967742 0.27348422 0.70298734 0.73534602 0.29884858 0.88926553\n",
      "  0.57892378 0.87111159 0.98793346 0.22050784 0.60881809 0.4112117\n",
      "  0.51805642 0.57919848 0.43208376 0.11680139 0.50503775 0.27188944\n",
      "  0.61603062 0.52995577 0.67057971 0.25526687 0.81587726 0.06075294\n",
      "  0.5336384  0.40493368 0.48226085 0.7301616  0.77891559 0.51160304\n",
      "  0.66987068 0.07511925 0.74603667 0.63001881 0.71713603 0.07849098\n",
      "  0.37610367 0.11937303 0.58444772 0.81885244 0.19609327 0.86955954\n",
      "  0.39906329 0.48930147 0.43832407 0.75321419 0.19174479 0.15311043\n",
      "  0.53592578 0.32702171 0.21553724 0.67347195 0.66994241 0.56945823\n",
      "  0.4811817  0.0919841  0.58569225 0.65192496]\n",
      " [0.50305365 0.81757048 0.49441753 0.2474343  0.38746573 0.57742409\n",
      "  0.56157659 0.65441923 0.30517666 0.35834502 0.44652335 0.59382509\n",
      "  0.22890647 0.47919365 0.64852359 0.58477692 0.61727692 0.6814437\n",
      "  0.27103879 0.84583777 0.66145269 0.46032284 0.69891108 0.72577795\n",
      "  0.38827891 0.39388217 0.31118193 0.71177699 0.38869776 0.\n",
      "  0.29667033 0.87584294 0.40961492 0.25063281 0.22734509 0.09565583\n",
      "  0.23822002 0.45129375 0.69768957 0.23263578 0.22763008 0.64833969\n",
      "  0.74105616 0.11638169 0.6314759  0.78955475 0.68675145 0.66163743\n",
      "  0.68867574 0.98142364 0.73169172 0.17683995 0.22047703 0.04791069\n",
      "  0.23644802 0.78754295 0.62294871 0.2756232  0.40001446 0.66009505\n",
      "  0.59801595 0.16936933 0.285973   0.14763369 0.51399639 0.33462032\n",
      "  0.41083923 0.33308209 0.54551158 0.8249198  0.43366294 0.69093646\n",
      "  0.28133109 0.32298776 0.55342706 0.33206114 0.43145873 0.32484756\n",
      "  0.61353166 0.48881785 0.66342915 0.5142475  0.23403089 0.71691387\n",
      "  0.06449378 0.24611127 0.14931035 0.57901921 0.25753447 0.44237808\n",
      "  0.49105567 0.66971783 0.24389726 0.45893766 0.28209402 0.70062294\n",
      "  0.48137883 0.37880162 0.20601332 0.52391168]\n",
      " [0.53462359 0.80690918 0.58815474 0.54318636 0.26012227 0.46741999\n",
      "  0.5380155  0.93030478 0.04762147 0.64552536 0.37497689 0.42270773\n",
      "  0.52557609 0.50567094 0.47726669 0.8552141  0.37554297 0.51122283\n",
      "  0.29896893 0.93559799 0.83403536 0.19919131 0.93044499 0.55772944\n",
      "  0.6560274  0.48317685 0.56919658 0.83235682 0.67279122 0.29667033\n",
      "  0.         0.98433652 0.51493859 0.21441482 0.14904111 0.20335594\n",
      "  0.16291316 0.60582262 0.98093238 0.47342959 0.18900916 0.92711377\n",
      "  0.94599269 0.41004602 0.62089559 0.84439448 0.9644257  0.49668769\n",
      "  0.79855743 1.05251916 0.52689843 0.47220576 0.13898539 0.29822442\n",
      "  0.22492806 0.94461999 0.79336417 0.55613342 0.44660038 0.93884426\n",
      "  0.63892385 0.14471497 0.17533369 0.4442437  0.29239367 0.62372559\n",
      "  0.43600781 0.44628902 0.65812452 0.90321571 0.16693059 0.8434819\n",
      "  0.12459099 0.60118196 0.45112006 0.19784439 0.2587109  0.60100202\n",
      "  0.81026155 0.75910023 0.75794882 0.2889779  0.53068633 0.61572251\n",
      "  0.27374287 0.27275993 0.25305537 0.4882706  0.5070694  0.6917061\n",
      "  0.54549074 0.91442767 0.53930782 0.36653006 0.08354649 0.82210583\n",
      "  0.57269575 0.67364098 0.09080025 0.49546937]\n",
      " [0.45928661 0.37362638 0.39836338 0.82753584 0.76363826 0.6607611\n",
      "  0.50411635 0.69312937 0.94599373 0.74859423 0.65272158 0.78124393\n",
      "  0.85463346 0.48725519 0.78192495 0.64738749 0.94383079 0.78172393\n",
      "  0.68780635 0.07277083 0.27532399 0.95307443 0.46103341 0.78151164\n",
      "  0.65228784 0.50584827 0.65142391 0.16442918 0.72746966 0.87584294\n",
      "  0.98433652 0.         0.4788015  0.77068006 0.83893635 0.88464378\n",
      "  0.82286707 0.42647695 0.76381186 0.66959903 0.79897181 0.71280953\n",
      "  0.35133811 0.8275451  0.43840572 0.19998861 0.71448005 0.76809177\n",
      "  0.18915047 0.15565833 0.87735414 0.82772051 1.02875681 0.92307891\n",
      "  0.76263333 0.17638266 0.29539374 0.73003587 0.53786123 0.71552334\n",
      "  0.36400613 0.87742095 1.10403323 0.85057213 0.88186503 0.76295801\n",
      "  0.55101379 0.55552843 0.33420289 0.11700214 0.95930906 0.21593604\n",
      "  1.07019077 0.70870738 0.6533469  0.80350431 0.80888685 0.70025326\n",
      "  0.35857549 0.64637548 0.22639481 0.88902003 0.85915152 0.61762815\n",
      "  0.82703752 0.71646018 0.77568296 0.62268584 0.66427364 0.57441843\n",
      "  0.44080668 0.51969622 0.88934269 0.67704824 1.04222328 0.1755958\n",
      "  0.41362311 0.81923998 0.94647462 0.53631405]\n",
      " [0.13817961 0.43416194 0.08486751 0.44459924 0.33790376 0.36216926\n",
      "  0.23915968 0.58581194 0.4812983  0.43249328 0.26584602 0.45744404\n",
      "  0.46080239 0.13359678 0.4902418  0.5065456  0.58433746 0.51027315\n",
      "  0.21621052 0.44059172 0.32903701 0.52830421 0.48049098 0.53802966\n",
      "  0.3631128  0.03578541 0.29959907 0.32011767 0.43282059 0.40961492\n",
      "  0.51493859 0.4788015  0.         0.30114753 0.36643249 0.40701343\n",
      "  0.35203981 0.1137051  0.65787077 0.25367412 0.32622125 0.59398016\n",
      "  0.4601399  0.39052874 0.27245377 0.38046496 0.62098559 0.48935074\n",
      "  0.28976726 0.57302234 0.59944145 0.4140127  0.55001817 0.45752359\n",
      "  0.2900636  0.43086315 0.28929586 0.36398273 0.09924795 0.60361583\n",
      "  0.20143937 0.3993725  0.62539802 0.42508366 0.49204534 0.43128127\n",
      "  0.12897376 0.07777216 0.14530161 0.41668183 0.52486276 0.33000847\n",
      "  0.59268925 0.37236839 0.33982396 0.35530301 0.39699291 0.36498821\n",
      "  0.32764412 0.43464032 0.25716897 0.49773124 0.46696829 0.44013805\n",
      "  0.35457675 0.24241595 0.29716325 0.33668892 0.26951144 0.33214599\n",
      "  0.10479151 0.49018121 0.49694733 0.29586429 0.56648651 0.30947725\n",
      "  0.07189251 0.50358911 0.46925981 0.22615963]\n",
      " [0.32748442 0.62033997 0.37380535 0.44795115 0.13781818 0.33163434\n",
      "  0.35034375 0.77288737 0.18042698 0.51746075 0.20647163 0.3438641\n",
      "  0.44255123 0.29884744 0.3981469  0.69380641 0.38838202 0.43089768\n",
      "  0.08494879 0.72355306 0.62431052 0.26460394 0.73862222 0.47514515\n",
      "  0.50107042 0.26888495 0.41209484 0.61794571 0.53752143 0.25063281\n",
      "  0.21441482 0.77068006 0.30114753 0.         0.06936263 0.18038098\n",
      "  0.05225553 0.39677592 0.83249131 0.31506794 0.0327281  0.77349296\n",
      "  0.74302603 0.32411067 0.43029352 0.63758645 0.80838875 0.41101816\n",
      "  0.58431515 0.84411138 0.48471126 0.38242198 0.27610825 0.28514143\n",
      "  0.01946513 0.73170343 0.58374491 0.42471447 0.23391992 0.78487656\n",
      "  0.43217358 0.12726596 0.34643823 0.36732205 0.28201198 0.50105974\n",
      "  0.22674668 0.23557555 0.44374974 0.69255718 0.24979139 0.63066193\n",
      "  0.30568294 0.4624085  0.30877779 0.09324631 0.18837949 0.45963144\n",
      "  0.606972   0.60119191 0.54440766 0.28413357 0.448943   0.4764168\n",
      "  0.19037156 0.06201419 0.11085785 0.33835183 0.35018379 0.51874502\n",
      "  0.33409395 0.73039652 0.46856753 0.21326185 0.27376033 0.60769103\n",
      "  0.35835323 0.56463598 0.18430848 0.30833779]\n",
      " [0.39676432 0.686661   0.44133383 0.45143613 0.17307122 0.38172246\n",
      "  0.41606987 0.8056464  0.12183712 0.53562043 0.26466467 0.37516588\n",
      "  0.44109521 0.36808212 0.43102669 0.72808445 0.39042914 0.4648866\n",
      "  0.15133186 0.79251612 0.68523098 0.24221366 0.78823311 0.51066463\n",
      "  0.53118207 0.33530978 0.44235997 0.68496173 0.55901932 0.22734509\n",
      "  0.14904111 0.83893635 0.36643249 0.06936263 0.         0.14035434\n",
      "  0.01890515 0.45703793 0.86148218 0.34456899 0.04022873 0.80454758\n",
      "  0.79920037 0.3205777  0.49701943 0.70692683 0.84065207 0.44634111\n",
      "  0.6519731  0.91346548 0.50737298 0.38226319 0.20929403 0.25250323\n",
      "  0.07655596 0.79563749 0.64456649 0.4431432  0.30298415 0.81612946\n",
      "  0.50147364 0.07056871 0.27798135 0.3616037  0.28666226 0.5167131\n",
      "  0.29609357 0.29725047 0.51033049 0.76177669 0.22033591 0.69449435\n",
      "  0.23643707 0.4846591  0.36054958 0.10952742 0.20719926 0.48302807\n",
      "  0.66323166 0.63338563 0.61282787 0.2869993  0.44711776 0.52960001\n",
      "  0.17741463 0.1240201  0.12103744 0.39309594 0.37951717 0.55776191\n",
      "  0.40332891 0.77583748 0.46293053 0.26624277 0.2044664  0.67458689\n",
      "  0.42592048 0.57534859 0.11623013 0.37367387]\n",
      " [0.47696087 0.78511413 0.49059218 0.34000314 0.31013349 0.51189254\n",
      "  0.51964892 0.73359815 0.20957173 0.44370409 0.3860802  0.51468826\n",
      "  0.3233939  0.45040496 0.57032552 0.66075581 0.52595377 0.60397196\n",
      "  0.22654777 0.84749853 0.69271266 0.36561688 0.75624183 0.64939037\n",
      "  0.46168648 0.38408876 0.37812655 0.72305876 0.47205259 0.09565583\n",
      "  0.20335594 0.88464378 0.40701343 0.18038098 0.14035434 0.\n",
      "  0.15450782 0.47077966 0.78115964 0.28767471 0.15136854 0.72912882\n",
      "  0.78685014 0.20671148 0.59552437 0.77818786 0.76699906 0.58501167\n",
      "  0.69554212 0.97790301 0.64768811 0.26899356 0.15480195 0.11258819\n",
      "  0.1712436  0.81396821 0.6527715  0.35606958 0.37434762 0.74089445\n",
      "  0.57811528 0.07541808 0.22923088 0.2419131  0.42438966 0.42130952\n",
      "  0.37820723 0.32950227 0.55047779 0.82223192 0.33843767 0.714412\n",
      "  0.21050645 0.40223101 0.48915038 0.24929355 0.34754346 0.40281298\n",
      "  0.65447525 0.56429738 0.66411824 0.42411849 0.32873135 0.65666304\n",
      "  0.07642364 0.19703584 0.11109826 0.51847577 0.31848052 0.506233\n",
      "  0.47252844 0.73305364 0.33948138 0.39363466 0.2014157  0.71208134\n",
      "  0.4761768  0.47028591 0.1139839  0.47921353]\n",
      " [0.37894905 0.66784434 0.42574712 0.45648655 0.15651351 0.36383378\n",
      "  0.39722815 0.80298807 0.13180394 0.53688903 0.245911   0.36018717\n",
      "  0.44740026 0.35020471 0.41586652 0.72491427 0.38179308 0.449576\n",
      "  0.13609613 0.77579747 0.67292235 0.23951955 0.78018374 0.49513536\n",
      "  0.52904    0.32032353 0.44001011 0.66972154 0.55939179 0.23822002\n",
      "  0.16291316 0.82286707 0.35203981 0.05225553 0.01890515 0.15450782\n",
      "  0.         0.44488484 0.85997838 0.34215948 0.02783576 0.80239822\n",
      "  0.78880179 0.32702659 0.47825714 0.68922152 0.83816381 0.43076764\n",
      "  0.63632559 0.89602782 0.49431909 0.38807383 0.22816349 0.26574547\n",
      "  0.06223449 0.78202329 0.63228533 0.44415547 0.28615856 0.81392843\n",
      "  0.48367937 0.08777272 0.2965448  0.36876987 0.2769822  0.51864055\n",
      "  0.27847205 0.28434998 0.49531846 0.74470572 0.21968429 0.68090961\n",
      "  0.25449821 0.48469388 0.34244326 0.09490785 0.19383388 0.48273603\n",
      "  0.6527472  0.630757   0.59662227 0.27775003 0.45353134 0.51143822\n",
      "  0.18518769 0.11016343 0.12130853 0.37470198 0.37727413 0.55297808\n",
      "  0.38624785 0.76918331 0.47034611 0.24789724 0.22179763 0.65941729\n",
      "  0.41030639 0.57870958 0.13498906 0.35481444]\n",
      " [0.22847837 0.47534096 0.12073379 0.42134085 0.44901089 0.47012651\n",
      "  0.33273117 0.48433461 0.57647694 0.377027   0.3793639  0.56961341\n",
      "  0.44415935 0.23394175 0.60034158 0.40710651 0.69801921 0.61876665\n",
      "  0.31327555 0.40409547 0.22821276 0.63709282 0.36681208 0.64401027\n",
      "  0.2927058  0.14866975 0.25253392 0.26205691 0.36905328 0.45129375\n",
      "  0.60582262 0.42647695 0.1137051  0.39677592 0.45703793 0.47077966\n",
      "  0.44488484 0.         0.55837542 0.24618502 0.41765198 0.49446404\n",
      "  0.34998622 0.40245819 0.34523627 0.37753604 0.51871129 0.59820144\n",
      "  0.24378614 0.54463412 0.70978258 0.40882531 0.62209766 0.49799251\n",
      "  0.38290147 0.34372573 0.18754197 0.32847397 0.21292842 0.50338097\n",
      "  0.24946717 0.47836214 0.69778806 0.4283921  0.60507637 0.38232163\n",
      "  0.24237376 0.16132847 0.1163903  0.39086764 0.63163795 0.24367229\n",
      "  0.67051128 0.32240097 0.44885976 0.46094284 0.50904708 0.31407509\n",
      "  0.21558724 0.34567502 0.23098803 0.61064797 0.44951942 0.53303835\n",
      "  0.40661052 0.33523662 0.36807887 0.44198397 0.24686289 0.24314566\n",
      "  0.18845262 0.37809206 0.4803039  0.4094038  0.64866002 0.25089512\n",
      "  0.12289948 0.45111641 0.5496313  0.32837386]\n",
      " [0.78645049 0.99741494 0.67739616 0.46140177 0.94041696 1.01895642\n",
      "  0.89080678 0.07613455 0.97485443 0.33945749 0.90915605 1.10491011\n",
      "  0.48974777 0.78923101 1.14347706 0.15150695 1.20615604 1.16586147\n",
      "  0.77449896 0.79535652 0.50693067 1.09670733 0.30411327 1.19546181\n",
      "  0.33144422 0.68545984 0.4205089  0.66112899 0.30932063 0.69768957\n",
      "  0.98093238 0.76381186 0.65787077 0.83249131 0.86148218 0.78115964\n",
      "  0.85997838 0.55837542 0.         0.51810553 0.83453984 0.06397511\n",
      "  0.4166587  0.58189072 0.89979898 0.84773191 0.04935592 1.14460546\n",
      "  0.680032   0.9194448  1.25129553 0.52585384 0.91735258 0.71805383\n",
      "  0.81322858 0.58831286 0.50868294 0.42516115 0.74918157 0.05524758\n",
      "  0.79655036 0.83723935 0.97731875 0.55976858 1.1025019  0.36385307\n",
      "  0.77985387 0.65844387 0.64386    0.81220112 1.07934599 0.57045298\n",
      "  0.9785096  0.37975513 0.99580225 0.9225428  1.00229089 0.38014646\n",
      "  0.42927055 0.23290052 0.70792406 1.10628193 0.48751678 1.09141291\n",
      "  0.70751268 0.77875002 0.74049526 0.99453369 0.48292114 0.32873037\n",
      "  0.7466826  0.24411725 0.49711489 0.937629   0.97922515 0.65527788\n",
      "  0.68109288 0.33685172 0.89458995 0.88332233]\n",
      " [0.38457908 0.68769363 0.32779165 0.19139738 0.43171275 0.55495096\n",
      "  0.47438921 0.46107908 0.46135831 0.2102397  0.42750547 0.61656601\n",
      "  0.20727495 0.37089192 0.66300427 0.38374054 0.69654383 0.69066237\n",
      "  0.26549899 0.65020595 0.43508732 0.57873649 0.46947197 0.72785899\n",
      "  0.1868909  0.25785692 0.09785703 0.50587917 0.22534208 0.23263578\n",
      "  0.47342959 0.66959903 0.25367412 0.31506794 0.34456899 0.28767471\n",
      "  0.34215948 0.24618502 0.51810553 0.         0.31647416 0.46023971\n",
      "  0.5084368  0.15840555 0.52202594 0.61747308 0.49612445 0.6691309\n",
      "  0.4898412  0.79080602 0.76482971 0.16421494 0.44034081 0.27379545\n",
      "  0.29568815 0.56362658 0.3982592  0.12272021 0.30035973 0.47177552\n",
      "  0.45453515 0.32891042 0.51187392 0.18220875 0.59098911 0.19938923\n",
      "  0.32570754 0.20075098 0.35722071 0.63662081 0.56127851 0.47100539\n",
      "  0.49792272 0.15090664 0.52980891 0.40650006 0.49195054 0.14685489\n",
      "  0.3821006  0.28881686 0.47549949 0.59411452 0.21337793 0.66585699\n",
      "  0.21156299 0.26440716 0.22430688 0.5411532  0.03518892 0.21928955\n",
      "  0.3567478  0.44544626 0.24353673 0.45199563 0.48809389 0.49480498\n",
      "  0.3192446  0.27036037 0.39380586 0.44883112]\n",
      " [0.35890859 0.65304627 0.40121801 0.43694406 0.16038624 0.36093669\n",
      "  0.38307149 0.77690522 0.15942304 0.51359311 0.23784409 0.36651747\n",
      "  0.4293243  0.33039831 0.42156881 0.69858734 0.3990027  0.45481435\n",
      "  0.11121923 0.75297662 0.64577518 0.26318779 0.75238585 0.49971405\n",
      "  0.50334272 0.2950927  0.41425354 0.64476033 0.53536671 0.22763008\n",
      "  0.18900916 0.79897181 0.32622125 0.0327281  0.04022873 0.15136854\n",
      "  0.02783576 0.41765198 0.83453984 0.31647416 0.         0.77659412\n",
      "  0.76108891 0.30948557 0.46297921 0.66869313 0.81216435 0.4353883\n",
      "  0.61185889 0.87473944 0.50434321 0.3695547  0.24362446 0.25919122\n",
      "  0.03637728 0.7556111  0.60512371 0.42075278 0.2636944  0.78809247\n",
      "  0.46349644 0.094686   0.31447243 0.35197702 0.29321132 0.49592227\n",
      "  0.25796126 0.25744801 0.47010946 0.72258922 0.24480839 0.65447377\n",
      "  0.27458284 0.4604796  0.33855442 0.10573181 0.20479007 0.45828383\n",
      "  0.6250446  0.60473878 0.57294999 0.29455748 0.4355735  0.50681763\n",
      "  0.1705279  0.08382573 0.09906541 0.36904197 0.35164297 0.52598727\n",
      "  0.36425483 0.74159841 0.45360715 0.24314599 0.24379506 0.634377\n",
      "  0.38581466 0.5572485  0.15235669 0.34105453]\n",
      " [0.72249152 0.93622687 0.6136194  0.41882409 0.87920668 0.95521647\n",
      "  0.82684832 0.02183644 0.91938729 0.29242359 0.84607159 1.04183127\n",
      "  0.44875047 0.72526379 1.0800425  0.08753374 1.14473823 1.10225129\n",
      "  0.71372651 0.74115246 0.45059834 1.03800011 0.25825464 1.13166835\n",
      "  0.27339029 0.62172632 0.3623887  0.60390514 0.26017495 0.64833969\n",
      "  0.92711377 0.71280953 0.59398016 0.77349296 0.80454758 0.72912882\n",
      "  0.80239822 0.49446404 0.06397511 0.46023971 0.77659412 0.\n",
      "  0.37088632 0.53358981 0.83627241 0.78910228 0.03887871 1.08101841\n",
      "  0.62124554 0.86813529 1.1880012  0.48003544 0.86869759 0.67134407\n",
      "  0.75432747 0.53872142 0.44997775 0.37347521 0.68558607 0.01176934\n",
      "  0.7333909  0.7828622  0.93074176 0.51454189 1.04149456 0.31786755\n",
      "  0.71627965 0.59545461 0.58095447 0.75625797 1.02132517 0.51444638\n",
      "  0.9296592  0.32690751 0.93212313 0.8628267  0.94121535 0.32643909\n",
      "  0.37108254 0.17238121 0.64757414 1.04539013 0.44719362 1.02749429\n",
      "  0.65453691 0.71883466 0.68378237 0.93065829 0.42514779 0.26558462\n",
      "  0.68274012 0.19558592 0.45988073 0.87466072 0.92864048 0.59763369\n",
      "  0.61721634 0.30119101 0.84193222 0.81936944]\n",
      " [0.53804082 0.64301748 0.4252267  0.60191735 0.79795858 0.78809256\n",
      "  0.63056331 0.3499792  0.92049116 0.48976335 0.71908853 0.89914409\n",
      "  0.63387662 0.55485678 0.92111818 0.31935142 1.03955195 0.93358357\n",
      "  0.66124535 0.39258711 0.14777303 0.98703314 0.11284594 0.95010574\n",
      "  0.40061713 0.49591228 0.44344543 0.28415487 0.45967742 0.74105616\n",
      "  0.94599269 0.35133811 0.4601399  0.74302603 0.79920037 0.78685014\n",
      "  0.78880179 0.34998622 0.4166587  0.5084368  0.76108891 0.37088632\n",
      "  0.         0.6543341  0.60507649 0.47129622 0.36742332 0.91474219\n",
      "  0.31663849 0.50652044 1.02929231 0.62940418 0.9416516  0.78162149\n",
      "  0.72782011 0.17507445 0.1790941  0.51040238 0.55687765 0.37186399\n",
      "  0.49744933 0.81015073 1.0155452  0.66074583 0.9510669  0.51144167\n",
      "  0.58402994 0.50972344 0.35943539 0.4176924  0.98151997 0.1935536\n",
      "  0.99577232 0.47261631 0.7706414  0.81075217 0.85706921 0.46560818\n",
      "  0.13607673 0.35082392 0.36102617 0.95696051 0.63630951 0.81003647\n",
      "  0.7137355  0.68102511 0.69735523 0.75435022 0.48596542 0.32182082\n",
      "  0.50035469 0.17539667 0.66243985 0.7488901  0.97941021 0.28274347\n",
      "  0.43705054 0.54767123 0.88070299 0.64195213]\n",
      " [0.50693248 0.82007748 0.47159642 0.13355588 0.46054759 0.62849044\n",
      "  0.58259326 0.54042557 0.41401728 0.24243326 0.49547459 0.66387789\n",
      "  0.12051775 0.48756423 0.71621391 0.47288094 0.70829638 0.74751445\n",
      "  0.31514195 0.80629039 0.59154346 0.56146318 0.60141019 0.78955558\n",
      "  0.28021797 0.38477861 0.21241621 0.6635429  0.27348422 0.11638169\n",
      "  0.41004602 0.8275451  0.39052874 0.32411067 0.3205777  0.20671148\n",
      "  0.32702659 0.40245819 0.58189072 0.15840555 0.30948557 0.53358981\n",
      "  0.6543341  0.         0.64270235 0.76654111 0.57217802 0.72672753\n",
      "  0.64614456 0.94605348 0.80769781 0.06266654 0.33548508 0.13897359\n",
      "  0.30635172 0.72072777 0.55552503 0.16353553 0.40957374 0.54532025\n",
      "  0.59042152 0.27436543 0.397542   0.04369651 0.60268157 0.21839594\n",
      "  0.42797305 0.32224036 0.50973495 0.7908539  0.53705932 0.6291496\n",
      "  0.39662253 0.21100698 0.60346872 0.4146211  0.51229407 0.21391414\n",
      "  0.53397482 0.37785208 0.62886888 0.60392722 0.12655898 0.75769343\n",
      "  0.14376555 0.29847186 0.21325307 0.62337453 0.1709539  0.34244471\n",
      "  0.48629719 0.56707059 0.14446129 0.51352718 0.39846404 0.65243351\n",
      "  0.46091292 0.2636274  0.32011386 0.54982962]\n",
      " [0.13755641 0.19021217 0.22450344 0.71333024 0.36705202 0.22305267\n",
      "  0.08302756 0.8245539  0.57565666 0.70433901 0.24839763 0.34323365\n",
      "  0.72689367 0.15515928 0.34446961 0.7496024  0.50711402 0.34712068\n",
      "  0.36898705 0.37103587 0.45747255 0.53944233 0.66680293 0.35374959\n",
      "  0.63053539 0.26419227 0.57175443 0.34654384 0.70298734 0.6314759\n",
      "  0.62089559 0.43840572 0.27245377 0.43029352 0.49701943 0.59552437\n",
      "  0.47825714 0.34523627 0.89979898 0.52202594 0.46297921 0.83627241\n",
      "  0.60507649 0.64270235 0.         0.25103707 0.85779956 0.33190074\n",
      "  0.30561647 0.45474676 0.44406659 0.67587632 0.70607858 0.67709519\n",
      "  0.43164241 0.49466063 0.4310866  0.6360231  0.23393805 0.8445617\n",
      "  0.10843081 0.55666684 0.77448475 0.68164552 0.45433851 0.70368384\n",
      "  0.2206438  0.32375739 0.25993093 0.32877275 0.55231191 0.41851927\n",
      "  0.73054089 0.64459006 0.2181364  0.4235728  0.39710302 0.63710172\n",
      "  0.50197295 0.69084726 0.25390103 0.46172416 0.73328004 0.20496\n",
      "  0.56832257 0.39861099 0.48950271 0.18503517 0.540824   0.58808437\n",
      "  0.16776454 0.69627433 0.76242012 0.26426951 0.69461839 0.34205171\n",
      "  0.2239173  0.77590493 0.61324096 0.12543229]\n",
      " [0.31034918 0.18040843 0.29632995 0.79863078 0.60380004 0.47332235\n",
      "  0.326264   0.77236593 0.80207993 0.74833819 0.48694591 0.59270388\n",
      "  0.82059326 0.33920583 0.58852529 0.71079196 0.75745186 0.58599729\n",
      "  0.56118483 0.12766769 0.34359282 0.78545182 0.56424475 0.58341895\n",
      "  0.65723458 0.39646395 0.62924685 0.1896327  0.73534602 0.78955475\n",
      "  0.84439448 0.19998861 0.38046496 0.63758645 0.70692683 0.77818786\n",
      "  0.68922152 0.37753604 0.84773191 0.61747308 0.66869313 0.78910228\n",
      "  0.47129622 0.76654111 0.25103707 0.         0.8000862  0.57348023\n",
      "  0.1678641  0.20891728 0.68057479 0.78168736 0.90948567 0.83742003\n",
      "  0.63354015 0.31447877 0.33916234 0.70592191 0.40688302 0.79452019\n",
      "  0.20565711 0.75617762 0.98245983 0.79765093 0.70454363 0.75644735\n",
      "  0.41084072 0.45647418 0.2616697  0.08321868 0.79574421 0.28284503\n",
      "  0.9432081  0.69722517 0.46917333 0.65263735 0.64142916 0.6887478\n",
      "  0.41846138 0.68227926 0.15092238 0.71189025 0.82612795 0.41846625\n",
      "  0.73265791 0.59151636 0.66711708 0.43550296 0.62278631 0.59074103\n",
      "  0.30653327 0.6120512  0.8568961  0.50750536 0.91094057 0.19380476\n",
      "  0.30857538 0.82245809 0.82076298 0.36396661]\n",
      " [0.74716947 0.95148991 0.63661978 0.45769708 0.91208183 0.98292303\n",
      "  0.85144237 0.03587735 0.95610833 0.33123201 0.8759939  1.07167235\n",
      "  0.48758718 0.75109599 1.10889827 0.11645504 1.17726625 1.13047643\n",
      "  0.74717062 0.74634447 0.4585538  1.0729834  0.25481059 1.15901385\n",
      "  0.30957226 0.6497042  0.3982955  0.61295718 0.29884858 0.68675145\n",
      "  0.9644257  0.71448005 0.62098559 0.80838875 0.84065207 0.76699906\n",
      "  0.83816381 0.51871129 0.04935592 0.49612445 0.81216435 0.03887871\n",
      "  0.36742332 0.57217802 0.85779956 0.8000862  0.         1.10934174\n",
      "  0.6325462  0.8701183  1.21723807 0.5188442  0.90715805 0.71005355\n",
      "  0.78930213 0.53895735 0.46129814 0.41164267 0.71410529 0.02747389\n",
      "  0.75359062 0.82003769 0.9694276  0.55337246 1.07452455 0.35671282\n",
      "  0.74485396 0.62580235 0.60048487 0.76356366 1.05675071 0.52193102\n",
      "  0.9680822  0.36488198 0.96012981 0.89713461 0.97421129 0.3641958\n",
      "  0.38172943 0.20742559 0.66141961 1.07854158 0.48600155 1.05139326\n",
      "  0.69219715 0.75306193 0.72005965 0.95753276 0.46113501 0.29636273\n",
      "  0.70715813 0.19479547 0.49848064 0.90483275 0.96677031 0.60727375\n",
      "  0.64095748 0.33948145 0.87960744 0.84545001]\n",
      " [0.37834339 0.44323685 0.49387022 0.83866362 0.27509992 0.12830458\n",
      "  0.28526185 1.07390899 0.45078124 0.87848332 0.24181071 0.07406019\n",
      "  0.83951825 0.36597266 0.02213537 0.99399198 0.20777447 0.02157244\n",
      "  0.41406239 0.69864745 0.76821706 0.32710597 0.95848331 0.06437881\n",
      "  0.83164439 0.45964982 0.75154166 0.67510665 0.88926553 0.66163743\n",
      "  0.49668769 0.76809177 0.48935074 0.41101816 0.44634111 0.58501167\n",
      "  0.43076764 0.59820144 1.14460546 0.6691309  0.4353883  1.08101841\n",
      "  0.91474219 0.72672753 0.33190074 0.57348023 1.10934174 0.\n",
      "  0.63377677 0.76264422 0.11469007 0.77991723 0.62546872 0.69456668\n",
      "  0.42591773 0.82227861 0.7358311  0.79144814 0.39543261 1.09102035\n",
      "  0.42734379 0.51653699 0.67201895 0.77042122 0.21706645 0.86851077\n",
      "  0.36475166 0.48894236 0.55544745 0.65506168 0.35486244 0.73883827\n",
      "  0.6212567  0.81772448 0.14955084 0.33692622 0.24416057 0.81239318\n",
      "  0.79605411 0.91617062 0.58157242 0.2231301  0.8461379  0.17346728\n",
      "  0.60083857 0.42828763 0.5178807  0.16039563 0.69977599 0.81620207\n",
      "  0.41773694 0.97569336 0.86924023 0.2174699  0.5801741  0.66957027\n",
      "  0.48450088 0.93891175 0.53889059 0.27388635]\n",
      " [0.2859984  0.32784444 0.21064116 0.65881471 0.58782243 0.51466222\n",
      "  0.35220878 0.60457587 0.76151118 0.59499803 0.48304902 0.63367029\n",
      "  0.68371589 0.31197615 0.64415589 0.54313971 0.78997466 0.65033746\n",
      "  0.50064752 0.16037706 0.17882587 0.78002727 0.40106691 0.65923504\n",
      "  0.50108872 0.31754345 0.48434766 0.04136409 0.57892378 0.68867574\n",
      "  0.79855743 0.18915047 0.28976726 0.58431515 0.6519731  0.69554212\n",
      "  0.63632559 0.24378614 0.680032   0.4898412  0.61185889 0.62124554\n",
      "  0.31663849 0.64614456 0.30561647 0.1678641  0.6325462  0.63377677\n",
      "  0.         0.30160211 0.74752085 0.65155594 0.83978362 0.73616439\n",
      "  0.5754822  0.18907782 0.17136197 0.56283366 0.35363343 0.6267053\n",
      "  0.20713568 0.68878097 0.91513592 0.67199574 0.71783523 0.60568957\n",
      "  0.36974085 0.36637896 0.14506787 0.15179675 0.78353996 0.12310148\n",
      "  0.8818136  0.54805512 0.50252805 0.62263586 0.63742304 0.53950154\n",
      "  0.25081926 0.51785614 0.0522087  0.72469911 0.68872823 0.50703875\n",
      "  0.63864882 0.52882957 0.58653706 0.47756645 0.48846223 0.43016657\n",
      "  0.26099888 0.44607439 0.71938492 0.50973572 0.85448353 0.03661737\n",
      "  0.22605366 0.6683752  0.7581682  0.37659248]\n",
      " [0.5179386  0.32621101 0.48832141 0.95982306 0.81258503 0.67308199\n",
      "  0.53312697 0.84856873 1.01058235 0.89004349 0.69539985 0.79008673\n",
      "  0.98511416 0.54688245 0.77965799 0.8014852  0.95560452 0.77264576\n",
      "  0.76585021 0.1420228  0.42601891 0.99282475 0.61664562 0.76314487\n",
      "  0.79445138 0.59383874 0.78464995 0.29300783 0.87111159 0.98142364\n",
      "  1.05251916 0.15565833 0.57302234 0.84411138 0.91346548 0.97790301\n",
      "  0.89602782 0.54463412 0.9194448  0.79080602 0.87473944 0.86813529\n",
      "  0.50652044 0.94605348 0.45474676 0.20891728 0.8701183  0.76264422\n",
      "  0.30160211 0.         0.86332066 0.95305181 1.11362162 1.0292793\n",
      "  0.83917948 0.33184967 0.44121383 0.86334277 0.61148047 0.87098033\n",
      "  0.41363941 0.96035266 1.18736573 0.97301414 0.90893923 0.90258324\n",
      "  0.61762073 0.65067047 0.43744719 0.15650465 1.00387034 0.36388684\n",
      "  1.14928565 0.84626303 0.67146253 0.86147515 0.84919131 0.8377236\n",
      "  0.5096419  0.7961452  0.31843059 0.91634011 0.99006257 0.59656068\n",
      "  0.92758178 0.79591903 0.86695963 0.63597899 0.79005359 0.71892972\n",
      "  0.51071837 0.67532757 1.02067111 0.71529056 1.11782096 0.30322043\n",
      "  0.50225416 0.9621891  1.02626625 0.57190172]\n",
      " [0.49235916 0.53911375 0.60761283 0.92602488 0.34725689 0.24176568\n",
      "  0.39993569 1.18163352 0.48498698 0.9750457  0.34272991 0.14834478\n",
      "  0.92406023 0.47901863 0.10947122 1.10138829 0.17049691 0.09718347\n",
      "  0.50281164 0.80697952 0.88286357 0.33527601 1.07180541 0.10108792\n",
      "  0.93363864 0.56850878 0.85116651 0.78880634 0.98793346 0.73169172\n",
      "  0.52689843 0.87735414 0.59944145 0.48471126 0.50737298 0.64768811\n",
      "  0.49431909 0.70978258 1.25129553 0.76482971 0.50434321 1.1880012\n",
      "  1.02929231 0.80769781 0.44406659 0.68057479 1.21723807 0.11469007\n",
      "  0.74752085 0.86332066 0.         0.86394335 0.66326399 0.75981888\n",
      "  0.50172513 0.93625398 0.8503288  0.88590431 0.50346025 1.19822031\n",
      "  0.54151755 0.57488416 0.69932026 0.85120989 0.23469226 0.9634376\n",
      "  0.47270206 0.5932797  0.66992727 0.76299521 0.36705496 0.85342396\n",
      "  0.64864967 0.91503389 0.26131786 0.39973864 0.30048651 0.91018314\n",
      "  0.90989233 1.02119274 0.69534404 0.23792094 0.93058905 0.26680118\n",
      "  0.67432739 0.51246903 0.59506351 0.27497109 0.79683361 0.92256654\n",
      "  0.53146953 1.08775397 0.95182451 0.31526414 0.60805917 0.78346151\n",
      "  0.59788532 1.03244131 0.584397   0.38792124]\n",
      " [0.53865641 0.84769443 0.49100058 0.07101293 0.51746457 0.67755934\n",
      "  0.62065316 0.4882228  0.47667137 0.18761284 0.5449984  0.71884573\n",
      "  0.06018643 0.52162574 0.77025813 0.42428457 0.76855409 0.80093374\n",
      "  0.36619782 0.81184841 0.57997024 0.62362465 0.56769943 0.84208413\n",
      "  0.23980848 0.41333535 0.18730338 0.66530354 0.22050784 0.17683995\n",
      "  0.47220576 0.82772051 0.4140127  0.38242198 0.38226319 0.26899356\n",
      "  0.38807383 0.40882531 0.52585384 0.16421494 0.3695547  0.48003544\n",
      "  0.62940418 0.06266654 0.67587632 0.78168736 0.5188442  0.77991723\n",
      "  0.65155594 0.95305181 0.86394335 0.         0.39276163 0.19225816\n",
      "  0.36415738 0.70987421 0.54621708 0.12168303 0.44578407 0.49168166\n",
      "  0.61544774 0.33702727 0.4514722  0.03491833 0.66264459 0.16232772\n",
      "  0.46688666 0.35224474 0.5212255  0.79969127 0.59947426 0.62266881\n",
      "  0.4539884  0.16663923 0.65236702 0.47401699 0.5707976  0.17136681\n",
      "  0.5160968  0.3314518  0.63913177 0.66409697 0.06666547 0.80218464\n",
      "  0.20608809 0.35225095 0.27191331 0.67010823 0.16353841 0.31018085\n",
      "  0.51441047 0.52867377 0.09009166 0.56469895 0.45798973 0.65435394\n",
      "  0.48179105 0.20196599 0.38201353 0.59028274]\n",
      " [0.60111163 0.89587657 0.63120926 0.46111707 0.3685991  0.58101224\n",
      "  0.62534633 0.87489343 0.17827746 0.5779023  0.47193301 0.55151723\n",
      "  0.43779814 0.57292179 0.6071178  0.80496844 0.51443968 0.64136997\n",
      "  0.34830155 0.98759251 0.84606028 0.33817669 0.90971907 0.6880368\n",
      "  0.60756435 0.52354473 0.52734355 0.86935344 0.60881809 0.22047703\n",
      "  0.13898539 1.02875681 0.55001817 0.27610825 0.20929403 0.15480195\n",
      "  0.22816349 0.62209766 0.91735258 0.44034081 0.24362446 0.86869759\n",
      "  0.9416516  0.33548508 0.70607858 0.90948567 0.90715805 0.62546872\n",
      "  0.83978362 1.11362162 0.66326399 0.39276163 0.         0.2016237\n",
      "  0.27708835 0.96580413 0.80591071 0.49607985 0.50266332 0.88044683\n",
      "  0.70524108 0.15333464 0.07575615 0.36021344 0.42861628 0.55364244\n",
      "  0.50007315 0.47403155 0.69511291 0.95961735 0.30589389 0.86564323\n",
      "  0.06122963 0.54339951 0.56183692 0.30172197 0.38222764 0.54510867\n",
      "  0.809171   0.70883207 0.80511353 0.4257029  0.44183602 0.73022904\n",
      "  0.22917259 0.31798667 0.25479291 0.59659529 0.46970512 0.65724934\n",
      "  0.60329838 0.88468512 0.44397888 0.47029609 0.07521363 0.85853031\n",
      "  0.61623007 0.59259378 0.09370188 0.58296703]\n",
      " [0.54976645 0.86387455 0.5423281  0.25963817 0.41949685 0.61535261\n",
      "  0.60604123 0.67872865 0.31395809 0.37918535 0.48591469 0.62521361\n",
      "  0.23627038 0.52554902 0.68053515 0.6118257  0.6380094  0.71391207\n",
      "  0.31366297 0.89354186 0.70582832 0.47491402 0.73550025 0.75890112\n",
      "  0.41854985 0.44162093 0.34610933 0.75890994 0.4112117  0.04791069\n",
      "  0.29822442 0.92307891 0.45752359 0.28514143 0.25250323 0.11258819\n",
      "  0.26574547 0.49799251 0.71805383 0.27379545 0.25919122 0.67134407\n",
      "  0.78162149 0.13897359 0.67709519 0.83742003 0.71005355 0.69456668\n",
      "  0.73616439 1.0292793  0.75981888 0.19225816 0.2016237  0.\n",
      "  0.27271402 0.83260683 0.66768539 0.3024907  0.44654646 0.68303975\n",
      "  0.6454023  0.18749352 0.25943695 0.15895638 0.53690593 0.35429335\n",
      "  0.45649278 0.38094624 0.59320597 0.87277718 0.44650402 0.73662504\n",
      "  0.26268748 0.34997693 0.59177873 0.36063734 0.45943663 0.35279394\n",
      "  0.65581484 0.51681271 0.71123122 0.53655837 0.24043557 0.75694759\n",
      "  0.10877316 0.28736311 0.19082768 0.61873215 0.29607313 0.47738653\n",
      "  0.53843007 0.70374083 0.24434506 0.49665797 0.27022566 0.7477498\n",
      "  0.52928133 0.39099574 0.20827516 0.56773539]\n",
      " [0.32423201 0.62185288 0.36484151 0.42926667 0.1544836  0.3427322\n",
      "  0.35290547 0.75382696 0.19357631 0.4980212  0.21497693 0.35976355\n",
      "  0.4243223  0.29591321 0.41358496 0.67483668 0.40750892 0.44603115\n",
      "  0.07484911 0.7168644  0.61084174 0.28368987 0.72173235 0.4898594\n",
      "  0.48179378 0.25876073 0.39279175 0.60840586 0.51805642 0.23644802\n",
      "  0.22492806 0.76263333 0.2900636  0.01946513 0.07655596 0.1712436\n",
      "  0.06223449 0.38290147 0.81322858 0.29568815 0.03637728 0.75432747\n",
      "  0.72782011 0.30635172 0.43164241 0.63354015 0.78930213 0.42591773\n",
      "  0.5754822  0.83917948 0.50172513 0.36415738 0.27708835 0.27271402\n",
      "  0.         0.71981973 0.57021803 0.40528614 0.22785485 0.7657243\n",
      "  0.42862984 0.12522121 0.3490397  0.34970748 0.30112964 0.48167721\n",
      "  0.22317935 0.22217425 0.4337855  0.68671229 0.26835196 0.61869962\n",
      "  0.31013733 0.44294366 0.31936822 0.11256689 0.20676023 0.4401716\n",
      "  0.59174338 0.58205597 0.53665303 0.30333474 0.43074278 0.48590702\n",
      "  0.17492131 0.04792897 0.0933388  0.34761453 0.33081667 0.50013575\n",
      "  0.32853402 0.7127328  0.45075389 0.22404897 0.27993919 0.59803188\n",
      "  0.3494393  0.54541686 0.18722715 0.31140891]\n",
      " [0.46407401 0.49336152 0.36818802 0.69804325 0.75649062 0.70168555\n",
      "  0.539164   0.5186406  0.91204015 0.60417199 0.65950276 0.81966681\n",
      "  0.72766984 0.48737302 0.83218968 0.47712079 0.97296953 0.83908241\n",
      "  0.64677492 0.22038911 0.12991119 0.94968067 0.28487777 0.84831238\n",
      "  0.50841728 0.46450081 0.52479955 0.14816624 0.57919848 0.78754295\n",
      "  0.94461999 0.17638266 0.43086315 0.73170343 0.79563749 0.81396821\n",
      "  0.78202329 0.34372573 0.58831286 0.56362658 0.7556111  0.53872142\n",
      "  0.17507445 0.72072777 0.49466063 0.31447877 0.53895735 0.82227861\n",
      "  0.18907782 0.33184967 0.93625398 0.70987421 0.96580413 0.83260683\n",
      "  0.71981973 0.         0.16537542 0.60094928 0.51397492 0.54093956\n",
      "  0.39500245 0.82136983 1.04147658 0.7368858  0.8957904  0.6216852\n",
      "  0.53541741 0.49872503 0.2948039  0.25017214 0.94992591 0.10114592\n",
      "  1.01400835 0.57239774 0.68840399 0.78323041 0.81016544 0.56430643\n",
      "  0.20315311 0.48656431 0.24107667 0.90240246 0.7313809  0.69511942\n",
      "  0.74769523 0.67191623 0.71173347 0.66501568 0.55061369 0.42764738\n",
      "  0.4332022  0.34437464 0.76033398 0.68759162 0.991315   0.15284074\n",
      "  0.38303115 0.67095979 0.89253006 0.5606751 ]\n",
      " [0.35895921 0.49351093 0.24677369 0.53814808 0.62611766 0.60902945\n",
      "  0.45213942 0.43321713 0.76375512 0.45344465 0.54215634 0.72022269\n",
      "  0.56682098 0.3761309  0.74205794 0.37293485 0.86228175 0.75478799\n",
      "  0.49968181 0.30317566 0.04067268 0.8174485  0.2383339  0.77207547\n",
      "  0.35706543 0.32485447 0.36303698 0.1561686  0.43208376 0.62294871\n",
      "  0.79336417 0.29539374 0.28929586 0.58374491 0.64456649 0.6527715\n",
      "  0.63228533 0.18754197 0.50868294 0.3982592  0.60512371 0.44997775\n",
      "  0.1790941  0.55552503 0.4310866  0.33916234 0.46129814 0.7358311\n",
      "  0.17136197 0.44121383 0.8503288  0.54621708 0.80591071 0.66768539\n",
      "  0.57021803 0.16537542 0.         0.44053465 0.38278978 0.45535894\n",
      "  0.3227096  0.66476988 0.88134335 0.57248804 0.77590841 0.46844785\n",
      "  0.40865746 0.34818686 0.18040401 0.31079615 0.81411672 0.07974708\n",
      "  0.8559461  0.41562645 0.59155319 0.64421904 0.68381987 0.40728291\n",
      "  0.07966417 0.35578556 0.20247184 0.78199576 0.57086085 0.63557232\n",
      "  0.58478035 0.52245051 0.55346806 0.5754369  0.38576804 0.27906993\n",
      "  0.32145672 0.27731639 0.60040633 0.57176687 0.83520855 0.14877941\n",
      "  0.25911617 0.52384769 0.73606227 0.46286721]\n",
      " [0.49958753 0.79338429 0.42937928 0.09767614 0.5486927  0.67766803\n",
      "  0.59319256 0.37893422 0.55206251 0.09285939 0.54998891 0.73781939\n",
      "  0.12673663 0.48827761 0.78497807 0.30960196 0.81135082 0.81295952\n",
      "  0.38425653 0.7213261  0.47148585 0.6836087  0.44609009 0.85044595\n",
      "  0.11845528 0.37358354 0.07876833 0.57134392 0.11680139 0.2756232\n",
      "  0.55613342 0.73003587 0.36398273 0.42471447 0.4431432  0.35606958\n",
      "  0.44415547 0.32847397 0.42516115 0.12272021 0.42075278 0.37347521\n",
      "  0.51040238 0.16353553 0.6360231  0.70592191 0.41164267 0.79144814\n",
      "  0.56283366 0.86334277 0.88590431 0.12168303 0.49607985 0.3024907\n",
      "  0.40528614 0.60094928 0.44053465 0.         0.42074766 0.38524422\n",
      "  0.5603952  0.41315721 0.56034563 0.15554432 0.70517035 0.07761232\n",
      "  0.44705103 0.3201191  0.44476812 0.71395163 0.66332936 0.5191216\n",
      "  0.55681064 0.04753121 0.65252862 0.51775166 0.60754878 0.05059583\n",
      "  0.40248375 0.21432204 0.55785674 0.70781222 0.13046621 0.78703968\n",
      "  0.28247318 0.37967426 0.32287261 0.66360929 0.09614098 0.18943077\n",
      "  0.46871494 0.40727973 0.15987782 0.57413112 0.55516538 0.56076153\n",
      "  0.42328662 0.14765275 0.46942927 0.56943279]\n",
      " [0.10342582 0.41761989 0.14631141 0.48878641 0.24398737 0.27041053\n",
      "  0.17514796 0.67860295 0.40826795 0.4994708  0.16671287 0.35967933\n",
      "  0.49929551 0.07939918 0.39482862 0.59859237 0.4852551  0.41668002\n",
      "  0.15444315 0.48964105 0.42148559 0.43662945 0.57973327 0.44723785\n",
      "  0.4413614  0.06555153 0.36749044 0.3893713  0.50503775 0.40001446\n",
      "  0.44660038 0.53786123 0.09924795 0.23391992 0.30298415 0.37434762\n",
      "  0.28615856 0.21292842 0.74918157 0.30035973 0.2636944  0.68558607\n",
      "  0.55687765 0.40957374 0.23393805 0.40688302 0.71410529 0.39543261\n",
      "  0.35363343 0.61148047 0.50346025 0.44578407 0.50266332 0.44654646\n",
      "  0.22785485 0.51397492 0.38278978 0.42074766 0.         0.6956015\n",
      "  0.2040033  0.34933347 0.57598653 0.44935579 0.39421595 0.4940508\n",
      "  0.03076259 0.10089564 0.21943931 0.45889559 0.43597369 0.41489789\n",
      "  0.53797744 0.43810803 0.24680871 0.27026878 0.30103029 0.4316489\n",
      "  0.42581253 0.52159647 0.31147765 0.40008443 0.50582611 0.36645422\n",
      "  0.33811812 0.18467832 0.26424871 0.24915313 0.32475089 0.42093125\n",
      "  0.10076429 0.58885925 0.53402411 0.1966977  0.50739565 0.37963639\n",
      "  0.13115769 0.56655304 0.41479759 0.14868523]\n",
      " [0.73157105 0.9428578  0.62224957 0.43030008 0.89020674 0.96506465\n",
      "  0.83592116 0.02246728 0.93105447 0.30407436 0.85642893 1.05218184\n",
      "  0.46014194 0.7346323  1.09016874 0.09709169 1.15567631 1.11223127\n",
      "  0.72483302 0.74490397 0.45501843 1.04940568 0.25904991 1.1414412\n",
      "  0.28495445 0.63160316 0.37391993 0.60872106 0.27188944 0.66009505\n",
      "  0.93884426 0.71552334 0.60361583 0.78487656 0.81612946 0.74089445\n",
      "  0.81392843 0.50338097 0.05524758 0.47177552 0.78809247 0.01176934\n",
      "  0.37186399 0.54532025 0.8445617  0.79452019 0.02747389 1.09102035\n",
      "  0.6267053  0.87098033 1.19822031 0.49168166 0.88044683 0.68303975\n",
      "  0.7657243  0.54093956 0.45535894 0.38524422 0.6956015  0.\n",
      "  0.74131515 0.79457884 0.94244439 0.52616918 1.0525319  0.32948278\n",
      "  0.7263119  0.60588361 0.58866301 0.76062308 1.03280501 0.51877127\n",
      "  0.94141254 0.33867467 0.94204101 0.8741065  0.95224245 0.33819655\n",
      "  0.37620685 0.18370391 0.65375415 1.05645195 0.45854172 1.03641213\n",
      "  0.66629216 0.73009362 0.6953867  0.94030457 0.43669746 0.27601451\n",
      "  0.69174731 0.1969804  0.47101667 0.88507671 0.94040942 0.60261456\n",
      "  0.62603789 0.31209158 0.85368918 0.82881125]\n",
      " [0.10473254 0.23338282 0.13232616 0.64465116 0.40291274 0.30757031\n",
      "  0.14528825 0.72089973 0.59698156 0.6208907  0.28929403 0.42690846\n",
      "  0.66180772 0.13355336 0.43722937 0.64740459 0.58507152 0.44440735\n",
      "  0.35721803 0.30448042 0.34970877 0.58989081 0.55846784 0.45589975\n",
      "  0.54098889 0.20649234 0.4906454  0.24848843 0.61603062 0.59801595\n",
      "  0.63892385 0.36400613 0.20143937 0.43217358 0.50147364 0.57811528\n",
      "  0.48367937 0.24946717 0.79655036 0.45453515 0.46349644 0.7333909\n",
      "  0.49744933 0.59042152 0.10843081 0.20565711 0.75359062 0.42734379\n",
      "  0.20713568 0.41363941 0.54151755 0.61544774 0.70524108 0.6454023\n",
      "  0.42862984 0.39500245 0.3227096  0.5603952  0.2040033  0.74131515\n",
      "  0.         0.55212301 0.77766946 0.62600641 0.51832198 0.62303723\n",
      "  0.20553627 0.26917827 0.15339484 0.2676327  0.59748104 0.31337603\n",
      "  0.73785404 0.56308633 0.29601509 0.44855829 0.44548785 0.5551597\n",
      "  0.39372128 0.59359325 0.15503354 0.52542066 0.66790962 0.31296269\n",
      "  0.53817779 0.38768271 0.46759288 0.27043114 0.46811936 0.49188297\n",
      "  0.10697259 0.58878082 0.69803951 0.31308953 0.7053396  0.24248437\n",
      "  0.13712627 0.69407989 0.61574566 0.17303674]\n",
      " [0.4482017  0.74685238 0.47927021 0.40776309 0.24363964 0.45154216\n",
      "  0.47733174 0.78580638 0.14014791 0.50366846 0.3316839  0.44496879\n",
      "  0.39356149 0.42018355 0.50094009 0.71052571 0.45061907 0.5348988\n",
      "  0.19501414 0.83498612 0.70531171 0.29095352 0.78932391 0.58081475\n",
      "  0.51138586 0.37162998 0.42448367 0.7194257  0.52995577 0.16936933\n",
      "  0.14471497 0.87742095 0.3993725  0.12726596 0.07056871 0.07541808\n",
      "  0.08777272 0.47836214 0.83723935 0.32891042 0.094686   0.7828622\n",
      "  0.81015073 0.27436543 0.55666684 0.75617762 0.82003769 0.51653699\n",
      "  0.68878097 0.96035266 0.57488416 0.33702727 0.15333464 0.18749352\n",
      "  0.12522121 0.82136983 0.66476988 0.41315721 0.34933347 0.79457884\n",
      "  0.55212301 0.         0.22730276 0.31236815 0.34953069 0.48269103\n",
      "  0.3472453  0.3248322  0.54467405 0.80655002 0.26453312 0.72054274\n",
      "  0.19347181 0.45756285 0.429988   0.17961331 0.27581471 0.4571122\n",
      "  0.67530773 0.61445324 0.65293308 0.34909641 0.39918582 0.59888062\n",
      "  0.13247905 0.16466287 0.11279786 0.461763   0.36240469 0.5475783\n",
      "  0.44996447 0.77136504 0.41180561 0.33514416 0.17044941 0.70872568\n",
      "  0.46415829 0.53604428 0.07129444 0.43547079]\n",
      " [0.67322574 0.96362753 0.70622275 0.51733218 0.42713699 0.63824938\n",
      "  0.69291706 0.93792223 0.22167092 0.63862095 0.53576968 0.59802988\n",
      "  0.49164646 0.64480584 0.6525846  0.86993676 0.54195345 0.68651406\n",
      "  0.42155079 1.06225865 0.92143658 0.36595071 0.98127643 0.73299162\n",
      "  0.67421368 0.59854514 0.59630118 0.94491886 0.67057971 0.285973\n",
      "  0.17533369 1.10403323 0.62539802 0.34643823 0.27798135 0.22923088\n",
      "  0.2965448  0.69778806 0.97731875 0.51187392 0.31447243 0.93074176\n",
      "  1.0155452  0.397542   0.77448475 0.98245983 0.9694276  0.67201895\n",
      "  0.91513592 1.18736573 0.69932026 0.4514722  0.07575615 0.25943695\n",
      "  0.3490397  1.04147658 0.88134335 0.56034563 0.57598653 0.94244439\n",
      "  0.77766946 0.22730276 0.         0.41764045 0.46581926 0.61367883\n",
      "  0.57219144 0.54960941 0.77056862 1.03380486 0.33351997 0.94136047\n",
      "  0.05090102 0.60786555 0.62047635 0.36126075 0.432731   0.61014284\n",
      "  0.88360931 0.77430095 0.88003566 0.46192096 0.49504891 0.78730274\n",
      "  0.30198722 0.39144749 0.33054177 0.65648624 0.54014855 0.72700389\n",
      "  0.6767335  0.95455882 0.49353094 0.53158704 0.09196419 0.93411201\n",
      "  0.69118256 0.64747571 0.16214165 0.65033007]\n",
      " [0.54519073 0.85694847 0.50442829 0.10101441 0.50400949 0.67182112\n",
      "  0.62319377 0.52291677 0.45099994 0.22217033 0.5388345  0.70753345\n",
      "  0.08148117 0.52668355 0.75990561 0.45920143 0.75041375 0.79121064\n",
      "  0.35862204 0.83237004 0.60710155 0.60139128 0.60104345 0.83323315\n",
      "  0.27393785 0.42154145 0.21753193 0.68734714 0.25526687 0.14763369\n",
      "  0.4442437  0.85057213 0.42508366 0.36732205 0.3616037  0.2419131\n",
      "  0.36876987 0.4283921  0.55976858 0.18220875 0.35197702 0.51454189\n",
      "  0.66074583 0.04369651 0.68164552 0.79765093 0.55337246 0.77042122\n",
      "  0.67199574 0.97301414 0.85120989 0.03491833 0.36021344 0.15895638\n",
      "  0.34970748 0.7368858  0.57248804 0.15554432 0.44935579 0.52616918\n",
      "  0.62600641 0.31236815 0.41764045 0.         0.64502537 0.19669885\n",
      "  0.46869546 0.35943259 0.53867171 0.81871195 0.57630018 0.64798459\n",
      "  0.4213924  0.20113534 0.64676825 0.4573636  0.55534012 0.2056265\n",
      "  0.54525476 0.36631266 0.65733295 0.64614101 0.08689695 0.80018287\n",
      "  0.18420997 0.34215834 0.25648744 0.66630304 0.18717636 0.34289655\n",
      "  0.52306813 0.56280861 0.10164571 0.55708864 0.42669571 0.67631741\n",
      "  0.49442229 0.23271694 0.35363814 0.59114954]\n",
      " [0.43252721 0.61249693 0.53180445 0.72937574 0.16253864 0.24120476\n",
      "  0.37928212 1.03867919 0.25034559 0.79754659 0.23631753 0.14807106\n",
      "  0.72249798 0.40843028 0.19557116 0.95835458 0.1063797  0.2275092\n",
      "  0.32807933 0.81928364 0.81377668 0.1100399  0.97016807 0.27250581\n",
      "  0.77315553 0.45656095 0.68546591 0.75792536 0.81587726 0.51399639\n",
      "  0.29239367 0.88186503 0.49204534 0.28201198 0.28666226 0.42438966\n",
      "  0.2769822  0.60507637 1.1025019  0.59098911 0.29321132 1.04149456\n",
      "  0.9510669  0.60268157 0.45433851 0.70454363 1.07452455 0.21706645\n",
      "  0.71783523 0.90893923 0.23469226 0.66264459 0.42861628 0.53690593\n",
      "  0.30112964 0.8957904  0.77590841 0.70517035 0.39421595 1.0525319\n",
      "  0.51832198 0.34953069 0.46581926 0.64502537 0.         0.78207228\n",
      "  0.36731149 0.45761469 0.60397448 0.77911067 0.13851982 0.80064342\n",
      "  0.41499047 0.74088924 0.23841619 0.18902947 0.10031534 0.73747851\n",
      "  0.81966069 0.869633   0.66790107 0.00744555 0.72876389 0.36885157\n",
      "  0.46209098 0.32661195 0.39102587 0.27575331 0.62549468 0.7791661\n",
      "  0.46270857 0.97336223 0.74667106 0.20837688 0.37416815 0.74989666\n",
      "  0.5181895  0.84650334 0.35154186 0.34555618]\n",
      " [0.5685862  0.8545943  0.49088566 0.10344915 0.62612916 0.75380989\n",
      "  0.66466401 0.32663224 0.62251748 0.02616949 0.62689168 0.81531392\n",
      "  0.1354524  0.55900378 0.86225199 0.26644253 0.88832755 0.89003855\n",
      "  0.46186455 0.7609428  0.49490776 0.75813846 0.43289644 0.92719217\n",
      "  0.11345095 0.44391138 0.13246129 0.60959065 0.06075294 0.33462032\n",
      "  0.62372559 0.76295801 0.43128127 0.50105974 0.5167131  0.42130952\n",
      "  0.51864055 0.38232163 0.36385307 0.19938923 0.49592227 0.31786755\n",
      "  0.51144167 0.21839594 0.70368384 0.75644735 0.35671282 0.86851077\n",
      "  0.60568957 0.90258324 0.9634376  0.16232772 0.55364244 0.35429335\n",
      "  0.48167721 0.6216852  0.46844785 0.07761232 0.4940508  0.32948278\n",
      "  0.62303723 0.48269103 0.61367883 0.19669885 0.78207228 0.\n",
      "  0.52114508 0.39315875 0.49816661 0.7574852  0.73704569 0.54817199\n",
      "  0.61483636 0.06009152 0.72873125 0.59423102 0.68476475 0.06828641\n",
      "  0.41895688 0.17916565 0.60632748 0.78461247 0.13545066 0.86048058\n",
      "  0.35052717 0.45702279 0.39739365 0.73890851 0.17012177 0.19459679\n",
      "  0.53592392 0.38566529 0.15594634 0.65130969 0.61666588 0.59948945\n",
      "  0.4862664  0.07263339 0.5352873  0.64254808]\n",
      " [0.10105643 0.40813061 0.16733832 0.5123442  0.22107389 0.24008096\n",
      "  0.15462825 0.70934412 0.39585054 0.5272597  0.13699984 0.32909227\n",
      "  0.52158779 0.07296774 0.36406929 0.62931337 0.45660532 0.38602146\n",
      "  0.15315223 0.49987979 0.44680465 0.41426449 0.60912514 0.41690171\n",
      "  0.47090251 0.0960845  0.3958234  0.40681095 0.5336384  0.41083923\n",
      "  0.43600781 0.55101379 0.12897376 0.22674668 0.29609357 0.37820723\n",
      "  0.27847205 0.24237376 0.77985387 0.32570754 0.25796126 0.71627965\n",
      "  0.58402994 0.42797305 0.2206438  0.41084072 0.74485396 0.36475166\n",
      "  0.36974085 0.61762073 0.47270206 0.46688666 0.50007315 0.45649278\n",
      "  0.22317935 0.53541741 0.40865746 0.44705103 0.03076259 0.7263119\n",
      "  0.20553627 0.3472453  0.57219144 0.46869546 0.36731149 0.52114508\n",
      "  0.         0.12873565 0.24067948 0.46722567 0.41528889 0.43737035\n",
      "  0.53238327 0.4658638  0.21631233 0.25302339 0.27609022 0.45957103\n",
      "  0.4539916  0.55200005 0.32527935 0.37335549 0.52816702 0.34015325\n",
      "  0.34772126 0.1836092  0.27003707 0.2197529  0.35135094 0.45152112\n",
      "  0.11022996 0.61903957 0.55584352 0.16704691 0.50026243 0.39744698\n",
      "  0.1528121  0.59350245 0.41021997 0.12380887]\n",
      " [0.18641501 0.49784881 0.16235704 0.39089252 0.29683562 0.36702157\n",
      "  0.27366795 0.59001299 0.41561423 0.39869764 0.25075474 0.44648192\n",
      "  0.40332507 0.17056146 0.48631495 0.50948232 0.5562673  0.51042692\n",
      "  0.15197786 0.51830566 0.38877364 0.47963623 0.51518814 0.54341495\n",
      "  0.34327494 0.0627272  0.2670878  0.3953219  0.40493368 0.33308209\n",
      "  0.44628902 0.55552843 0.07777216 0.23557555 0.29725047 0.32950227\n",
      "  0.28434998 0.16132847 0.65844387 0.20075098 0.25744801 0.59545461\n",
      "  0.50972344 0.32224036 0.32375739 0.45647418 0.62580235 0.48894236\n",
      "  0.36637896 0.65067047 0.5932797  0.35224474 0.47403155 0.38094624\n",
      "  0.22217425 0.49872503 0.34818686 0.3201191  0.10089564 0.60588361\n",
      "  0.26917827 0.3248322  0.54960941 0.35943259 0.45761469 0.39315875\n",
      "  0.12873565 0.         0.22137674 0.49438607 0.47240705 0.39759449\n",
      "  0.51829403 0.33731536 0.3426334  0.30162748 0.35862532 0.3309349\n",
      "  0.37409539 0.42792606 0.33488019 0.46254145 0.40975033 0.46732936\n",
      "  0.27706809 0.1743233  0.22016591 0.34830744 0.22403246 0.32987709\n",
      "  0.16408234 0.51581939 0.43872394 0.27920694 0.49357319 0.38450382\n",
      "  0.14871276 0.46567266 0.39543113 0.24945439]\n",
      " [0.17904143 0.36493803 0.07338438 0.5369764  0.4617414  0.42865906\n",
      "  0.27236617 0.56805034 0.62280573 0.49200852 0.36802031 0.54071652\n",
      "  0.55900898 0.1980145  0.56168328 0.49553289 0.68615673 0.57446953\n",
      "  0.3592296  0.30033641 0.21413537 0.6549116  0.40920401 0.59249419\n",
      "  0.40487482 0.17502777 0.36889864 0.17491991 0.48226085 0.54551158\n",
      "  0.65812452 0.33420289 0.14530161 0.44374974 0.51033049 0.55047779\n",
      "  0.49531846 0.1163903  0.64386    0.35722071 0.47010946 0.58095447\n",
      "  0.35943539 0.50973495 0.25993093 0.2616697  0.60048487 0.55544745\n",
      "  0.14506787 0.43744719 0.66992727 0.5212255  0.69511291 0.59320597\n",
      "  0.4337855  0.2948039  0.18040401 0.44476812 0.21943931 0.58866301\n",
      "  0.15339484 0.54467405 0.77056862 0.53867171 0.60397448 0.49816661\n",
      "  0.24067948 0.22137674 0.         0.28146286 0.65522081 0.19699947\n",
      "  0.73797414 0.43838338 0.41143106 0.48941532 0.51607385 0.43000762\n",
      "  0.24432987 0.44670919 0.11923662 0.61038569 0.56451092 0.46122287\n",
      "  0.49422362 0.38653822 0.44154145 0.39505898 0.361236   0.34728561\n",
      "  0.14292401 0.43644701 0.59528621 0.3969744  0.71149203 0.16438096\n",
      "  0.08830454 0.56622279 0.61449891 0.2825588 ]\n",
      " [0.36959894 0.25825581 0.33209424 0.80946576 0.67048388 0.55181801\n",
      "  0.39982861 0.73820766 0.86248676 0.74667726 0.55578418 0.67184682\n",
      "  0.83376252 0.39845116 0.66964258 0.68250459 0.83587197 0.66800836\n",
      "  0.61275855 0.04445414 0.30565965 0.85602851 0.51847084 0.66625517\n",
      "  0.65247401 0.4381736  0.63563586 0.15472574 0.7301616  0.8249198\n",
      "  0.90321571 0.11700214 0.41668183 0.69255718 0.76177669 0.82223192\n",
      "  0.74470572 0.39086764 0.81220112 0.63662081 0.72258922 0.75625797\n",
      "  0.4176924  0.7908539  0.32877275 0.08321868 0.76356366 0.65506168\n",
      "  0.15179675 0.15650465 0.76299521 0.79969127 0.95961735 0.87277718\n",
      "  0.68671229 0.25017214 0.31079615 0.71395163 0.45889559 0.76062308\n",
      "  0.2676327  0.80655002 1.03380486 0.81871195 0.77911067 0.7574852\n",
      "  0.46722567 0.49438607 0.28146286 0.         0.8646056  0.24185188\n",
      "  0.99675385 0.69981405 0.54622864 0.71554764 0.7115954  0.691261\n",
      "  0.3866411  0.66493283 0.16225104 0.78638807 0.83890326 0.50158583\n",
      "  0.77118753 0.64256418 0.71142795 0.51380791 0.63738881 0.58036096\n",
      "  0.35846339 0.5711285  0.86962722 0.5781409  0.96623543 0.16292632\n",
      "  0.34619543 0.81993448 0.87335226 0.43515137]\n",
      " [0.50020054 0.72492457 0.58188451 0.66956041 0.19590041 0.35910429\n",
      "  0.47132885 1.02141191 0.13465963 0.75589584 0.30900567 0.28376691\n",
      "  0.65711788 0.47269284 0.33364221 0.94277521 0.20926462 0.36593832\n",
      "  0.32323764 0.90194446 0.85389501 0.03254483 0.98483066 0.41102498\n",
      "  0.74813285 0.48945612 0.65903584 0.82150456 0.77891559 0.43366294\n",
      "  0.16693059 0.95930906 0.52486276 0.24979139 0.22033591 0.33843767\n",
      "  0.21968429 0.63163795 1.07934599 0.56127851 0.24480839 1.02132517\n",
      "  0.98151997 0.53705932 0.55231191 0.79574421 1.05675071 0.35486244\n",
      "  0.78353996 1.00387034 0.36705496 0.59947426 0.30589389 0.44650402\n",
      "  0.26835196 0.94992591 0.81411672 0.66332936 0.43597369 1.03280501\n",
      "  0.59748104 0.26453312 0.33351997 0.57630018 0.13851982 0.73704569\n",
      "  0.41528889 0.47240705 0.65522081 0.8646056  0.         0.85077462\n",
      "  0.2833332  0.70431081 0.34978672 0.17081281 0.15521055 0.70240826\n",
      "  0.84628835 0.84934256 0.73683627 0.13322104 0.66288936 0.49817294\n",
      "  0.39338728 0.30913577 0.34059521 0.38868799 0.59645016 0.7684816\n",
      "  0.5225512  0.97905425 0.67625177 0.28870879 0.24355674 0.81235834\n",
      "  0.5669302  0.79510648 0.24320892 0.43196863]\n",
      " [0.37146378 0.45027932 0.27009423 0.61679252 0.65827231 0.61524336\n",
      "  0.45373264 0.49635613 0.81103173 0.53317737 0.56444697 0.7311727\n",
      "  0.64507539 0.3931089  0.74730882 0.44186974 0.880903   0.75658917\n",
      "  0.54574975 0.22869745 0.0639435  0.85131775 0.28140258 0.76925888\n",
      "  0.43678913 0.36392172 0.44119426 0.09321862 0.51160304 0.69093646\n",
      "  0.8434819  0.21593604 0.33000847 0.63066193 0.69449435 0.714412\n",
      "  0.68090961 0.24367229 0.57045298 0.47100539 0.65447377 0.51444638\n",
      "  0.1935536  0.6291496  0.41851927 0.28284503 0.52193102 0.73883827\n",
      "  0.12310148 0.36388684 0.85342396 0.62266881 0.86564323 0.73662504\n",
      "  0.61869962 0.10114592 0.07974708 0.5191216  0.41489789 0.51877127\n",
      "  0.31337603 0.72054274 0.94136047 0.64798459 0.80064342 0.54817199\n",
      "  0.43737035 0.39759449 0.19699947 0.24185188 0.85077462 0.\n",
      "  0.91335863 0.49509727 0.60031293 0.68330044 0.71304511 0.48672619\n",
      "  0.14664148 0.43227519 0.16858482 0.80711282 0.64924512 0.62274931\n",
      "  0.64923651 0.57079112 0.61128762 0.5795571  0.46083837 0.35851966\n",
      "  0.33826805 0.33064868 0.67897939 0.59309511 0.89037078 0.09009539\n",
      "  0.28457457 0.60343049 0.79165766 0.47141899]\n",
      " [0.63316677 0.91899912 0.67184363 0.52226313 0.37890243 0.5892086\n",
      "  0.64847362 0.93570555 0.17126193 0.63905318 0.48940841 0.54728996\n",
      "  0.49872213 0.60451006 0.60176707 0.86539075 0.49215202 0.635675\n",
      "  0.38405247 1.02636835 0.89632992 0.31582532 0.96674767 0.68213784\n",
      "  0.6675904  0.56436736 0.5864806  0.9127943  0.66987068 0.28133109\n",
      "  0.12459099 1.07019077 0.59268925 0.30568294 0.23643707 0.21050645\n",
      "  0.25449821 0.67051128 0.9785096  0.49792272 0.27458284 0.9296592\n",
      "  0.99577232 0.39662253 0.73054089 0.9432081  0.9680822  0.6212567\n",
      "  0.8818136  1.14928565 0.64864967 0.4539884  0.06122963 0.26268748\n",
      "  0.31013733 1.01400835 0.8559461  0.55681064 0.53797744 0.94141254\n",
      "  0.73785404 0.19347181 0.05090102 0.4213924  0.41499047 0.61483636\n",
      "  0.53238327 0.51829403 0.73797414 0.99675385 0.2833332  0.91335863\n",
      "  0.         0.60405933 0.57186782 0.31365541 0.38257565 0.60564008\n",
      "  0.86234375 0.76916026 0.84508831 0.41113689 0.50268674 0.73808403\n",
      "  0.28635976 0.35450821 0.30254444 0.60824232 0.52805324 0.71580554\n",
      "  0.63867134 0.94300937 0.50425839 0.48408146 0.04109509 0.90211816\n",
      "  0.65662789 0.65368322 0.12374107 0.60581515]\n",
      " [0.51004651 0.79452316 0.4308894  0.12931023 0.58238106 0.70088355\n",
      "  0.60717228 0.33187769 0.59571215 0.06139697 0.57591693 0.76670251\n",
      "  0.16132712 0.50123896 0.81229863 0.26207498 0.84671618 0.83928924\n",
      "  0.41637422 0.70440095 0.44408924 0.72366552 0.40333787 0.87541655\n",
      "  0.07404204 0.38616099 0.07285149 0.5533097  0.07511925 0.32298776\n",
      "  0.60118196 0.70870738 0.37236839 0.4624085  0.4846591  0.40223101\n",
      "  0.48469388 0.32240097 0.37975513 0.15090664 0.4604796  0.32690751\n",
      "  0.47261631 0.21100698 0.64459006 0.69722517 0.36488198 0.81772448\n",
      "  0.54805512 0.84626303 0.91503389 0.16663923 0.54339951 0.34997693\n",
      "  0.44294366 0.57239774 0.41562645 0.04753121 0.43810803 0.33867467\n",
      "  0.56308633 0.45756285 0.60786555 0.20113534 0.74088924 0.06009152\n",
      "  0.4658638  0.33731536 0.43838338 0.69981405 0.70431081 0.49509727\n",
      "  0.60405933 0.         0.67595038 0.55490246 0.64228157 0.00855389\n",
      "  0.3711678  0.16685568 0.54739003 0.74382837 0.16369472 0.80417371\n",
      "  0.32791922 0.41436399 0.36379316 0.68466894 0.11820594 0.15090157\n",
      "  0.47683623 0.36231398 0.19039545 0.6012293  0.60192867 0.54304264\n",
      "  0.42641068 0.13137744 0.51521383 0.58618715]\n",
      " [0.23260635 0.37628296 0.34696942 0.70681919 0.19352958 0.02527354\n",
      "  0.15085615 0.9247572  0.40355473 0.73714137 0.10813618 0.13126806\n",
      "  0.71077807 0.21784235 0.15189268 0.84497455 0.29051283 0.17045708\n",
      "  0.28869541 0.58780046 0.62539986 0.33198008 0.81058732 0.20081997\n",
      "  0.68590834 0.3104593  0.60797812 0.5437537  0.74603667 0.55342706\n",
      "  0.45112006 0.6533469  0.33982396 0.30877779 0.36054958 0.48915038\n",
      "  0.34244326 0.44885976 0.99580225 0.52980891 0.33855442 0.93212313\n",
      "  0.7706414  0.60346872 0.2181364  0.46917333 0.96012981 0.14955084\n",
      "  0.50252805 0.67146253 0.26131786 0.65236702 0.56183692 0.59177873\n",
      "  0.31936822 0.68840399 0.59155319 0.65252862 0.24680871 0.94204101\n",
      "  0.29601509 0.429988   0.62047635 0.64676825 0.23841619 0.72873125\n",
      "  0.21631233 0.3426334  0.41143106 0.54622864 0.34978672 0.60031293\n",
      "  0.57186782 0.67595038 0.         0.26017509 0.1990681  0.67020577\n",
      "  0.64915163 0.76830747 0.45070242 0.24585763 0.71743895 0.16908428\n",
      "  0.48978183 0.30899027 0.40462349 0.03890911 0.5588627  0.66772603\n",
      "  0.2709452  0.82662166 0.74242646 0.09551616 0.53227257 0.53712295\n",
      "  0.33684073 0.80015239 0.46914103 0.12916241]\n",
      " [0.34611983 0.60906669 0.41652097 0.54039838 0.06695624 0.27936307\n",
      "  0.34058425 0.86147518 0.15209164 0.61043012 0.17716572 0.26564723\n",
      "  0.53399703 0.31743574 0.32149991 0.78185372 0.29533662 0.35537571\n",
      "  0.15389042 0.75027093 0.68419664 0.17935843 0.81492822 0.40121682\n",
      "  0.59144907 0.32022112 0.50277725 0.65922122 0.63001881 0.33206114\n",
      "  0.19784439 0.80350431 0.35530301 0.09324631 0.10952742 0.24929355\n",
      "  0.09490785 0.46094284 0.9225428  0.40650006 0.10573181 0.8628267\n",
      "  0.81075217 0.4146211  0.4235728  0.65263735 0.89713461 0.33692622\n",
      "  0.62263586 0.86147515 0.39973864 0.47401699 0.30172197 0.36063734\n",
      "  0.11256689 0.78323041 0.64421904 0.51775166 0.27026878 0.8741065\n",
      "  0.44855829 0.17961331 0.36126075 0.4573636  0.18902947 0.59423102\n",
      "  0.25302339 0.30162748 0.48941532 0.71554764 0.17081281 0.68330044\n",
      "  0.31365541 0.55490246 0.26017509 0.         0.09940456 0.55192511\n",
      "  0.67547747 0.69044915 0.57820221 0.19097897 0.54031363 0.42853422\n",
      "  0.27621355 0.14408505 0.20216414 0.29545796 0.44145948 0.60488174\n",
      "  0.36289508 0.81082374 0.55893889 0.1704324  0.27520047 0.64963757\n",
      "  0.40127961 0.65786229 0.20949097 0.29817339]\n",
      " [0.3517381  0.57119102 0.44299251 0.63596801 0.0623086  0.21202897\n",
      "  0.31630158 0.93836508 0.2114025  0.6995759  0.15621331 0.17084669\n",
      "  0.63093058 0.32546661 0.226953   0.85803944 0.20466081 0.26121354\n",
      "  0.22803765 0.74976027 0.72243881 0.14445596 0.87259525 0.3076991\n",
      "  0.67324474 0.36126156 0.58580402 0.67650072 0.71713603 0.43145873\n",
      "  0.2587109  0.80888685 0.39699291 0.18837949 0.20719926 0.34754346\n",
      "  0.19383388 0.50904708 1.00229089 0.49195054 0.20479007 0.94121535\n",
      "  0.85706921 0.51229407 0.39710302 0.64142916 0.97421129 0.24416057\n",
      "  0.63742304 0.84919131 0.30048651 0.5707976  0.38222764 0.45943663\n",
      "  0.20676023 0.81016544 0.68381987 0.60754878 0.30103029 0.95224245\n",
      "  0.44548785 0.27581471 0.432731   0.55534012 0.10031534 0.68476475\n",
      "  0.27609022 0.35862532 0.51607385 0.7115954  0.15521055 0.71304511\n",
      "  0.38257565 0.64228157 0.1990681  0.09940456 0.         0.63866826\n",
      "  0.72436098 0.76940641 0.58913527 0.10453984 0.63732198 0.35830397\n",
      "  0.37530164 0.22801832 0.29911553 0.23774519 0.52625328 0.678875\n",
      "  0.37788043 0.87441836 0.65674768 0.13393206 0.34186517 0.66786488\n",
      "  0.42873528 0.75031785 0.29473827 0.27746268]\n",
      " [0.5027794  0.78645696 0.42292761 0.13649212 0.57855582 0.69509978\n",
      "  0.60023001 0.33085693 0.59485755 0.06793707 0.57060938 0.76184022\n",
      "  0.16827185 0.49423101 0.80714606 0.25993143 0.84319311 0.83396189\n",
      "  0.4123242  0.6958575  0.43589341 0.72145692 0.39748695 0.86985999\n",
      "  0.06850495 0.37918802 0.06539072 0.54477479 0.07849098 0.32484756\n",
      "  0.60100202 0.70025326 0.36498821 0.45963144 0.48302807 0.40281298\n",
      "  0.48273603 0.31407509 0.38014646 0.14685489 0.45828383 0.32643909\n",
      "  0.46560818 0.21391414 0.63710172 0.6887478  0.3641958  0.81239318\n",
      "  0.53950154 0.8377236  0.91018314 0.17136681 0.54510867 0.35279394\n",
      "  0.4401716  0.56430643 0.40728291 0.05059583 0.4316489  0.33819655\n",
      "  0.5551597  0.4571122  0.61014284 0.2056265  0.73747851 0.06828641\n",
      "  0.45957103 0.3309349  0.43000762 0.691261   0.70240826 0.48672619\n",
      "  0.60564008 0.00855389 0.67020577 0.55192511 0.63866826 0.\n",
      "  0.36326566 0.16417794 0.53888287 0.74049008 0.17082086 0.79754127\n",
      "  0.32810217 0.4108794  0.36205743 0.67857831 0.11347911 0.14379591\n",
      "  0.46936695 0.35731115 0.19789037 0.59610753 0.60293478 0.53450341\n",
      "  0.41856286 0.13906733 0.51549319 0.5795722 ]\n",
      " [0.41772644 0.57266193 0.30228266 0.498495   0.66455186 0.66813614\n",
      "  0.51578313 0.35398814 0.78445615 0.40108864 0.59036278 0.7752299\n",
      "  0.52897932 0.43145576 0.80080174 0.2958733  0.91057432 0.81565618\n",
      "  0.52537675 0.3753197  0.08362429 0.85241465 0.16498735 0.83562408\n",
      "  0.30555707 0.36324187 0.32894172 0.23308945 0.37610367 0.61353166\n",
      "  0.81026155 0.35857549 0.32764412 0.606972   0.66323166 0.65447525\n",
      "  0.6527472  0.21558724 0.42927055 0.3821006  0.6250446  0.37108254\n",
      "  0.13607673 0.53397482 0.50197295 0.41846138 0.38172943 0.79605411\n",
      "  0.25081926 0.5096419  0.90989233 0.5160968  0.809171   0.65581484\n",
      "  0.59174338 0.20315311 0.07966417 0.40248375 0.42581253 0.37620685\n",
      "  0.39372128 0.67530773 0.88360931 0.54525476 0.81966069 0.41895688\n",
      "  0.4539916  0.37409539 0.24432987 0.3866411  0.84628835 0.14664148\n",
      "  0.86234375 0.3711678  0.64915163 0.67547747 0.72436098 0.36326566\n",
      "  0.         0.28790028 0.28158934 0.82536997 0.53231386 0.70505274\n",
      "  0.58255809 0.54496677 0.56257377 0.63617697 0.36324641 0.22461033\n",
      "  0.37842297 0.19866126 0.56057823 0.62035598 0.84500249 0.22658382\n",
      "  0.31242147 0.46793402 0.74609159 0.52216973]\n",
      " [0.5685026  0.81098331 0.46636735 0.28156219 0.70751758 0.79200694\n",
      "  0.67223575 0.17226448 0.74947555 0.1536432  0.67854817 0.87411536\n",
      "  0.31404784 0.56793724 0.91411609 0.09645845 0.97326091 0.93756857\n",
      "  0.54168121 0.65896096 0.37107233 0.86574457 0.25984867 0.96883281\n",
      "  0.10307355 0.45950346 0.19107786 0.51045934 0.11937303 0.48881785\n",
      "  0.75910023 0.64637548 0.43464032 0.60119191 0.63338563 0.56429738\n",
      "  0.630757   0.34567502 0.23290052 0.28881686 0.60473878 0.17238121\n",
      "  0.35082392 0.37785208 0.69084726 0.68227926 0.20742559 0.91617062\n",
      "  0.51785614 0.7961452  1.02119274 0.3314518  0.70883207 0.51681271\n",
      "  0.58205597 0.48656431 0.35578556 0.21432204 0.52159647 0.18370391\n",
      "  0.59359325 0.61445324 0.77430095 0.36631266 0.869633   0.17916565\n",
      "  0.55200005 0.42792606 0.44670919 0.66493283 0.84934256 0.43227519\n",
      "  0.76916026 0.16685568 0.76830747 0.69044915 0.76940641 0.16417794\n",
      "  0.28790028 0.         0.53312192 0.87344305 0.31441402 0.87369584\n",
      "  0.48860752 0.54647089 0.51296024 0.76948244 0.25392158 0.10309982\n",
      "  0.52995522 0.20809549 0.33480519 0.70662532 0.7652762  0.50200707\n",
      "  0.46746871 0.19913469 0.67570196 0.66072121]\n",
      " [0.23740459 0.29108282 0.17397677 0.65193673 0.54094187 0.46260055\n",
      "  0.30021888 0.631955   0.71967304 0.59774754 0.43400747 0.58177235\n",
      "  0.67512197 0.26425252 0.59195665 0.5666482  0.73868453 0.59816135\n",
      "  0.46189001 0.18342593 0.21778222 0.73237166 0.4388037  0.60733183\n",
      "  0.50633214 0.28158143 0.48042944 0.09356266 0.58444772 0.66342915\n",
      "  0.75794882 0.22639481 0.25716897 0.54440766 0.61282787 0.66411824\n",
      "  0.59662227 0.23098803 0.70792406 0.47549949 0.57294999 0.64757414\n",
      "  0.36102617 0.62886888 0.25390103 0.15092238 0.66141961 0.58157242\n",
      "  0.0522087  0.31843059 0.69534404 0.63913177 0.80511353 0.71123122\n",
      "  0.53665303 0.24107667 0.20247184 0.55785674 0.31147765 0.65375415\n",
      "  0.15503354 0.65293308 0.88003566 0.65733295 0.66790107 0.60632748\n",
      "  0.32527935 0.33488019 0.11923662 0.16225104 0.73683627 0.16858482\n",
      "  0.84508831 0.54739003 0.45070242 0.57820221 0.58913527 0.53888287\n",
      "  0.28158934 0.53312192 0.         0.67482688 0.68045125 0.45625195\n",
      "  0.61070929 0.49083301 0.55393109 0.42544263 0.47781421 0.44018868\n",
      "  0.2153396  0.47978743 0.711232   0.46017299 0.81646628 0.08825307\n",
      "  0.18888444 0.67180419 0.72135032 0.32536942]\n",
      " [0.43928886 0.61992305 0.5381273  0.73107836 0.16684756 0.24863207\n",
      "  0.38656184 1.04270582 0.24750444 0.80027197 0.24290113 0.1547177\n",
      "  0.72388029 0.41506972 0.20152848 0.96242387 0.10447899 0.23318737\n",
      "  0.3317874  0.82652159 0.81994221 0.10412635 0.97549776 0.27793155\n",
      "  0.77668257 0.46220173 0.68885366 0.7647486  0.81885244 0.5142475\n",
      "  0.2889779  0.88902003 0.49773124 0.28413357 0.2869993  0.42411849\n",
      "  0.27775003 0.61064797 1.10628193 0.59411452 0.29455748 1.04539013\n",
      "  0.95696051 0.60392722 0.46172416 0.71189025 1.07854158 0.2231301\n",
      "  0.72469911 0.91634011 0.23792094 0.66409697 0.4257029  0.53655837\n",
      "  0.30333474 0.90240246 0.78199576 0.70781222 0.40008443 1.05645195\n",
      "  0.52542066 0.34909641 0.46192096 0.64614101 0.00744555 0.78461247\n",
      "  0.37335549 0.46254145 0.61038569 0.78638807 0.13322104 0.80711282\n",
      "  0.41113689 0.74382837 0.24585763 0.19097897 0.10453984 0.74049008\n",
      "  0.82536997 0.87344305 0.67482688 0.         0.73012311 0.37590051\n",
      "  0.46293099 0.32970737 0.39268665 0.28319856 0.62869429 0.78335505\n",
      "  0.46927212 0.97834266 0.74778034 0.2151262  0.37039709 0.75668906\n",
      "  0.52445749 0.84875101 0.34961039 0.3527061 ]\n",
      " [0.59574091 0.90106098 0.54045089 0.03440653 0.58412738 0.74266775\n",
      "  0.68097204 0.45785019 0.53789536 0.16142445 0.61037783 0.78538453\n",
      "  0.00666154 0.58013246 0.83664856 0.40129092 0.83454535 0.86719787\n",
      "  0.43221305 0.84818646 0.6019507  0.68769068 0.56448424 0.90813586\n",
      "  0.23648898 0.46940524 0.20809178 0.69917534 0.19609327 0.23403089\n",
      "  0.53068633 0.85915152 0.46696829 0.448943   0.44711776 0.32873135\n",
      "  0.45353134 0.44951942 0.48751678 0.21337793 0.4355735  0.44719362\n",
      "  0.63630951 0.12655898 0.73328004 0.82612795 0.48600155 0.8461379\n",
      "  0.68872823 0.99006257 0.93058905 0.06666547 0.44183602 0.24043557\n",
      "  0.43074278 0.7313809  0.57086085 0.13046621 0.50582611 0.45854172\n",
      "  0.66790962 0.39918582 0.49504891 0.08689695 0.72876389 0.13545066\n",
      "  0.52816702 0.40975033 0.56451092 0.83890326 0.66288936 0.64924512\n",
      "  0.50268674 0.16369472 0.71743895 0.54031363 0.63732198 0.17082086\n",
      "  0.53231386 0.31441402 0.68045125 0.73012311 0.         0.86535371\n",
      "  0.27006112 0.41875284 0.33831857 0.73436961 0.20339375 0.31456984\n",
      "  0.56944701 0.51966348 0.03078566 0.63052991 0.51036369 0.68845172\n",
      "  0.5323472  0.15271766 0.43997435 0.65189961]\n",
      " [0.30548343 0.27270001 0.41505853 0.85124621 0.36163004 0.1492517\n",
      "  0.20146039 1.01724638 0.5681205  0.86545366 0.2711464  0.22345409\n",
      "  0.85871937 0.30659154 0.19367825 0.94009721 0.37988262 0.17924372\n",
      "  0.44750541 0.54595795 0.66242072 0.47506318 0.87003913 0.16672515\n",
      "  0.80248799 0.41976752 0.73289402 0.54720028 0.86955954 0.71691387\n",
      "  0.61572251 0.61762815 0.44013805 0.4764168  0.52960001 0.65666304\n",
      "  0.51143822 0.53303835 1.09141291 0.66585699 0.50681763 1.02749429\n",
      "  0.81003647 0.75769343 0.20496    0.41846625 1.05139326 0.17346728\n",
      "  0.50703875 0.59656068 0.26680118 0.80218464 0.73022904 0.75694759\n",
      "  0.48590702 0.69511942 0.63557232 0.78703968 0.36645422 1.03641213\n",
      "  0.31296269 0.59888062 0.78730274 0.80018287 0.36885157 0.86048058\n",
      "  0.34015325 0.46732936 0.46122287 0.50158583 0.49817294 0.62274931\n",
      "  0.73808403 0.80417371 0.16908428 0.42853422 0.35830397 0.79754127\n",
      "  0.70505274 0.87369584 0.45625195 0.37590051 0.86535371 0.\n",
      "  0.65267097 0.47086716 0.56760388 0.13831536 0.69114484 0.77071259\n",
      "  0.34485415 0.89702435 0.892018   0.26381041 0.69797606 0.54365466\n",
      "  0.41045198 0.93300181 0.63786121 0.2179907 ]\n",
      " [0.44145365 0.75522264 0.4393741  0.27630543 0.32811356 0.51393595\n",
      "  0.4975922  0.65852776 0.27261572 0.37192452 0.3825707  0.53423073\n",
      "  0.26414161 0.41696784 0.58837296 0.58504874 0.56695996 0.62092562\n",
      "  0.20654526 0.79387577 0.62424861 0.41770436 0.6806488  0.66476876\n",
      "  0.38581472 0.33620341 0.30176431 0.66383557 0.39906329 0.06449378\n",
      "  0.27374287 0.82703752 0.35457675 0.19037156 0.17741463 0.07642364\n",
      "  0.18518769 0.40661052 0.70751268 0.21156299 0.1705279  0.65453691\n",
      "  0.7137355  0.14376555 0.56832257 0.73265791 0.69219715 0.60083857\n",
      "  0.63864882 0.92758178 0.67432739 0.20608809 0.22917259 0.10877316\n",
      "  0.17492131 0.74769523 0.58478035 0.28247318 0.33811812 0.66629216\n",
      "  0.53817779 0.13247905 0.30198722 0.18420997 0.46209098 0.35052717\n",
      "  0.34772126 0.27706809 0.49422362 0.77118753 0.39338728 0.64923651\n",
      "  0.28635976 0.32791922 0.48978183 0.27621355 0.37530164 0.32810217\n",
      "  0.58255809 0.48860752 0.61070929 0.46293099 0.27006112 0.65267097\n",
      "  0.         0.18180545 0.08519947 0.51489448 0.24207963 0.42985143\n",
      "  0.43126004 0.65678662 0.28552681 0.39565976 0.2777637  0.65274065\n",
      "  0.42576952 0.40369324 0.18741029 0.45966119]\n",
      " [0.28417047 0.58842465 0.31826995 0.41356254 0.16923076 0.33349592\n",
      "  0.32277315 0.71739501 0.24130599 0.47157142 0.2012193  0.36664415\n",
      "  0.41217609 0.25653208 0.41811591 0.6377739  0.43235219 0.44913284\n",
      "  0.03049762 0.67186057 0.56305974 0.32176704 0.67720158 0.49109653\n",
      "  0.44796003 0.21160406 0.35960594 0.56130965 0.48930147 0.24611127\n",
      "  0.27275993 0.71646018 0.24241595 0.06201419 0.1240201  0.19703584\n",
      "  0.11016343 0.33523662 0.77875002 0.26440716 0.08382573 0.71883466\n",
      "  0.68102511 0.29847186 0.39861099 0.59151636 0.75306193 0.42828763\n",
      "  0.52882957 0.79591903 0.51246903 0.35225095 0.31798667 0.28736311\n",
      "  0.04792897 0.67191623 0.52245051 0.37967426 0.18467832 0.73009362\n",
      "  0.38768271 0.16466287 0.39144749 0.34215834 0.32661195 0.45702279\n",
      "  0.1836092  0.1743233  0.38653822 0.64256418 0.30913577 0.57079112\n",
      "  0.35450821 0.41436399 0.30899027 0.14408505 0.22801832 0.4108794\n",
      "  0.54496677 0.54647089 0.49083301 0.32970737 0.41875284 0.47086716\n",
      "  0.18180545 0.         0.0968534  0.3331744  0.29902515 0.46108025\n",
      "  0.28535408 0.66998761 0.44115545 0.21629075 0.32576646 0.55087446\n",
      "  0.30292536 0.52344941 0.2308856  0.28276101]\n",
      " [0.36734346 0.67808256 0.38014175 0.33839264 0.24781584 0.42883118\n",
      "  0.41632443 0.68517151 0.23736422 0.41558508 0.29737227 0.45269666\n",
      "  0.33196426 0.34138057 0.50611358 0.60804739 0.49716121 0.53823184\n",
      "  0.12291376 0.73719421 0.59389974 0.36082261 0.67768378 0.58153602\n",
      "  0.41050109 0.27325795 0.32188287 0.61517033 0.43832407 0.14931035\n",
      "  0.25305537 0.77568296 0.29716325 0.11085785 0.12103744 0.11109826\n",
      "  0.12130853 0.36807887 0.74049526 0.22430688 0.09906541 0.68378237\n",
      "  0.69735523 0.21325307 0.48950271 0.66711708 0.72005965 0.5178807\n",
      "  0.58653706 0.86695963 0.59506351 0.27191331 0.25479291 0.19082768\n",
      "  0.0933388  0.71173347 0.55346806 0.32287261 0.26424871 0.6953867\n",
      "  0.46759288 0.11279786 0.33054177 0.25648744 0.39102587 0.39739365\n",
      "  0.27003707 0.22016591 0.44154145 0.71142795 0.34059521 0.61128762\n",
      "  0.30254444 0.36379316 0.40462349 0.20216414 0.29911553 0.36205743\n",
      "  0.56257377 0.51296024 0.55393109 0.39268665 0.33831857 0.56760388\n",
      "  0.08519947 0.0968534  0.         0.4297439  0.25904625 0.44005875\n",
      "  0.36168055 0.66148532 0.35771122 0.31069077 0.28261928 0.60428502\n",
      "  0.36558258 0.45820515 0.18355682 0.37737993]\n",
      " [0.21853995 0.33776016 0.33431515 0.72215417 0.22937451 0.03807858\n",
      "  0.12598871 0.92243766 0.44078047 0.74604085 0.13284869 0.15858043\n",
      "  0.72771203 0.20818327 0.16775398 0.84323393 0.32210028 0.17954862\n",
      "  0.31068677 0.55597462 0.60790666 0.37071125 0.79914817 0.20202955\n",
      "  0.69050243 0.30998522 0.61526844 0.51891939 0.75321419 0.57901921\n",
      "  0.4882706  0.62268584 0.33668892 0.33835183 0.39309594 0.51847577\n",
      "  0.37470198 0.44198397 0.99453369 0.5411532  0.36904197 0.93065829\n",
      "  0.75435022 0.62337453 0.18503517 0.43550296 0.95753276 0.16039563\n",
      "  0.47756645 0.63597899 0.27497109 0.67010823 0.59659529 0.61873215\n",
      "  0.34761453 0.66501568 0.5754369  0.66360929 0.24915313 0.94030457\n",
      "  0.27043114 0.461763   0.65648624 0.66630304 0.27575331 0.73890851\n",
      "  0.2197529  0.34830744 0.39505898 0.51380791 0.38868799 0.5795571\n",
      "  0.60824232 0.68466894 0.03890911 0.29545796 0.23774519 0.67857831\n",
      "  0.63617697 0.76948244 0.42544263 0.28319856 0.73436961 0.13831536\n",
      "  0.51489448 0.3331744  0.4297439  0.         0.56878802 0.66782005\n",
      "  0.25833314 0.8180012  0.7601773  0.12687787 0.56891774 0.51281279\n",
      "  0.32553451 0.81088878 0.5034905  0.11440288]\n",
      " [0.40401762 0.70148113 0.33862642 0.17727594 0.46574468 0.58389643\n",
      "  0.49706165 0.42615836 0.49582887 0.17870735 0.45797196 0.64849975\n",
      "  0.19781169 0.39225273 0.69417609 0.34912715 0.73089719 0.72133384\n",
      "  0.29923119 0.64863888 0.42110662 0.61392123 0.44161374 0.75782434\n",
      "  0.15176785 0.27773091 0.06284901 0.50176741 0.19174479 0.25753447\n",
      "  0.5070694  0.66427364 0.26951144 0.35018379 0.37951717 0.31848052\n",
      "  0.37727413 0.24686289 0.48292114 0.03518892 0.35164297 0.42514779\n",
      "  0.48596542 0.1709539  0.540824   0.62278631 0.46113501 0.69977599\n",
      "  0.48846223 0.79005359 0.79683361 0.16353841 0.46970512 0.29607313\n",
      "  0.33081667 0.55061369 0.38576804 0.09614098 0.32475089 0.43669746\n",
      "  0.46811936 0.36240469 0.54014855 0.18717636 0.62549468 0.17012177\n",
      "  0.35135094 0.22403246 0.361236   0.63738881 0.59645016 0.46083837\n",
      "  0.52805324 0.11820594 0.5588627  0.44145948 0.52625328 0.11347911\n",
      "  0.36324641 0.25392158 0.47781421 0.62869429 0.20339375 0.69114484\n",
      "  0.24207963 0.29902515 0.25904625 0.56878802 0.         0.18778964\n",
      "  0.3739615  0.41500842 0.23414043 0.4830974  0.51956269 0.49082238\n",
      "  0.33142346 0.24222751 0.42631355 0.47342363]\n",
      " [0.46544462 0.71221078 0.36369403 0.28020114 0.61663004 0.69114916\n",
      "  0.56925489 0.26050205 0.67722014 0.17653185 0.58049456 0.77625505\n",
      "  0.31206766 0.46520788 0.81482427 0.17990923 0.88131461 0.83751293\n",
      "  0.45299101 0.57881957 0.30238507 0.78268171 0.25899589 0.86788625\n",
      "  0.08116378 0.35793962 0.13135703 0.42784311 0.15311043 0.44237808\n",
      "  0.6917061  0.57441843 0.33214599 0.51874502 0.55776191 0.506233\n",
      "  0.55297808 0.24314566 0.32873037 0.21928955 0.52598727 0.26558462\n",
      "  0.32182082 0.34244471 0.58808437 0.59074103 0.29636273 0.81620207\n",
      "  0.43016657 0.71892972 0.92256654 0.31018085 0.65724934 0.47738653\n",
      "  0.50013575 0.42764738 0.27906993 0.18943077 0.42093125 0.27601451\n",
      "  0.49188297 0.5475783  0.72700389 0.34289655 0.7791661  0.19459679\n",
      "  0.45152112 0.32987709 0.34728561 0.58036096 0.7684816  0.35851966\n",
      "  0.71580554 0.15090157 0.66772603 0.60488174 0.678875   0.14379591\n",
      "  0.22461033 0.10309982 0.44018868 0.78335505 0.31456984 0.77071259\n",
      "  0.42985143 0.46108025 0.44005875 0.66782005 0.18778964 0.\n",
      "  0.42685641 0.227557   0.34114105 0.60907996 0.70715446 0.41850302\n",
      "  0.36451668 0.24502926 0.61307919 0.55830494]\n",
      " [0.04036316 0.33389641 0.0761471  0.54808826 0.32691428 0.28971846\n",
      "  0.14429313 0.67277851 0.50587686 0.53667815 0.22639223 0.39879122\n",
      "  0.563178   0.05509366 0.42241429 0.59530152 0.54330515 0.43751592\n",
      "  0.25518272 0.39010734 0.3566218  0.51949097 0.54086126 0.45937512\n",
      "  0.46451725 0.1015576  0.40400762 0.29915777 0.53592578 0.49105567\n",
      "  0.54549074 0.44080668 0.10479151 0.33409395 0.40332891 0.47252844\n",
      "  0.38624785 0.18845262 0.7466826  0.3567478  0.36425483 0.68274012\n",
      "  0.50035469 0.48629719 0.16776454 0.30653327 0.70715813 0.41773694\n",
      "  0.26099888 0.51071837 0.53146953 0.51441047 0.60329838 0.53843007\n",
      "  0.32853402 0.4332022  0.32145672 0.46871494 0.10076429 0.69174731\n",
      "  0.10697259 0.44996447 0.6767335  0.52306813 0.46270857 0.53592392\n",
      "  0.11022996 0.16408234 0.14292401 0.35846339 0.5225512  0.33826805\n",
      "  0.63867134 0.47683623 0.2709452  0.36289508 0.37788043 0.46936695\n",
      "  0.37842297 0.52995522 0.2153396  0.46927212 0.56944701 0.34485415\n",
      "  0.43126004 0.28535408 0.36168055 0.25833314 0.3739615  0.42685641\n",
      "  0.         0.56033313 0.59910012 0.25484525 0.60779437 0.29025445\n",
      "  0.0674912  0.60814209 0.51555175 0.14398801]\n",
      " [0.60060957 0.77081396 0.48533391 0.48599214 0.8125014  0.84743555\n",
      "  0.70252477 0.17488575 0.89692309 0.36078053 0.75548304 0.94747413\n",
      "  0.51870681 0.61003044 0.97828977 0.15023701 1.07066024 0.99605644\n",
      "  0.65693345 0.55239772 0.26849852 0.99017188 0.06344514 1.01960343\n",
      "  0.28888218 0.52340634 0.35853606 0.42308112 0.32702171 0.66971783\n",
      "  0.91442767 0.51969622 0.49018121 0.73039652 0.77583748 0.73305364\n",
      "  0.76918331 0.37809206 0.24411725 0.44544626 0.74159841 0.19558592\n",
      "  0.17539667 0.56707059 0.69627433 0.6120512  0.19479547 0.97569336\n",
      "  0.44607439 0.67532757 1.08775397 0.52867377 0.88468512 0.70374083\n",
      "  0.7127328  0.34437464 0.27731639 0.40727973 0.58885925 0.1969804\n",
      "  0.58878082 0.77136504 0.95455882 0.56280861 0.97336223 0.38566529\n",
      "  0.61903957 0.51581939 0.43644701 0.5711285  0.97905425 0.33064868\n",
      "  0.94300937 0.36231398 0.82662166 0.81082374 0.87441836 0.35731115\n",
      "  0.19866126 0.20809549 0.47978743 0.97834266 0.51966348 0.89702435\n",
      "  0.65678662 0.66998761 0.66148532 0.8180012  0.41500842 0.227557\n",
      "  0.56033313 0.         0.5416035  0.78538628 0.93346352 0.41828024\n",
      "  0.49285349 0.40540033 0.83829229 0.70368286]\n",
      " [0.62492748 0.93109703 0.5708995  0.06230989 0.60481231 0.76761136\n",
      "  0.70911523 0.47167084 0.54905033 0.18116563 0.63499305 0.80743408\n",
      "  0.03640618 0.60890107 0.85927022 0.41870163 0.85203883 0.89018446\n",
      "  0.45587951 0.87877239 0.63108653 0.70188331 0.58807419 0.9316154\n",
      "  0.26191293 0.49878457 0.23803005 0.72962419 0.21553724 0.24389726\n",
      "  0.53930782 0.88934269 0.49694733 0.46856753 0.46293053 0.33948138\n",
      "  0.47034611 0.4803039  0.49711489 0.24353673 0.45360715 0.45988073\n",
      "  0.66243985 0.14446129 0.76242012 0.8568961  0.49848064 0.86924023\n",
      "  0.71938492 1.02067111 0.95182451 0.09009166 0.44397888 0.24434506\n",
      "  0.45075389 0.76033398 0.60040633 0.15987782 0.53402411 0.47101667\n",
      "  0.69803951 0.41180561 0.49353094 0.10164571 0.74667106 0.15594634\n",
      "  0.55584352 0.43872394 0.59528621 0.86962722 0.67625177 0.67897939\n",
      "  0.50425839 0.19039545 0.74242646 0.55893889 0.65674768 0.19789037\n",
      "  0.56057823 0.33480519 0.711232   0.74778034 0.03078566 0.892018\n",
      "  0.28552681 0.44115545 0.35771122 0.7601773  0.23414043 0.34114105\n",
      "  0.59910012 0.5416035  0.         0.65446898 0.51435731 0.71892049\n",
      "  0.56267893 0.16026561 0.44852002 0.67944581]\n",
      " [0.22416266 0.44334785 0.32574607 0.6219766  0.10655335 0.11869572\n",
      "  0.1826658  0.8690785  0.31956473 0.66173621 0.03005194 0.16752225\n",
      "  0.62388624 0.20024935 0.21107974 0.78859202 0.29066206 0.23892751\n",
      "  0.19862635 0.61676581 0.60871821 0.27807032 0.77617197 0.27798156\n",
      "  0.61837454 0.2620043  0.53626862 0.54967491 0.67347195 0.45893766\n",
      "  0.36653006 0.67704824 0.29586429 0.21326185 0.26624277 0.39363466\n",
      "  0.24789724 0.4094038  0.937629   0.45199563 0.24314599 0.87466072\n",
      "  0.7488901  0.51352718 0.26426951 0.50750536 0.90483275 0.2174699\n",
      "  0.50973572 0.71529056 0.31526414 0.56469895 0.47029609 0.49665797\n",
      "  0.22404897 0.68759162 0.57176687 0.57413112 0.1966977  0.88507671\n",
      "  0.31308953 0.33514416 0.53158704 0.55708864 0.20837688 0.65130969\n",
      "  0.16704691 0.27920694 0.3969744  0.5781409  0.28870879 0.59309511\n",
      "  0.48408146 0.6012293  0.09551616 0.1704324  0.13393206 0.59610753\n",
      "  0.62035598 0.70662532 0.46017299 0.2151262  0.63052991 0.26381041\n",
      "  0.39565976 0.21629075 0.31069077 0.12687787 0.4830974  0.60907996\n",
      "  0.25484525 0.78538628 0.65446898 0.         0.4454431  0.54157389\n",
      "  0.31276609 0.72151846 0.37697649 0.14354143]\n",
      " [0.60061061 0.8823999  0.64400697 0.52765497 0.33976526 0.54927093\n",
      "  0.6122171  0.93375653 0.13046683 0.64018209 0.45172969 0.50621514\n",
      "  0.50598328 0.57180693 0.56067296 0.86171817 0.45269831 0.59457997\n",
      "  0.35459222 0.9967705  0.87575692 0.27609537 0.95472424 0.64104427\n",
      "  0.66286942 0.53700127 0.57952447 0.88640957 0.66994241 0.28209402\n",
      "  0.08354649 1.04222328 0.56648651 0.27376033 0.2044664  0.2014157\n",
      "  0.22179763 0.64866002 0.97922515 0.48809389 0.24379506 0.92864048\n",
      "  0.97941021 0.39846404 0.69461839 0.91094057 0.96677031 0.5801741\n",
      "  0.85448353 1.11782096 0.60805917 0.45798973 0.07521363 0.27022566\n",
      "  0.27993919 0.991315   0.83520855 0.55516538 0.50739565 0.94040942\n",
      "  0.7053396  0.17044941 0.09196419 0.42669571 0.37416815 0.61666588\n",
      "  0.50026243 0.49357319 0.71149203 0.96623543 0.24355674 0.89037078\n",
      "  0.04109509 0.60192867 0.53227257 0.27520047 0.34186517 0.60293478\n",
      "  0.84500249 0.7652762  0.81646628 0.37039709 0.51036369 0.69797606\n",
      "  0.2777637  0.32576646 0.28261928 0.56891774 0.51956269 0.70715446\n",
      "  0.60779437 0.93346352 0.51435731 0.4454431  0.         0.87585588\n",
      "  0.62867881 0.65938026 0.09918089 0.56954651]\n",
      " [0.31743741 0.36039975 0.23436361 0.65765835 0.61701534 0.54972974\n",
      "  0.38718626 0.58033119 0.78612426 0.58737888 0.51440517 0.66835516\n",
      "  0.6836806  0.34257334 0.67970266 0.52162775 0.82365174 0.68628396\n",
      "  0.52337756 0.16145396 0.14979434 0.8097408  0.37089512 0.69557285\n",
      "  0.49223697 0.33929394 0.48200151 0.01116918 0.56945823 0.70062294\n",
      "  0.82210583 0.1755958  0.30947725 0.60769103 0.67458689 0.71208134\n",
      "  0.65941729 0.25089512 0.65527788 0.49480498 0.634377   0.59763369\n",
      "  0.28274347 0.65243351 0.34205171 0.19380476 0.60727375 0.66957027\n",
      "  0.03661737 0.30322043 0.78346151 0.65435394 0.85853031 0.7477498\n",
      "  0.59803188 0.15284074 0.14877941 0.56076153 0.37963639 0.60261456\n",
      "  0.24248437 0.70872568 0.93411201 0.67631741 0.74989666 0.59948945\n",
      "  0.39744698 0.38450382 0.16438096 0.16292632 0.81235834 0.09009539\n",
      "  0.90211816 0.54304264 0.53712295 0.64963757 0.66786488 0.53450341\n",
      "  0.22658382 0.50200707 0.08825307 0.75668906 0.68845172 0.54365466\n",
      "  0.65274065 0.55087446 0.60428502 0.51281279 0.49082238 0.41850302\n",
      "  0.29025445 0.41828024 0.71892049 0.54157389 0.87585588 0.\n",
      "  0.24981952 0.65999399 0.77873457 0.41041295]\n",
      " [0.10782214 0.37021092 0.01546681 0.50832946 0.37372238 0.35629504\n",
      "  0.21108745 0.60679914 0.53631949 0.48474281 0.28328298 0.4630823\n",
      "  0.52634357 0.11904367 0.48862737 0.52992147 0.60318024 0.50444948\n",
      "  0.27459873 0.37174957 0.29598775 0.56683062 0.47399169 0.52680359\n",
      "  0.40745973 0.09270363 0.35381576 0.2598808  0.4811817  0.48137883\n",
      "  0.57269575 0.41362311 0.07189251 0.35835323 0.42592048 0.4761768\n",
      "  0.41030639 0.12289948 0.68109288 0.3192446  0.38581466 0.61721634\n",
      "  0.43705054 0.46091292 0.2239173  0.30857538 0.64095748 0.48450088\n",
      "  0.22605366 0.50225416 0.59788532 0.48179105 0.61623007 0.52928133\n",
      "  0.3494393  0.38303115 0.25911617 0.42328662 0.13115769 0.62603789\n",
      "  0.13712627 0.46415829 0.69118256 0.49442229 0.5181895  0.4862664\n",
      "  0.1528121  0.14871276 0.08830454 0.34619543 0.5669302  0.28457457\n",
      "  0.65662789 0.42641068 0.33684073 0.40127961 0.42873528 0.41856286\n",
      "  0.31242147 0.46746871 0.18888444 0.52445749 0.5323472  0.41045198\n",
      "  0.42576952 0.30292536 0.36558258 0.32553451 0.33142346 0.36451668\n",
      "  0.0674912  0.49285349 0.56267893 0.31276609 0.62867881 0.24981952\n",
      "  0.         0.55759362 0.53289515 0.21113204]\n",
      " [0.6410572  0.92495062 0.56179551 0.13172539 0.69266542 0.82528027\n",
      "  0.73729667 0.31422331 0.67617    0.07423853 0.69756879 0.88455732\n",
      "  0.15585511 0.63162082 0.93221317 0.26903537 0.95287798 0.96040816\n",
      "  0.52995668 0.82120813 0.54722643 0.81753098 0.45892662 0.99806327\n",
      "  0.16777413 0.51652395 0.2042242  0.66977088 0.0919841  0.37880162\n",
      "  0.67364098 0.81923998 0.50358911 0.56463598 0.57534859 0.47028591\n",
      "  0.57870958 0.45111641 0.33685172 0.27036037 0.5572485  0.30119101\n",
      "  0.54767123 0.2636274  0.77590493 0.82245809 0.33948145 0.93891175\n",
      "  0.6683752  0.9621891  1.03244131 0.20196599 0.59259378 0.39099574\n",
      "  0.54541686 0.67095979 0.52384769 0.14765275 0.56655304 0.31209158\n",
      "  0.69407989 0.53604428 0.64747571 0.23271694 0.84650334 0.07263339\n",
      "  0.59350245 0.46567266 0.56622279 0.81993448 0.79510648 0.60343049\n",
      "  0.65368322 0.13137744 0.80015239 0.65786229 0.75031785 0.13906733\n",
      "  0.46793402 0.19913469 0.67180419 0.84875101 0.15271766 0.93300181\n",
      "  0.40369324 0.52344941 0.45820515 0.81088878 0.24222751 0.24502926\n",
      "  0.60814209 0.40540033 0.16026561 0.72151846 0.65938026 0.65999399\n",
      "  0.55759362 0.         0.58372614 0.71509627]\n",
      " [0.51121777 0.80281662 0.5481188  0.45292897 0.27644354 0.4887844\n",
      "  0.53216699 0.84591347 0.10856742 0.55760416 0.37824836 0.46537395\n",
      "  0.43490352 0.48274304 0.5213747  0.77209419 0.44505821 0.55567318\n",
      "  0.26059555 0.90272132 0.7766009  0.27359434 0.85789451 0.60225708\n",
      "  0.57276076 0.44067711 0.48745527 0.78937447 0.58569225 0.20601332\n",
      "  0.09080025 0.94647462 0.46925981 0.18430848 0.11623013 0.1139839\n",
      "  0.13498906 0.5496313  0.89458995 0.39380586 0.15235669 0.84193222\n",
      "  0.88070299 0.32011386 0.61324096 0.82076298 0.87960744 0.53889059\n",
      "  0.7581682  1.02626625 0.584397   0.38201353 0.09370188 0.20827516\n",
      "  0.18722715 0.89253006 0.73606227 0.46942927 0.41479759 0.85368918\n",
      "  0.61574566 0.07129444 0.16214165 0.35363814 0.35154186 0.5352873\n",
      "  0.41021997 0.39543113 0.61449891 0.87335226 0.24320892 0.79165766\n",
      "  0.12374107 0.51521383 0.46914103 0.20949097 0.29473827 0.51549319\n",
      "  0.74609159 0.67570196 0.72135032 0.34961039 0.43997435 0.63786121\n",
      "  0.18741029 0.2308856  0.18355682 0.5034905  0.42631355 0.61307919\n",
      "  0.51555175 0.83829229 0.44852002 0.37697649 0.09918089 0.77873457\n",
      "  0.53289515 0.58372614 0.         0.48970862]\n",
      " [0.1044632  0.31330088 0.22005677 0.63613365 0.2427745  0.14624449\n",
      "  0.04267163 0.81056517 0.45024515 0.64747697 0.12424685 0.25975371\n",
      "  0.64531261 0.09448556 0.27924909 0.73185024 0.41338244 0.2935528\n",
      "  0.25461572 0.47441449 0.49636053 0.42156342 0.68484829 0.31600424\n",
      "  0.58591531 0.2028396  0.51499926 0.41753171 0.65192496 0.52391168\n",
      "  0.49546937 0.53631405 0.22615963 0.30833779 0.37367387 0.47921353\n",
      "  0.35481444 0.32837386 0.88332233 0.44883112 0.34105453 0.81936944\n",
      "  0.64195213 0.54982962 0.12543229 0.36396661 0.84545001 0.27388635\n",
      "  0.37659248 0.57190172 0.38792124 0.59028274 0.58296703 0.56773539\n",
      "  0.31140891 0.5606751  0.46286721 0.56943279 0.14868523 0.82881125\n",
      "  0.17303674 0.43547079 0.65033007 0.59114954 0.34555618 0.64254808\n",
      "  0.12380887 0.24945439 0.2825588  0.43515137 0.43196863 0.47141899\n",
      "  0.60581515 0.58618715 0.12916241 0.29817339 0.27746268 0.5795722\n",
      "  0.52216973 0.66072121 0.32536942 0.3527061  0.65189961 0.2179907\n",
      "  0.45966119 0.28276101 0.37737993 0.11440288 0.47342363 0.55830494\n",
      "  0.14398801 0.70368286 0.67944581 0.14354143 0.56954651 0.41041295\n",
      "  0.21113204 0.71509627 0.48970862 0.        ]]\n"
     ]
    }
   ],
   "source": [
    "Z=np.random.random((100,2))\n",
    "\n",
    "X,Y = np.atleast_2d(Z[:,0], Z[:,1])\n",
    "D = np.sqrt( (X-X.T)**2 + (Y-Y.T)**2)\n",
    "print(D)"
   ]
  },
  {
   "cell_type": "code",
   "execution_count": 39,
   "id": "cdbc5f70",
   "metadata": {},
   "outputs": [
    {
     "name": "stdout",
     "output_type": "stream",
     "text": [
      "[[0.         0.55687173 0.72644799 0.52255245 0.32177799 0.78361627\n",
      "  0.55479551 0.72958689 0.34708596 0.91105044]\n",
      " [0.55687173 0.         0.32388262 0.87071213 0.25654979 0.71374764\n",
      "  0.07130765 0.99332769 0.2707836  0.71486878]\n",
      " [0.72644799 0.32388262 0.         0.83719525 0.51759789 0.47688688\n",
      "  0.26007953 0.8881141  0.38004572 0.41770182]\n",
      " [0.52255245 0.87071213 0.83719525 0.         0.74295054 0.56290817\n",
      "  0.82642503 0.22133442 0.60180164 0.75368721]\n",
      " [0.32177799 0.25654979 0.51759789 0.74295054 0.         0.76933341\n",
      "  0.28046387 0.90997055 0.21024802 0.8315906 ]\n",
      " [0.78361627 0.71374764 0.47688688 0.56290817 0.76933341 0.\n",
      "  0.64355761 0.50273895 0.55929318 0.1941255 ]\n",
      " [0.55479551 0.07130765 0.26007953 0.82642503 0.28046387 0.64355761\n",
      "  0.         0.93846681 0.23758795 0.64399195]\n",
      " [0.72958689 0.99332769 0.8881141  0.22133442 0.90997055 0.50273895\n",
      "  0.93846681 0.         0.73857841 0.69440268]\n",
      " [0.34708596 0.2707836  0.38004572 0.60180164 0.21024802 0.55929318\n",
      "  0.23758795 0.73857841 0.         0.63132933]\n",
      " [0.91105044 0.71486878 0.41770182 0.75368721 0.8315906  0.1941255\n",
      "  0.64399195 0.69440268 0.63132933 0.        ]]\n"
     ]
    }
   ],
   "source": [
    "import scipy.spatial\n",
    "\n",
    "Z = np.random.random((10,2))\n",
    "D = scipy.spatial.distance.cdist(Z,Z)\n",
    "print(D)"
   ]
  },
  {
   "cell_type": "markdown",
   "id": "48413134",
   "metadata": {},
   "source": [
    "#### 53. How to convert a float (32 bits) array into an integer (32 bits) in place?"
   ]
  },
  {
   "cell_type": "code",
   "execution_count": 40,
   "id": "5db64b6d",
   "metadata": {},
   "outputs": [
    {
     "name": "stdout",
     "output_type": "stream",
     "text": [
      "[39 75 95 82 26 33 94 42 28 39]\n"
     ]
    }
   ],
   "source": [
    "Z = (np.random.rand(10)*100).astype(np.float32)\n",
    "Y = Z.view(np.int32)\n",
    "Y[:] = Z\n",
    "print(Y)"
   ]
  },
  {
   "cell_type": "markdown",
   "id": "0a532633",
   "metadata": {},
   "source": [
    "#### 54. How to read the following file? (★★☆)\n",
    "```\n",
    "1, 2, 3, 4, 5\n",
    "6,  ,  , 7, 8\n",
    " ,  , 9,10,11\n",
    "```"
   ]
  },
  {
   "cell_type": "code",
   "execution_count": 41,
   "id": "8af4f753",
   "metadata": {},
   "outputs": [
    {
     "name": "stdout",
     "output_type": "stream",
     "text": [
      "[[ 1  2  3  4  5]\n",
      " [ 6 -1 -1  7  8]\n",
      " [-1 -1  9 10 11]]\n"
     ]
    },
    {
     "name": "stderr",
     "output_type": "stream",
     "text": [
      "<ipython-input-41-dc1069bf6c21>:10: DeprecationWarning: `np.int` is a deprecated alias for the builtin `int`. To silence this warning, use `int` by itself. Doing this will not modify any behavior and is safe. When replacing `np.int`, you may wish to use e.g. `np.int64` or `np.int32` to specify the precision. If you wish to review your current use, check the release note link for additional information.\n",
      "Deprecated in NumPy 1.20; for more details and guidance: https://numpy.org/devdocs/release/1.20.0-notes.html#deprecations\n",
      "  Z = np.genfromtxt(s, delimiter=\",\", dtype=np.int)\n"
     ]
    }
   ],
   "source": [
    "from io import StringIO\n",
    "\n",
    "# Fake file\n",
    "s = StringIO('''1, 2, 3, 4, 5\n",
    "\n",
    "                6,  ,  , 7, 8\n",
    "\n",
    "                 ,  , 9,10,11\n",
    "''')\n",
    "Z = np.genfromtxt(s, delimiter=\",\", dtype=np.int)\n",
    "print(Z)"
   ]
  },
  {
   "cell_type": "markdown",
   "id": "f98713a6",
   "metadata": {},
   "source": [
    "#### 55. What is the equivalent of enumerate for numpy arrays? (★★☆)"
   ]
  },
  {
   "cell_type": "code",
   "execution_count": 42,
   "id": "64795f84",
   "metadata": {},
   "outputs": [
    {
     "name": "stdout",
     "output_type": "stream",
     "text": [
      "(0, 0) 0\n",
      "(0, 1) 1\n",
      "(0, 2) 2\n",
      "(1, 0) 3\n",
      "(1, 1) 4\n",
      "(1, 2) 5\n",
      "(2, 0) 6\n",
      "(2, 1) 7\n",
      "(2, 2) 8\n",
      "(0, 0) 0\n",
      "(0, 1) 1\n",
      "(0, 2) 2\n",
      "(1, 0) 3\n",
      "(1, 1) 4\n",
      "(1, 2) 5\n",
      "(2, 0) 6\n",
      "(2, 1) 7\n",
      "(2, 2) 8\n"
     ]
    }
   ],
   "source": [
    "Z = np.arange(9).reshape(3,3)\n",
    "for index, value in np.ndenumerate(Z):\n",
    "    print(index, value)\n",
    "for index in np.ndindex(Z.shape):\n",
    "    print(index, Z[index])"
   ]
  },
  {
   "cell_type": "markdown",
   "id": "1abc7cc8",
   "metadata": {},
   "source": [
    "#### 56. Generate a generic 2D Gaussian-like array (★★☆)"
   ]
  },
  {
   "cell_type": "code",
   "execution_count": null,
   "id": "42e3a5bc",
   "metadata": {},
   "outputs": [],
   "source": []
  },
  {
   "cell_type": "markdown",
   "id": "0cf413ee",
   "metadata": {},
   "source": [
    "#### 57. How to randomly place p elements in a 2D array? (★★☆)"
   ]
  },
  {
   "cell_type": "code",
   "execution_count": 43,
   "id": "dfc57e06",
   "metadata": {},
   "outputs": [
    {
     "name": "stdout",
     "output_type": "stream",
     "text": [
      "[[0. 0. 0. 0. 0. 0. 0. 0. 0. 0.]\n",
      " [0. 0. 0. 0. 0. 0. 0. 0. 1. 0.]\n",
      " [0. 0. 0. 0. 0. 0. 0. 0. 0. 0.]\n",
      " [0. 0. 0. 0. 0. 0. 0. 0. 0. 0.]\n",
      " [0. 0. 0. 0. 0. 0. 0. 0. 0. 0.]\n",
      " [0. 0. 0. 0. 0. 0. 0. 0. 0. 0.]\n",
      " [0. 0. 0. 0. 0. 0. 0. 0. 1. 0.]\n",
      " [0. 0. 0. 0. 0. 0. 0. 0. 0. 0.]\n",
      " [1. 0. 0. 0. 0. 0. 0. 0. 0. 0.]\n",
      " [0. 0. 0. 0. 0. 0. 0. 0. 0. 0.]]\n"
     ]
    }
   ],
   "source": [
    "n = 10\n",
    "p = 3\n",
    "Z = np.zeros((n,n))\n",
    "np.put(Z, np.random.choice(range(n*n), p, replace=False),1)\n",
    "print(Z)"
   ]
  },
  {
   "cell_type": "markdown",
   "id": "215b6acc",
   "metadata": {},
   "source": [
    "#### 58. Subtract the mean of each row of a matrix (★★☆)"
   ]
  },
  {
   "cell_type": "code",
   "execution_count": 47,
   "id": "dd1adef4",
   "metadata": {},
   "outputs": [
    {
     "name": "stdout",
     "output_type": "stream",
     "text": [
      "[[ 0.08000275  0.2252406   0.0909736  -0.21203975  0.39015623 -0.04922131\n",
      "  -0.20708013  0.02603013 -0.00479311 -0.33926902]\n",
      " [ 0.24954844  0.34746087 -0.37208469 -0.2931709   0.15902669  0.39256114\n",
      "  -0.45521589  0.18157163 -0.16303163 -0.04666566]\n",
      " [-0.38987278  0.32120668 -0.22807038  0.24518072 -0.52692133  0.37913513\n",
      "   0.14251074 -0.49949412  0.18136419  0.37496116]\n",
      " [ 0.31308561 -0.24721003 -0.10278262  0.07705232 -0.20315558 -0.05069806\n",
      "   0.20326158  0.06312781  0.16461644 -0.21729746]\n",
      " [ 0.4906645   0.02057147 -0.31958071 -0.13854595  0.5720704  -0.31273114\n",
      "  -0.0163311  -0.05522607 -0.01776569 -0.22312572]]\n"
     ]
    }
   ],
   "source": [
    "\n",
    "X = np.random.random((5, 10))\n",
    "# Recent versions of numpy\n",
    "Y = X - X.mean(axis=1, keepdims=True)\n",
    "\n",
    "\n",
    "print(Y)"
   ]
  },
  {
   "cell_type": "markdown",
   "id": "c0cf37e0",
   "metadata": {},
   "source": [
    "#### 59. How to sort an array by the nth column? (★★☆)"
   ]
  },
  {
   "cell_type": "code",
   "execution_count": 51,
   "id": "9336ca5f",
   "metadata": {},
   "outputs": [
    {
     "name": "stdout",
     "output_type": "stream",
     "text": [
      "[[1 7 2]\n",
      " [8 0 6]\n",
      " [2 9 8]]\n"
     ]
    }
   ],
   "source": [
    "Z = np.random.randint(0,10,(3,3))\n",
    "print(Z)\n"
   ]
  },
  {
   "cell_type": "markdown",
   "id": "c17fb213",
   "metadata": {},
   "source": [
    "#### 60. How to tell if a given 2D array has null columns? (★★☆)"
   ]
  },
  {
   "cell_type": "code",
   "execution_count": 85,
   "id": "7fdda78d",
   "metadata": {},
   "outputs": [
    {
     "name": "stdout",
     "output_type": "stream",
     "text": [
      "False\n"
     ]
    }
   ],
   "source": [
    "z=np.random.randint(0,10,(3,8))\n",
    "print((~Z.any(axis=0)).any())"
   ]
  },
  {
   "cell_type": "markdown",
   "id": "8aaab886",
   "metadata": {},
   "source": [
    "#### 61. Find the nearest value from a given value in an array (★★☆)"
   ]
  },
  {
   "cell_type": "code",
   "execution_count": 90,
   "id": "973f8079",
   "metadata": {},
   "outputs": [
    {
     "data": {
      "text/plain": [
       "array([0.85157771, 0.94553804, 0.19436955, 0.53180024, 0.69809548,\n",
       "       0.16931912, 0.80123808, 0.01966883, 0.65504657, 0.44707155])"
      ]
     },
     "execution_count": 90,
     "metadata": {},
     "output_type": "execute_result"
    }
   ],
   "source": [
    "Z = np.random.uniform(0,1,10)  # from 0 to 1, 10 values\n",
    "Z"
   ]
  },
  {
   "cell_type": "code",
   "execution_count": 91,
   "id": "4db099df",
   "metadata": {},
   "outputs": [
    {
     "name": "stdout",
     "output_type": "stream",
     "text": [
      "0.5318002439616111\n"
     ]
    }
   ],
   "source": [
    "z = 0.5  # given value. Which value from Z is closest to z=0.5?\n",
    "\n",
    "m = Z.flat[np.abs(Z - z).argmin()]\n",
    "print(m)"
   ]
  },
  {
   "cell_type": "markdown",
   "id": "66a04e2e",
   "metadata": {},
   "source": [
    "#### 62. Considering two arrays with shape (1,3) and (3,1), how to compute their sum using an iterator? (★★☆)"
   ]
  },
  {
   "cell_type": "code",
   "execution_count": 92,
   "id": "4b356632",
   "metadata": {},
   "outputs": [
    {
     "name": "stdout",
     "output_type": "stream",
     "text": [
      "[[0 1 2]\n",
      " [1 2 3]\n",
      " [2 3 4]]\n"
     ]
    }
   ],
   "source": [
    "X=np.arange(3).reshape(1,3)\n",
    "Y=np.arange(3).reshape(3,1)\n",
    "it = np.nditer([X,Y,None])\n",
    "for x,y,z in it: z[...] = x + y\n",
    "print(it.operands[2])"
   ]
  },
  {
   "cell_type": "code",
   "execution_count": 15,
   "id": "e47cba93",
   "metadata": {},
   "outputs": [
    {
     "name": "stdout",
     "output_type": "stream",
     "text": [
      "[[0 1 2]\n",
      " [1 2 3]\n",
      " [2 3 4]]\n"
     ]
    }
   ],
   "source": [
    "# answer\n",
    "\n",
    "it = np.nditer([X,Y,None])\n",
    "for x,y,z in it: z[...] = x + y\n",
    "print(it.operands[2])"
   ]
  },
  {
   "cell_type": "code",
   "execution_count": 20,
   "id": "38d4deb5",
   "metadata": {},
   "outputs": [
    {
     "name": "stdout",
     "output_type": "stream",
     "text": [
      "[[43 62 66]\n",
      " [28 47 51]\n",
      " [26 45 49]]\n"
     ]
    }
   ],
   "source": [
    "X=np.random.randint(10,40,(1,3))\n",
    "Y=np.random.randint(10,40,(3,1))\n",
    "\n",
    "it=np.nditer([X,Y,None])\n",
    "for x,y,z in it: z[...]=x+y\n",
    "print(it.operands[2])"
   ]
  },
  {
   "cell_type": "markdown",
   "id": "f4427f7f",
   "metadata": {},
   "source": [
    "#### 63. Create an array class that has a name attribute (★★☆)"
   ]
  },
  {
   "cell_type": "code",
   "execution_count": null,
   "id": "fe253212",
   "metadata": {},
   "outputs": [],
   "source": []
  },
  {
   "cell_type": "markdown",
   "id": "58be9dd4",
   "metadata": {},
   "source": [
    "#### 64. Consider a given vector, how to add 1 to each element indexed by a second vector (be careful with repeated indices)? (★★★)"
   ]
  },
  {
   "cell_type": "code",
   "execution_count": 21,
   "id": "5c8bae42",
   "metadata": {},
   "outputs": [
    {
     "name": "stdout",
     "output_type": "stream",
     "text": [
      "[5. 1. 1. 2. 1. 3. 7. 4. 3. 3.]\n"
     ]
    }
   ],
   "source": [
    "Z = np.ones(10)\n",
    "I = np.random.randint(0,len(Z),20)\n",
    "Z += np.bincount(I, minlength=len(Z))\n",
    "print(Z)"
   ]
  },
  {
   "cell_type": "markdown",
   "id": "7348abd0",
   "metadata": {},
   "source": [
    "#### 65. How to accumulate elements of a vector (X) to an array (F) based on an index list (I)? (★★★)"
   ]
  },
  {
   "cell_type": "code",
   "execution_count": 22,
   "id": "b3e33a5a",
   "metadata": {},
   "outputs": [
    {
     "name": "stdout",
     "output_type": "stream",
     "text": [
      "[0. 7. 0. 6. 5. 0. 0. 0. 0. 3.]\n"
     ]
    }
   ],
   "source": [
    "X = [1,2,3,4,5,6]\n",
    "I = [1,3,9,3,4,1]\n",
    "\n",
    "F = np.bincount(I,X)\n",
    "print(F)"
   ]
  },
  {
   "cell_type": "markdown",
   "id": "538e651c",
   "metadata": {},
   "source": [
    "#### 66. Considering a (w,h,3) image of (dtype=ubyte), compute the number of unique colors (★★☆)"
   ]
  },
  {
   "cell_type": "code",
   "execution_count": null,
   "id": "a15ac874",
   "metadata": {},
   "outputs": [],
   "source": []
  },
  {
   "cell_type": "markdown",
   "id": "33c986d9",
   "metadata": {},
   "source": [
    "#### 67. Considering a four dimensions array, how to get sum over the last two axis at once? (★★★)"
   ]
  },
  {
   "cell_type": "code",
   "execution_count": 25,
   "id": "a99a50e2",
   "metadata": {},
   "outputs": [
    {
     "name": "stdout",
     "output_type": "stream",
     "text": [
      "[[41 53 55 67]\n",
      " [57 71 61 67]\n",
      " [56 74 39 59]]\n"
     ]
    }
   ],
   "source": [
    "A = np.random.randint(0,10,(3,4,3,4))\n",
    "# solution by passing a tuple of axes (introduced in numpy 1.7.0)\n",
    "\n",
    "sum = A.sum(axis=(-2,-1))\n",
    "print(sum)"
   ]
  },
  {
   "cell_type": "markdown",
   "id": "00eb27c4",
   "metadata": {},
   "source": [
    "#### 68. Considering a one-dimensional vector D, how to compute means of subsets of D using a vector S of same size describing subset  indices? (★★★)"
   ]
  },
  {
   "cell_type": "code",
   "execution_count": 31,
   "id": "d48c5210",
   "metadata": {},
   "outputs": [
    {
     "name": "stdout",
     "output_type": "stream",
     "text": [
      "[0.42434125 0.45289614 0.39236032 0.34144547 0.46272132 0.71948183\n",
      " 0.25974546 0.56817096 0.3588539  0.38531597]\n"
     ]
    }
   ],
   "source": [
    "\n",
    "D = np.random.uniform(0,1,100)\n",
    "S = np.random.randint(0,10,100)\n",
    "\n",
    "D_sums = np.bincount(S, weights=D)\n",
    "D_counts = np.bincount(S)\n",
    "D_means = D_sums / D_counts\n",
    "print(D_means)"
   ]
  },
  {
   "cell_type": "markdown",
   "id": "928a1a15",
   "metadata": {},
   "source": [
    "#### 69. How to get the diagonal of a dot product? (★★★)"
   ]
  },
  {
   "cell_type": "code",
   "execution_count": 94,
   "id": "ef2c9ddd",
   "metadata": {},
   "outputs": [
    {
     "data": {
      "text/plain": [
       "array([18,  6])"
      ]
     },
     "execution_count": 94,
     "metadata": {},
     "output_type": "execute_result"
    }
   ],
   "source": [
    "\n",
    "A=np.array([(2,4),(3,0)])\n",
    "B=np.array([(1,2),(4,5)])\n",
    "y=A.dot(B)\n",
    "x=np.diag(y)\n",
    "x"
   ]
  },
  {
   "cell_type": "markdown",
   "id": "5143f7f3",
   "metadata": {},
   "source": [
    "#### 70. Consider the vector [1, 2, 3, 4, 5], how to build a new vector with 3 consecutive zeros interleaved between each value? (★★★)"
   ]
  },
  {
   "cell_type": "code",
   "execution_count": 95,
   "id": "1d99a1c1",
   "metadata": {},
   "outputs": [
    {
     "name": "stdout",
     "output_type": "stream",
     "text": [
      "[1. 0. 0. 0. 2. 0. 0. 0. 3. 0. 0. 0. 4. 0. 0. 0. 5.]\n"
     ]
    }
   ],
   "source": [
    "Z=np.array([1,2,3,4,5])\n",
    "nz = 3\n",
    "newZ = np.zeros(len(Z) + (len(Z)-1)*(nz))\n",
    "newZ[::nz+1] = Z\n",
    "print(newZ)"
   ]
  },
  {
   "cell_type": "markdown",
   "id": "f62551d8",
   "metadata": {},
   "source": [
    "#### 71. Consider an array of dimension (5,5,3), how to mulitply it by an array with dimensions (5,5)? (★★★)"
   ]
  },
  {
   "cell_type": "code",
   "execution_count": 51,
   "id": "9ab241b7",
   "metadata": {},
   "outputs": [
    {
     "name": "stdout",
     "output_type": "stream",
     "text": [
      "[[[   0    0    0]\n",
      "  [   3    4    5]\n",
      "  [  12   14   16]\n",
      "  [  27   30   33]\n",
      "  [  48   52   56]]\n",
      "\n",
      " [[  75   80   85]\n",
      "  [ 108  114  120]\n",
      "  [ 147  154  161]\n",
      "  [ 192  200  208]\n",
      "  [ 243  252  261]]\n",
      "\n",
      " [[ 300  310  320]\n",
      "  [ 363  374  385]\n",
      "  [ 432  444  456]\n",
      "  [ 507  520  533]\n",
      "  [ 588  602  616]]\n",
      "\n",
      " [[ 675  690  705]\n",
      "  [ 768  784  800]\n",
      "  [ 867  884  901]\n",
      "  [ 972  990 1008]\n",
      "  [1083 1102 1121]]\n",
      "\n",
      " [[1200 1220 1240]\n",
      "  [1323 1344 1365]\n",
      "  [1452 1474 1496]\n",
      "  [1587 1610 1633]\n",
      "  [1728 1752 1776]]]\n"
     ]
    }
   ],
   "source": [
    "X=np.arange(75).reshape(5,5,3)\n",
    "Y=np.arange(25).reshape(5,5)\n",
    "print(X*Y[:,:,None])"
   ]
  },
  {
   "cell_type": "markdown",
   "id": "6896e326",
   "metadata": {},
   "source": [
    "#### 72. How to swap two rows of an array? (★★★)"
   ]
  },
  {
   "cell_type": "code",
   "execution_count": 101,
   "id": "9e8fcba9",
   "metadata": {},
   "outputs": [
    {
     "name": "stdout",
     "output_type": "stream",
     "text": [
      "[[ 6  7  8  9 10]\n",
      " [ 1  2  3  4  5]\n",
      " [11 12 13 14 15]]\n"
     ]
    }
   ],
   "source": [
    "# why is this not working?\n",
    "\n",
    "a1=np.array([[1,2,3,4,5],[6,7,8,9,10],[11,12,13,14,15]])\n",
    "\n",
    "a1[[0,1]] = a1[[1,0]]\n",
    "print(a1)"
   ]
  },
  {
   "cell_type": "code",
   "execution_count": 67,
   "id": "a9cc4ab6",
   "metadata": {},
   "outputs": [
    {
     "name": "stdout",
     "output_type": "stream",
     "text": [
      "[[ 5  6  7  8  9]\n",
      " [ 0  1  2  3  4]\n",
      " [10 11 12 13 14]\n",
      " [15 16 17 18 19]\n",
      " [20 21 22 23 24]]\n"
     ]
    }
   ],
   "source": [
    "A = np.arange(25).reshape(5,5)\n",
    "A[[0,1]] = A[[1,0]]\n",
    "print(A)"
   ]
  },
  {
   "cell_type": "markdown",
   "id": "aeaf4a7b",
   "metadata": {},
   "source": [
    "#### 73. Consider a set of 10 triplets describing 10 triangles (with shared vertices), find the set of unique line segments composing all the  triangles (★★★)"
   ]
  },
  {
   "cell_type": "code",
   "execution_count": 73,
   "id": "39ef4234",
   "metadata": {},
   "outputs": [
    {
     "name": "stdout",
     "output_type": "stream",
     "text": [
      "[( 0, 61) ( 0, 87) ( 1, 18) ( 1, 21) ( 1, 56) ( 1, 73) ( 7, 32) ( 7, 53)\n",
      " ( 8, 25) ( 8, 98) ( 9, 20) ( 9, 50) (13, 17) (13, 27) (17, 27) (18, 73)\n",
      " (20, 50) (21, 56) (25, 98) (31, 57) (31, 90) (32, 53) (41, 59) (41, 82)\n",
      " (46, 68) (46, 99) (57, 90) (59, 82) (61, 87) (68, 99)]\n"
     ]
    }
   ],
   "source": [
    "triplets=np.random.randint(0,100,(10,3))\n",
    "\n",
    "F = np.roll(triplets.repeat(2,axis=1),-1,axis=1)\n",
    "F = F.reshape(len(F)*3,2)\n",
    "F = np.sort(F,axis=1)\n",
    "G = F.view( dtype=[('p0',F.dtype),('p1',F.dtype)] )\n",
    "G = np.unique(G)\n",
    "print(G)"
   ]
  },
  {
   "cell_type": "markdown",
   "id": "3d11451b",
   "metadata": {},
   "source": [
    "#### 74. Given a sorted array C that corresponds to a bincount, how to produce an array A such that np.bincount(A) == C? (★★★)"
   ]
  },
  {
   "cell_type": "code",
   "execution_count": 105,
   "id": "a5563362",
   "metadata": {},
   "outputs": [
    {
     "name": "stdout",
     "output_type": "stream",
     "text": [
      "[1 1 2 3 4 4 6]\n"
     ]
    }
   ],
   "source": [
    "C = np.bincount([1,1,2,3,4,4,6])\n",
    "A = np.repeat(np.arange(len(C)), C)\n",
    "print(A)\n",
    "\n"
   ]
  },
  {
   "cell_type": "markdown",
   "id": "a0a45995",
   "metadata": {},
   "source": [
    "#### 75. How to compute averages using a sliding window over an array? (★★★)"
   ]
  },
  {
   "cell_type": "code",
   "execution_count": 106,
   "id": "116243d5",
   "metadata": {},
   "outputs": [
    {
     "name": "stdout",
     "output_type": "stream",
     "text": [
      "[ 1.  2.  3.  4.  5.  6.  7.  8.  9. 10. 11. 12. 13. 14. 15. 16. 17. 18.]\n"
     ]
    }
   ],
   "source": [
    "def moving_average(a, n=3) :\n",
    "    ret = np.cumsum(a, dtype=int)\n",
    "    ret[n:] = ret[n:] - ret[:-n]\n",
    "    return ret[n - 1:] / n\n",
    "Z = np.arange(20)\n",
    "print(moving_average(Z, n=3))"
   ]
  },
  {
   "cell_type": "markdown",
   "id": "7808578f",
   "metadata": {},
   "source": [
    "#### 76. Consider a one-dimensional array Z, build a two-dimensional array whose first row is (Z[0],Z[1],Z[2]) and each subsequent row is  shifted by 1 (last row should be (Z[-3],Z[-2],Z[-1]) (★★★)"
   ]
  },
  {
   "cell_type": "code",
   "execution_count": 107,
   "id": "6b23ba6e",
   "metadata": {},
   "outputs": [
    {
     "name": "stdout",
     "output_type": "stream",
     "text": [
      "[[0 1 2]\n",
      " [1 2 3]\n",
      " [2 3 4]\n",
      " [3 4 5]\n",
      " [4 5 6]\n",
      " [5 6 7]\n",
      " [6 7 8]\n",
      " [7 8 9]]\n"
     ]
    }
   ],
   "source": [
    "from numpy.lib import stride_tricks\n",
    "\n",
    "def rolling(a, window):\n",
    "    shape = (a.size - window + 1, window)\n",
    "    strides = (a.strides[0], a.strides[0])\n",
    "    return stride_tricks.as_strided(a, shape=shape, strides=strides)\n",
    "Z = rolling(np.arange(10), 3)\n",
    "print(Z)"
   ]
  },
  {
   "cell_type": "markdown",
   "id": "8e83df46",
   "metadata": {},
   "source": [
    "#### 77. How to negate a boolean, or to change the sign of a float inplace? (★★★)"
   ]
  },
  {
   "cell_type": "code",
   "execution_count": 111,
   "id": "f73127b7",
   "metadata": {},
   "outputs": [
    {
     "data": {
      "text/plain": [
       "array([0, 1, 0, 1, 0, 0, 1, 0, 1, 1, 0, 0, 1, 0, 1, 0, 1, 1, 0, 0, 0, 0,\n",
       "       0, 0, 1, 0, 0, 1, 1, 0, 1, 0, 1, 1, 1, 0, 1, 1, 0, 1, 1, 1, 0, 0,\n",
       "       1, 0, 0, 0, 0, 0, 0, 0, 1, 1, 0, 0, 0, 1, 0, 0, 0, 0, 1, 0, 1, 0,\n",
       "       0, 0, 1, 1, 0, 0, 0, 1, 0, 1, 0, 0, 1, 0, 1, 1, 0, 0, 0, 0, 1, 0,\n",
       "       0, 1, 1, 0, 0, 0, 0, 1, 1, 1, 1, 1])"
      ]
     },
     "execution_count": 111,
     "metadata": {},
     "output_type": "execute_result"
    }
   ],
   "source": [
    "B=np.random.randint(0,2,100)\n",
    "np.logical_not(B, out=B)"
   ]
  },
  {
   "cell_type": "code",
   "execution_count": 112,
   "id": "3d0df4db",
   "metadata": {},
   "outputs": [
    {
     "data": {
      "text/plain": [
       "array([ 0.49586633, -0.08276707,  0.04588721,  0.1346354 ,  0.78474658,\n",
       "       -0.19519538,  0.11992878, -0.14293725,  0.36087274,  0.10943525,\n",
       "        0.22275305, -0.85221011,  0.3663176 ,  0.19364823, -0.15110279,\n",
       "       -0.13333915, -0.87361649, -0.78134208, -0.05387121,  0.17873601,\n",
       "        0.90930326,  0.93800702,  0.81151871,  0.62065588, -0.46658839,\n",
       "       -0.43111743,  0.41678368, -0.34950992,  0.95729456,  0.099814  ,\n",
       "       -0.98181283,  0.8318875 , -0.90552433,  0.06388739,  0.10490992,\n",
       "        0.68356931, -0.51987327, -0.14246486,  0.70480736,  0.6074722 ,\n",
       "        0.97268821,  0.53528438, -0.94240573,  0.60265435, -0.17584282,\n",
       "        0.58897501, -0.75847188,  0.75606275,  0.02212132, -0.51863635,\n",
       "        0.70577483,  0.7752449 ,  0.30116488,  0.07125365,  0.63019849,\n",
       "       -0.10792891,  0.87356718,  0.71428488, -0.79522782,  0.86487686,\n",
       "       -0.3474373 ,  0.97325055, -0.69849301,  0.55284375,  0.07125036,\n",
       "        0.00479647, -0.34439275, -0.51730886,  0.91229797,  0.94023861,\n",
       "        0.38394533,  0.05679288,  0.89424299,  0.82819555,  0.39081299,\n",
       "        0.53457236, -0.27920757,  0.31323202, -0.12138942, -0.85516414,\n",
       "       -0.43101294,  0.85336774, -0.15480941,  0.67652212, -0.26195804,\n",
       "       -0.78589212,  0.71529303, -0.55459779, -0.16354294,  0.44700443,\n",
       "       -0.2259082 , -0.35211264, -0.15671539,  0.99827169,  0.93448776,\n",
       "       -0.30252484, -0.56241308, -0.05468068, -0.25263259,  0.24102977])"
      ]
     },
     "execution_count": 112,
     "metadata": {},
     "output_type": "execute_result"
    }
   ],
   "source": [
    "Z = np.random.uniform(-1.0,1.0,100)\n",
    "np.negative(Z, out=Z)"
   ]
  },
  {
   "cell_type": "markdown",
   "id": "e67ff31c",
   "metadata": {},
   "source": [
    "#### 78. Consider 2 sets of points P0,P1 describing lines (2d) and a point p, how to compute distance from p to each line i (P0[i],P1[i])? (★★★)"
   ]
  },
  {
   "cell_type": "code",
   "execution_count": 115,
   "id": "89d75b76",
   "metadata": {},
   "outputs": [
    {
     "name": "stdout",
     "output_type": "stream",
     "text": [
      "[0.93141736 2.01854774 1.04997543 7.17292437 1.89322369 3.2296847\n",
      " 8.62950122 8.29638586 2.24216752 9.53549871]\n"
     ]
    }
   ],
   "source": [
    "def distance(P0, P1, p):\n",
    "    T = P1 - P0\n",
    "    L = (T**2).sum(axis=1)\n",
    "    U = -((P0[:,0]-p[...,0])*T[:,0] + (P0[:,1]-p[...,1])*T[:,1]) / L\n",
    "    U = U.reshape(len(U),1)\n",
    "    D = P0 + U*T - p\n",
    "    return np.sqrt((D**2).sum(axis=1))\n",
    "\n",
    "P0 = np.random.uniform(-10,10,(10,2))\n",
    "P1 = np.random.uniform(-10,10,(10,2))\n",
    "p  = np.random.uniform(-10,10,( 1,2))\n",
    "print(distance(P0, P1, p))"
   ]
  },
  {
   "cell_type": "markdown",
   "id": "ad8821b1",
   "metadata": {},
   "source": [
    "#### 79. Consider 2 sets of points P0,P1 describing lines (2d) and a set of points P, how to compute distance from each point j (P[j]) to each line i (P0[i],P1[i])? (★★★)"
   ]
  },
  {
   "cell_type": "code",
   "execution_count": null,
   "id": "775feca0",
   "metadata": {},
   "outputs": [],
   "source": []
  },
  {
   "cell_type": "markdown",
   "id": "a0c8cbf5",
   "metadata": {},
   "source": [
    "#### 80. Consider an arbitrary array, write a function that extract a subpart with a fixed shape and centered on a given element (pad with a `fill` value when necessary) (★★★)"
   ]
  },
  {
   "cell_type": "code",
   "execution_count": 116,
   "id": "381fd926",
   "metadata": {},
   "outputs": [
    {
     "name": "stdout",
     "output_type": "stream",
     "text": [
      "[[3 8 9 5 4 5 7 0 5 1]\n",
      " [1 4 8 5 8 1 5 3 3 4]\n",
      " [0 5 2 7 2 6 5 8 6 4]\n",
      " [8 0 4 1 7 4 2 1 6 5]\n",
      " [4 3 3 1 7 5 1 2 9 1]\n",
      " [8 8 0 9 8 3 6 1 8 1]\n",
      " [6 2 3 9 0 5 9 7 3 3]\n",
      " [4 3 2 2 7 6 2 5 3 8]\n",
      " [5 3 5 1 1 3 6 5 8 2]\n",
      " [3 4 3 9 6 8 0 8 7 0]]\n",
      "[[0 0 0 0 0]\n",
      " [0 3 8 9 5]\n",
      " [0 1 4 8 5]\n",
      " [0 0 5 2 7]\n",
      " [0 8 0 4 1]]\n"
     ]
    },
    {
     "name": "stderr",
     "output_type": "stream",
     "text": [
      "<ipython-input-116-f2b5781f38bf>:23: FutureWarning: Using a non-tuple sequence for multidimensional indexing is deprecated; use `arr[tuple(seq)]` instead of `arr[seq]`. In the future this will be interpreted as an array index, `arr[np.array(seq)]`, which will result either in an error or a different result.\n",
      "  R[r] = Z[z]\n"
     ]
    }
   ],
   "source": [
    "Z = np.random.randint(0,10,(10,10))\n",
    "shape = (5,5)\n",
    "fill  = 0\n",
    "position = (1,1)\n",
    "\n",
    "R = np.ones(shape, dtype=Z.dtype)*fill\n",
    "P  = np.array(list(position)).astype(int)\n",
    "Rs = np.array(list(R.shape)).astype(int)\n",
    "Zs = np.array(list(Z.shape)).astype(int)\n",
    "\n",
    "R_start = np.zeros((len(shape),)).astype(int)\n",
    "R_stop  = np.array(list(shape)).astype(int)\n",
    "Z_start = (P-Rs//2)\n",
    "Z_stop  = (P+Rs//2)+Rs%2\n",
    "\n",
    "R_start = (R_start - np.minimum(Z_start,0)).tolist()\n",
    "Z_start = (np.maximum(Z_start,0)).tolist()\n",
    "R_stop = np.maximum(R_start, (R_stop - np.maximum(Z_stop-Zs,0))).tolist()\n",
    "Z_stop = (np.minimum(Z_stop,Zs)).tolist()\n",
    "\n",
    "r = [slice(start,stop) for start,stop in zip(R_start,R_stop)]\n",
    "z = [slice(start,stop) for start,stop in zip(Z_start,Z_stop)]\n",
    "R[r] = Z[z]\n",
    "print(Z)\n",
    "print(R)"
   ]
  },
  {
   "cell_type": "markdown",
   "id": "781fa236",
   "metadata": {},
   "source": [
    "#### 81. Consider an array Z = [1,2,3,4,5,6,7,8,9,10,11,12,13,14], how to generate an array R = [[1,2,3,4], [2,3,4,5], [3,4,5,6], ..., [11,12,13,14]]? (★★★)"
   ]
  },
  {
   "cell_type": "code",
   "execution_count": 120,
   "id": "8e84d3c2",
   "metadata": {},
   "outputs": [
    {
     "name": "stdout",
     "output_type": "stream",
     "text": [
      "[[ 1  2  3  4]\n",
      " [ 2  3  4  5]\n",
      " [ 3  4  5  6]\n",
      " [ 4  5  6  7]\n",
      " [ 5  6  7  8]\n",
      " [ 6  7  8  9]\n",
      " [ 7  8  9 10]\n",
      " [ 8  9 10 11]\n",
      " [ 9 10 11 12]\n",
      " [10 11 12 13]\n",
      " [11 12 13 14]]\n"
     ]
    }
   ],
   "source": [
    "from numpy.lib import stride_tricks\n",
    "\n",
    "Z = np.array([1,2,3,4,5,6,7,8,9,10,11,12,13,14])\n",
    "Z\n",
    "\n",
    "def rolling(a, window):\n",
    "    shape = (a.size - window + 1, window)\n",
    "    strides = (a.strides[0], a.strides[0])\n",
    "    return stride_tricks.as_strided(a, shape=shape, strides=strides)\n",
    "R = rolling(np.arange(1,15), 4)    # if you do np.arange(15), it gives [0 1 2 3 4...14]\n",
    "print(R)"
   ]
  },
  {
   "cell_type": "code",
   "execution_count": 119,
   "id": "349f6696",
   "metadata": {},
   "outputs": [
    {
     "name": "stdout",
     "output_type": "stream",
     "text": [
      "[[ 1  2  3  4]\n",
      " [ 2  3  4  5]\n",
      " [ 3  4  5  6]\n",
      " [ 4  5  6  7]\n",
      " [ 5  6  7  8]\n",
      " [ 6  7  8  9]\n",
      " [ 7  8  9 10]\n",
      " [ 8  9 10 11]\n",
      " [ 9 10 11 12]\n",
      " [10 11 12 13]\n",
      " [11 12 13 14]]\n"
     ]
    }
   ],
   "source": [
    "X = np.arange(1,15,dtype=np.uint32)\n",
    "Y = stride_tricks.as_strided(Z,(11,4),(4,4))\n",
    "print(Y)"
   ]
  },
  {
   "cell_type": "markdown",
   "id": "9c9bb0f3",
   "metadata": {},
   "source": [
    "#### 82. Compute a matrix rank (★★★)"
   ]
  },
  {
   "cell_type": "code",
   "execution_count": null,
   "id": "b75ef318",
   "metadata": {},
   "outputs": [],
   "source": []
  },
  {
   "cell_type": "markdown",
   "id": "7d8dc135",
   "metadata": {},
   "source": [
    "#### 83. How to find the most frequent value in an array?"
   ]
  },
  {
   "cell_type": "code",
   "execution_count": 126,
   "id": "3978a7a2",
   "metadata": {},
   "outputs": [
    {
     "name": "stdout",
     "output_type": "stream",
     "text": [
      "2\n"
     ]
    }
   ],
   "source": [
    "A=np.random.randint(0,10,50)\n",
    "print(np.bincount(A).argmax())"
   ]
  },
  {
   "cell_type": "markdown",
   "id": "aa340126",
   "metadata": {},
   "source": [
    "#### 84. Extract all the contiguous 3x3 blocks from a random 10x10 matrix (★★★)"
   ]
  },
  {
   "cell_type": "code",
   "execution_count": 129,
   "id": "bf138783",
   "metadata": {},
   "outputs": [
    {
     "name": "stdout",
     "output_type": "stream",
     "text": [
      "[[[[0 4 3]\n",
      "   [1 1 0]\n",
      "   [0 1 1]]\n",
      "\n",
      "  [[4 3 4]\n",
      "   [1 0 2]\n",
      "   [1 1 1]]\n",
      "\n",
      "  [[3 4 2]\n",
      "   [0 2 4]\n",
      "   [1 1 1]]\n",
      "\n",
      "  [[4 2 1]\n",
      "   [2 4 1]\n",
      "   [1 1 4]]\n",
      "\n",
      "  [[2 1 4]\n",
      "   [4 1 0]\n",
      "   [1 4 2]]\n",
      "\n",
      "  [[1 4 2]\n",
      "   [1 0 4]\n",
      "   [4 2 1]]\n",
      "\n",
      "  [[4 2 4]\n",
      "   [0 4 3]\n",
      "   [2 1 3]]\n",
      "\n",
      "  [[2 4 3]\n",
      "   [4 3 2]\n",
      "   [1 3 4]]]\n",
      "\n",
      "\n",
      " [[[1 1 0]\n",
      "   [0 1 1]\n",
      "   [4 0 0]]\n",
      "\n",
      "  [[1 0 2]\n",
      "   [1 1 1]\n",
      "   [0 0 2]]\n",
      "\n",
      "  [[0 2 4]\n",
      "   [1 1 1]\n",
      "   [0 2 2]]\n",
      "\n",
      "  [[2 4 1]\n",
      "   [1 1 4]\n",
      "   [2 2 4]]\n",
      "\n",
      "  [[4 1 0]\n",
      "   [1 4 2]\n",
      "   [2 4 1]]\n",
      "\n",
      "  [[1 0 4]\n",
      "   [4 2 1]\n",
      "   [4 1 1]]\n",
      "\n",
      "  [[0 4 3]\n",
      "   [2 1 3]\n",
      "   [1 1 3]]\n",
      "\n",
      "  [[4 3 2]\n",
      "   [1 3 4]\n",
      "   [1 3 1]]]\n",
      "\n",
      "\n",
      " [[[0 1 1]\n",
      "   [4 0 0]\n",
      "   [3 1 3]]\n",
      "\n",
      "  [[1 1 1]\n",
      "   [0 0 2]\n",
      "   [1 3 3]]\n",
      "\n",
      "  [[1 1 1]\n",
      "   [0 2 2]\n",
      "   [3 3 1]]\n",
      "\n",
      "  [[1 1 4]\n",
      "   [2 2 4]\n",
      "   [3 1 2]]\n",
      "\n",
      "  [[1 4 2]\n",
      "   [2 4 1]\n",
      "   [1 2 0]]\n",
      "\n",
      "  [[4 2 1]\n",
      "   [4 1 1]\n",
      "   [2 0 0]]\n",
      "\n",
      "  [[2 1 3]\n",
      "   [1 1 3]\n",
      "   [0 0 0]]\n",
      "\n",
      "  [[1 3 4]\n",
      "   [1 3 1]\n",
      "   [0 0 1]]]\n",
      "\n",
      "\n",
      " [[[4 0 0]\n",
      "   [3 1 3]\n",
      "   [2 3 4]]\n",
      "\n",
      "  [[0 0 2]\n",
      "   [1 3 3]\n",
      "   [3 4 0]]\n",
      "\n",
      "  [[0 2 2]\n",
      "   [3 3 1]\n",
      "   [4 0 1]]\n",
      "\n",
      "  [[2 2 4]\n",
      "   [3 1 2]\n",
      "   [0 1 1]]\n",
      "\n",
      "  [[2 4 1]\n",
      "   [1 2 0]\n",
      "   [1 1 4]]\n",
      "\n",
      "  [[4 1 1]\n",
      "   [2 0 0]\n",
      "   [1 4 4]]\n",
      "\n",
      "  [[1 1 3]\n",
      "   [0 0 0]\n",
      "   [4 4 0]]\n",
      "\n",
      "  [[1 3 1]\n",
      "   [0 0 1]\n",
      "   [4 0 0]]]\n",
      "\n",
      "\n",
      " [[[3 1 3]\n",
      "   [2 3 4]\n",
      "   [0 1 1]]\n",
      "\n",
      "  [[1 3 3]\n",
      "   [3 4 0]\n",
      "   [1 1 3]]\n",
      "\n",
      "  [[3 3 1]\n",
      "   [4 0 1]\n",
      "   [1 3 4]]\n",
      "\n",
      "  [[3 1 2]\n",
      "   [0 1 1]\n",
      "   [3 4 4]]\n",
      "\n",
      "  [[1 2 0]\n",
      "   [1 1 4]\n",
      "   [4 4 2]]\n",
      "\n",
      "  [[2 0 0]\n",
      "   [1 4 4]\n",
      "   [4 2 1]]\n",
      "\n",
      "  [[0 0 0]\n",
      "   [4 4 0]\n",
      "   [2 1 2]]\n",
      "\n",
      "  [[0 0 1]\n",
      "   [4 0 0]\n",
      "   [1 2 0]]]\n",
      "\n",
      "\n",
      " [[[2 3 4]\n",
      "   [0 1 1]\n",
      "   [4 0 2]]\n",
      "\n",
      "  [[3 4 0]\n",
      "   [1 1 3]\n",
      "   [0 2 4]]\n",
      "\n",
      "  [[4 0 1]\n",
      "   [1 3 4]\n",
      "   [2 4 4]]\n",
      "\n",
      "  [[0 1 1]\n",
      "   [3 4 4]\n",
      "   [4 4 3]]\n",
      "\n",
      "  [[1 1 4]\n",
      "   [4 4 2]\n",
      "   [4 3 2]]\n",
      "\n",
      "  [[1 4 4]\n",
      "   [4 2 1]\n",
      "   [3 2 4]]\n",
      "\n",
      "  [[4 4 0]\n",
      "   [2 1 2]\n",
      "   [2 4 2]]\n",
      "\n",
      "  [[4 0 0]\n",
      "   [1 2 0]\n",
      "   [4 2 2]]]\n",
      "\n",
      "\n",
      " [[[0 1 1]\n",
      "   [4 0 2]\n",
      "   [0 4 0]]\n",
      "\n",
      "  [[1 1 3]\n",
      "   [0 2 4]\n",
      "   [4 0 0]]\n",
      "\n",
      "  [[1 3 4]\n",
      "   [2 4 4]\n",
      "   [0 0 2]]\n",
      "\n",
      "  [[3 4 4]\n",
      "   [4 4 3]\n",
      "   [0 2 3]]\n",
      "\n",
      "  [[4 4 2]\n",
      "   [4 3 2]\n",
      "   [2 3 0]]\n",
      "\n",
      "  [[4 2 1]\n",
      "   [3 2 4]\n",
      "   [3 0 4]]\n",
      "\n",
      "  [[2 1 2]\n",
      "   [2 4 2]\n",
      "   [0 4 0]]\n",
      "\n",
      "  [[1 2 0]\n",
      "   [4 2 2]\n",
      "   [4 0 2]]]\n",
      "\n",
      "\n",
      " [[[4 0 2]\n",
      "   [0 4 0]\n",
      "   [0 2 4]]\n",
      "\n",
      "  [[0 2 4]\n",
      "   [4 0 0]\n",
      "   [2 4 2]]\n",
      "\n",
      "  [[2 4 4]\n",
      "   [0 0 2]\n",
      "   [4 2 1]]\n",
      "\n",
      "  [[4 4 3]\n",
      "   [0 2 3]\n",
      "   [2 1 4]]\n",
      "\n",
      "  [[4 3 2]\n",
      "   [2 3 0]\n",
      "   [1 4 4]]\n",
      "\n",
      "  [[3 2 4]\n",
      "   [3 0 4]\n",
      "   [4 4 0]]\n",
      "\n",
      "  [[2 4 2]\n",
      "   [0 4 0]\n",
      "   [4 0 1]]\n",
      "\n",
      "  [[4 2 2]\n",
      "   [4 0 2]\n",
      "   [0 1 4]]]]\n"
     ]
    }
   ],
   "source": [
    "Z = np.random.randint(0,5,(10,10))\n",
    "Z\n",
    "\n",
    "n = 3\n",
    "i = 1 + (Z.shape[0]-3)\n",
    "j = 1 + (Z.shape[1]-3)\n",
    "C = stride_tricks.as_strided(Z, shape=(i, j, n, n), strides=Z.strides + Z.strides)\n",
    "print(C)"
   ]
  },
  {
   "cell_type": "markdown",
   "id": "6b6d2c84",
   "metadata": {},
   "source": [
    "#### 85. Create a 2D array subclass such that Z[i,j] == Z[j,i] (★★★)"
   ]
  },
  {
   "cell_type": "code",
   "execution_count": 139,
   "id": "155e16ce",
   "metadata": {},
   "outputs": [
    {
     "name": "stdout",
     "output_type": "stream",
     "text": [
      "[[  9   9   4  12   9]\n",
      " [  9   3   9   8   7]\n",
      " [  4   9   6 100  15]\n",
      " [ 12   8 100   3   2]\n",
      " [  9   7  15   2   0]]\n"
     ]
    }
   ],
   "source": [
    "class Symetric(np.ndarray):\n",
    "    def __setitem__(self, index, value):\n",
    "        i,j = index\n",
    "        super(Symetric, self).__setitem__((i,j), value)\n",
    "        super(Symetric, self).__setitem__((j,i), value)\n",
    "\n",
    "def symetric(Z):\n",
    "    return np.asarray(Z + Z.T - np.diag(Z.diagonal())).view(Symetric)\n",
    "\n",
    "S = symetric(np.random.randint(0,10,(5,5)))\n",
    "S[2,3] = 100\n",
    "print(S)"
   ]
  },
  {
   "cell_type": "markdown",
   "id": "7be0fe36",
   "metadata": {},
   "source": [
    "#### 86. Consider a set of p matrices wich shape (n,n) and a set of p vectors with shape (n,1). How to compute the sum of of the p matrix products at once? (result has shape (n,1)) (★★★)"
   ]
  },
  {
   "cell_type": "code",
   "execution_count": 141,
   "id": "ea732c23",
   "metadata": {},
   "outputs": [
    {
     "name": "stdout",
     "output_type": "stream",
     "text": [
      "[[200.]\n",
      " [200.]\n",
      " [200.]\n",
      " [200.]\n",
      " [200.]\n",
      " [200.]\n",
      " [200.]\n",
      " [200.]\n",
      " [200.]\n",
      " [200.]\n",
      " [200.]\n",
      " [200.]\n",
      " [200.]\n",
      " [200.]\n",
      " [200.]\n",
      " [200.]\n",
      " [200.]\n",
      " [200.]\n",
      " [200.]\n",
      " [200.]]\n"
     ]
    }
   ],
   "source": [
    "p, n = 10, 20\n",
    "M = np.ones((p,n,n))\n",
    "V = np.ones((p,n,1))\n",
    "S = np.tensordot(M, V, axes=[[0, 2], [0, 1]])\n",
    "print(S)"
   ]
  },
  {
   "cell_type": "markdown",
   "id": "a840a88f",
   "metadata": {},
   "source": [
    "#### 87. Consider a 16x16 array, how to get the block-sum (block size is 4x4)? (★★★)"
   ]
  },
  {
   "cell_type": "code",
   "execution_count": 142,
   "id": "6e0c1cbe",
   "metadata": {},
   "outputs": [
    {
     "name": "stdout",
     "output_type": "stream",
     "text": [
      "[[16. 16. 16. 16.]\n",
      " [16. 16. 16. 16.]\n",
      " [16. 16. 16. 16.]\n",
      " [16. 16. 16. 16.]]\n"
     ]
    }
   ],
   "source": [
    "Z = np.ones((16,16))\n",
    "k = 4\n",
    "S = np.add.reduceat(np.add.reduceat(Z, np.arange(0, Z.shape[0], k), axis=0),\n",
    "                                       np.arange(0, Z.shape[1], k), axis=1)\n",
    "print(S)"
   ]
  },
  {
   "cell_type": "markdown",
   "id": "c2bd7385",
   "metadata": {},
   "source": [
    "#### 88. How to implement the Game of Life using numpy arrays? (★★★)"
   ]
  },
  {
   "cell_type": "code",
   "execution_count": null,
   "id": "aea7d805",
   "metadata": {},
   "outputs": [],
   "source": []
  },
  {
   "cell_type": "markdown",
   "id": "4c70397b",
   "metadata": {},
   "source": [
    "#### 89. How to get the n largest values of an array (★★★)"
   ]
  },
  {
   "cell_type": "code",
   "execution_count": 153,
   "id": "16371718",
   "metadata": {},
   "outputs": [
    {
     "name": "stdout",
     "output_type": "stream",
     "text": [
      "[8994 8995 8996 8997 8998 8999]\n"
     ]
    }
   ],
   "source": [
    "G=np.arange(9000)\n",
    "np.random.shuffle(G)\n",
    "n=6\n",
    "\n",
    "print(G[np.argsort(G)[-n:]])"
   ]
  },
  {
   "cell_type": "markdown",
   "id": "15ba193c",
   "metadata": {},
   "source": [
    "#### 90. Given an arbitrary number of vectors, build the cartesian product (every combinations of every item) (★★★)"
   ]
  },
  {
   "cell_type": "code",
   "execution_count": null,
   "id": "c9c468d4",
   "metadata": {},
   "outputs": [],
   "source": []
  },
  {
   "cell_type": "markdown",
   "id": "ec828405",
   "metadata": {},
   "source": [
    "#### 91. How to create a record array from a regular array? (★★★)"
   ]
  },
  {
   "cell_type": "code",
   "execution_count": null,
   "id": "84eb5fba",
   "metadata": {},
   "outputs": [],
   "source": []
  },
  {
   "cell_type": "markdown",
   "id": "d94352b6",
   "metadata": {},
   "source": [
    "#### 92. Consider a large vector Z, compute Z to the power of 3 using 3 different methods (★★★)"
   ]
  },
  {
   "cell_type": "code",
   "execution_count": null,
   "id": "301ba8a8",
   "metadata": {},
   "outputs": [],
   "source": []
  },
  {
   "cell_type": "markdown",
   "id": "7c3a9e32",
   "metadata": {},
   "source": [
    "#### 93. Consider two arrays A and B of shape (8,3) and (2,2). How to find rows of A that contain elements of each row of B regardless of the order of the elements in B? (★★★)"
   ]
  },
  {
   "cell_type": "code",
   "execution_count": 159,
   "id": "777376e3",
   "metadata": {},
   "outputs": [
    {
     "name": "stdout",
     "output_type": "stream",
     "text": [
      "[0 1 2 4]\n"
     ]
    }
   ],
   "source": [
    "A = np.random.randint(0,5,(8,3))\n",
    "B = np.random.randint(0,5,(2,2))\n",
    "\n",
    "C = (A[..., np.newaxis, np.newaxis] == B)\n",
    "rows = np.where(C.any((3,1)).all(1))[0]\n",
    "print(rows)"
   ]
  },
  {
   "cell_type": "markdown",
   "id": "da9d5eeb",
   "metadata": {},
   "source": [
    "#### 94. Considering a 10x3 matrix, extract rows with unequal values (e.g. [2,2,3]) (★★★)"
   ]
  },
  {
   "cell_type": "code",
   "execution_count": null,
   "id": "67dbea5c",
   "metadata": {},
   "outputs": [],
   "source": []
  },
  {
   "cell_type": "markdown",
   "id": "f7b65fd5",
   "metadata": {},
   "source": [
    "#### 95. Convert a vector of ints into a matrix binary representation (★★★)"
   ]
  },
  {
   "cell_type": "code",
   "execution_count": null,
   "id": "127294ed",
   "metadata": {},
   "outputs": [],
   "source": []
  },
  {
   "cell_type": "markdown",
   "id": "2784c996",
   "metadata": {},
   "source": [
    "#### 96. Given a two dimensional array, how to extract unique rows? (★★★)"
   ]
  },
  {
   "cell_type": "code",
   "execution_count": 161,
   "id": "f030595f",
   "metadata": {},
   "outputs": [
    {
     "name": "stdout",
     "output_type": "stream",
     "text": [
      "[[0 0 0]\n",
      " [0 0 1]\n",
      " [0 1 1]\n",
      " [1 0 0]\n",
      " [1 0 1]\n",
      " [1 1 1]]\n"
     ]
    }
   ],
   "source": [
    "Z = np.random.randint(0,2,(6,3))\n",
    "T = np.ascontiguousarray(Z).view(np.dtype((np.void, Z.dtype.itemsize * Z.shape[1])))\n",
    "_, idx = np.unique(T, return_index=True)\n",
    "uZ = Z[idx]\n",
    "print(uZ)"
   ]
  },
  {
   "cell_type": "markdown",
   "id": "71a7574c",
   "metadata": {},
   "source": [
    "#### 97. Considering 2 vectors A & B, write the einsum equivalent of inner, outer, sum, and mul function (★★★)"
   ]
  },
  {
   "cell_type": "code",
   "execution_count": null,
   "id": "721c4e1a",
   "metadata": {},
   "outputs": [],
   "source": []
  },
  {
   "cell_type": "markdown",
   "id": "30f06441",
   "metadata": {},
   "source": [
    "#### 98. Considering a path described by two vectors (X,Y), how to sample it using equidistant samples (★★★)?"
   ]
  },
  {
   "cell_type": "code",
   "execution_count": null,
   "id": "fb41c022",
   "metadata": {},
   "outputs": [],
   "source": []
  },
  {
   "cell_type": "markdown",
   "id": "e5737276",
   "metadata": {},
   "source": [
    "#### 99. Given an integer n and a 2D array X, select from X the rows which can be interpreted as draws from a multinomial distribution with n degrees, i.e., the rows which only contain integers and which sum to n. (★★★)"
   ]
  },
  {
   "cell_type": "code",
   "execution_count": null,
   "id": "68c333b0",
   "metadata": {},
   "outputs": [],
   "source": []
  },
  {
   "cell_type": "markdown",
   "id": "5882e36d",
   "metadata": {},
   "source": [
    "#### 100. Compute bootstrapped 95% confidence intervals for the mean of a 1D array X (i.e., resample the elements of an array with replacement N times, compute the mean of each sample, and then compute percentiles over the means). (★★★)"
   ]
  },
  {
   "cell_type": "code",
   "execution_count": null,
   "id": "d1b566e5",
   "metadata": {},
   "outputs": [],
   "source": []
  }
 ],
 "metadata": {
  "kernelspec": {
   "display_name": "Python 3",
   "language": "python",
   "name": "python3"
  },
  "language_info": {
   "codemirror_mode": {
    "name": "ipython",
    "version": 3
   },
   "file_extension": ".py",
   "mimetype": "text/x-python",
   "name": "python",
   "nbconvert_exporter": "python",
   "pygments_lexer": "ipython3",
   "version": "3.8.8"
  }
 },
 "nbformat": 4,
 "nbformat_minor": 5
}
