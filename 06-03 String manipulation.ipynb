{
 "cells": [
  {
   "cell_type": "markdown",
   "id": "44c1adcb",
   "metadata": {},
   "source": [
    "String manipulation , formatting strings,  regular expression syntax"
   ]
  },
  {
   "cell_type": "code",
   "execution_count": 2,
   "id": "51124c9d",
   "metadata": {},
   "outputs": [],
   "source": [
    "import re\n",
    "\n",
    "email=re.compile('\\w+@\\w+\\.[a-z]{3}')  # this helps find anything that looks like email _@_._"
   ]
  },
  {
   "cell_type": "code",
   "execution_count": 3,
   "id": "079d6e49",
   "metadata": {},
   "outputs": [],
   "source": [
    "text=\"to email Gerardo, try gerardo@python.org or his older address gerardomurphy@google.com\""
   ]
  },
  {
   "cell_type": "code",
   "execution_count": 4,
   "id": "9b23d134",
   "metadata": {},
   "outputs": [
    {
     "data": {
      "text/plain": [
       "['gerardo@python.org', 'gerardomurphy@google.com']"
      ]
     },
     "execution_count": 4,
     "metadata": {},
     "output_type": "execute_result"
    }
   ],
   "source": [
    "email.findall(text)"
   ]
  },
  {
   "cell_type": "code",
   "execution_count": 6,
   "id": "33feea7d",
   "metadata": {},
   "outputs": [
    {
     "data": {
      "text/plain": [
       "'to email Gerardo, try --@--.com or his older address --@--.com'"
      ]
     },
     "execution_count": 6,
     "metadata": {},
     "output_type": "execute_result"
    }
   ],
   "source": [
    "email.sub(\"--@--.com\", text)"
   ]
  },
  {
   "cell_type": "code",
   "execution_count": 9,
   "id": "6bcc7e44",
   "metadata": {},
   "outputs": [
    {
     "data": {
      "text/plain": [
       "['obama@whitehouse.gov']"
      ]
     },
     "execution_count": 9,
     "metadata": {},
     "output_type": "execute_result"
    }
   ],
   "source": [
    "email.findall(\"barack.obama@whitehouse.gov\")"
   ]
  },
  {
   "cell_type": "code",
   "execution_count": 10,
   "id": "17a92c5c",
   "metadata": {},
   "outputs": [
    {
     "data": {
      "text/plain": [
       "['ion']"
      ]
     },
     "execution_count": 10,
     "metadata": {},
     "output_type": "execute_result"
    }
   ],
   "source": [
    "regex1=re.compile('ion')\n",
    "regex1.findall('companion')"
   ]
  },
  {
   "cell_type": "markdown",
   "id": "1e16d66e",
   "metadata": {},
   "source": [
    "Special characters\n",
    "\n",
    ". ^ $ * + ? { } [ ] \\ | ( )"
   ]
  },
  {
   "cell_type": "code",
   "execution_count": 16,
   "id": "066de496",
   "metadata": {},
   "outputs": [
    {
     "data": {
      "text/plain": [
       "['$']"
      ]
     },
     "execution_count": 16,
     "metadata": {},
     "output_type": "execute_result"
    }
   ],
   "source": [
    "# r preface means \"raw string\"\n",
    "# to match characters directly, use a \\\n",
    "# \\ within regular expression can escape special characters\n",
    "\n",
    "regex2=re.compile(r'\\$')\n",
    "regex2.findall('the cost of this shirt was $50')"
   ]
  },
  {
   "cell_type": "code",
   "execution_count": 13,
   "id": "4217977a",
   "metadata": {},
   "outputs": [
    {
     "name": "stdout",
     "output_type": "stream",
     "text": [
      "a\tb\tc\td\n"
     ]
    }
   ],
   "source": [
    "# \\t means tab\n",
    "\n",
    "print('a\\tb\\tc\\td')"
   ]
  },
  {
   "cell_type": "code",
   "execution_count": 15,
   "id": "4586045e",
   "metadata": {},
   "outputs": [
    {
     "name": "stdout",
     "output_type": "stream",
     "text": [
      "a\\tb\\tc\\td\n"
     ]
    }
   ],
   "source": [
    "# such substitutions are not made in raw string\n",
    "\n",
    "# thus whenever you want to use \\ in a regular expression, it's good to use raw string(?)\n",
    "\n",
    "print(r'a\\tb\\tc\\td')"
   ]
  },
  {
   "cell_type": "code",
   "execution_count": 17,
   "id": "c64de0f2",
   "metadata": {},
   "outputs": [
    {
     "data": {
      "text/plain": [
       "['e f', 'x i', 's 9', 's o']"
      ]
     },
     "execution_count": 17,
     "metadata": {},
     "output_type": "execute_result"
    }
   ],
   "source": [
    "regex3=re.compile(r'\\w\\s\\w')\n",
    "regex3.findall('the fox is 9 years old')"
   ]
  },
  {
   "cell_type": "code",
   "execution_count": 19,
   "id": "2150ba86",
   "metadata": {},
   "outputs": [
    {
     "data": {
      "text/plain": [
       "['o', 'e', 'u', 'e', 'i', 'a', 'i']"
      ]
     },
     "execution_count": 19,
     "metadata": {},
     "output_type": "execute_result"
    }
   ],
   "source": [
    "regex4=re.compile('[aeiou]')\n",
    "regex4.findall('consequentiality')"
   ]
  },
  {
   "cell_type": "code",
   "execution_count": 20,
   "id": "f7701797",
   "metadata": {},
   "outputs": [
    {
     "data": {
      "text/plain": [
       "['c', 'ns', 'q', '', 'nt', '', 'l', 'ty']"
      ]
     },
     "execution_count": 20,
     "metadata": {},
     "output_type": "execute_result"
    }
   ],
   "source": [
    "regex4.split('consequentiality')"
   ]
  },
  {
   "cell_type": "code",
   "execution_count": 24,
   "id": "57fb98fe",
   "metadata": {},
   "outputs": [
    {
     "data": {
      "text/plain": [
       "['A5', 'H4']"
      ]
     },
     "execution_count": 24,
     "metadata": {},
     "output_type": "execute_result"
    }
   ],
   "source": [
    "regex5=re.compile('[A-Z][0-9]')\n",
    "regex5.findall('12345567890, A5, H4')"
   ]
  },
  {
   "cell_type": "code",
   "execution_count": 25,
   "id": "a209da8b",
   "metadata": {},
   "outputs": [
    {
     "data": {
      "text/plain": [
       "['The', 'qui', 'rat', 'run', 'far']"
      ]
     },
     "execution_count": 25,
     "metadata": {},
     "output_type": "execute_result"
    }
   ],
   "source": [
    "# {3} repeats three times\n",
    "\n",
    "regex6=re.compile(r'\\w{3}')\n",
    "regex6.findall('The quick rat runs far')"
   ]
  },
  {
   "cell_type": "code",
   "execution_count": 26,
   "id": "6bd3251e",
   "metadata": {},
   "outputs": [
    {
     "data": {
      "text/plain": [
       "['The', 'quick', 'rat', 'runs', 'far']"
      ]
     },
     "execution_count": 26,
     "metadata": {},
     "output_type": "execute_result"
    }
   ],
   "source": [
    "# \\w\n",
    "\n",
    "regex7=re.compile(r'\\w+')\n",
    "regex7.findall('The quick rat runs far')"
   ]
  },
  {
   "cell_type": "code",
   "execution_count": 27,
   "id": "3c508dd2",
   "metadata": {},
   "outputs": [],
   "source": [
    "email3 = re.compile(r'([\\w.]+)@(\\w+)\\.([a-z]{3})')"
   ]
  },
  {
   "cell_type": "code",
   "execution_count": 30,
   "id": "70624b00",
   "metadata": {},
   "outputs": [
    {
     "data": {
      "text/plain": [
       "[('Gerardo', 'python', 'org'), ('gerardo', 'google', 'com')]"
      ]
     },
     "execution_count": 30,
     "metadata": {},
     "output_type": "execute_result"
    }
   ],
   "source": [
    "# () indicates groups to extract\n",
    "\n",
    "text2=\"to email Gerardo, please try Gerardo@python.org or gerardo@google.com\"\n",
    "email3.findall(text2)"
   ]
  },
  {
   "cell_type": "code",
   "execution_count": 31,
   "id": "cf18f06c",
   "metadata": {},
   "outputs": [
    {
     "data": {
      "text/plain": [
       "{'user': 'guido', 'domain': 'python', 'suffix': 'org'}"
      ]
     },
     "execution_count": 31,
     "metadata": {},
     "output_type": "execute_result"
    }
   ],
   "source": [
    "email4 = re.compile(r'(?P<user>[\\w.]+)@(?P<domain>\\w+)\\.(?P<suffix>[a-z]{3})')\n",
    "match = email4.match('guido@python.org')\n",
    "match.groupdict()"
   ]
  }
 ],
 "metadata": {
  "kernelspec": {
   "display_name": "Python 3",
   "language": "python",
   "name": "python3"
  },
  "language_info": {
   "codemirror_mode": {
    "name": "ipython",
    "version": 3
   },
   "file_extension": ".py",
   "mimetype": "text/x-python",
   "name": "python",
   "nbconvert_exporter": "python",
   "pygments_lexer": "ipython3",
   "version": "3.8.8"
  }
 },
 "nbformat": 4,
 "nbformat_minor": 5
}
