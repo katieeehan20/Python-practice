{
 "cells": [
  {
   "cell_type": "markdown",
   "id": "b3ca0393",
   "metadata": {},
   "source": [
    "Anchors - these don't match characters, but invisible positions before or after character\n",
    "\n"
   ]
  },
  {
   "cell_type": "code",
   "execution_count": 17,
   "id": "96fb3a5b",
   "metadata": {},
   "outputs": [],
   "source": [
    "import re\n",
    "text_to_search='''\n",
    "abcdefghijklmnopqrstuvwxyz\n",
    "ABCDEFGHIJKLMNOPQRSTUVWXYZ\n",
    "1234567890\n",
    "Ha HaHa\n",
    "\n",
    "Metacharacters(Need to be escaped):  #special characters\n",
    ". ^ $ * + ? { } [ ] \\ | ( )\n",
    "\n",
    "coreyms.com   #URL\n",
    "321-555-4321  #phone number\n",
    "123.555.1234\n",
    "Mr.Schafer    #name\n",
    "Mr Smith\n",
    "Ms Davis\n",
    "Mrs.Robinson\n",
    "Mr. T\n",
    "'''\n",
    "\n",
    "sentence= \"Start a sentence and then bring it to an end\""
   ]
  },
  {
   "cell_type": "code",
   "execution_count": 13,
   "id": "91f0b217",
   "metadata": {},
   "outputs": [
    {
     "name": "stdout",
     "output_type": "stream",
     "text": [
      "<re.Match object; span=(66, 68), match='Ha'>\n",
      "<re.Match object; span=(69, 71), match='Ha'>\n"
     ]
    }
   ],
   "source": [
    "#\\b : word boundary\n",
    "\n",
    "pattern=re.compile(r'\\bHa')     \n",
    "\n",
    "matches=pattern.finditer(text_to_search)\n",
    "for match in matches:\n",
    "    print(match) "
   ]
  },
  {
   "cell_type": "code",
   "execution_count": 14,
   "id": "00e3686a",
   "metadata": {},
   "outputs": [
    {
     "name": "stdout",
     "output_type": "stream",
     "text": [
      "<re.Match object; span=(71, 73), match='Ha'>\n"
     ]
    }
   ],
   "source": [
    "#\\B : NON word boundary\n",
    "\n",
    "pattern=re.compile(r'\\BHa')     # it's matching Ha HaHa (the third Ha here)\n",
    "\n",
    "matches=pattern.finditer(text_to_search)\n",
    "for match in matches:\n",
    "    print(match) "
   ]
  },
  {
   "cell_type": "code",
   "execution_count": 21,
   "id": "824fabef",
   "metadata": {},
   "outputs": [
    {
     "name": "stdout",
     "output_type": "stream",
     "text": [
      "<re.Match object; span=(0, 5), match='Start'>\n"
     ]
    }
   ],
   "source": [
    "# ^ : match a position that is beginning of a string\n",
    "\n",
    "pattern=re.compile(r'^Start')     \n",
    "\n",
    "matches=pattern.finditer(sentence)\n",
    "for match in matches:\n",
    "    print(match) "
   ]
  },
  {
   "cell_type": "code",
   "execution_count": 22,
   "id": "72baaa9a",
   "metadata": {},
   "outputs": [],
   "source": [
    "# ^ : match a position that is beginning of a string\n",
    "\n",
    "pattern=re.compile(r'^and')     # when you type and, it doesn't match because and is not the beginning of the string\n",
    "\n",
    "matches=pattern.finditer(sentence)\n",
    "for match in matches:\n",
    "    print(match) "
   ]
  },
  {
   "cell_type": "code",
   "execution_count": 23,
   "id": "f42a5afd",
   "metadata": {},
   "outputs": [
    {
     "name": "stdout",
     "output_type": "stream",
     "text": [
      "<re.Match object; span=(41, 44), match='end'>\n"
     ]
    }
   ],
   "source": [
    "# $ : match a position that is end of a string\n",
    "\n",
    "pattern=re.compile(r'end$')     \n",
    "\n",
    "matches=pattern.finditer(sentence)\n",
    "for match in matches:\n",
    "    print(match) "
   ]
  }
 ],
 "metadata": {
  "kernelspec": {
   "display_name": "Python 3",
   "language": "python",
   "name": "python3"
  },
  "language_info": {
   "codemirror_mode": {
    "name": "ipython",
    "version": 3
   },
   "file_extension": ".py",
   "mimetype": "text/x-python",
   "name": "python",
   "nbconvert_exporter": "python",
   "pygments_lexer": "ipython3",
   "version": "3.8.8"
  }
 },
 "nbformat": 4,
 "nbformat_minor": 5
}
