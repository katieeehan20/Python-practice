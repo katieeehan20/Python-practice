{
 "cells": [
  {
   "cell_type": "markdown",
   "id": "ea69c364",
   "metadata": {},
   "source": [
    "How to change one data type into another data type?\n",
    "\n",
    "int() - change float to int\n",
    "\n",
    "float() - change int to float\n",
    "\n",
    "str() - change int to string\n"
   ]
  },
  {
   "cell_type": "code",
   "execution_count": 2,
   "id": "b2a3c596",
   "metadata": {},
   "outputs": [
    {
     "data": {
      "text/plain": [
       "4"
      ]
     },
     "execution_count": 2,
     "metadata": {},
     "output_type": "execute_result"
    }
   ],
   "source": [
    "int(4.0)"
   ]
  },
  {
   "cell_type": "code",
   "execution_count": 3,
   "id": "034291ae",
   "metadata": {},
   "outputs": [
    {
     "data": {
      "text/plain": [
       "300.0"
      ]
     },
     "execution_count": 3,
     "metadata": {},
     "output_type": "execute_result"
    }
   ],
   "source": [
    "float(300)"
   ]
  },
  {
   "cell_type": "code",
   "execution_count": 4,
   "id": "1b5a12ac",
   "metadata": {},
   "outputs": [
    {
     "data": {
      "text/plain": [
       "'1992'"
      ]
     },
     "execution_count": 4,
     "metadata": {},
     "output_type": "execute_result"
    }
   ],
   "source": [
    "str(1992)"
   ]
  },
  {
   "cell_type": "code",
   "execution_count": 8,
   "id": "8e293544",
   "metadata": {},
   "outputs": [
    {
     "data": {
      "text/plain": [
       "11"
      ]
     },
     "execution_count": 8,
     "metadata": {},
     "output_type": "execute_result"
    }
   ],
   "source": [
    "int(11.5)"
   ]
  },
  {
   "cell_type": "markdown",
   "id": "f016bfb9",
   "metadata": {},
   "source": [
    "Always beware of error\n",
    "\n",
    "Converstion to and from string must contain compatible values"
   ]
  },
  {
   "cell_type": "code",
   "execution_count": 5,
   "id": "03b6d0f0",
   "metadata": {},
   "outputs": [
    {
     "ename": "SyntaxError",
     "evalue": "invalid syntax (<ipython-input-5-cbc721f5df7a>, line 1)",
     "output_type": "error",
     "traceback": [
      "\u001b[1;36m  File \u001b[1;32m\"<ipython-input-5-cbc721f5df7a>\"\u001b[1;36m, line \u001b[1;32m1\u001b[0m\n\u001b[1;33m    int(10k)\u001b[0m\n\u001b[1;37m          ^\u001b[0m\n\u001b[1;31mSyntaxError\u001b[0m\u001b[1;31m:\u001b[0m invalid syntax\n"
     ]
    }
   ],
   "source": [
    "int(10k)"
   ]
  },
  {
   "cell_type": "code",
   "execution_count": 6,
   "id": "06c0de38",
   "metadata": {},
   "outputs": [
    {
     "ename": "ValueError",
     "evalue": "invalid literal for int() with base 10: '10k'",
     "output_type": "error",
     "traceback": [
      "\u001b[1;31m---------------------------------------------------------------------------\u001b[0m",
      "\u001b[1;31mValueError\u001b[0m                                Traceback (most recent call last)",
      "\u001b[1;32m<ipython-input-6-865dbeae5322>\u001b[0m in \u001b[0;36m<module>\u001b[1;34m\u001b[0m\n\u001b[1;32m----> 1\u001b[1;33m \u001b[0mint\u001b[0m\u001b[1;33m(\u001b[0m\u001b[1;34m\"10k\"\u001b[0m\u001b[1;33m)\u001b[0m\u001b[1;33m\u001b[0m\u001b[1;33m\u001b[0m\u001b[0m\n\u001b[0m",
      "\u001b[1;31mValueError\u001b[0m: invalid literal for int() with base 10: '10k'"
     ]
    }
   ],
   "source": [
    "int(\"10k\")"
   ]
  },
  {
   "cell_type": "code",
   "execution_count": 9,
   "id": "20460962",
   "metadata": {},
   "outputs": [
    {
     "ename": "SyntaxError",
     "evalue": "invalid syntax (<ipython-input-9-e68505ec3b47>, line 1)",
     "output_type": "error",
     "traceback": [
      "\u001b[1;36m  File \u001b[1;32m\"<ipython-input-9-e68505ec3b47>\"\u001b[1;36m, line \u001b[1;32m1\u001b[0m\n\u001b[1;33m    str(10k)\u001b[0m\n\u001b[1;37m          ^\u001b[0m\n\u001b[1;31mSyntaxError\u001b[0m\u001b[1;31m:\u001b[0m invalid syntax\n"
     ]
    }
   ],
   "source": [
    "str(10k)"
   ]
  },
  {
   "cell_type": "code",
   "execution_count": 12,
   "id": "8e5334af",
   "metadata": {},
   "outputs": [
    {
     "name": "stdout",
     "output_type": "stream",
     "text": [
      "Congratulations, Kate! You just scored99points and you're in!\n"
     ]
    }
   ],
   "source": [
    "#Must put string into \"\", for example \"kate\"\n",
    "#To concatenate integer with string, you must use str( of the integer) function\n",
    "\n",
    "user=\"kate\"\n",
    "score=99\n",
    "print(\"Congratulations, \" +user.capitalize()+\"! You just scored\" + str(score) +\"points and you're in!\")"
   ]
  }
 ],
 "metadata": {
  "kernelspec": {
   "display_name": "Python 3",
   "language": "python",
   "name": "python3"
  },
  "language_info": {
   "codemirror_mode": {
    "name": "ipython",
    "version": 3
   },
   "file_extension": ".py",
   "mimetype": "text/x-python",
   "name": "python",
   "nbconvert_exporter": "python",
   "pygments_lexer": "ipython3",
   "version": "3.8.8"
  }
 },
 "nbformat": 4,
 "nbformat_minor": 5
}
