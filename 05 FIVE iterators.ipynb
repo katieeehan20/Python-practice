{
 "cells": [
  {
   "cell_type": "markdown",
   "id": "3c5baa54",
   "metadata": {},
   "source": [
    "FIVE KINDS OF ITERATORS\n",
    "\n",
    "1)  range()\n",
    "\n",
    "2)  enumerate()\n",
    "\n",
    "3)  zip()\n",
    "\n",
    "4)  map()\n",
    "\n",
    "5)  filter() "
   ]
  },
  {
   "cell_type": "code",
   "execution_count": 1,
   "id": "45a03df5",
   "metadata": {},
   "outputs": [
    {
     "name": "stdout",
     "output_type": "stream",
     "text": [
      "0, 1, 2, 3, 4, 5, 6, 7, 8, 9, "
     ]
    }
   ],
   "source": [
    "#range( ) iterator\n",
    "\n",
    "for i in range(10):\n",
    "    print(i, end=', ')"
   ]
  },
  {
   "cell_type": "code",
   "execution_count": 2,
   "id": "af2a76d8",
   "metadata": {},
   "outputs": [
    {
     "name": "stdout",
     "output_type": "stream",
     "text": [
      "0 2\n",
      "1 4\n",
      "2 6\n",
      "3 8\n",
      "4 10\n",
      "5 12\n",
      "6 14\n"
     ]
    }
   ],
   "source": [
    "#enumerate( ) iterator\n",
    "\n",
    "L=[2,4,6,8,10,12,14]\n",
    "\n",
    "for i, val in enumerate(L):\n",
    "    print(i, val)"
   ]
  },
  {
   "cell_type": "code",
   "execution_count": 5,
   "id": "f077f9ea",
   "metadata": {},
   "outputs": [
    {
     "name": "stdout",
     "output_type": "stream",
     "text": [
      "0 2\n",
      "1 4\n",
      "2 6\n",
      "3 8\n",
      "4 10\n",
      "5 12\n",
      "6 14\n"
     ]
    }
   ],
   "source": [
    "#above is same as this...\n",
    "\n",
    "for i in range(len(L)):\n",
    "    print(i, L[i])"
   ]
  },
  {
   "cell_type": "code",
   "execution_count": 3,
   "id": "f2bce28d",
   "metadata": {},
   "outputs": [
    {
     "name": "stdout",
     "output_type": "stream",
     "text": [
      "(0, 'a') (1, 'b') (2, 'c') (3, 'd') (4, 'e') (5, 'f') (6, 'g') "
     ]
    }
   ],
   "source": [
    "#enumerate( ) iterator\n",
    "\n",
    "G= \"abcdefg\"\n",
    "\n",
    "for i in enumerate(G):\n",
    "    print(i, end=' ')"
   ]
  },
  {
   "cell_type": "code",
   "execution_count": 4,
   "id": "8227f82a",
   "metadata": {},
   "outputs": [
    {
     "name": "stdout",
     "output_type": "stream",
     "text": [
      "0 a\n",
      "1 b\n",
      "2 c\n",
      "3 d\n",
      "4 e\n",
      "5 f\n",
      "6 g\n"
     ]
    }
   ],
   "source": [
    "#enuerate( ) iterator, written slightly different\n",
    "\n",
    "for i, val in enumerate(G):\n",
    "    print(i, val)"
   ]
  },
  {
   "cell_type": "code",
   "execution_count": 8,
   "id": "dbbc3164",
   "metadata": {},
   "outputs": [
    {
     "name": "stdout",
     "output_type": "stream",
     "text": [
      "0 a\n",
      "1 b\n",
      "2 c\n",
      "3 d\n"
     ]
    }
   ],
   "source": [
    "A=\"abcd\"\n",
    "\n",
    "for i, val in enumerate(A):\n",
    "    print(i, val)"
   ]
  },
  {
   "cell_type": "code",
   "execution_count": 11,
   "id": "2bf3d92d",
   "metadata": {},
   "outputs": [
    {
     "name": "stdout",
     "output_type": "stream",
     "text": [
      "(0, 'a') (1, 'b') (2, 'c') (3, 'd') "
     ]
    }
   ],
   "source": [
    "for i in enumerate(A):\n",
    "    print (i, end=\" \")"
   ]
  },
  {
   "cell_type": "code",
   "execution_count": 19,
   "id": "c69f4d42",
   "metadata": {},
   "outputs": [
    {
     "ename": "TypeError",
     "evalue": "append() takes exactly one argument (2 given)",
     "output_type": "error",
     "traceback": [
      "\u001b[1;31m---------------------------------------------------------------------------\u001b[0m",
      "\u001b[1;31mTypeError\u001b[0m                                 Traceback (most recent call last)",
      "\u001b[1;32m<ipython-input-19-7ee7925a7561>\u001b[0m in \u001b[0;36m<module>\u001b[1;34m\u001b[0m\n\u001b[0;32m      3\u001b[0m \u001b[0mH\u001b[0m\u001b[1;33m=\u001b[0m\u001b[1;33m[\u001b[0m\u001b[1;33m]\u001b[0m\u001b[1;33m\u001b[0m\u001b[1;33m\u001b[0m\u001b[0m\n\u001b[0;32m      4\u001b[0m \u001b[1;32mfor\u001b[0m \u001b[0mi\u001b[0m\u001b[1;33m,\u001b[0m \u001b[0mval\u001b[0m \u001b[1;32min\u001b[0m \u001b[0menumerate\u001b[0m \u001b[1;33m(\u001b[0m\u001b[0mA\u001b[0m\u001b[1;33m)\u001b[0m\u001b[1;33m:\u001b[0m\u001b[1;33m\u001b[0m\u001b[1;33m\u001b[0m\u001b[0m\n\u001b[1;32m----> 5\u001b[1;33m     \u001b[0mH\u001b[0m\u001b[1;33m.\u001b[0m\u001b[0mappend\u001b[0m\u001b[1;33m(\u001b[0m\u001b[0mi\u001b[0m\u001b[1;33m,\u001b[0m \u001b[0mval\u001b[0m\u001b[1;33m)\u001b[0m\u001b[1;33m\u001b[0m\u001b[1;33m\u001b[0m\u001b[0m\n\u001b[0m\u001b[0;32m      6\u001b[0m \u001b[0mprint\u001b[0m\u001b[1;33m(\u001b[0m\u001b[0mH\u001b[0m\u001b[1;33m)\u001b[0m\u001b[1;33m\u001b[0m\u001b[1;33m\u001b[0m\u001b[0m\n",
      "\u001b[1;31mTypeError\u001b[0m: append() takes exactly one argument (2 given)"
     ]
    }
   ],
   "source": [
    "A=\"abcd\"     #how to make a list [(0,a), (1,b), (2,c), (3,d)] ?\n",
    "\n",
    "H=[]\n",
    "for i, val in enumerate (A):\n",
    "    H.append(i, val)\n",
    "print(H)"
   ]
  },
  {
   "cell_type": "code",
   "execution_count": 6,
   "id": "453e98c7",
   "metadata": {},
   "outputs": [
    {
     "name": "stdout",
     "output_type": "stream",
     "text": [
      "1 2\n",
      "2 4\n",
      "3 6\n",
      "4 8\n",
      "5 10\n"
     ]
    }
   ],
   "source": [
    "#zip iterator\n",
    "\n",
    "A=[1,2,3,4,5]\n",
    "B=[2,4,6,8,10]\n",
    "\n",
    "for Aval, Bval in zip(A,B):\n",
    "    print(Aval, Bval)"
   ]
  },
  {
   "cell_type": "code",
   "execution_count": 7,
   "id": "d8a8ff61",
   "metadata": {},
   "outputs": [
    {
     "name": "stdout",
     "output_type": "stream",
     "text": [
      "<function <lambda> at 0x000002324DDCEC10> range(0, 10) "
     ]
    }
   ],
   "source": [
    "#map iterator: takes a function and applies to the values in the interator\n",
    "\n",
    "square= lambda x:x**2\n",
    "\n",
    "for val in (square, range(10)):\n",
    "    print(val, end=' ')"
   ]
  },
  {
   "cell_type": "code",
   "execution_count": 21,
   "id": "02ca354e",
   "metadata": {},
   "outputs": [
    {
     "name": "stdout",
     "output_type": "stream",
     "text": [
      "<function <lambda> at 0x000002324DE91D30> range(0, 10) "
     ]
    }
   ],
   "source": [
    "#filter iterator: it passes through values for which the filter function evaluates to True\n",
    "\n",
    "#the code below is to find values up to 10 for which x%2==0\n",
    "\n",
    "is_even= lambda x: x%2==0\n",
    "\n",
    "for val in (is_even, range(10)):\n",
    "    print(val, end=' ')"
   ]
  }
 ],
 "metadata": {
  "kernelspec": {
   "display_name": "Python 3",
   "language": "python",
   "name": "python3"
  },
  "language_info": {
   "codemirror_mode": {
    "name": "ipython",
    "version": 3
   },
   "file_extension": ".py",
   "mimetype": "text/x-python",
   "name": "python",
   "nbconvert_exporter": "python",
   "pygments_lexer": "ipython3",
   "version": "3.8.8"
  }
 },
 "nbformat": 4,
 "nbformat_minor": 5
}
