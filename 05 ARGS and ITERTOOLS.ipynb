{
 "cells": [
  {
   "cell_type": "code",
   "execution_count": 1,
   "id": "ef4652f9",
   "metadata": {},
   "outputs": [
    {
     "name": "stdout",
     "output_type": "stream",
     "text": [
      "range(0, 10)\n"
     ]
    }
   ],
   "source": [
    "L=range(10)\n",
    "print(L)"
   ]
  },
  {
   "cell_type": "code",
   "execution_count": 2,
   "id": "a2d44332",
   "metadata": {},
   "outputs": [
    {
     "name": "stdout",
     "output_type": "stream",
     "text": [
      "0 1 2 3 4 5 6 7 8 9\n"
     ]
    }
   ],
   "source": [
    "print(*L)"
   ]
  },
  {
   "cell_type": "code",
   "execution_count": 6,
   "id": "1ef946cf",
   "metadata": {},
   "outputs": [
    {
     "name": "stdout",
     "output_type": "stream",
     "text": [
      "[0, 1, 2, 3, 4, 5, 6, 7, 8, 9, 10, 11, 12, 13, 14]\n"
     ]
    }
   ],
   "source": [
    "L=[* range(15)]  #Puts range(15) into a list\n",
    "print(L)"
   ]
  },
  {
   "cell_type": "code",
   "execution_count": 7,
   "id": "ebdc14fb",
   "metadata": {},
   "outputs": [
    {
     "name": "stdout",
     "output_type": "stream",
     "text": [
      "0 1 4 9 16 25 36 49 64 81\n"
     ]
    }
   ],
   "source": [
    "print(*map(lambda x:x**2, range(10)))"
   ]
  },
  {
   "cell_type": "code",
   "execution_count": 8,
   "id": "cdf5fac8",
   "metadata": {},
   "outputs": [
    {
     "name": "stdout",
     "output_type": "stream",
     "text": [
      "<zip object at 0x0000016D113CAC40>\n"
     ]
    }
   ],
   "source": [
    "# zip() can zip together any iterables or sequences\n",
    "\n",
    "A=[1,2,3,4]\n",
    "B=[5,6,7,8]\n",
    "\n",
    "z=zip(A,B)\n",
    "print(z)"
   ]
  },
  {
   "cell_type": "code",
   "execution_count": 9,
   "id": "f5b49e97",
   "metadata": {},
   "outputs": [
    {
     "name": "stdout",
     "output_type": "stream",
     "text": [
      "(1, 5) (2, 6) (3, 7) (4, 8)\n"
     ]
    }
   ],
   "source": [
    "print(*z)"
   ]
  },
  {
   "cell_type": "code",
   "execution_count": 11,
   "id": "bc577492",
   "metadata": {},
   "outputs": [
    {
     "name": "stdout",
     "output_type": "stream",
     "text": [
      "(1, 2, 3, 4) (5, 6, 7, 8)\n"
     ]
    }
   ],
   "source": [
    "# in order to unzip and return to produce lists, do the following:\n",
    "\n",
    "z=zip(A,B)\n",
    "\n",
    "C,D=zip(*z)\n",
    "\n",
    "print (C,D)"
   ]
  },
  {
   "cell_type": "markdown",
   "id": "85362fea",
   "metadata": {},
   "source": [
    "\n",
    "\n",
    "\n",
    "Specialized iterators using ITERTOOLS\n",
    "\n",
    "1)  itertools.combinations\n",
    "\n",
    "2)  itertools.product"
   ]
  },
  {
   "cell_type": "code",
   "execution_count": 19,
   "id": "710efe8d",
   "metadata": {},
   "outputs": [
    {
     "ename": "NameError",
     "evalue": "name 'permutations' is not defined",
     "output_type": "error",
     "traceback": [
      "\u001b[1;31m---------------------------------------------------------------------------\u001b[0m",
      "\u001b[1;31mNameError\u001b[0m                                 Traceback (most recent call last)",
      "\u001b[1;32m<ipython-input-19-dee827d3f04e>\u001b[0m in \u001b[0;36m<module>\u001b[1;34m\u001b[0m\n\u001b[0;32m      2\u001b[0m \u001b[1;33m\u001b[0m\u001b[0m\n\u001b[0;32m      3\u001b[0m \u001b[1;33m\u001b[0m\u001b[0m\n\u001b[1;32m----> 4\u001b[1;33m \u001b[0mp\u001b[0m\u001b[1;33m=\u001b[0m\u001b[0mpermutations\u001b[0m\u001b[1;33m(\u001b[0m\u001b[0mrange\u001b[0m\u001b[1;33m(\u001b[0m\u001b[1;36m5\u001b[0m\u001b[1;33m)\u001b[0m\u001b[1;33m)\u001b[0m\u001b[1;33m\u001b[0m\u001b[1;33m\u001b[0m\u001b[0m\n\u001b[0m\u001b[0;32m      5\u001b[0m \u001b[0mprint\u001b[0m\u001b[1;33m(\u001b[0m\u001b[1;33m*\u001b[0m\u001b[0mp\u001b[0m\u001b[1;33m)\u001b[0m\u001b[1;33m\u001b[0m\u001b[1;33m\u001b[0m\u001b[0m\n",
      "\u001b[1;31mNameError\u001b[0m: name 'permutations' is not defined"
     ]
    }
   ],
   "source": [
    "from itertools import combinations\n",
    "\n",
    "\n",
    "p=permutations(range(5))\n",
    "print(*p)"
   ]
  },
  {
   "cell_type": "code",
   "execution_count": 17,
   "id": "79ec7e8f",
   "metadata": {},
   "outputs": [
    {
     "name": "stdout",
     "output_type": "stream",
     "text": [
      "(0, 1) (0, 2) (0, 3) (0, 4) (1, 2) (1, 3) (1, 4) (2, 3) (2, 4) (3, 4)\n"
     ]
    }
   ],
   "source": [
    "c=combinations(range(5), 2)\n",
    "print(*c)"
   ]
  },
  {
   "cell_type": "code",
   "execution_count": 20,
   "id": "40b32550",
   "metadata": {},
   "outputs": [
    {
     "name": "stdout",
     "output_type": "stream",
     "text": [
      "('A', 0) ('A', 1) ('A', 2) ('B', 0) ('B', 1) ('B', 2)\n"
     ]
    }
   ],
   "source": [
    "from itertools import product\n",
    "P= product ('AB', range(3))\n",
    "print(*P)"
   ]
  },
  {
   "cell_type": "code",
   "execution_count": 23,
   "id": "b34152fe",
   "metadata": {},
   "outputs": [
    {
     "name": "stdout",
     "output_type": "stream",
     "text": [
      "(1, 3) (1, 4) (1, 5) (2, 3) (2, 4) (2, 5) (3, 3) (3, 4) (3, 5)\n"
     ]
    }
   ],
   "source": [
    "Aa=[1,2,3]\n",
    "Bb=[3,4,5]\n",
    "Zz=product (Aa, Bb)\n",
    "\n",
    "print(*Zz)"
   ]
  },
  {
   "cell_type": "code",
   "execution_count": 24,
   "id": "200b99b6",
   "metadata": {},
   "outputs": [
    {
     "name": "stdout",
     "output_type": "stream",
     "text": [
      "(1, 3) (1, 4) (2, 3) (2, 4)\n"
     ]
    }
   ],
   "source": [
    "Aaaa=(1,2)\n",
    "Bbbb=(3,4)\n",
    "Cccc=product (Aaaa,Bbbb)\n",
    "\n",
    "print(*Cccc)"
   ]
  },
  {
   "cell_type": "code",
   "execution_count": 26,
   "id": "164fe39b",
   "metadata": {},
   "outputs": [
    {
     "name": "stdout",
     "output_type": "stream",
     "text": [
      "3 4\n",
      "5 6\n",
      "(3, 5) (3, 6) (4, 5) (4, 6)\n"
     ]
    }
   ],
   "source": [
    "from itertools import product\n",
    "\n",
    "A= list(map(int,input().split()))\n",
    "B= list(map(int,input().split()))\n",
    "\n",
    "AXB=product(A,B)\n",
    "print(*AXB)"
   ]
  }
 ],
 "metadata": {
  "kernelspec": {
   "display_name": "Python 3",
   "language": "python",
   "name": "python3"
  },
  "language_info": {
   "codemirror_mode": {
    "name": "ipython",
    "version": 3
   },
   "file_extension": ".py",
   "mimetype": "text/x-python",
   "name": "python",
   "nbconvert_exporter": "python",
   "pygments_lexer": "ipython3",
   "version": "3.8.8"
  }
 },
 "nbformat": 4,
 "nbformat_minor": 5
}
