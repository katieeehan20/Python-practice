{
 "cells": [
  {
   "cell_type": "markdown",
   "id": "4cc21cf6",
   "metadata": {},
   "source": [
    "Let's learn super() function, which \n",
    "(1) allows me to call methods of the superclass in my subclass and \n",
    "(2) extends the functionality of the inherited method.\n",
    "\n",
    "Let's see some examples that deal with super() function"
   ]
  },
  {
   "cell_type": "code",
   "execution_count": 25,
   "id": "3b74ea3f",
   "metadata": {},
   "outputs": [],
   "source": [
    "class Rectangle: #don't forget to add : at the end, otherwise error\n",
    "    \n",
    "    def __init__ (self, width, length): #similarly, don't forget to add : at the end, otherwise error\n",
    "        self.width=width\n",
    "        self.length=length\n",
    "    \n",
    "    def area (self):\n",
    "        return self.width*self.length\n",
    "        \n",
    "    def perimeter (self):\n",
    "        return 2*(self.width+self.length)\n",
    "\n",
    "    \n",
    "class Square:\n",
    "    def __init__(self, length): #two hyphens instead of one, otherwise error\n",
    "        self.length=length\n",
    "    def area (self):\n",
    "        return self.length*self.length\n",
    "    \n",
    "    def perimeter (self):\n",
    "        return 4*self.length\n",
    "    "
   ]
  },
  {
   "cell_type": "code",
   "execution_count": 21,
   "id": "9bf1e96c",
   "metadata": {},
   "outputs": [
    {
     "data": {
      "text/plain": [
       "25"
      ]
     },
     "execution_count": 21,
     "metadata": {},
     "output_type": "execute_result"
    }
   ],
   "source": [
    "square = Square(5)\n",
    "square.area()"
   ]
  },
  {
   "cell_type": "code",
   "execution_count": 22,
   "id": "8c8cb0d8",
   "metadata": {},
   "outputs": [
    {
     "data": {
      "text/plain": [
       "20"
      ]
     },
     "execution_count": 22,
     "metadata": {},
     "output_type": "execute_result"
    }
   ],
   "source": [
    "square.perimeter()"
   ]
  },
  {
   "cell_type": "code",
   "execution_count": 27,
   "id": "e7fb3b2a",
   "metadata": {},
   "outputs": [
    {
     "data": {
      "text/plain": [
       "10"
      ]
     },
     "execution_count": 27,
     "metadata": {},
     "output_type": "execute_result"
    }
   ],
   "source": [
    "rectangle=Rectangle(2,5)\n",
    "rectangle.area()"
   ]
  },
  {
   "cell_type": "code",
   "execution_count": 28,
   "id": "8b18ae82",
   "metadata": {},
   "outputs": [
    {
     "data": {
      "text/plain": [
       "14"
      ]
     },
     "execution_count": 28,
     "metadata": {},
     "output_type": "execute_result"
    }
   ],
   "source": [
    "rectangle.perimeter()"
   ]
  },
  {
   "cell_type": "markdown",
   "id": "7d464edb",
   "metadata": {},
   "source": [
    "\n",
    "The above example doesn't right away show that the rectangle and square are related. The way to show they're related is to write repeatable codes and show they have some similarities"
   ]
  },
  {
   "cell_type": "markdown",
   "id": "1943c9c3",
   "metadata": {},
   "source": [
    "So let's write another code using super() function that shows two classes use similar codes."
   ]
  },
  {
   "cell_type": "code",
   "execution_count": 29,
   "id": "c86755ad",
   "metadata": {},
   "outputs": [],
   "source": [
    "class Rectangle:\n",
    "    \n",
    "    def __init__ (self, width, length):\n",
    "        self.width=width\n",
    "        self.length=length\n",
    "        \n",
    "    def area(self):\n",
    "        return self.width* self.length\n",
    "    \n",
    "    def perimeter(self):\n",
    "        return 2*(self.width+self.length)\n",
    "    \n",
    "    \n",
    "class Square(Rectangle):\n",
    "    \n",
    "    def __init__ (self, length):\n",
    "        return super().__init__(length, length)"
   ]
  },
  {
   "cell_type": "code",
   "execution_count": 30,
   "id": "a8e9f535",
   "metadata": {},
   "outputs": [
    {
     "data": {
      "text/plain": [
       "25"
      ]
     },
     "execution_count": 30,
     "metadata": {},
     "output_type": "execute_result"
    }
   ],
   "source": [
    "square1=Square(5)\n",
    "square1.area()"
   ]
  },
  {
   "cell_type": "code",
   "execution_count": 32,
   "id": "638902d1",
   "metadata": {},
   "outputs": [
    {
     "data": {
      "text/plain": [
       "20"
      ]
     },
     "execution_count": 32,
     "metadata": {},
     "output_type": "execute_result"
    }
   ],
   "source": [
    "square1.perimeter()"
   ]
  },
  {
   "cell_type": "code",
   "execution_count": 33,
   "id": "f3dc1a53",
   "metadata": {},
   "outputs": [
    {
     "data": {
      "text/plain": [
       "49"
      ]
     },
     "execution_count": 33,
     "metadata": {},
     "output_type": "execute_result"
    }
   ],
   "source": [
    "square2=Square(7)\n",
    "square2.area()"
   ]
  },
  {
   "cell_type": "markdown",
   "id": "12b43d4e",
   "metadata": {},
   "source": [
    "\n",
    "Let's write another code that uses super(), which is a subclass of square"
   ]
  },
  {
   "cell_type": "code",
   "execution_count": 62,
   "id": "9f458bc4",
   "metadata": {},
   "outputs": [],
   "source": [
    "class Square(Rectangle):\n",
    "    def __init__(self, length):\n",
    "        return super().__init__(length, length)\n",
    "\n",
    "    \n",
    "class Cube (Square):\n",
    "    \n",
    "    def surface_area(self):         #I'm not sure why it's not (self,length): here...\n",
    "        facearea=super().area()\n",
    "        return 6* facearea\n",
    "    \n",
    "    def volume (self):              #Similarly, I'm not sure why it's not (self, length): here...\n",
    "        facearea=super().area()     #why do I have to write facearea when I wrote in the above def???\n",
    "        return facearea*self.length #why does it have to be self.length instead of length???"
   ]
  },
  {
   "cell_type": "code",
   "execution_count": 63,
   "id": "03b8115e",
   "metadata": {},
   "outputs": [
    {
     "data": {
      "text/plain": [
       "54"
      ]
     },
     "execution_count": 63,
     "metadata": {},
     "output_type": "execute_result"
    }
   ],
   "source": [
    "cube=Cube(3)\n",
    "cube.surface_area()"
   ]
  },
  {
   "cell_type": "code",
   "execution_count": 64,
   "id": "1de96939",
   "metadata": {},
   "outputs": [
    {
     "data": {
      "text/plain": [
       "27"
      ]
     },
     "execution_count": 64,
     "metadata": {},
     "output_type": "execute_result"
    }
   ],
   "source": [
    "cube.volume()"
   ]
  },
  {
   "cell_type": "code",
   "execution_count": 65,
   "id": "8d18ad09",
   "metadata": {},
   "outputs": [
    {
     "data": {
      "text/plain": [
       "150"
      ]
     },
     "execution_count": 65,
     "metadata": {},
     "output_type": "execute_result"
    }
   ],
   "source": [
    "cube=Cube(5)\n",
    "cube.surface_area()"
   ]
  },
  {
   "cell_type": "code",
   "execution_count": 66,
   "id": "4295253c",
   "metadata": {},
   "outputs": [
    {
     "data": {
      "text/plain": [
       "125"
      ]
     },
     "execution_count": 66,
     "metadata": {},
     "output_type": "execute_result"
    }
   ],
   "source": [
    "cube.volume()"
   ]
  }
 ],
 "metadata": {
  "kernelspec": {
   "display_name": "Python 3",
   "language": "python",
   "name": "python3"
  },
  "language_info": {
   "codemirror_mode": {
    "name": "ipython",
    "version": 3
   },
   "file_extension": ".py",
   "mimetype": "text/x-python",
   "name": "python",
   "nbconvert_exporter": "python",
   "pygments_lexer": "ipython3",
   "version": "3.8.8"
  }
 },
 "nbformat": 4,
 "nbformat_minor": 5
}
