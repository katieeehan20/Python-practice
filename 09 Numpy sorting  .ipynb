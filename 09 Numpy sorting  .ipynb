{
 "cells": [
  {
   "cell_type": "code",
   "execution_count": 2,
   "id": "dfc97076",
   "metadata": {},
   "outputs": [
    {
     "data": {
      "text/plain": [
       "array([1, 2, 3, 4, 5])"
      ]
     },
     "execution_count": 2,
     "metadata": {},
     "output_type": "execute_result"
    }
   ],
   "source": [
    "# selection sort repeatedly finds the minimum value from a list and makes swaps until the list is sorted\n",
    "\n",
    "import numpy as np\n",
    "\n",
    "def selection_sort(x):\n",
    "    for i in range(len(x)):\n",
    "        swap=i+np.argmin(x[i:])\n",
    "        (x[i], x[swap])=(x[swap], x[i])\n",
    "    return x\n",
    "\n",
    "x=np.array([2,1,4,3,5])\n",
    "selection_sort(x)"
   ]
  },
  {
   "cell_type": "code",
   "execution_count": 4,
   "id": "c5361ff5",
   "metadata": {},
   "outputs": [
    {
     "data": {
      "text/plain": [
       "array([1, 2, 3, 4, 5])"
      ]
     },
     "execution_count": 4,
     "metadata": {},
     "output_type": "execute_result"
    }
   ],
   "source": [
    "# bogosort algorithm relies on pure chance to sort an array, it repeatedly applies a random shuffling of the array\n",
    "\n",
    "def bogosort(y):\n",
    "    while np.any(y[:-1] > y[1:]):\n",
    "        np.random.shuffle(y)\n",
    "        \n",
    "    return y\n",
    "\n",
    "y=np.array([2,1,4,3,5])\n",
    "bogosort(y)\n"
   ]
  },
  {
   "cell_type": "code",
   "execution_count": 5,
   "id": "617bd3a2",
   "metadata": {},
   "outputs": [
    {
     "name": "stdout",
     "output_type": "stream",
     "text": [
      "[1 2 3 4 5]\n"
     ]
    }
   ],
   "source": [
    "# np.sort is more efficient than Python's built in sort function to sort lists\n",
    "\n",
    "z=np.array([2,1,4,3,5])\n",
    "np.sort(x)   # this is being used\n",
    "x.sort()\n",
    "\n",
    "print(x)"
   ]
  },
  {
   "cell_type": "code",
   "execution_count": 8,
   "id": "5e638253",
   "metadata": {},
   "outputs": [
    {
     "name": "stdout",
     "output_type": "stream",
     "text": [
      "[0 1 2 3 4]\n"
     ]
    },
    {
     "data": {
      "text/plain": [
       "array([1, 2, 3, 4, 5])"
      ]
     },
     "execution_count": 8,
     "metadata": {},
     "output_type": "execute_result"
    }
   ],
   "source": [
    "g=np.array([2,1,4,3,5])\n",
    "h=np.argsort(x)\n",
    "\n",
    "print(h)\n",
    "x[h]"
   ]
  },
  {
   "cell_type": "code",
   "execution_count": 10,
   "id": "27a3bec1",
   "metadata": {},
   "outputs": [
    {
     "name": "stdout",
     "output_type": "stream",
     "text": [
      "[[6 3 7 4 6 9]\n",
      " [2 6 7 4 3 7]\n",
      " [7 2 5 4 1 7]\n",
      " [5 1 4 0 9 5]]\n"
     ]
    },
    {
     "data": {
      "text/plain": [
       "array([[2, 1, 4, 0, 1, 5],\n",
       "       [5, 2, 5, 4, 3, 7],\n",
       "       [6, 3, 7, 4, 6, 7],\n",
       "       [7, 6, 7, 4, 9, 9]])"
      ]
     },
     "execution_count": 10,
     "metadata": {},
     "output_type": "execute_result"
    }
   ],
   "source": [
    "# NumPy sorting algorithm: the ability to sort along specific rows or columns of multidimensional array using the axis argument\n",
    "\n",
    "rand=np.random.RandomState(42)\n",
    "x=rand.randint(0,10, (4,6))\n",
    "print(x)\n",
    "\n",
    "np.sort(x, axis=0) # sort each column of x"
   ]
  },
  {
   "cell_type": "code",
   "execution_count": 11,
   "id": "b19f8834",
   "metadata": {},
   "outputs": [
    {
     "data": {
      "text/plain": [
       "array([[3, 4, 6, 6, 7, 9],\n",
       "       [2, 3, 4, 6, 7, 7],\n",
       "       [1, 2, 4, 5, 7, 7],\n",
       "       [0, 1, 4, 5, 5, 9]])"
      ]
     },
     "execution_count": 11,
     "metadata": {},
     "output_type": "execute_result"
    }
   ],
   "source": [
    "np.sort(x, axis=1)  # sort each row of x"
   ]
  },
  {
   "cell_type": "code",
   "execution_count": 13,
   "id": "677d48af",
   "metadata": {},
   "outputs": [
    {
     "data": {
      "text/plain": [
       "array([ 1,  2,  3,  4,  5,  6,  7,  9, 10])"
      ]
     },
     "execution_count": 13,
     "metadata": {},
     "output_type": "execute_result"
    }
   ],
   "source": [
    "# np.partition is not to sort entire array (??)\n",
    "\n",
    "w=np.array([7,2,3,1,4,5,6,9,10])\n",
    "np.partition(w,3)"
   ]
  }
 ],
 "metadata": {
  "kernelspec": {
   "display_name": "Python 3",
   "language": "python",
   "name": "python3"
  },
  "language_info": {
   "codemirror_mode": {
    "name": "ipython",
    "version": 3
   },
   "file_extension": ".py",
   "mimetype": "text/x-python",
   "name": "python",
   "nbconvert_exporter": "python",
   "pygments_lexer": "ipython3",
   "version": "3.8.8"
  }
 },
 "nbformat": 4,
 "nbformat_minor": 5
}
