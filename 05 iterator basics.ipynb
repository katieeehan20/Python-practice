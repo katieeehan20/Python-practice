{
 "cells": [
  {
   "cell_type": "markdown",
   "id": "acac383c",
   "metadata": {},
   "source": [
    "Iterator is an object that allows me to go through all the elements of a collection\n",
    "\n",
    "Iterator syntax allows repeating of a similar calculation over and over automatically, and this is helpful in data analysis\n",
    "\n",
    "Range iterator is one iterator syntax. Range is not a list"
   ]
  },
  {
   "cell_type": "code",
   "execution_count": 14,
   "id": "3393cb49",
   "metadata": {},
   "outputs": [
    {
     "data": {
      "text/plain": [
       "range(0, 10)"
      ]
     },
     "execution_count": 14,
     "metadata": {},
     "output_type": "execute_result"
    }
   ],
   "source": [
    "#range()  returns an object\n",
    "#range()  doesn't return a list\n",
    "\n",
    "\n",
    "range(10)"
   ]
  },
  {
   "cell_type": "code",
   "execution_count": 4,
   "id": "15709bcf",
   "metadata": {},
   "outputs": [
    {
     "name": "stdout",
     "output_type": "stream",
     "text": [
      "0 1 2 3 4 5 6 7 8 9 "
     ]
    }
   ],
   "source": [
    "for i in range(10):\n",
    "    print(i, end=' ')"
   ]
  },
  {
   "cell_type": "markdown",
   "id": "fd1f07c6",
   "metadata": {},
   "source": [
    "\n",
    "\n",
    "You can iterate over a list. When iterating over a list, iterators are used"
   ]
  },
  {
   "cell_type": "code",
   "execution_count": 6,
   "id": "66500ebb",
   "metadata": {},
   "outputs": [
    {
     "name": "stdout",
     "output_type": "stream",
     "text": [
      "3 5 7 9 11 "
     ]
    }
   ],
   "source": [
    "#for (each value) in (the list) : this syntax allows me to repaeat some operation for each value in the list\n",
    "\n",
    "\n",
    "for value in [2,4,6,8,10]:\n",
    "    print(value+1, end=' ')  #this is some kind of operation"
   ]
  },
  {
   "cell_type": "code",
   "execution_count": 7,
   "id": "2f3516bc",
   "metadata": {},
   "outputs": [
    {
     "data": {
      "text/plain": [
       "<list_iterator at 0x1ce024f4f40>"
      ]
     },
     "execution_count": 7,
     "metadata": {},
     "output_type": "execute_result"
    }
   ],
   "source": [
    "#for (val) in (list): Python interpreter checks whether there is an iterator interface. \n",
    "\n",
    "# you can check if there's an iterator interface with a   iter() function\n",
    "\n",
    "iter( [2,4,6,8,10] )   # shows this has iterator interface"
   ]
  },
  {
   "cell_type": "code",
   "execution_count": 9,
   "id": "2dd518b1",
   "metadata": {},
   "outputs": [
    {
     "name": "stdout",
     "output_type": "stream",
     "text": [
      "['__add__', '__class__', '__contains__', '__delattr__', '__delitem__', '__dir__', '__doc__', '__eq__', '__format__', '__ge__', '__getattribute__', '__getitem__', '__gt__', '__hash__', '__iadd__', '__imul__', '__init__', '__init_subclass__', '__iter__', '__le__', '__len__', '__lt__', '__mul__', '__ne__', '__new__', '__reduce__', '__reduce_ex__', '__repr__', '__reversed__', '__rmul__', '__setattr__', '__setitem__', '__sizeof__', '__str__', '__subclasshook__', 'append', 'clear', 'copy', 'count', 'extend', 'index', 'insert', 'pop', 'remove', 'reverse', 'sort']\n"
     ]
    }
   ],
   "source": [
    "print(dir([2,4,6,8,10]))  #dir() also shows [2,4,6,8,10] has __iter__ method"
   ]
  },
  {
   "cell_type": "markdown",
   "id": "0962510c",
   "metadata": {},
   "source": [
    "The iterator object provides functionality required by the   for  loop.\n",
    "\n",
    "Iterator object is a container which gives access to the   next   object for as long as it's valid. \n",
    "This can be seen with next() function"
   ]
  },
  {
   "cell_type": "code",
   "execution_count": 12,
   "id": "9a677fe7",
   "metadata": {},
   "outputs": [
    {
     "name": "stdout",
     "output_type": "stream",
     "text": [
      "2\n",
      "4\n",
      "6\n",
      "8\n",
      "10\n"
     ]
    },
    {
     "ename": "StopIteration",
     "evalue": "",
     "output_type": "error",
     "traceback": [
      "\u001b[1;31m---------------------------------------------------------------------------\u001b[0m",
      "\u001b[1;31mStopIteration\u001b[0m                             Traceback (most recent call last)",
      "\u001b[1;32m<ipython-input-12-827062d514d5>\u001b[0m in \u001b[0;36m<module>\u001b[1;34m\u001b[0m\n\u001b[0;32m      6\u001b[0m \u001b[0mprint\u001b[0m\u001b[1;33m(\u001b[0m\u001b[0mnext\u001b[0m\u001b[1;33m(\u001b[0m\u001b[0mI\u001b[0m\u001b[1;33m)\u001b[0m\u001b[1;33m)\u001b[0m\u001b[1;33m\u001b[0m\u001b[1;33m\u001b[0m\u001b[0m\n\u001b[0;32m      7\u001b[0m \u001b[0mprint\u001b[0m\u001b[1;33m(\u001b[0m\u001b[0mnext\u001b[0m\u001b[1;33m(\u001b[0m\u001b[0mI\u001b[0m\u001b[1;33m)\u001b[0m\u001b[1;33m)\u001b[0m\u001b[1;33m\u001b[0m\u001b[1;33m\u001b[0m\u001b[0m\n\u001b[1;32m----> 8\u001b[1;33m \u001b[0mprint\u001b[0m\u001b[1;33m(\u001b[0m\u001b[0mnext\u001b[0m\u001b[1;33m(\u001b[0m\u001b[0mI\u001b[0m\u001b[1;33m)\u001b[0m\u001b[1;33m)\u001b[0m\u001b[1;33m\u001b[0m\u001b[1;33m\u001b[0m\u001b[0m\n\u001b[0m",
      "\u001b[1;31mStopIteration\u001b[0m: "
     ]
    }
   ],
   "source": [
    "# it allows Python to treat things as lists that are not actually lists(?)\n",
    "\n",
    "I=iter([2,4,6,8,10])\n",
    "\n",
    "print(next(I))\n",
    "print(next(I))\n",
    "print(next(I))\n",
    "print(next(I))\n",
    "print(next(I))\n",
    "print(next(I))"
   ]
  },
  {
   "cell_type": "code",
   "execution_count": 15,
   "id": "92f2a202",
   "metadata": {},
   "outputs": [
    {
     "data": {
      "text/plain": [
       "<range_iterator at 0x1ce02509850>"
      ]
     },
     "execution_count": 15,
     "metadata": {},
     "output_type": "execute_result"
    }
   ],
   "source": [
    "#range function, similar to list, exposes an iterator\n",
    "\n",
    "iter(range(10))   # shows iterator"
   ]
  },
  {
   "cell_type": "code",
   "execution_count": 18,
   "id": "8c73e83d",
   "metadata": {},
   "outputs": [
    {
     "name": "stdout",
     "output_type": "stream",
     "text": [
      "0, 1, 2, 3, 4, 5, 6, 7, 8, 9, "
     ]
    }
   ],
   "source": [
    "for i in range(10):\n",
    "    print(i, end= \", \")   #never forget end =. Otherwise error"
   ]
  },
  {
   "cell_type": "code",
   "execution_count": 23,
   "id": "2b675130",
   "metadata": {},
   "outputs": [
    {
     "name": "stdout",
     "output_type": "stream",
     "text": [
      "0 1 2 3 4 5 6 7 8 9 10 "
     ]
    }
   ],
   "source": [
    "# The benefit of the list indirection is that the full list is never explicitly created\n",
    "\n",
    "N=10**12\n",
    "\n",
    "for i in range(N):    # if you do just N instead of range(N), there's an error\n",
    "    if i>=11:\n",
    "        break\n",
    "    print(i, end= \" \")\n",
    "    "
   ]
  },
  {
   "cell_type": "code",
   "execution_count": 24,
   "id": "83835747",
   "metadata": {},
   "outputs": [
    {
     "name": "stdout",
     "output_type": "stream",
     "text": [
      "0 1 2 3 4 5 6 7 8 9 "
     ]
    }
   ],
   "source": [
    "#iterators don't have to ever end. \n",
    "\n",
    "#itertools library has count function that acts as infinite range\n",
    "\n",
    "from itertools import count\n",
    "\n",
    "for i in count():\n",
    "    if i>=10:\n",
    "        break\n",
    "    print (i, end=\" \")"
   ]
  }
 ],
 "metadata": {
  "kernelspec": {
   "display_name": "Python 3",
   "language": "python",
   "name": "python3"
  },
  "language_info": {
   "codemirror_mode": {
    "name": "ipython",
    "version": 3
   },
   "file_extension": ".py",
   "mimetype": "text/x-python",
   "name": "python",
   "nbconvert_exporter": "python",
   "pygments_lexer": "ipython3",
   "version": "3.8.8"
  }
 },
 "nbformat": 4,
 "nbformat_minor": 5
}
