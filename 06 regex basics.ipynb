{
 "cells": [
  {
   "cell_type": "markdown",
   "id": "5abea90c",
   "metadata": {},
   "source": [
    "String representations can always be found using str( ) function.\n",
    "\n",
    "A more flexible way to do this is by using FORMAT STRINGS. \n",
    "\n",
    "Format Strings = strings with special markers { }, and here string-formatted values will be inserted. \n",
    "\n",
    "\n",
    "\n",
    "Inside { }, if you insert number, it shows index of argument to insert\n",
    "\n",
    "Inside { }, if you insert a string, it will refer to the key of the keyword argument\n",
    "\n",
    "Lastly, for numerical inputs, you can include format codes which control how the value is converted to a string.\n",
    "For example, to print a number as a floating point with three digits after the decimal point\n",
    "   ex. {0: .2f}"
   ]
  },
  {
   "cell_type": "code",
   "execution_count": 8,
   "id": "f9a5a578",
   "metadata": {},
   "outputs": [
    {
     "data": {
      "text/plain": [
       "'The value of pi is3.14159'"
      ]
     },
     "execution_count": 8,
     "metadata": {},
     "output_type": "execute_result"
    }
   ],
   "source": [
    "pi=3.14159\n",
    "\"The value of pi is\" + str(pi)  #same as below"
   ]
  },
  {
   "cell_type": "code",
   "execution_count": 2,
   "id": "8950bb97",
   "metadata": {},
   "outputs": [
    {
     "data": {
      "text/plain": [
       "'The value of pi is 3.14159'"
      ]
     },
     "execution_count": 2,
     "metadata": {},
     "output_type": "execute_result"
    }
   ],
   "source": [
    "pi=3.14159\n",
    "\"The value of pi is {}\".format(pi)"
   ]
  },
  {
   "cell_type": "code",
   "execution_count": 4,
   "id": "6b86a390",
   "metadata": {},
   "outputs": [
    {
     "data": {
      "text/plain": [
       "'First letter: A, Second letter: B'"
      ]
     },
     "execution_count": 4,
     "metadata": {},
     "output_type": "execute_result"
    }
   ],
   "source": [
    "\"\"\"First letter: {0}, Second letter: {1}\"\"\".format('A','B')"
   ]
  },
  {
   "cell_type": "code",
   "execution_count": 5,
   "id": "b485f9a7",
   "metadata": {},
   "outputs": [
    {
     "data": {
      "text/plain": [
       "'First letter: A, Second letter: B'"
      ]
     },
     "execution_count": 5,
     "metadata": {},
     "output_type": "execute_result"
    }
   ],
   "source": [
    "#If you include a string inside {}, it will refer to the key of any keyword argument:\n",
    "\n",
    "\"\"\"First letter: {first}, Second letter: {second}\"\"\".format(second='B', first='A')"
   ]
  },
  {
   "cell_type": "code",
   "execution_count": 7,
   "id": "fd944e6e",
   "metadata": {},
   "outputs": [
    {
     "data": {
      "text/plain": [
       "'pi=3.14'"
      ]
     },
     "execution_count": 7,
     "metadata": {},
     "output_type": "execute_result"
    }
   ],
   "source": [
    "# 0 is the index of the value to be inserted\n",
    "# : indicates that format codes will follow\n",
    "\n",
    "#.2f indicates the desired precision, floating point format\n",
    "# returns pi value to 2 decimal places (.2f)\n",
    "\n",
    "\"pi={0:.2f}\".format(pi)  "
   ]
  }
 ],
 "metadata": {
  "kernelspec": {
   "display_name": "Python 3",
   "language": "python",
   "name": "python3"
  },
  "language_info": {
   "codemirror_mode": {
    "name": "ipython",
    "version": 3
   },
   "file_extension": ".py",
   "mimetype": "text/x-python",
   "name": "python",
   "nbconvert_exporter": "python",
   "pygments_lexer": "ipython3",
   "version": "3.8.8"
  }
 },
 "nbformat": 4,
 "nbformat_minor": 5
}
