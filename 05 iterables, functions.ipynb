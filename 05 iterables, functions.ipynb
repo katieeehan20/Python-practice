{
 "cells": [
  {
   "cell_type": "markdown",
   "id": "1fff44bc",
   "metadata": {},
   "source": [
    "Functions that act on iterables\n",
    "\n",
    "list( ) / tuple( ) / dict( ) / set( )\n",
    "\n",
    "sum( )\n",
    "\n",
    "sorted( )\n",
    " \n",
    "any( ),  all( )\n",
    "\n",
    "max( ),  min( )"
   ]
  },
  {
   "cell_type": "code",
   "execution_count": 1,
   "id": "664c71e6",
   "metadata": {},
   "outputs": [
    {
     "data": {
      "text/plain": [
       "['I',\n",
       " ' ',\n",
       " 'a',\n",
       " 'm',\n",
       " ' ',\n",
       " 'a',\n",
       " ' ',\n",
       " 'b',\n",
       " 'u',\n",
       " 't',\n",
       " 't',\n",
       " 'e',\n",
       " 'r',\n",
       " 'f',\n",
       " 'l',\n",
       " 'y']"
      ]
     },
     "execution_count": 1,
     "metadata": {},
     "output_type": "execute_result"
    }
   ],
   "source": [
    "list(\"I am a butterfly\")"
   ]
  },
  {
   "cell_type": "code",
   "execution_count": 11,
   "id": "4d3e6015",
   "metadata": {},
   "outputs": [
    {
     "data": {
      "text/plain": [
       "('I', ' ', 'a', 'm', ' ', 'a', ' ', 'd', 'o', 'g')"
      ]
     },
     "execution_count": 11,
     "metadata": {},
     "output_type": "execute_result"
    }
   ],
   "source": [
    "tuple(\"I am a dog\")"
   ]
  },
  {
   "cell_type": "code",
   "execution_count": 15,
   "id": "e769b102",
   "metadata": {},
   "outputs": [
    {
     "ename": "SyntaxError",
     "evalue": "invalid syntax (<ipython-input-15-7c865e04d311>, line 1)",
     "output_type": "error",
     "traceback": [
      "\u001b[1;36m  File \u001b[1;32m\"<ipython-input-15-7c865e04d311>\"\u001b[1;36m, line \u001b[1;32m1\u001b[0m\n\u001b[1;33m    dict(\"I am a\": \"white cat\")\u001b[0m\n\u001b[1;37m                 ^\u001b[0m\n\u001b[1;31mSyntaxError\u001b[0m\u001b[1;31m:\u001b[0m invalid syntax\n"
     ]
    }
   ],
   "source": [
    "dict(\"I am a\": \"white cat\")  #???"
   ]
  },
  {
   "cell_type": "code",
   "execution_count": 17,
   "id": "39ac0552",
   "metadata": {},
   "outputs": [
    {
     "data": {
      "text/plain": [
       "{3, 4, 5, 6, 7, 9, 10, 23}"
      ]
     },
     "execution_count": 17,
     "metadata": {},
     "output_type": "execute_result"
    }
   ],
   "source": [
    "set((3,4,6,7,9,10,23,4,5))"
   ]
  },
  {
   "cell_type": "code",
   "execution_count": 2,
   "id": "5ad1d553",
   "metadata": {},
   "outputs": [
    {
     "data": {
      "text/plain": [
       "15"
      ]
     },
     "execution_count": 2,
     "metadata": {},
     "output_type": "execute_result"
    }
   ],
   "source": [
    "sum([1,2,3,4,5])"
   ]
  },
  {
   "cell_type": "code",
   "execution_count": 3,
   "id": "84e51de6",
   "metadata": {},
   "outputs": [
    {
     "data": {
      "text/plain": [
       "['A', 'E', 'K', 'N', 'T', 'a', 'a', 'a', 'b', 'b', 'h', 'h', 'h', 'l', 'l']"
      ]
     },
     "execution_count": 3,
     "metadata": {},
     "output_type": "execute_result"
    }
   ],
   "source": [
    "sorted(\"KaTEhANblahblah\")"
   ]
  },
  {
   "cell_type": "code",
   "execution_count": 4,
   "id": "a9fd03fa",
   "metadata": {},
   "outputs": [
    {
     "data": {
      "text/plain": [
       "['0', '1', '2', '3', '4', '5', '5', '7', '8', '9']"
      ]
     },
     "execution_count": 4,
     "metadata": {},
     "output_type": "execute_result"
    }
   ],
   "source": [
    "sorted(\"1357829405\")"
   ]
  },
  {
   "cell_type": "code",
   "execution_count": 5,
   "id": "4d746edf",
   "metadata": {},
   "outputs": [
    {
     "data": {
      "text/plain": [
       "True"
      ]
     },
     "execution_count": 5,
     "metadata": {},
     "output_type": "execute_result"
    }
   ],
   "source": [
    "any([0,1,[],True])  # if any one element is True then any() returns True"
   ]
  },
  {
   "cell_type": "code",
   "execution_count": 7,
   "id": "68ad837e",
   "metadata": {},
   "outputs": [
    {
     "data": {
      "text/plain": [
       "False"
      ]
     },
     "execution_count": 7,
     "metadata": {},
     "output_type": "execute_result"
    }
   ],
   "source": [
    "any([0,[],False, None]) # if all the elements are False then any() returns False"
   ]
  },
  {
   "cell_type": "code",
   "execution_count": 8,
   "id": "a2a44477",
   "metadata": {},
   "outputs": [
    {
     "data": {
      "text/plain": [
       "True"
      ]
     },
     "execution_count": 8,
     "metadata": {},
     "output_type": "execute_result"
    }
   ],
   "source": [
    "all([1, (0,1), True, \"hi\"])"
   ]
  },
  {
   "cell_type": "code",
   "execution_count": 9,
   "id": "c82a3275",
   "metadata": {},
   "outputs": [
    {
     "data": {
      "text/plain": [
       "11"
      ]
     },
     "execution_count": 9,
     "metadata": {},
     "output_type": "execute_result"
    }
   ],
   "source": [
    "max(5,8,9,0,11,2)  #why does this work without double parentheses? max(())"
   ]
  },
  {
   "cell_type": "code",
   "execution_count": 10,
   "id": "464ea193",
   "metadata": {},
   "outputs": [
    {
     "data": {
      "text/plain": [
       "-3"
      ]
     },
     "execution_count": 10,
     "metadata": {},
     "output_type": "execute_result"
    }
   ],
   "source": [
    "min(1,2,3,6,9,0,-3)"
   ]
  }
 ],
 "metadata": {
  "kernelspec": {
   "display_name": "Python 3",
   "language": "python",
   "name": "python3"
  },
  "language_info": {
   "codemirror_mode": {
    "name": "ipython",
    "version": 3
   },
   "file_extension": ".py",
   "mimetype": "text/x-python",
   "name": "python",
   "nbconvert_exporter": "python",
   "pygments_lexer": "ipython3",
   "version": "3.8.8"
  }
 },
 "nbformat": 4,
 "nbformat_minor": 5
}
