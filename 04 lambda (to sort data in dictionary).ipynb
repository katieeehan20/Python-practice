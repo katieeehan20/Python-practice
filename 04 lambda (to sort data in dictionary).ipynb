{
 "cells": [
  {
   "cell_type": "markdown",
   "id": "261b0768",
   "metadata": {},
   "source": [
    "When to use lambda function?\n",
    "\n",
    "One primary occasion to use lambda is when you have a dictionary and you need to sort items in the dictionary according to a certain order.\n",
    "\n",
    "Let's look at the basic method of how lambda works, below:"
   ]
  },
  {
   "cell_type": "code",
   "execution_count": 5,
   "id": "f5e9afc8",
   "metadata": {},
   "outputs": [
    {
     "data": {
      "text/plain": [
       "3"
      ]
     },
     "execution_count": 5,
     "metadata": {},
     "output_type": "execute_result"
    }
   ],
   "source": [
    "# here Add is a function\n",
    "\n",
    "Add= lambda a,b: a+b\n",
    "\n",
    "Add(1,2)"
   ]
  },
  {
   "cell_type": "code",
   "execution_count": 6,
   "id": "4d58dce7",
   "metadata": {},
   "outputs": [],
   "source": [
    "# the above function can be written, without lambda\n",
    "\n",
    "def Add (c,d):\n",
    "    return c+d\n"
   ]
  },
  {
   "cell_type": "code",
   "execution_count": 7,
   "id": "aacc72f2",
   "metadata": {},
   "outputs": [
    {
     "data": {
      "text/plain": [
       "9"
      ]
     },
     "execution_count": 7,
     "metadata": {},
     "output_type": "execute_result"
    }
   ],
   "source": [
    "Add(4,5)"
   ]
  },
  {
   "cell_type": "markdown",
   "id": "92115232",
   "metadata": {},
   "source": [
    "\n",
    "\n",
    "Example of using lambda to sort items in a dictionary by using     sorted and key=lambda"
   ]
  },
  {
   "cell_type": "code",
   "execution_count": 19,
   "id": "d4dca7b7",
   "metadata": {},
   "outputs": [
    {
     "name": "stdout",
     "output_type": "stream",
     "text": [
      "[{'first': 'Kate', 'last': 'Han', 'Score': 3}, {'first': 'Gerardo', 'last': 'Gates', 'Score': 4}, {'first': 'Jun', 'last': 'Min', 'Score': 5}]\n"
     ]
    }
   ],
   "source": [
    "#lambda in dictionary, how it's used\n",
    "\n",
    "data=[{\"first\": \"Kate\", \"last\": \"Han\", \"Score\": 3}, \n",
    "     {\"first\": \"Gerardo\", \"last\": \"Gates\", \"Score\": 4}, \n",
    "       {\"first\": \"Jun\", \"last\": \"Min\", \"Score\": 5}]\n",
    "print(data)"
   ]
  },
  {
   "cell_type": "code",
   "execution_count": 20,
   "id": "421032ca",
   "metadata": {},
   "outputs": [
    {
     "data": {
      "text/plain": [
       "[{'first': 'Kate', 'last': 'Han', 'Score': 3},\n",
       " {'first': 'Gerardo', 'last': 'Gates', 'Score': 4},\n",
       " {'first': 'Jun', 'last': 'Min', 'Score': 5}]"
      ]
     },
     "execution_count": 20,
     "metadata": {},
     "output_type": "execute_result"
    }
   ],
   "source": [
    "sorted(data, key=lambda item: item[\"Score\"])   \n",
    "\n",
    "# key function gives the sorting key for that item\n",
    "# Beware of capital letters in \"Score\". Otherwise, error"
   ]
  },
  {
   "cell_type": "code",
   "execution_count": 21,
   "id": "f5b6cb8f",
   "metadata": {},
   "outputs": [
    {
     "data": {
      "text/plain": [
       "[{'first': 'Gerardo', 'last': 'Gates', 'Score': 4},\n",
       " {'first': 'Jun', 'last': 'Min', 'Score': 5},\n",
       " {'first': 'Kate', 'last': 'Han', 'Score': 3}]"
      ]
     },
     "execution_count": 21,
     "metadata": {},
     "output_type": "execute_result"
    }
   ],
   "source": [
    "sorted(data, key=lambda item: item[\"first\"])"
   ]
  },
  {
   "cell_type": "code",
   "execution_count": 22,
   "id": "7fc266a1",
   "metadata": {},
   "outputs": [
    {
     "data": {
      "text/plain": [
       "[{'first': 'Gerardo', 'last': 'Gates', 'Score': 4},\n",
       " {'first': 'Kate', 'last': 'Han', 'Score': 3},\n",
       " {'first': 'Jun', 'last': 'Min', 'Score': 5}]"
      ]
     },
     "execution_count": 22,
     "metadata": {},
     "output_type": "execute_result"
    }
   ],
   "source": [
    "sorted(data, key=lambda item: item[\"last\"])"
   ]
  }
 ],
 "metadata": {
  "kernelspec": {
   "display_name": "Python 3",
   "language": "python",
   "name": "python3"
  },
  "language_info": {
   "codemirror_mode": {
    "name": "ipython",
    "version": 3
   },
   "file_extension": ".py",
   "mimetype": "text/x-python",
   "name": "python",
   "nbconvert_exporter": "python",
   "pygments_lexer": "ipython3",
   "version": "3.8.8"
  }
 },
 "nbformat": 4,
 "nbformat_minor": 5
}
