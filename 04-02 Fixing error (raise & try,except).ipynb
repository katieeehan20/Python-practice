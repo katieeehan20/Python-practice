{
 "cells": [
  {
   "cell_type": "code",
   "execution_count": 1,
   "id": "2db68226",
   "metadata": {},
   "outputs": [
    {
     "ename": "RuntimeError",
     "evalue": "My Error Message",
     "output_type": "error",
     "traceback": [
      "\u001b[1;31m---------------------------------------------------------------------------\u001b[0m",
      "\u001b[1;31mRuntimeError\u001b[0m                              Traceback (most recent call last)",
      "\u001b[1;32m<ipython-input-1-b3dd618544af>\u001b[0m in \u001b[0;36m<module>\u001b[1;34m\u001b[0m\n\u001b[1;32m----> 1\u001b[1;33m \u001b[1;32mraise\u001b[0m \u001b[0mRuntimeError\u001b[0m \u001b[1;33m(\u001b[0m\u001b[1;34m\"My Error Message\"\u001b[0m\u001b[1;33m)\u001b[0m\u001b[1;33m\u001b[0m\u001b[1;33m\u001b[0m\u001b[0m\n\u001b[0m",
      "\u001b[1;31mRuntimeError\u001b[0m: My Error Message"
     ]
    }
   ],
   "source": [
    "raise RuntimeError (\"My Error Message\")"
   ]
  },
  {
   "cell_type": "code",
   "execution_count": 4,
   "id": "4a10d9ee",
   "metadata": {},
   "outputs": [],
   "source": [
    "#fibonacci function and its definition. \n",
    "#Beware of : in def, otherwise syntax error\n",
    "\n",
    "def fibonacci (N, a=0, b=1):\n",
    "    L=[]\n",
    "    while len(L)<N:\n",
    "        a,b= b,a+b\n",
    "        L.append(a)\n",
    "    return(L)"
   ]
  },
  {
   "cell_type": "code",
   "execution_count": 5,
   "id": "db8aa536",
   "metadata": {},
   "outputs": [
    {
     "data": {
      "text/plain": [
       "[2, 3, 5]"
      ]
     },
     "execution_count": 5,
     "metadata": {},
     "output_type": "execute_result"
    }
   ],
   "source": [
    "fibonacci(3,1,2)"
   ]
  },
  {
   "cell_type": "code",
   "execution_count": 6,
   "id": "0a8ead4f",
   "metadata": {},
   "outputs": [
    {
     "data": {
      "text/plain": [
       "[5, 7, 12, 19, 31, 50, 81, 131, 212, 343]"
      ]
     },
     "execution_count": 6,
     "metadata": {},
     "output_type": "execute_result"
    }
   ],
   "source": [
    "fibonacci(10,2,5)"
   ]
  },
  {
   "cell_type": "code",
   "execution_count": 7,
   "id": "721a5aab",
   "metadata": {},
   "outputs": [
    {
     "data": {
      "text/plain": [
       "[]"
      ]
     },
     "execution_count": 7,
     "metadata": {},
     "output_type": "execute_result"
    }
   ],
   "source": [
    "fibonacci(-10,0,2)"
   ]
  },
  {
   "cell_type": "code",
   "execution_count": 8,
   "id": "553ca902",
   "metadata": {},
   "outputs": [],
   "source": [
    "#by using raise, I can prevent inputting negative N as in above example\n",
    "\n",
    "def fibonacci(N, a=0, b=1):\n",
    "    if N<0:\n",
    "        raise ValueError (\"N must be larger than 0\") #lets me prevent inputting negative N\n",
    "    L=[]\n",
    "    while len(L)<N:\n",
    "        a,b = b, a+b\n",
    "        L.append(a)\n",
    "    return(L)"
   ]
  },
  {
   "cell_type": "code",
   "execution_count": 9,
   "id": "d2d8d6f4",
   "metadata": {},
   "outputs": [
    {
     "ename": "ValueError",
     "evalue": "N must be larger than 0",
     "output_type": "error",
     "traceback": [
      "\u001b[1;31m---------------------------------------------------------------------------\u001b[0m",
      "\u001b[1;31mValueError\u001b[0m                                Traceback (most recent call last)",
      "\u001b[1;32m<ipython-input-9-8b517938318d>\u001b[0m in \u001b[0;36m<module>\u001b[1;34m\u001b[0m\n\u001b[1;32m----> 1\u001b[1;33m \u001b[0mfibonacci\u001b[0m\u001b[1;33m(\u001b[0m\u001b[1;33m-\u001b[0m\u001b[1;36m10\u001b[0m\u001b[1;33m,\u001b[0m\u001b[1;36m0\u001b[0m\u001b[1;33m,\u001b[0m\u001b[1;36m2\u001b[0m\u001b[1;33m)\u001b[0m\u001b[1;33m\u001b[0m\u001b[1;33m\u001b[0m\u001b[0m\n\u001b[0m",
      "\u001b[1;32m<ipython-input-8-c3c0be15416a>\u001b[0m in \u001b[0;36mfibonacci\u001b[1;34m(N, a, b)\u001b[0m\n\u001b[0;32m      1\u001b[0m \u001b[1;32mdef\u001b[0m \u001b[0mfibonacci\u001b[0m\u001b[1;33m(\u001b[0m\u001b[0mN\u001b[0m\u001b[1;33m,\u001b[0m \u001b[0ma\u001b[0m\u001b[1;33m=\u001b[0m\u001b[1;36m0\u001b[0m\u001b[1;33m,\u001b[0m \u001b[0mb\u001b[0m\u001b[1;33m=\u001b[0m\u001b[1;36m1\u001b[0m\u001b[1;33m)\u001b[0m\u001b[1;33m:\u001b[0m\u001b[1;33m\u001b[0m\u001b[1;33m\u001b[0m\u001b[0m\n\u001b[0;32m      2\u001b[0m     \u001b[1;32mif\u001b[0m \u001b[0mN\u001b[0m\u001b[1;33m<\u001b[0m\u001b[1;36m0\u001b[0m\u001b[1;33m:\u001b[0m\u001b[1;33m\u001b[0m\u001b[1;33m\u001b[0m\u001b[0m\n\u001b[1;32m----> 3\u001b[1;33m         \u001b[1;32mraise\u001b[0m \u001b[0mValueError\u001b[0m \u001b[1;33m(\u001b[0m\u001b[1;34m\"N must be larger than 0\"\u001b[0m\u001b[1;33m)\u001b[0m\u001b[1;33m\u001b[0m\u001b[1;33m\u001b[0m\u001b[0m\n\u001b[0m\u001b[0;32m      4\u001b[0m     \u001b[0mL\u001b[0m\u001b[1;33m=\u001b[0m\u001b[1;33m[\u001b[0m\u001b[1;33m]\u001b[0m\u001b[1;33m\u001b[0m\u001b[1;33m\u001b[0m\u001b[0m\n\u001b[0;32m      5\u001b[0m     \u001b[1;32mwhile\u001b[0m \u001b[0mlen\u001b[0m\u001b[1;33m(\u001b[0m\u001b[0mL\u001b[0m\u001b[1;33m)\u001b[0m\u001b[1;33m<\u001b[0m\u001b[0mN\u001b[0m\u001b[1;33m:\u001b[0m\u001b[1;33m\u001b[0m\u001b[1;33m\u001b[0m\u001b[0m\n",
      "\u001b[1;31mValueError\u001b[0m: N must be larger than 0"
     ]
    }
   ],
   "source": [
    "fibonacci(-10,0,2)"
   ]
  },
  {
   "cell_type": "code",
   "execution_count": 10,
   "id": "b83ed435",
   "metadata": {},
   "outputs": [
    {
     "ename": "ValueError",
     "evalue": "N must be larger than 0",
     "output_type": "error",
     "traceback": [
      "\u001b[1;31m---------------------------------------------------------------------------\u001b[0m",
      "\u001b[1;31mValueError\u001b[0m                                Traceback (most recent call last)",
      "\u001b[1;32m<ipython-input-10-f1ae0a8066f0>\u001b[0m in \u001b[0;36m<module>\u001b[1;34m\u001b[0m\n\u001b[1;32m----> 1\u001b[1;33m \u001b[0mfibonacci\u001b[0m\u001b[1;33m(\u001b[0m\u001b[1;33m-\u001b[0m\u001b[1;36m10\u001b[0m\u001b[1;33m)\u001b[0m\u001b[1;33m\u001b[0m\u001b[1;33m\u001b[0m\u001b[0m\n\u001b[0m",
      "\u001b[1;32m<ipython-input-8-c3c0be15416a>\u001b[0m in \u001b[0;36mfibonacci\u001b[1;34m(N, a, b)\u001b[0m\n\u001b[0;32m      1\u001b[0m \u001b[1;32mdef\u001b[0m \u001b[0mfibonacci\u001b[0m\u001b[1;33m(\u001b[0m\u001b[0mN\u001b[0m\u001b[1;33m,\u001b[0m \u001b[0ma\u001b[0m\u001b[1;33m=\u001b[0m\u001b[1;36m0\u001b[0m\u001b[1;33m,\u001b[0m \u001b[0mb\u001b[0m\u001b[1;33m=\u001b[0m\u001b[1;36m1\u001b[0m\u001b[1;33m)\u001b[0m\u001b[1;33m:\u001b[0m\u001b[1;33m\u001b[0m\u001b[1;33m\u001b[0m\u001b[0m\n\u001b[0;32m      2\u001b[0m     \u001b[1;32mif\u001b[0m \u001b[0mN\u001b[0m\u001b[1;33m<\u001b[0m\u001b[1;36m0\u001b[0m\u001b[1;33m:\u001b[0m\u001b[1;33m\u001b[0m\u001b[1;33m\u001b[0m\u001b[0m\n\u001b[1;32m----> 3\u001b[1;33m         \u001b[1;32mraise\u001b[0m \u001b[0mValueError\u001b[0m \u001b[1;33m(\u001b[0m\u001b[1;34m\"N must be larger than 0\"\u001b[0m\u001b[1;33m)\u001b[0m\u001b[1;33m\u001b[0m\u001b[1;33m\u001b[0m\u001b[0m\n\u001b[0m\u001b[0;32m      4\u001b[0m     \u001b[0mL\u001b[0m\u001b[1;33m=\u001b[0m\u001b[1;33m[\u001b[0m\u001b[1;33m]\u001b[0m\u001b[1;33m\u001b[0m\u001b[1;33m\u001b[0m\u001b[0m\n\u001b[0;32m      5\u001b[0m     \u001b[1;32mwhile\u001b[0m \u001b[0mlen\u001b[0m\u001b[1;33m(\u001b[0m\u001b[0mL\u001b[0m\u001b[1;33m)\u001b[0m\u001b[1;33m<\u001b[0m\u001b[0mN\u001b[0m\u001b[1;33m:\u001b[0m\u001b[1;33m\u001b[0m\u001b[1;33m\u001b[0m\u001b[0m\n",
      "\u001b[1;31mValueError\u001b[0m: N must be larger than 0"
     ]
    }
   ],
   "source": [
    "fibonacci(-10)"
   ]
  },
  {
   "cell_type": "code",
   "execution_count": 15,
   "id": "c5960543",
   "metadata": {},
   "outputs": [
    {
     "name": "stdout",
     "output_type": "stream",
     "text": [
      "Is N positive value?\n",
      "Bad value! Choose a non-negative N!\n"
     ]
    }
   ],
   "source": [
    "#when testing whether N is correct value, use \"try...except\" \n",
    "\n",
    "N=-10\n",
    "try: \n",
    "    print(\"Is N positive value?\")\n",
    "    fibonacci(N)                   #because this gives error (as N=negative), 2nd except block is printed\n",
    "    print(\"Yes!\")\n",
    "except: print(\"Bad value! Choose a non-negative N!\")"
   ]
  },
  {
   "cell_type": "code",
   "execution_count": 16,
   "id": "1e93952b",
   "metadata": {},
   "outputs": [
    {
     "name": "stdout",
     "output_type": "stream",
     "text": [
      "Is N positive value?\n",
      "Yes!\n"
     ]
    }
   ],
   "source": [
    "#when testing whether N is correct value, use \"try...except\" \n",
    "\n",
    "N=10\n",
    "try: \n",
    "    print(\"Is N positive value?\")\n",
    "    fibonacci(N)                   #because this gives error (as N=negative), 2nd except block is printed\n",
    "    print(\"Yes!\")\n",
    "except: print(\"Bad value! Choose a non-negative N!\")"
   ]
  },
  {
   "cell_type": "code",
   "execution_count": 17,
   "id": "52a12634",
   "metadata": {},
   "outputs": [
    {
     "name": "stdout",
     "output_type": "stream",
     "text": [
      "Error class is:   <class 'ZeroDivisionError'>\n",
      "Error message is: division by zero\n"
     ]
    }
   ],
   "source": [
    "try:\n",
    "    x = 1 / 0\n",
    "except ZeroDivisionError as err:\n",
    "    print(\"Error class is:  \", type(err))\n",
    "    print(\"Error message is:\", err)"
   ]
  },
  {
   "cell_type": "code",
   "execution_count": 19,
   "id": "2089d835",
   "metadata": {},
   "outputs": [
    {
     "ename": "MySpecialError",
     "evalue": "here's the custom exception message",
     "output_type": "error",
     "traceback": [
      "\u001b[1;31m---------------------------------------------------------------------------\u001b[0m",
      "\u001b[1;31mMySpecialError\u001b[0m                            Traceback (most recent call last)",
      "\u001b[1;32m<ipython-input-19-34744a7735e7>\u001b[0m in \u001b[0;36m<module>\u001b[1;34m\u001b[0m\n\u001b[0;32m      5\u001b[0m     \u001b[1;32mpass\u001b[0m\u001b[1;33m\u001b[0m\u001b[1;33m\u001b[0m\u001b[0m\n\u001b[0;32m      6\u001b[0m \u001b[1;33m\u001b[0m\u001b[0m\n\u001b[1;32m----> 7\u001b[1;33m \u001b[1;32mraise\u001b[0m \u001b[0mMySpecialError\u001b[0m\u001b[1;33m(\u001b[0m\u001b[1;34m\"here's the custom exception message\"\u001b[0m\u001b[1;33m)\u001b[0m\u001b[1;33m\u001b[0m\u001b[1;33m\u001b[0m\u001b[0m\n\u001b[0m",
      "\u001b[1;31mMySpecialError\u001b[0m: here's the custom exception message"
     ]
    }
   ],
   "source": [
    "#define custom exceptions through \"class inheritance\"\n",
    "#if you want special ValueError, do the following:\n",
    "\n",
    "class MySpecialError(ValueError):\n",
    "    pass\n",
    "\n",
    "raise MySpecialError(\"here's the custom exception message\")"
   ]
  },
  {
   "cell_type": "code",
   "execution_count": 20,
   "id": "a662da41",
   "metadata": {},
   "outputs": [
    {
     "name": "stdout",
     "output_type": "stream",
     "text": [
      "do something\n",
      "do something else\n"
     ]
    }
   ],
   "source": [
    "try:\n",
    "    print(\"do something\")\n",
    "    raise MySpecialError(\"[informative error message here]\")\n",
    "except MySpecialError:\n",
    "    print(\"do something else\")"
   ]
  },
  {
   "cell_type": "code",
   "execution_count": 24,
   "id": "afba413d",
   "metadata": {},
   "outputs": [
    {
     "name": "stdout",
     "output_type": "stream",
     "text": [
      "let's try this first\n",
      "this prints only if you succeed\n",
      "this happens no matter what\n"
     ]
    }
   ],
   "source": [
    "# \"try...except...else...finally\" (to further tune my code's handling of exceptions):\n",
    "# \"finally\" clause is executed no matter what: it's used for some sort of cleanup after an operation completes.\n",
    "\n",
    "try: print(\"let's try this first\")\n",
    "except: print(\"Print this only if it fails\")\n",
    "else: print(\"this prints only if you succeed\")\n",
    "finally: print(\"this happens no matter what\")"
   ]
  },
  {
   "cell_type": "code",
   "execution_count": 26,
   "id": "6ac9831a",
   "metadata": {},
   "outputs": [
    {
     "name": "stdout",
     "output_type": "stream",
     "text": [
      "let's try this first\n",
      "Print this only if it fails\n",
      "this happens no matter what\n"
     ]
    }
   ],
   "source": [
    "try: \n",
    "    print(\"let's try this first\")\n",
    "    print(2/0)       #this is an error, so the 2nd block (except) gets excecuted \n",
    "except: print(\"Print this only if it fails\")\n",
    "    \n",
    "else: print(\"this prints only if you succeed\")\n",
    "finally: print(\"this happens no matter what\")"
   ]
  },
  {
   "cell_type": "markdown",
   "id": "cc516f2c",
   "metadata": {},
   "source": [
    "#watch for more information on try...except:\n",
    "#https://www.youtube.com/embed/NIWwJbo-9_8?rel=0&amp;controls=0&amp;showinfo=0%22%20"
   ]
  }
 ],
 "metadata": {
  "kernelspec": {
   "display_name": "Python 3",
   "language": "python",
   "name": "python3"
  },
  "language_info": {
   "codemirror_mode": {
    "name": "ipython",
    "version": 3
   },
   "file_extension": ".py",
   "mimetype": "text/x-python",
   "name": "python",
   "nbconvert_exporter": "python",
   "pygments_lexer": "ipython3",
   "version": "3.8.8"
  }
 },
 "nbformat": 4,
 "nbformat_minor": 5
}
