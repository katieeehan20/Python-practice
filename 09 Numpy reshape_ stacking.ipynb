{
 "cells": [
  {
   "cell_type": "code",
   "execution_count": null,
   "id": "5d763a45",
   "metadata": {},
   "outputs": [],
   "source": [
    "Shape manipulation                                \n",
    "\n",
    "If X is an array\n",
    "\n",
    "X.shape  --  returns a tuple that indicates the number of dimensions in the array\n",
    "\n",
    "X.ravel ( )  -- returns a flattened array\n",
    "\n",
    "X.reshape ( , )  --  returns an array with a modified shape. It gives a new shape to an array without changing its data\n",
    "\n",
    "X.T  -- returns an array, transposed\n",
    "\n",
    "X.T.shape\n",
    "\n",
    "X.shape\n",
    "\n",
    "X.resize ( , )"
   ]
  },
  {
   "cell_type": "markdown",
   "id": "ad38b578",
   "metadata": {},
   "source": [
    "-----------------------------------------------------------------------"
   ]
  },
  {
   "cell_type": "markdown",
   "id": "532e20db",
   "metadata": {},
   "source": [
    "Stacking\n",
    "\n",
    "np.stack()\n",
    "\n",
    "np.vstack()\n",
    "\n",
    "np.hstack()\n",
    "\n",
    "np.column_stack()\n",
    "\n",
    "np.row_stack()  --  equavalent to vstack for any input arrays"
   ]
  },
  {
   "cell_type": "code",
   "execution_count": 2,
   "id": "841c913e",
   "metadata": {},
   "outputs": [
    {
     "data": {
      "text/plain": [
       "array([[5., 9., 1., 9.],\n",
       "       [3., 4., 8., 4.],\n",
       "       [5., 0., 7., 5.]])"
      ]
     },
     "execution_count": 2,
     "metadata": {},
     "output_type": "execute_result"
    }
   ],
   "source": [
    "import numpy as np\n",
    "rg=np.random.default_rng(1)\n",
    "\n",
    "X=np.floor(10*rg.random((3,4)))\n",
    "X"
   ]
  },
  {
   "cell_type": "code",
   "execution_count": 3,
   "id": "b85bc613",
   "metadata": {},
   "outputs": [
    {
     "data": {
      "text/plain": [
       "(3, 4)"
      ]
     },
     "execution_count": 3,
     "metadata": {},
     "output_type": "execute_result"
    }
   ],
   "source": [
    "X.shape"
   ]
  },
  {
   "cell_type": "code",
   "execution_count": 4,
   "id": "03bb5165",
   "metadata": {},
   "outputs": [
    {
     "data": {
      "text/plain": [
       "array([5., 9., 1., 9., 3., 4., 8., 4., 5., 0., 7., 5.])"
      ]
     },
     "execution_count": 4,
     "metadata": {},
     "output_type": "execute_result"
    }
   ],
   "source": [
    "X.ravel()  #returns the array X, flattened"
   ]
  },
  {
   "cell_type": "code",
   "execution_count": 5,
   "id": "99379dc9",
   "metadata": {},
   "outputs": [
    {
     "data": {
      "text/plain": [
       "array([[5., 9.],\n",
       "       [1., 9.],\n",
       "       [3., 4.],\n",
       "       [8., 4.],\n",
       "       [5., 0.],\n",
       "       [7., 5.]])"
      ]
     },
     "execution_count": 5,
     "metadata": {},
     "output_type": "execute_result"
    }
   ],
   "source": [
    "X.reshape(6,2)  # returns an array with a modified shape  "
   ]
  },
  {
   "cell_type": "code",
   "execution_count": 6,
   "id": "915e7851",
   "metadata": {},
   "outputs": [
    {
     "data": {
      "text/plain": [
       "array([[5., 3., 5.],\n",
       "       [9., 4., 0.],\n",
       "       [1., 8., 7.],\n",
       "       [9., 4., 5.]])"
      ]
     },
     "execution_count": 6,
     "metadata": {},
     "output_type": "execute_result"
    }
   ],
   "source": [
    "X.T  # returns an array, transposed"
   ]
  },
  {
   "cell_type": "code",
   "execution_count": 7,
   "id": "ab0fd350",
   "metadata": {},
   "outputs": [
    {
     "data": {
      "text/plain": [
       "(4, 3)"
      ]
     },
     "execution_count": 7,
     "metadata": {},
     "output_type": "execute_result"
    }
   ],
   "source": [
    "X.T.shape"
   ]
  },
  {
   "cell_type": "code",
   "execution_count": 8,
   "id": "08fa2f96",
   "metadata": {},
   "outputs": [
    {
     "data": {
      "text/plain": [
       "(3, 4)"
      ]
     },
     "execution_count": 8,
     "metadata": {},
     "output_type": "execute_result"
    }
   ],
   "source": [
    "X.shape"
   ]
  },
  {
   "cell_type": "code",
   "execution_count": 9,
   "id": "63dcdbe7",
   "metadata": {},
   "outputs": [
    {
     "data": {
      "text/plain": [
       "array([[5., 9., 1., 9.],\n",
       "       [3., 4., 8., 4.],\n",
       "       [5., 0., 7., 5.]])"
      ]
     },
     "execution_count": 9,
     "metadata": {},
     "output_type": "execute_result"
    }
   ],
   "source": [
    "X"
   ]
  },
  {
   "cell_type": "code",
   "execution_count": 31,
   "id": "8c1552ae",
   "metadata": {},
   "outputs": [
    {
     "data": {
      "text/plain": [
       "array([[5., 9.],\n",
       "       [1., 9.],\n",
       "       [3., 4.],\n",
       "       [8., 4.],\n",
       "       [5., 0.],\n",
       "       [7., 5.]])"
      ]
     },
     "execution_count": 31,
     "metadata": {},
     "output_type": "execute_result"
    }
   ],
   "source": [
    "X.resize((6,2))\n",
    "X"
   ]
  },
  {
   "cell_type": "code",
   "execution_count": 12,
   "id": "7c13040e",
   "metadata": {},
   "outputs": [
    {
     "data": {
      "text/plain": [
       "array([[5., 9., 1., 9.],\n",
       "       [3., 4., 8., 4.],\n",
       "       [5., 0., 7., 5.]])"
      ]
     },
     "execution_count": 12,
     "metadata": {},
     "output_type": "execute_result"
    }
   ],
   "source": [
    "X.reshape(3,-1)"
   ]
  },
  {
   "cell_type": "markdown",
   "id": "0193d295",
   "metadata": {},
   "source": [
    "--------------------------------------------------------------------------------------------------------------"
   ]
  },
  {
   "cell_type": "markdown",
   "id": "10fb3497",
   "metadata": {},
   "source": [
    "You can stack arrays together along different axes "
   ]
  },
  {
   "cell_type": "code",
   "execution_count": 13,
   "id": "ec3cbc96",
   "metadata": {},
   "outputs": [
    {
     "data": {
      "text/plain": [
       "array([[3., 7.],\n",
       "       [3., 4.]])"
      ]
     },
     "execution_count": 13,
     "metadata": {},
     "output_type": "execute_result"
    }
   ],
   "source": [
    "Y = np.floor(10*rg.random((2,2)))\n",
    "Y"
   ]
  },
  {
   "cell_type": "code",
   "execution_count": 14,
   "id": "28b68f34",
   "metadata": {},
   "outputs": [
    {
     "data": {
      "text/plain": [
       "array([[1., 4.],\n",
       "       [2., 2.]])"
      ]
     },
     "execution_count": 14,
     "metadata": {},
     "output_type": "execute_result"
    }
   ],
   "source": [
    "Z=np.floor(10*rg.random((2,2)))\n",
    "Z"
   ]
  },
  {
   "cell_type": "code",
   "execution_count": 30,
   "id": "8e34bc04",
   "metadata": {},
   "outputs": [
    {
     "data": {
      "text/plain": [
       "array([[[3., 7.],\n",
       "        [3., 4.]],\n",
       "\n",
       "       [[1., 4.],\n",
       "        [2., 2.]]])"
      ]
     },
     "execution_count": 30,
     "metadata": {},
     "output_type": "execute_result"
    }
   ],
   "source": [
    "np.stack((Y,Z))"
   ]
  },
  {
   "cell_type": "code",
   "execution_count": 15,
   "id": "8678ade3",
   "metadata": {},
   "outputs": [
    {
     "data": {
      "text/plain": [
       "array([[3., 7.],\n",
       "       [3., 4.],\n",
       "       [1., 4.],\n",
       "       [2., 2.]])"
      ]
     },
     "execution_count": 15,
     "metadata": {},
     "output_type": "execute_result"
    }
   ],
   "source": [
    "np.vstack((Y,Z))"
   ]
  },
  {
   "cell_type": "code",
   "execution_count": 16,
   "id": "75e54386",
   "metadata": {},
   "outputs": [
    {
     "data": {
      "text/plain": [
       "array([[3., 7., 1., 4.],\n",
       "       [3., 4., 2., 2.]])"
      ]
     },
     "execution_count": 16,
     "metadata": {},
     "output_type": "execute_result"
    }
   ],
   "source": [
    "np.hstack((Y,Z))"
   ]
  },
  {
   "cell_type": "code",
   "execution_count": 17,
   "id": "7d915c24",
   "metadata": {},
   "outputs": [
    {
     "data": {
      "text/plain": [
       "array([[3., 7., 1., 4.],\n",
       "       [3., 4., 2., 2.]])"
      ]
     },
     "execution_count": 17,
     "metadata": {},
     "output_type": "execute_result"
    }
   ],
   "source": [
    "# The function column_stack stacks 1D arrays as columns into a 2D array. It is equivalent to hstack only for 2D arrays\n",
    "\n",
    "from numpy import newaxis\n",
    "np.column_stack((Y,Z))   # returns a 2D array"
   ]
  },
  {
   "cell_type": "code",
   "execution_count": 18,
   "id": "e233e279",
   "metadata": {},
   "outputs": [
    {
     "data": {
      "text/plain": [
       "array([[4, 3],\n",
       "       [2, 8]])"
      ]
     },
     "execution_count": 18,
     "metadata": {},
     "output_type": "execute_result"
    }
   ],
   "source": [
    "C=np.array([4,2])\n",
    "D=np.array([3,8])\n",
    "\n",
    "np.column_stack((C,D))   # returns a 2D array"
   ]
  },
  {
   "cell_type": "code",
   "execution_count": 20,
   "id": "0fb407bb",
   "metadata": {},
   "outputs": [
    {
     "data": {
      "text/plain": [
       "array([4, 2, 3, 8])"
      ]
     },
     "execution_count": 20,
     "metadata": {},
     "output_type": "execute_result"
    }
   ],
   "source": [
    "np.hstack((C,D))"
   ]
  },
  {
   "cell_type": "code",
   "execution_count": 21,
   "id": "b69b0bab",
   "metadata": {},
   "outputs": [
    {
     "data": {
      "text/plain": [
       "array([[4],\n",
       "       [2]])"
      ]
     },
     "execution_count": 21,
     "metadata": {},
     "output_type": "execute_result"
    }
   ],
   "source": [
    "C[:, newaxis]  # views array C as 2D column vector"
   ]
  },
  {
   "cell_type": "code",
   "execution_count": 23,
   "id": "43aa9d26",
   "metadata": {},
   "outputs": [
    {
     "data": {
      "text/plain": [
       "array([[4, 3],\n",
       "       [2, 8]])"
      ]
     },
     "execution_count": 23,
     "metadata": {},
     "output_type": "execute_result"
    }
   ],
   "source": [
    "np.column_stack((C[:, newaxis], D[:, newaxis]))\n"
   ]
  },
  {
   "cell_type": "code",
   "execution_count": 25,
   "id": "81ac6a18",
   "metadata": {},
   "outputs": [
    {
     "data": {
      "text/plain": [
       "array([[4, 3],\n",
       "       [2, 8]])"
      ]
     },
     "execution_count": 25,
     "metadata": {},
     "output_type": "execute_result"
    }
   ],
   "source": [
    "np.hstack((C[:, newaxis], D[:, newaxis]))"
   ]
  },
  {
   "cell_type": "code",
   "execution_count": 27,
   "id": "dc7c0ac9",
   "metadata": {},
   "outputs": [
    {
     "data": {
      "text/plain": [
       "False"
      ]
     },
     "execution_count": 27,
     "metadata": {},
     "output_type": "execute_result"
    }
   ],
   "source": [
    "np.column_stack is np.hstack"
   ]
  },
  {
   "cell_type": "code",
   "execution_count": 28,
   "id": "799792fa",
   "metadata": {},
   "outputs": [
    {
     "data": {
      "text/plain": [
       "False"
      ]
     },
     "execution_count": 28,
     "metadata": {},
     "output_type": "execute_result"
    }
   ],
   "source": [
    "np.column_stack is np.vstack"
   ]
  },
  {
   "cell_type": "code",
   "execution_count": 29,
   "id": "13777bcf",
   "metadata": {},
   "outputs": [
    {
     "data": {
      "text/plain": [
       "True"
      ]
     },
     "execution_count": 29,
     "metadata": {},
     "output_type": "execute_result"
    }
   ],
   "source": [
    "np.row_stack is np.vstack"
   ]
  }
 ],
 "metadata": {
  "kernelspec": {
   "display_name": "Python 3",
   "language": "python",
   "name": "python3"
  },
  "language_info": {
   "codemirror_mode": {
    "name": "ipython",
    "version": 3
   },
   "file_extension": ".py",
   "mimetype": "text/x-python",
   "name": "python",
   "nbconvert_exporter": "python",
   "pygments_lexer": "ipython3",
   "version": "3.8.8"
  }
 },
 "nbformat": 4,
 "nbformat_minor": 5
}
