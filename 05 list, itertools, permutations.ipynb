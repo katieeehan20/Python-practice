{
 "cells": [
  {
   "cell_type": "markdown",
   "id": "7dacb6cf",
   "metadata": {},
   "source": [
    "First 5 lines are one example that deals with permutation of ['1','2','3']\n",
    "\n",
    "Afterwards they're my failed attempts to solve a hackerink problem...\n",
    "\n",
    "Correct answer at the end of the page\n",
    "\n",
    "Hackerink problem source: https://www.hackerrank.com/challenges/itertools-permutations/submissions/code/245048749\n",
    "        "
   ]
  },
  {
   "cell_type": "code",
   "execution_count": 19,
   "id": "9e63780d",
   "metadata": {},
   "outputs": [
    {
     "name": "stdout",
     "output_type": "stream",
     "text": [
      "<itertools.permutations object at 0x00000187786B2C70>\n"
     ]
    }
   ],
   "source": [
    "from itertools import permutations\n",
    "\n",
    "p= permutations(['1','2','3'])\n",
    "print (p)"
   ]
  },
  {
   "cell_type": "code",
   "execution_count": 20,
   "id": "fd9c8397",
   "metadata": {},
   "outputs": [
    {
     "name": "stdout",
     "output_type": "stream",
     "text": [
      "('1', '2', '3') ('1', '3', '2') ('2', '1', '3') ('2', '3', '1') ('3', '1', '2') ('3', '2', '1')\n"
     ]
    }
   ],
   "source": [
    "print( *p)"
   ]
  },
  {
   "cell_type": "code",
   "execution_count": 17,
   "id": "eedfca84",
   "metadata": {},
   "outputs": [
    {
     "name": "stdout",
     "output_type": "stream",
     "text": [
      "[('1', '2', '3'), ('1', '3', '2'), ('2', '1', '3'), ('2', '3', '1'), ('3', '1', '2'), ('3', '2', '1')]\n"
     ]
    }
   ],
   "source": [
    "print (list(p))"
   ]
  },
  {
   "cell_type": "code",
   "execution_count": 23,
   "id": "0d8911f0",
   "metadata": {},
   "outputs": [
    {
     "name": "stdout",
     "output_type": "stream",
     "text": [
      "[('1', '2'), ('1', '3'), ('2', '1'), ('2', '3'), ('3', '1'), ('3', '2')]\n"
     ]
    }
   ],
   "source": [
    "print (list(permutations(['1','2','3'], 2)))"
   ]
  },
  {
   "cell_type": "code",
   "execution_count": 26,
   "id": "14a27947",
   "metadata": {},
   "outputs": [
    {
     "name": "stdout",
     "output_type": "stream",
     "text": [
      "[('a', 'b', 'c'), ('a', 'c', 'b'), ('b', 'a', 'c'), ('b', 'c', 'a'), ('c', 'a', 'b'), ('c', 'b', 'a')]\n"
     ]
    }
   ],
   "source": [
    "print (list(permutations(['a','b','c'], 3)))"
   ]
  },
  {
   "cell_type": "code",
   "execution_count": 32,
   "id": "c621c01b",
   "metadata": {},
   "outputs": [
    {
     "name": "stdout",
     "output_type": "stream",
     "text": [
      "4\n"
     ]
    }
   ],
   "source": [
    "#failed attempt\n",
    "\n",
    "S=input()\n",
    "\n",
    "def k(S):\n",
    "    if k<= len(S):\n",
    "        return k.input()\n",
    "    "
   ]
  },
  {
   "cell_type": "code",
   "execution_count": 33,
   "id": "f5173fbb",
   "metadata": {},
   "outputs": [
    {
     "name": "stdout",
     "output_type": "stream",
     "text": [
      "abder\n",
      "abder\n"
     ]
    }
   ],
   "source": [
    "#failed attempt\n",
    "\n",
    "S=input()\n",
    "print(S)"
   ]
  },
  {
   "cell_type": "code",
   "execution_count": 40,
   "id": "c53bfd61",
   "metadata": {},
   "outputs": [
    {
     "name": "stdout",
     "output_type": "stream",
     "text": [
      "3\n"
     ]
    }
   ],
   "source": [
    "#failed attempt\n",
    "\n",
    "k=input()\n",
    "def k(S):\n",
    "    if int(k)<=len(S):\n",
    "        print(k)\n",
    "    else:\n",
    "        print(\"k must be <= len(S)\")"
   ]
  },
  {
   "cell_type": "code",
   "execution_count": 57,
   "id": "d13d6c4f",
   "metadata": {},
   "outputs": [
    {
     "name": "stdout",
     "output_type": "stream",
     "text": [
      "abcd 3\n"
     ]
    },
    {
     "data": {
      "text/plain": [
       "[('a', 'b', 'c'),\n",
       " ('a', 'b', 'd'),\n",
       " ('a', 'c', 'b'),\n",
       " ('a', 'c', 'd'),\n",
       " ('a', 'd', 'b'),\n",
       " ('a', 'd', 'c'),\n",
       " ('b', 'a', 'c'),\n",
       " ('b', 'a', 'd'),\n",
       " ('b', 'c', 'a'),\n",
       " ('b', 'c', 'd'),\n",
       " ('b', 'd', 'a'),\n",
       " ('b', 'd', 'c'),\n",
       " ('c', 'a', 'b'),\n",
       " ('c', 'a', 'd'),\n",
       " ('c', 'b', 'a'),\n",
       " ('c', 'b', 'd'),\n",
       " ('c', 'd', 'a'),\n",
       " ('c', 'd', 'b'),\n",
       " ('d', 'a', 'b'),\n",
       " ('d', 'a', 'c'),\n",
       " ('d', 'b', 'a'),\n",
       " ('d', 'b', 'c'),\n",
       " ('d', 'c', 'a'),\n",
       " ('d', 'c', 'b')]"
      ]
     },
     "execution_count": 57,
     "metadata": {},
     "output_type": "execute_result"
    }
   ],
   "source": [
    "#failed attempt\n",
    "\n",
    "from itertools import permutations\n",
    "\n",
    "S, k = input().split()\n",
    "s=permutations(S)\n",
    "\n",
    "a=list(permutations(S, int(k)))\n",
    "sorted(a)\n"
   ]
  },
  {
   "cell_type": "code",
   "execution_count": 61,
   "id": "8562da2c",
   "metadata": {},
   "outputs": [
    {
     "name": "stdout",
     "output_type": "stream",
     "text": [
      "abcd 4\n"
     ]
    },
    {
     "data": {
      "text/plain": [
       "[('a', 'b', 'c', 'd'),\n",
       " ('a', 'b', 'd', 'c'),\n",
       " ('a', 'c', 'b', 'd'),\n",
       " ('a', 'c', 'd', 'b'),\n",
       " ('a', 'd', 'b', 'c'),\n",
       " ('a', 'd', 'c', 'b'),\n",
       " ('b', 'a', 'c', 'd'),\n",
       " ('b', 'a', 'd', 'c'),\n",
       " ('b', 'c', 'a', 'd'),\n",
       " ('b', 'c', 'd', 'a'),\n",
       " ('b', 'd', 'a', 'c'),\n",
       " ('b', 'd', 'c', 'a'),\n",
       " ('c', 'a', 'b', 'd'),\n",
       " ('c', 'a', 'd', 'b'),\n",
       " ('c', 'b', 'a', 'd'),\n",
       " ('c', 'b', 'd', 'a'),\n",
       " ('c', 'd', 'a', 'b'),\n",
       " ('c', 'd', 'b', 'a'),\n",
       " ('d', 'a', 'b', 'c'),\n",
       " ('d', 'a', 'c', 'b'),\n",
       " ('d', 'b', 'a', 'c'),\n",
       " ('d', 'b', 'c', 'a'),\n",
       " ('d', 'c', 'a', 'b'),\n",
       " ('d', 'c', 'b', 'a')]"
      ]
     },
     "execution_count": 61,
     "metadata": {},
     "output_type": "execute_result"
    }
   ],
   "source": [
    "#incomplete attempt\n",
    "\n",
    "from itertools import permutations\n",
    "\n",
    "S ,k =input().split(\" \")\n",
    "\n",
    "A=(permutations(S, int(k)))\n",
    "sorted(A)"
   ]
  },
  {
   "cell_type": "code",
   "execution_count": 64,
   "id": "2e2c4536",
   "metadata": {},
   "outputs": [
    {
     "name": "stdout",
     "output_type": "stream",
     "text": [
      "abcd 4\n",
      "abcd\n",
      "abdc\n",
      "acbd\n",
      "acdb\n",
      "adbc\n",
      "adcb\n",
      "bacd\n",
      "badc\n",
      "bcad\n",
      "bcda\n",
      "bdac\n",
      "bdca\n",
      "cabd\n",
      "cadb\n",
      "cbad\n",
      "cbda\n",
      "cdab\n",
      "cdba\n",
      "dabc\n",
      "dacb\n",
      "dbac\n",
      "dbca\n",
      "dcab\n",
      "dcba\n"
     ]
    }
   ],
   "source": [
    "#correct answer... phew!\n",
    "\n",
    "from itertools import permutations\n",
    "\n",
    "S ,k =input().split(\" \")\n",
    "\n",
    "A=list(permutations(S, int(k)))\n",
    "A.sort()\n",
    "\n",
    "for i in A:\n",
    "    print(\"\".join(i)) \n"
   ]
  }
 ],
 "metadata": {
  "kernelspec": {
   "display_name": "Python 3",
   "language": "python",
   "name": "python3"
  },
  "language_info": {
   "codemirror_mode": {
    "name": "ipython",
    "version": 3
   },
   "file_extension": ".py",
   "mimetype": "text/x-python",
   "name": "python",
   "nbconvert_exporter": "python",
   "pygments_lexer": "ipython3",
   "version": "3.8.8"
  }
 },
 "nbformat": 4,
 "nbformat_minor": 5
}
