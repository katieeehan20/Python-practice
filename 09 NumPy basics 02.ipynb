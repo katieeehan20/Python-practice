{
 "cells": [
  {
   "cell_type": "markdown",
   "id": "532e2fc3",
   "metadata": {},
   "source": [
    "NumPy Array Attributes\n"
   ]
  },
  {
   "cell_type": "code",
   "execution_count": 2,
   "id": "819e2f05",
   "metadata": {},
   "outputs": [],
   "source": [
    "# random number generator seeds with a set value to ensure that the same random arrays are generated each time the code is run\n",
    "\n",
    "# here 3 random arrays are defined: one dimensional, two dimensional, three dimensional arrays\n",
    "\n",
    "import numpy as np\n",
    "np.random.seed(0) # seed for reproductibility\n",
    "\n",
    "x1=np.random.randint (10, size=6)\n",
    "x2=np.random.randint (10, size=(3,4))\n",
    "x3=np.random.randint (10, size=(3,4,5))"
   ]
  },
  {
   "cell_type": "code",
   "execution_count": 3,
   "id": "75efea30",
   "metadata": {},
   "outputs": [
    {
     "name": "stdout",
     "output_type": "stream",
     "text": [
      "x3 ndim:  3\n",
      "x3 shape:  (3, 4, 5)\n",
      "x3 size:  60\n"
     ]
    }
   ],
   "source": [
    "# each array has attributes ndim(number of dimensions), shape(the size of each dimension), size (the total size of the array)\n",
    "\n",
    "print(\"x3 ndim: \", x3.ndim)\n",
    "print(\"x3 shape: \", x3.shape)\n",
    "print(\"x3 size: \", x3.size)"
   ]
  },
  {
   "cell_type": "code",
   "execution_count": 4,
   "id": "ad1287d3",
   "metadata": {},
   "outputs": [
    {
     "name": "stdout",
     "output_type": "stream",
     "text": [
      "x2 ndim:  2\n",
      "x2 shape:  (3, 4)\n",
      "x2 size:  12\n"
     ]
    }
   ],
   "source": [
    "print(\"x2 ndim: \", x2.ndim)\n",
    "print(\"x2 shape: \", x2.shape)\n",
    "print(\"x2 size: \", x2.size)"
   ]
  },
  {
   "cell_type": "code",
   "execution_count": 5,
   "id": "b5ba22a1",
   "metadata": {},
   "outputs": [
    {
     "name": "stdout",
     "output_type": "stream",
     "text": [
      "dtype: int32\n"
     ]
    }
   ],
   "source": [
    "print(\"dtype:\", x3.dtype)"
   ]
  },
  {
   "cell_type": "code",
   "execution_count": 6,
   "id": "ff6ddbd6",
   "metadata": {},
   "outputs": [
    {
     "name": "stdout",
     "output_type": "stream",
     "text": [
      "itemsize: 4 bytes\n",
      "nbytes: 240 bytes\n"
     ]
    }
   ],
   "source": [
    "print(\"itemsize:\", x3.itemsize, \"bytes\")\n",
    "print(\"nbytes:\", x3.nbytes, \"bytes\")"
   ]
  }
 ],
 "metadata": {
  "kernelspec": {
   "display_name": "Python 3",
   "language": "python",
   "name": "python3"
  },
  "language_info": {
   "codemirror_mode": {
    "name": "ipython",
    "version": 3
   },
   "file_extension": ".py",
   "mimetype": "text/x-python",
   "name": "python",
   "nbconvert_exporter": "python",
   "pygments_lexer": "ipython3",
   "version": "3.8.8"
  }
 },
 "nbformat": 4,
 "nbformat_minor": 5
}
